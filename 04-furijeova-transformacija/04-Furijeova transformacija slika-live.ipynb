{
 "cells": [
  {
   "cell_type": "markdown",
   "metadata": {},
   "source": [
    "# Furijeove transformacije $-$ obrada slike"
   ]
  },
  {
   "cell_type": "code",
   "execution_count": 1,
   "metadata": {},
   "outputs": [],
   "source": [
    "import numpy as np\n",
    "from numpy import fft\n",
    "from matplotlib import pyplot as plt"
   ]
  },
  {
   "cell_type": "markdown",
   "metadata": {},
   "source": [
    "### PIL biblioteka"
   ]
  },
  {
   "cell_type": "markdown",
   "metadata": {},
   "source": [
    "Na kursu ćemo za obradu slika koristiti Python biblioteku `PIL` i paket sa imenom `ndimage` biblioteke `scipy`. Funkcije ovih biblioteka omogućavaju razne manipulacije nad slikama poput rotacije, kropovanja, segmentacije, filtriranja, promene dimenzija i boja, i slično. "
   ]
  },
  {
   "cell_type": "code",
   "execution_count": 2,
   "metadata": {},
   "outputs": [],
   "source": [
    "from PIL import Image"
   ]
  },
  {
   "cell_type": "code",
   "execution_count": null,
   "metadata": {},
   "outputs": [],
   "source": []
  },
  {
   "cell_type": "code",
   "execution_count": null,
   "metadata": {},
   "outputs": [],
   "source": []
  },
  {
   "cell_type": "code",
   "execution_count": null,
   "metadata": {},
   "outputs": [],
   "source": []
  },
  {
   "cell_type": "code",
   "execution_count": null,
   "metadata": {},
   "outputs": [],
   "source": []
  },
  {
   "cell_type": "code",
   "execution_count": null,
   "metadata": {},
   "outputs": [],
   "source": []
  },
  {
   "cell_type": "code",
   "execution_count": null,
   "metadata": {},
   "outputs": [],
   "source": []
  },
  {
   "cell_type": "code",
   "execution_count": null,
   "metadata": {},
   "outputs": [],
   "source": []
  },
  {
   "cell_type": "code",
   "execution_count": null,
   "metadata": {},
   "outputs": [],
   "source": []
  },
  {
   "cell_type": "code",
   "execution_count": null,
   "metadata": {},
   "outputs": [],
   "source": []
  },
  {
   "cell_type": "code",
   "execution_count": null,
   "metadata": {},
   "outputs": [],
   "source": []
  },
  {
   "cell_type": "code",
   "execution_count": null,
   "metadata": {},
   "outputs": [],
   "source": []
  },
  {
   "cell_type": "code",
   "execution_count": null,
   "metadata": {},
   "outputs": [],
   "source": []
  },
  {
   "cell_type": "markdown",
   "metadata": {},
   "source": [
    "### 2D Furijeova transformacija"
   ]
  },
  {
   "cell_type": "markdown",
   "metadata": {},
   "source": [
    "Kada se koristi u obradi slika, Furijeova transformacija se definiše u dve dimenzije. Odgovarajući obrazac za neprekidnu funkciju se proširuje i sadrži dvostruki integral, a kod diskretnog slučaja, radi se o dvostrukoj sumi. Ako je polazište realna matrica $[f_{jk}]$ dimenzija $P \\times Q$, tada matrica $[\\hat{f}_{lm}]$ istih dimenzija predstavlja diskretnu Furijeovu transformaciju polazne matrice gde važi $$\\hat{f}_{lm} = \\frac{1}{PQ} \\sum_{j=0}^{P-1} \\sum_{k=0}^{Q-1} f_{jk} e^{2\\pi i (\\frac{jl}{P} + \\frac{km}{Q})}.$$ "
   ]
  },
  {
   "cell_type": "markdown",
   "metadata": {},
   "source": [
    "Inverzna diskretna Furijeova transformacija u dve dimenzije je data sa $$ f_{jk} = \\sum_{l=0}^{P-1} \\sum_{m=0}^{Q-1} \\hat{f}_{lm} e^{-2\\pi i (\\frac{jl}{P} + \\frac{km}{Q})}.$$"
   ]
  },
  {
   "cell_type": "markdown",
   "metadata": {},
   "source": [
    "Furijeova transformacija u dve dimenzije podržana je bibliotečkom funkcijom `fft2`, a inverzna Furijeova transformacija funkcijom `ifft2`. "
   ]
  },
  {
   "cell_type": "code",
   "execution_count": null,
   "metadata": {},
   "outputs": [],
   "source": []
  },
  {
   "cell_type": "code",
   "execution_count": null,
   "metadata": {},
   "outputs": [],
   "source": []
  },
  {
   "cell_type": "code",
   "execution_count": null,
   "metadata": {},
   "outputs": [],
   "source": []
  },
  {
   "cell_type": "code",
   "execution_count": null,
   "metadata": {},
   "outputs": [],
   "source": []
  },
  {
   "cell_type": "code",
   "execution_count": null,
   "metadata": {},
   "outputs": [],
   "source": []
  },
  {
   "cell_type": "code",
   "execution_count": null,
   "metadata": {},
   "outputs": [],
   "source": []
  },
  {
   "cell_type": "code",
   "execution_count": null,
   "metadata": {},
   "outputs": [],
   "source": []
  },
  {
   "cell_type": "code",
   "execution_count": null,
   "metadata": {},
   "outputs": [],
   "source": []
  },
  {
   "cell_type": "markdown",
   "metadata": {},
   "source": [
    "### Zamućivanje slike"
   ]
  },
  {
   "cell_type": "markdown",
   "metadata": {},
   "source": [
    "Za zamućivanje slike potrebno je odseći visoke frekvencije prisutne u slici. Ovaj efekat ćemo postići tako što ćemo napraviti masku koja predstavlja binarnu matricu istih dimenzija kao polazna slika u kojoj će nula označavati frekvencije koje želimo da elminišemo, a jedinica frekvencije koje želimo da zadržimo. Unutar pravougaonika pogodno izabranih dimenzija, čiji se centar nalazi u centru slike, sve vrednosti maske će imati vrednost 1, a izvan njega 0. Množenjem elemenata šiftovane Furijeove transformacije i maske, kod transformacije će biti sačuvani jedino elementi koji se nalaze u centralnom pravougaoniku tj. koji su nižih frekvencija."
   ]
  },
  {
   "cell_type": "code",
   "execution_count": null,
   "metadata": {},
   "outputs": [],
   "source": []
  },
  {
   "cell_type": "code",
   "execution_count": null,
   "metadata": {},
   "outputs": [],
   "source": []
  },
  {
   "cell_type": "code",
   "execution_count": null,
   "metadata": {},
   "outputs": [],
   "source": []
  },
  {
   "cell_type": "code",
   "execution_count": null,
   "metadata": {},
   "outputs": [],
   "source": []
  },
  {
   "cell_type": "code",
   "execution_count": null,
   "metadata": {},
   "outputs": [],
   "source": []
  },
  {
   "cell_type": "code",
   "execution_count": null,
   "metadata": {},
   "outputs": [],
   "source": []
  },
  {
   "cell_type": "code",
   "execution_count": null,
   "metadata": {},
   "outputs": [],
   "source": []
  },
  {
   "cell_type": "code",
   "execution_count": null,
   "metadata": {},
   "outputs": [],
   "source": []
  },
  {
   "cell_type": "markdown",
   "metadata": {},
   "source": [
    "### Određivanje kontura slike"
   ]
  },
  {
   "cell_type": "markdown",
   "metadata": {},
   "source": [
    "Za određivanje kontura na slici potrebno je odseći niske frekvencije spektra. Primenićemo isti postupak kao kod zamućivanja slike kreiranjem pravougaone maske s tim što ćemo ovde imati vrednosti `0` van pravougaonika, a unutar njega vrednosti `1`."
   ]
  },
  {
   "cell_type": "code",
   "execution_count": null,
   "metadata": {},
   "outputs": [],
   "source": []
  },
  {
   "cell_type": "code",
   "execution_count": null,
   "metadata": {},
   "outputs": [],
   "source": []
  },
  {
   "cell_type": "code",
   "execution_count": null,
   "metadata": {},
   "outputs": [],
   "source": []
  },
  {
   "cell_type": "code",
   "execution_count": null,
   "metadata": {},
   "outputs": [],
   "source": []
  },
  {
   "cell_type": "code",
   "execution_count": null,
   "metadata": {},
   "outputs": [],
   "source": []
  },
  {
   "cell_type": "code",
   "execution_count": null,
   "metadata": {},
   "outputs": [],
   "source": []
  },
  {
   "cell_type": "code",
   "execution_count": null,
   "metadata": {},
   "outputs": [],
   "source": []
  }
 ],
 "metadata": {
  "kernelspec": {
   "display_name": "Python 3",
   "language": "python",
   "name": "python3"
  },
  "language_info": {
   "codemirror_mode": {
    "name": "ipython",
    "version": 3
   },
   "file_extension": ".py",
   "mimetype": "text/x-python",
   "name": "python",
   "nbconvert_exporter": "python",
   "pygments_lexer": "ipython3",
   "version": "3.7.6"
  }
 },
 "nbformat": 4,
 "nbformat_minor": 2
}
