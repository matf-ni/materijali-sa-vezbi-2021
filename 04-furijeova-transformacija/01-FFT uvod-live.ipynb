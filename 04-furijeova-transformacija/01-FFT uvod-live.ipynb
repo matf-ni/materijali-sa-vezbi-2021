{
 "cells": [
  {
   "cell_type": "markdown",
   "metadata": {},
   "source": [
    "# Furijeove transformacije &ndash; uvodni primer"
   ]
  },
  {
   "cell_type": "markdown",
   "metadata": {},
   "source": [
    "Funkcija $f(t)$ čiji je argument vreme $t$ se naziva **signal**. Signal se, sa jedne strane, može predstaviti svojom jačinom u zavisnosti od vremena. Ovakvo predstavljanje se vrši u **vremenskom domenu** (eng. *time domain*). Sa druge strane, nekad je zgodno analizirati koliko je svaka frekvencija zastupljena u tom signalu, pa tada govorimo o predstavljanju signala u **frekvencijskom domenu** (eng. *frequency domain*). Oba prikaza su samo dva načina predstavljanja iste funkcije. **Furijeova transformacija** omogućava prelazak iz vremenskog u frekvencijski domen, a **inverzna Furijeova transormacija** prelazak iz frekvencijskog u vremenski domen."
   ]
  },
  {
   "cell_type": "markdown",
   "metadata": {},
   "source": [
    "<img src=\"assets/analiza_signala.png\" >"
   ]
  },
  {
   "cell_type": "markdown",
   "metadata": {},
   "source": [
    "<img src=\"assets/time_frequency.gif\" width=\"400px\">"
   ]
  },
  {
   "cell_type": "markdown",
   "metadata": {},
   "source": [
    "Posmatrajmo proizvoljnu sinusoidu $$a \\sin(2\\pi f_0 t + \\phi)$$. \n",
    "\n",
    "Ako uvedemo oznaku $\\omega_0 = 2\\pi f_0$, sinusoida se može napisati i u obliku $$a \\sin(\\omega_0 t + \\phi)$$. \n",
    "\n",
    "- Parametar $a$ se naziva **amplituda**.\n",
    "- Parametar $f_0$ predstavlja **osnovnu frekvenciju**, odnosno broj obrtaja koji neka tačka, krećući se po krugu, može obići za jednu sekundu, a $\\omega$ **ugaonu frekvenciju**. \n",
    "- Parametar $\\phi$ predstavlja **fazu**, odnosno meru koliko je sinusoida pomerena na $x$-osi u odnosu na koordinatni početak. Primetimo i da je grafik kosinusne funkcije takođe sinusoida, pomerena po $x$-osi za vrednost $\\pi / 2$. U literaturi se često oznake poput $2f_0$, $3f_0$, odnosno $nf_0$, nazivaju drugim, trećim, odnosno **harmonicima** višeg reda."
   ]
  },
  {
   "cell_type": "markdown",
   "metadata": {},
   "source": [
    "Furijeova transformacija funkcije $f$ se najčešće označava sa $\\hat{f}$. Pretpostaka da je funkcija $f: \\mathbb{R} \\rightarrow \\mathbb{C}$ apsolutno integrabilna. Furijeova transformacija je funkcija $$\\hat{f}(u) = \\int_{-\\infty}^{\\infty} f(t) e^{2\\pi i u t}dt.$$ Nasuprot njoj, definiše se inverzna Furijeova transformacija sa $$f(t) = \\int_{-\\infty}^{\\infty} \\hat{f}(u) e^{-2\\pi i u t}dt.$$ Ovde je sa $t$ predstavljeno vreme, a sa $u$ frekvencija. "
   ]
  },
  {
   "cell_type": "markdown",
   "metadata": {},
   "source": [
    "Međutim, u praksi se najčešće govori o **diskretnoj Furijeovoj transformaciji**, budući da je funkcija poznata samo na konačnom skupu tačaka. Tada se, prirodno, integral zamenjuje odgovarajućom sumom. Neka niz $f_0, f_1, \\dots, f_{N-1}$, predstavlja niz od $N$ kompleksnih brojeva, koji može predstavljati vrednosti funkcije $f$ u nekih $N$ tačaka. Diskretna Furijeova transformacija transformiše polazni niz u novi niz kompleksnih brojeva $\\hat{f}_0, \\hat{f}_1, \\dots, \\hat{f}_{N-1}$ i data je $$\\hat{f}_k = \\sum_{n=0}^{N-1} f_n e^{-2\\pi ikn/N}.$$ Imajući u vidu Ojlerov identitet $e^{i\\phi} = \\cos \\phi + i \\sin \\phi$, prethodni izraz se može napisati u obliku $$\\hat{f}_k = \\sum_{n=0}^{N-1} f_n \\left( \\cos \\frac{2\\pi kn}{N} - i \\sin \\frac{2\\pi kn}{N} \\right).$$\n",
    "\n",
    "Nasuprot tome, može se definisati **inverzna diskretna Furijeova** transformacija sa $$f_n=\\frac{1}{N} \\sum_{k=0}^{N-1} \\hat{f}_k e^{2\\pi i kn/N}.$$"
   ]
  },
  {
   "cell_type": "markdown",
   "metadata": {},
   "source": [
    "Ako se na svakih $T_s$ sekundi vrši merenje signala, $T_s$ se naziva **period uzrokovanja**. **Frekvencija uzrokavanja** $F_s$ je obrnuto srazmerna periodu uzrokovanja i izražena je u hercima. Važi da je $F_s = 1 / T_s$. Na primer, ako je $T_s = 0.5$ s, tada je $F_s = 1 / 0.5 = 2$ Hz, odnosno signal se meri dva puta u sekundi. Ako je ukupan broj uzoraka jednak $N$, tada se $T = NT_s$ naziva **period uzrokovanja**. **Frekvencijka rezolucija** je vrednost $\\Delta f = F_s / N$, a $k$-ti **frekvencijski podeok** vrednost $k \\Delta f$."
   ]
  },
  {
   "cell_type": "code",
   "execution_count": 2,
   "metadata": {},
   "outputs": [],
   "source": [
    "import numpy as np\n",
    "from matplotlib import pyplot as plt\n",
    "from numpy import fft"
   ]
  },
  {
   "cell_type": "markdown",
   "metadata": {},
   "source": [
    "Posmatrajmo signal $f(t) = 2\\sin (2\\pi t) + 3 \\sin (44\\pi t) + \\epsilon$, gde je $\\epsilon$ šum, koji ćemo generisati proizvoljno iz standardne normalne raspodele. Neka je signal izmeren 6000 puta tokom 100 sekundi. "
   ]
  },
  {
   "cell_type": "code",
   "execution_count": null,
   "metadata": {},
   "outputs": [],
   "source": []
  },
  {
   "cell_type": "code",
   "execution_count": null,
   "metadata": {},
   "outputs": [],
   "source": []
  },
  {
   "cell_type": "code",
   "execution_count": null,
   "metadata": {},
   "outputs": [],
   "source": []
  },
  {
   "cell_type": "code",
   "execution_count": null,
   "metadata": {},
   "outputs": [],
   "source": []
  },
  {
   "cell_type": "code",
   "execution_count": null,
   "metadata": {},
   "outputs": [],
   "source": []
  },
  {
   "cell_type": "code",
   "execution_count": null,
   "metadata": {},
   "outputs": [],
   "source": []
  },
  {
   "cell_type": "code",
   "execution_count": null,
   "metadata": {},
   "outputs": [],
   "source": []
  },
  {
   "cell_type": "code",
   "execution_count": null,
   "metadata": {},
   "outputs": [],
   "source": []
  },
  {
   "cell_type": "code",
   "execution_count": null,
   "metadata": {},
   "outputs": [],
   "source": []
  },
  {
   "cell_type": "code",
   "execution_count": null,
   "metadata": {},
   "outputs": [],
   "source": []
  },
  {
   "cell_type": "code",
   "execution_count": null,
   "metadata": {},
   "outputs": [],
   "source": []
  }
 ],
 "metadata": {
  "kernelspec": {
   "display_name": "Python 3",
   "language": "python",
   "name": "python3"
  },
  "language_info": {
   "codemirror_mode": {
    "name": "ipython",
    "version": 3
   },
   "file_extension": ".py",
   "mimetype": "text/x-python",
   "name": "python",
   "nbconvert_exporter": "python",
   "pygments_lexer": "ipython3",
   "version": "3.7.6"
  }
 },
 "nbformat": 4,
 "nbformat_minor": 2
}
