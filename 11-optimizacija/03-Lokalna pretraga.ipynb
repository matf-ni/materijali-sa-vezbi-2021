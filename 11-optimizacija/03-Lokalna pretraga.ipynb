{
 "cells": [
  {
   "cell_type": "markdown",
   "metadata": {},
   "source": [
    "# Lokalna pretraga"
   ]
  },
  {
   "cell_type": "markdown",
   "metadata": {},
   "source": [
    "Lokalna pretraga (eng. *local search*, skraćeno LS) tehnika iterativnog poboljšavanja vrednosti jednog rešenja. Na početku algoritma se proizvoljno ili na neki drugi način generiše početno rešenje i izračuna vrednost njegove funkcije cilja. Zatim se vrednost najboljeg rešenja najpre inicijalizuje na vrednost početnog, a potom se algoritam ponavlja kroz nekoliko iteracija. U svakoj iteraciji se razmatra rešenje u okolini trenutnog. Ukoliko je vrednost njegove funkcije cilja bolja od vrednosti funkcije cilja trenutnog rešenja, ažurira se trenutno rešenje. Takođe se, po potrebi, ažurira i vrednost najboljeg dostignutog rešenja. Algoritam se ponavlja dok nije ispunjen kriterijum zaustavljanja. Kriterijum zaustavljanja može biti, na primer, dostignuti maksimalan broj iteracija, dostignuti maksimalan broj ponavljanja najboljeg rešenja, ukupno vreme izvršavanja, itd. "
   ]
  },
  {
   "cell_type": "markdown",
   "metadata": {},
   "source": [
    "<img src='assets/local_search.png' style='width:500px'>"
   ]
  },
  {
   "cell_type": "markdown",
   "metadata": {},
   "source": [
    "Lokalna pretraga se može prikazati sledećim pseudokodom:\n",
    "\n",
    "* Generisati početno rešenje $s$\n",
    "* Inicijalizovati vrednost najboljeg rešenja $f^* = f(s)$\n",
    "* Dok nije ispunjen kriterijum zaustavljanja, ponavljati sledeće korake:\n",
    "    * Izabrati proizvoljno rešenje $s'$ u okolini rešenja $s$\n",
    "    * Ako je $f(s') < f(s)$, onda $s = s'$\n",
    "    * Ako je $f(s') < f^*$, onda $f^* = f(s')$\n",
    "* Ispisati vrednost rešenja $f^*$"
   ]
  },
  {
   "cell_type": "code",
   "execution_count": null,
   "metadata": {},
   "outputs": [],
   "source": []
  },
  {
   "cell_type": "markdown",
   "metadata": {},
   "source": [
    "## Primena lokalne pretrage na prost lokacijski problem"
   ]
  },
  {
   "cell_type": "markdown",
   "metadata": {},
   "source": [
    "Kod prostog lokacijskog problema (eng. *uncapacitated facility location problem*, skraćeno UFLP) poznat je skup korisnika $I$, skup potencijalnih lokacija za resurse $J$, cene dodeljivanja korisnika resursima $c_{ij}$, $i \\in I$, $j \\in J$ i cene uspostavljanja resursa $f_j$, $j \\in J$. Potrebno je odrediti rešenje u kojem je svaki korisnik  pridružen tačno jednom resursu tako da se minimizuje ukupna cena dodeljivanja korisnika resursima i cena upostavljanja resursa. Pritom neki resursi mogu biti neiskorišćeni, a neki iskorišćeni od strane jednog ili više korisnika. "
   ]
  },
  {
   "cell_type": "markdown",
   "metadata": {},
   "source": [
    "<img src='assets/UFLP.gif'>"
   ]
  },
  {
   "cell_type": "markdown",
   "metadata": {},
   "source": [
    "Ovaj problem susrećemo u planiranjima koja treba da rasporede decu po školama ili korisnike nadležnim medicinskim ustanovama. Sam problem je NP težak pa zahteva optimizaciju rešenja."
   ]
  },
  {
   "cell_type": "markdown",
   "metadata": {},
   "source": [
    "U ovoj verziji lokalne pretrage se u jednoj iteraciji naredno rešenje bira proizvljno u okolini trenutnog. Inače, mogu se razmatrati sva rešenja iz okoline. Tako se u jednoj verziji algoritma može preći u naredno rešenje čim se dostigne poboljšanje rešenja, a u drugoj se mogu razmotriti sva rešenja i uzeti ono čija je vrednost funkcije cilja najmanja. Ukoliko se radi o maksimizaciji, prihvataju se uvek ona rešenja čija je vrednost funkcije cilja veća. "
   ]
  },
  {
   "cell_type": "markdown",
   "metadata": {},
   "source": [
    "Osnovna mana lokalne pretrage se ogleda u tome što najbolje dostignuto lokalno rešenje ne mora ujedno biti i globalno. Ovo se može nadomestiti na razne načine."
   ]
  },
  {
   "cell_type": "code",
   "execution_count": null,
   "metadata": {},
   "outputs": [],
   "source": []
  },
  {
   "cell_type": "markdown",
   "metadata": {},
   "source": [
    "U nastavku će biti prikazana implementacija primene lokalne pretrage na UFLP problem."
   ]
  },
  {
   "cell_type": "code",
   "execution_count": 1,
   "metadata": {},
   "outputs": [],
   "source": [
    "import numpy as np"
   ]
  },
  {
   "cell_type": "code",
   "execution_count": 2,
   "metadata": {},
   "outputs": [],
   "source": [
    "np.random.seed(7)"
   ]
  },
  {
   "cell_type": "code",
   "execution_count": null,
   "metadata": {},
   "outputs": [],
   "source": []
  },
  {
   "cell_type": "markdown",
   "metadata": {},
   "source": [
    "Najpre ćemo napisati funkciju koja učitava ulazne podatke. Pretpostavka je da će se u prvom redu fajla sa podacima naći  broj korisnika `number_of_users` i broj resursa `number_of_resources`, u narednih `number_of_users` redova `number_of_resources` brojeva koji zajedno predstavljaju matricu cena dodeljivanja korisnika resursima koju ćemo zvati `cost`. Niz cena uspostavljanja resursa `fixed_cost` će se učitavati iz poslednjeg reda fajla sa podacima."
   ]
  },
  {
   "cell_type": "code",
   "execution_count": 3,
   "metadata": {},
   "outputs": [
    {
     "name": "stdout",
     "output_type": "stream",
     "text": [
      "3 3\r\n",
      "1 12 3\r\n",
      "2 7 41\r\n",
      "19 21 7\r\n",
      "12 11 13"
     ]
    }
   ],
   "source": [
    "!cat data/uflp_input.txt"
   ]
  },
  {
   "cell_type": "code",
   "execution_count": 4,
   "metadata": {},
   "outputs": [],
   "source": [
    "def read_input(filename):\n",
    "    with open(filename, 'r') as input:\n",
    "        \n",
    "        number_of_users, number_of_resources = [int(i) for i in input.readline().split()]\n",
    "        \n",
    "        cost = [[int(j) for j in input.readline().split()] for i in range(number_of_users)] \n",
    "        \n",
    "        fixed_cost = [int(j) for j in input.readline().split()]\n",
    "        \n",
    "    return number_of_users, number_of_resources, cost, fixed_cost"
   ]
  },
  {
   "cell_type": "code",
   "execution_count": 5,
   "metadata": {},
   "outputs": [],
   "source": [
    "number_of_users, number_of_resources, cost, fixed_cost = read_input('data/uflp_input.txt')"
   ]
  },
  {
   "cell_type": "code",
   "execution_count": 6,
   "metadata": {},
   "outputs": [
    {
     "data": {
      "text/plain": [
       "3"
      ]
     },
     "execution_count": 6,
     "metadata": {},
     "output_type": "execute_result"
    }
   ],
   "source": [
    "number_of_users"
   ]
  },
  {
   "cell_type": "code",
   "execution_count": 7,
   "metadata": {},
   "outputs": [
    {
     "data": {
      "text/plain": [
       "3"
      ]
     },
     "execution_count": 7,
     "metadata": {},
     "output_type": "execute_result"
    }
   ],
   "source": [
    "number_of_resources"
   ]
  },
  {
   "cell_type": "code",
   "execution_count": 8,
   "metadata": {},
   "outputs": [
    {
     "data": {
      "text/plain": [
       "[[1, 12, 3], [2, 7, 41], [19, 21, 7]]"
      ]
     },
     "execution_count": 8,
     "metadata": {},
     "output_type": "execute_result"
    }
   ],
   "source": [
    "cost"
   ]
  },
  {
   "cell_type": "code",
   "execution_count": 9,
   "metadata": {},
   "outputs": [
    {
     "data": {
      "text/plain": [
       "[12, 11, 13]"
      ]
     },
     "execution_count": 9,
     "metadata": {},
     "output_type": "execute_result"
    }
   ],
   "source": [
    "fixed_cost"
   ]
  },
  {
   "cell_type": "code",
   "execution_count": null,
   "metadata": {},
   "outputs": [],
   "source": []
  },
  {
   "cell_type": "markdown",
   "metadata": {},
   "source": [
    "Funkcijom `is_feasible` se proverava da li je rešenje dopustivo. Rešenje je predstavljeno nizom `solution` koje se sastoji od `number_of_resources` logičkih vrednosti gde vrednost `True` na $j$-tom mestu označava da je resurs uspostavljen, a `False` da nije. Rešenje je dopustivo ukoliko niz `solution` ima bar jednu vrednost `True`."
   ]
  },
  {
   "cell_type": "code",
   "execution_count": 10,
   "metadata": {},
   "outputs": [],
   "source": [
    "def is_feasible(number_of_resources, solution):\n",
    "    for j in range(number_of_resources):\n",
    "        if solution[j]:\n",
    "            return True\n",
    "    return False"
   ]
  },
  {
   "cell_type": "code",
   "execution_count": null,
   "metadata": {},
   "outputs": [],
   "source": []
  },
  {
   "cell_type": "markdown",
   "metadata": {},
   "source": [
    "Funkcijom `initialize` se generiše proizvoljno početno rešenje. Vrednost `True` će biti izabrana sa verovatnoćom `probability` koja će kasnije biti postavljena na 0.25 budući da se najčešće u optimalnom rešenju nalazi osetno manje uspostavljenih resursa nego neuspostavljenih."
   ]
  },
  {
   "cell_type": "code",
   "execution_count": 11,
   "metadata": {},
   "outputs": [],
   "source": [
    "def initialize(number_of_resources, probability):\n",
    "    solution = []\n",
    "\n",
    "    # u listu se dodaje True ili False vrednost sa verovatnocom probability\n",
    "    for j in range(number_of_resources):\n",
    "        solution.append(np.random.random() < probability)\n",
    "\n",
    "    # ukoliko u listi nema ni jedne True vrednosti, na proizvoljnu poziciju se upisuje vrednost True\n",
    "    if not is_feasible(number_of_resources, solution):\n",
    "        solution[np.random.randint(0, number_of_resources)] = True\n",
    "\n",
    "    return solution"
   ]
  },
  {
   "cell_type": "code",
   "execution_count": null,
   "metadata": {},
   "outputs": [],
   "source": []
  },
  {
   "cell_type": "markdown",
   "metadata": {},
   "source": [
    "Funkcijom `restore` se invertuje vrednost $j$-tog indeksa rešenja. Ona će kasnije biti iskorišćena u algoritmu lokalne pretrage za restauiranje vrednosti rešenja ukoliko nije pronađena bolja vrednost."
   ]
  },
  {
   "cell_type": "code",
   "execution_count": 12,
   "metadata": {},
   "outputs": [],
   "source": [
    "def restore(j, solution):\n",
    "    solution[j] = not solution[j]"
   ]
  },
  {
   "cell_type": "code",
   "execution_count": null,
   "metadata": {},
   "outputs": [],
   "source": []
  },
  {
   "cell_type": "markdown",
   "metadata": {},
   "source": [
    "Funkcijom `solution_value` određuje se vrednost trenutnog rešenja. Za svakog korisnika $i$ se bira resurs $j$ za koji je cena dodeljivanja najmanja. Zatim se taj resurs označava kao zauzet. O zauzetosti resursa se vodi računa u nizu `used` čije su vrednosti na početku postavljene na `False`. Na kraju se i sve vrednosti cena uspostavljanja zauzetih resursa dodaju na povratnu vrednost funkcije. Time je u njoj sadržana ukupna cena dodeljivanja i uspostavljanja za dato fiksno rešenje. Poslednje, niz `solution` se ažurira na osnovu vrednosti niza `used` budući da mogu da postoje u rešenju uspostavljeni resursi koji nisu iskorišćeni."
   ]
  },
  {
   "cell_type": "code",
   "execution_count": 13,
   "metadata": {},
   "outputs": [],
   "source": [
    "def solution_value(number_of_users, number_of_resources, cost, fixed_cost, solution):\n",
    "    \n",
    "    # ukupna cena\n",
    "    value = 0.0\n",
    "    \n",
    "    # lista pozicija zauzetih resursa\n",
    "    used = [False] * number_of_resources\n",
    "    \n",
    "    \n",
    "    for i in range(number_of_users):\n",
    "\n",
    "        # korisnika pridruzujemo najpovoljnijem resursu \n",
    "        min_cost = np.inf\n",
    "        j_used = -1\n",
    "        for j in range(number_of_resources):\n",
    "            if solution[j] and cost[i][j] < min_cost:\n",
    "                min_cost = cost[i][j]\n",
    "                j_used = j\n",
    "                \n",
    "        # potom uvecavamo ukupnu cenu za cenu troskova pridruzivanja\n",
    "        value += min_cost\n",
    "        \n",
    "        # azuriramo listu zauzetih resursa \n",
    "        used[j_used] = True\n",
    "    \n",
    "    # ukupnu cenu uvecavamo za iznose uspostavljanja resursa\n",
    "    for j in range(number_of_resources):\n",
    "        if used[j]:\n",
    "            value += fixed_cost[j]\n",
    "            \n",
    "    # potencijalno azuriramo resenje ukoliko medju inicijalnim resursima ima neiskoriscenih\n",
    "    solution = used\n",
    "    \n",
    "    # vracamo izracunatu ukupnu cenu\n",
    "    return value"
   ]
  },
  {
   "cell_type": "code",
   "execution_count": null,
   "metadata": {},
   "outputs": [],
   "source": []
  },
  {
   "cell_type": "markdown",
   "metadata": {},
   "source": [
    "Funkcijom `invert` se bira proizvoljno rešenje iz okoline trenutnog tako što se proizvoljno izabran indeks niza `solution` invertuje čime se uspostavljeni resurs progralašava za neuspostavljeni, ili obratno. Pritom treba voditi računa da se zbog inverzije ne dobije nedopustivo rešenje."
   ]
  },
  {
   "cell_type": "code",
   "execution_count": 14,
   "metadata": {},
   "outputs": [],
   "source": [
    "def invert(number_of_resources, solution):\n",
    "    \n",
    "    # bira se resenje iz okoline tako sto se na poziciji j invertuje vrednosti\n",
    "    j = np.random.randint(0, number_of_resources)\n",
    "    solution[j] = not solution[j]\n",
    "    \n",
    "    # ukoliko je ovako dobijeno resenje dopustivo prekidamo pretragu okoline\n",
    "    if is_feasible(number_of_resources, solution):\n",
    "        return j\n",
    "    \n",
    "    # u suprotnom, ponistavamo promene resenja\n",
    "    solution[j] = not solution[j]\n",
    "    \n",
    "    return -1"
   ]
  },
  {
   "cell_type": "code",
   "execution_count": null,
   "metadata": {},
   "outputs": [],
   "source": []
  },
  {
   "cell_type": "code",
   "execution_count": null,
   "metadata": {},
   "outputs": [],
   "source": []
  },
  {
   "cell_type": "markdown",
   "metadata": {},
   "source": [
    "Funkcija `local_search` predstavlja samu lokalnu pretragu. Najpre se vrednost najboljeg rešenja postavlja na vrednost tekućeg rešenja. Zatim se u svakoj iteraciji generiše novo rešenje u okolini trenutnog. Ukoliko je vrednost novog rešenja manja od vrednosti trenutnog, ažurira se trenutno rešenje. U suprotnom se restauira njegova prethodna vrednost. U svakoj iteraciji se, po potrebi, ažurira i vrednost najboljeg rešenja.\n",
    "\n",
    "Kriterijum zaustavljanja će predstavljati dostignut maksimalan broj iteracija."
   ]
  },
  {
   "cell_type": "code",
   "execution_count": 15,
   "metadata": {},
   "outputs": [],
   "source": [
    "def local_search(number_of_users, number_of_resources, cost, fixed_cost, solution, max_iters):\n",
    "    \n",
    "    # vrednost najboljeg resenja se postavlja na vrednost tekuceg resenja\n",
    "    curr_value = solution_value(number_of_users, number_of_resources, cost, fixed_cost, solution)\n",
    "    best_value = curr_value\n",
    "    best_solution = solution\n",
    "    \n",
    "    \n",
    "    for i in range(0, max_iters):\n",
    "        \n",
    "        # generise se novo resenje\n",
    "        j = invert(number_of_resources, solution)\n",
    "        if j < 0:\n",
    "            continue\n",
    "            \n",
    "        # izracunava se vrednost novog resenja\n",
    "        # ukoliko je dobijena vrednost bolja od tekuce vrednosti, generisano resenje predstavlja pocetno resenje sledece iteracije\n",
    "        # u suprotnom, ponistava se promena resenja i nastavlja se dalja pretraga u odnosu na tekuce resenje \n",
    "        new_value = solution_value(number_of_users, number_of_resources, cost, fixed_cost, solution)\n",
    "        if new_value < curr_value:\n",
    "            curr_value = new_value\n",
    "        else:\n",
    "            restore(j, solution)\n",
    "            \n",
    "        # na osnovu dobijenih vrednosti se, po potrebi, azurira i najbolje resenje\n",
    "        if new_value < best_value:\n",
    "            best_value = new_value\n",
    "            best_solution = solution.copy()\n",
    "        \n",
    "    return best_value, best_solution"
   ]
  },
  {
   "cell_type": "code",
   "execution_count": null,
   "metadata": {},
   "outputs": [],
   "source": []
  },
  {
   "cell_type": "markdown",
   "metadata": {},
   "source": [
    "Konačno, nakon učitavanja i inicijalizacije početnog rešenja, vrednost rešenja je povratna vrednost lokalne pretrage."
   ]
  },
  {
   "cell_type": "code",
   "execution_count": 16,
   "metadata": {},
   "outputs": [],
   "source": [
    "solution = initialize(number_of_resources, 0.25)\n",
    "best_value, best_solution = local_search(number_of_users, number_of_resources, cost, fixed_cost, solution, 10000)"
   ]
  },
  {
   "cell_type": "code",
   "execution_count": 17,
   "metadata": {},
   "outputs": [
    {
     "name": "stdout",
     "output_type": "stream",
     "text": [
      "Najmanja cena: 34.0\n"
     ]
    }
   ],
   "source": [
    "print('Najmanja cena:', best_value)"
   ]
  },
  {
   "cell_type": "code",
   "execution_count": 18,
   "metadata": {},
   "outputs": [
    {
     "name": "stdout",
     "output_type": "stream",
     "text": [
      "Optimalno resenje:  [True, False, False]\n"
     ]
    }
   ],
   "source": [
    "print('Optimalno resenje: ', best_solution)"
   ]
  },
  {
   "cell_type": "code",
   "execution_count": null,
   "metadata": {},
   "outputs": [],
   "source": []
  },
  {
   "cell_type": "markdown",
   "metadata": {},
   "source": [
    "Optimalno rešenje se dobija uspostavljanjem samo prvog resursa i dodeljivanjem svih korisnika njemu. Cene dodeljivanja prvom resursu su redom 1, 2 i 19, a cena uspostavljanja 12. Dakle, vrednost optimalnog rešenja iznosi $1+2+19+12=34$."
   ]
  },
  {
   "cell_type": "code",
   "execution_count": null,
   "metadata": {},
   "outputs": [],
   "source": []
  },
  {
   "cell_type": "markdown",
   "metadata": {},
   "source": [
    "Algoritam lokalne pretrage za UFLP se može ubrzati imajući u vidu činjenicu da u svakoj iteraciji najviše vremena oduzima računanje funkcije cilja, a da se u svakom koraku, pri prelasku u naredno rešenje, može ažurirati njena trenutna vrednost, umesto ponovnog računanja. Ako se pri prelasku na naredno rešenje vrši uspostavljanje $j$-tog resursa dovoljno je proveriti za svakog korisnika $i$ da li je vrednost $c_{ij}$ manja od vrednosti $c_{i,best(i)}$, gde je $best(i)$ indeks resursa kome je korisnik $i$ dodeljen. Ukoliko ova vrednost jeste manja, potrebno\n",
    "je ažurirati vrednost funkcije cilja. Složenost ovog koraka je linearna za razliku od kvadratnog vremena koje treba utrošiti za ponovno računanje funkcije cilja. Ako se pri prelasku u naredno rešenje vrši oslobađanje $j$-tog resursa, potrebno je, umesto svih korisnika iz skupa $I$, razmotriti samo one koji su dodeljeni resursu $j$. Kako je u prosečnom slučaju broj korisnika dodeljenih jednom resursu znatno manji od ukupnog broja resursa, ovo znatno ubrzava vreme pretrage u poređenju sa vremenom koje bi se potrošilo za ponovno računanje vrednosti funkcije cilja."
   ]
  },
  {
   "cell_type": "code",
   "execution_count": null,
   "metadata": {},
   "outputs": [],
   "source": []
  }
 ],
 "metadata": {
  "kernelspec": {
   "display_name": "Python 3",
   "language": "python",
   "name": "python3"
  },
  "language_info": {
   "codemirror_mode": {
    "name": "ipython",
    "version": 3
   },
   "file_extension": ".py",
   "mimetype": "text/x-python",
   "name": "python",
   "nbconvert_exporter": "python",
   "pygments_lexer": "ipython3",
   "version": "3.7.6"
  }
 },
 "nbformat": 4,
 "nbformat_minor": 2
}
