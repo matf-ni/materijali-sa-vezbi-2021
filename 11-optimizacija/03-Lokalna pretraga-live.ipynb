{
 "cells": [
  {
   "cell_type": "markdown",
   "metadata": {},
   "source": [
    "# Lokalna pretraga"
   ]
  },
  {
   "cell_type": "markdown",
   "metadata": {},
   "source": [
    "Lokalna pretraga (eng. *local search*, skraćeno LS) tehnika iterativnog poboljšavanja vrednosti jednog rešenja. Na početku algoritma se proizvoljno ili na neki drugi način generiše početno rešenje i izračuna vrednost njegove funkcije cilja. Zatim se vrednost najboljeg rešenja najpre inicijalizuje na vrednost početnog, a potom se algoritam ponavlja kroz nekoliko iteracija. U svakoj iteraciji se razmatra rešenje u okolini trenutnog. Ukoliko je vrednost njegove funkcije cilja bolja od vrednosti funkcije cilja trenutnog rešenja, ažurira se trenutno rešenje. Takođe se, po potrebi, ažurira i vrednost najboljeg dostignutog rešenja. Algoritam se ponavlja dok nije ispunjen kriterijum zaustavljanja. Kriterijum zaustavljanja može biti, na primer, dostignuti maksimalan broj iteracija, dostignuti maksimalan broj ponavljanja najboljeg rešenja, ukupno vreme izvršavanja, itd. "
   ]
  },
  {
   "cell_type": "code",
   "execution_count": null,
   "metadata": {},
   "outputs": [],
   "source": []
  },
  {
   "cell_type": "markdown",
   "metadata": {},
   "source": [
    "Lokalna pretraga se može prikazati sledećim pseudokodom:\n",
    "\n",
    "* Generisati početno rešenje $s$\n",
    "* Inicijalizovati vrednost najboljeg rešenja $f^* = f(s)$\n",
    "* Dok nije ispunjen kriterijum zaustavljanja, ponavljati sledeće korake:\n",
    "    * Izabrati proizvoljno rešenje $s'$ u okolini rešenja $s$\n",
    "    * Ako je $f(s') < f(s)$, onda $s = s'$\n",
    "    * Ako je $f(s') < f^*$, onda $f^* = f(s')$\n",
    "* Ispisati vrednost rešenja $f^*$"
   ]
  },
  {
   "cell_type": "code",
   "execution_count": null,
   "metadata": {},
   "outputs": [],
   "source": []
  },
  {
   "cell_type": "markdown",
   "metadata": {},
   "source": [
    "## Primena lokalne pretrage na prost lokacijski problem"
   ]
  },
  {
   "cell_type": "markdown",
   "metadata": {},
   "source": [
    "Kod prostog lokacijskog problema (eng. *uncapacitated facility location problem*, skraćeno UFLP) poznat je skup korisnika $I$, skup potencijalnih lokacija za resurse $J$, cene dodeljivanja korisnika resursima $c_{ij}$, $i \\in I$, $j \\in J$ i cene uspostavljanja resursa $f_j$, $j \\in J$. Potrebno je odrediti rešenje u kojem je svaki korisnik  pridružen tačno jednom resursu tako da se minimizuje ukupna cena dodeljivanja korisnika resursima i cena upostavljanja resursa. Pritom neki resursi mogu biti neiskorišćeni, a neki iskorišćeni od strane jednog ili više korisnika. "
   ]
  },
  {
   "cell_type": "markdown",
   "metadata": {},
   "source": [
    "<img src='assets/UFLP.gif'>"
   ]
  },
  {
   "cell_type": "markdown",
   "metadata": {},
   "source": [
    "Ovaj problem susrećemo u planiranjima koja treba da rasporede decu po školama ili korisnike nadležnim medicinskim ustanovama. Sam problem je NP težak pa zahteva optimizaciju rešenja."
   ]
  },
  {
   "cell_type": "markdown",
   "metadata": {},
   "source": [
    "U ovoj verziji lokalne pretrage se u jednoj iteraciji naredno rešenje bira proizvljno u okolini trenutnog. Inače, mogu se razmatrati sva rešenja iz okoline. Tako se u jednoj verziji algoritma može preći u naredno rešenje čim se dostigne poboljšanje rešenja, a u drugoj se mogu razmotriti sva rešenja i uzeti ono čija je vrednost funkcije cilja najmanja. Ukoliko se radi o maksimizaciji, prihvataju se uvek ona rešenja čija je vrednost funkcije cilja veća. "
   ]
  },
  {
   "cell_type": "markdown",
   "metadata": {},
   "source": [
    "Osnovna mana lokalne pretrage se ogleda u tome što najbolje dostignuto lokalno rešenje ne mora ujedno biti i globalno. Ovo se može nadomestiti na razne načine."
   ]
  },
  {
   "cell_type": "code",
   "execution_count": null,
   "metadata": {},
   "outputs": [],
   "source": []
  },
  {
   "cell_type": "markdown",
   "metadata": {},
   "source": [
    "U nastavku će biti prikazana implementacija primene lokalne pretrage na UFLP problem."
   ]
  },
  {
   "cell_type": "code",
   "execution_count": 1,
   "metadata": {},
   "outputs": [],
   "source": [
    "import numpy as np"
   ]
  },
  {
   "cell_type": "code",
   "execution_count": null,
   "metadata": {},
   "outputs": [],
   "source": []
  },
  {
   "cell_type": "markdown",
   "metadata": {},
   "source": [
    "Najpre ćemo napisati funkciju koja učitava ulazne podatke. Pretpostavka je da će se u prvom redu fajla sa podacima naći  broj korisnika `number_of_users` i broj resursa `number_of_resources`, u narednih `number_of_users` redova `number_of_resources` brojeva koji zajedno predstavljaju matricu cena dodeljivanja korisnika resursima koju ćemo zvati `cost`. Niz cena uspostavljanja resursa `fixed_cost` će se učitavati iz poslednjeg reda fajla sa podacima."
   ]
  },
  {
   "cell_type": "code",
   "execution_count": 2,
   "metadata": {},
   "outputs": [],
   "source": [
    "# !cat data/uflp_input.txt"
   ]
  },
  {
   "cell_type": "code",
   "execution_count": 3,
   "metadata": {},
   "outputs": [],
   "source": [
    "def read_input(filename):\n",
    "    with open(filename, 'r') as input:\n",
    "        number_of_users, number_of_resources = [int(i) for i in input.readline().split()]\n",
    "        cost = [[int(j) for j in input.readline().split()] for i in range(number_of_users)] \n",
    "        fixed_cost = [int(j) for j in input.readline().split()]\n",
    "    return number_of_users, number_of_resources, cost, fixed_cost"
   ]
  },
  {
   "cell_type": "code",
   "execution_count": 4,
   "metadata": {},
   "outputs": [],
   "source": [
    "number_of_users, number_of_resources, cost, fixed_cost = read_input('data/uflp_input.txt')"
   ]
  },
  {
   "cell_type": "code",
   "execution_count": null,
   "metadata": {},
   "outputs": [],
   "source": []
  },
  {
   "cell_type": "markdown",
   "metadata": {},
   "source": [
    "Funkcijom `is_feasible` se proverava da li je rešenje dopustivo. Rešenje je predstavljeno nizom `solution` koje se sastoji od `number_of_resources` logičkih vrednosti gde vrednost `True` na $j$-tom mestu označava da je resurs uspostavljen, a `False` da nije. Rešenje je dopustivo ukoliko niz `solution` ima bar jednu vrednost `True`."
   ]
  },
  {
   "cell_type": "code",
   "execution_count": 5,
   "metadata": {},
   "outputs": [],
   "source": [
    "def is_feasible(number_of_resources, solution):\n",
    "    pass"
   ]
  },
  {
   "cell_type": "code",
   "execution_count": null,
   "metadata": {},
   "outputs": [],
   "source": []
  },
  {
   "cell_type": "markdown",
   "metadata": {},
   "source": [
    "Funkcijom `initialize` se generiše proizvoljno početno rešenje. Vrednost `True` će biti izabrana sa verovatnoćom `probability` koja će kasnije biti postavljena na 0.25 budući da se najčešće u optimalnom rešenju nalazi osetno manje uspostavljenih resursa nego neuspostavljenih."
   ]
  },
  {
   "cell_type": "code",
   "execution_count": 6,
   "metadata": {},
   "outputs": [],
   "source": [
    "def initialize(number_of_resources, probability):\n",
    "    pass"
   ]
  },
  {
   "cell_type": "code",
   "execution_count": null,
   "metadata": {},
   "outputs": [],
   "source": []
  },
  {
   "cell_type": "markdown",
   "metadata": {},
   "source": [
    "Funkcijom `restore` se invertuje vrednost $j$-tog indeksa rešenja. Ona će kasnije biti iskorišćena u algoritmu lokalne pretrage za restauiranje vrednosti rešenja ukoliko nije pronađena bolja vrednost."
   ]
  },
  {
   "cell_type": "code",
   "execution_count": 7,
   "metadata": {},
   "outputs": [],
   "source": [
    "def restore(j, solution):\n",
    "    pass"
   ]
  },
  {
   "cell_type": "code",
   "execution_count": null,
   "metadata": {},
   "outputs": [],
   "source": []
  },
  {
   "cell_type": "markdown",
   "metadata": {},
   "source": [
    "Funkcijom `solution_value` određuje se vrednost trenutnog rešenja. Za svakog korisnika $i$ se bira resurs $j$ za koji je cena dodeljivanja najmanja. Zatim se taj resurs označava kao zauzet. O zauzetosti resursa se vodi računa u nizu `used` čije su vrednosti na početku postavljene na `False`. Na kraju se i sve vrednosti cena uspostavljanja zauzetih resursa dodaju na povratnu vrednost funkcije. Time je u njoj sadržana ukupna cena dodeljivanja i uspostavljanja za dato fiksno rešenje. Poslednje, niz `solution` se ažurira na osnovu vrednosti niza `used` budući da mogu da postoje u rešenju uspostavljeni resursi koji nisu iskorišćeni."
   ]
  },
  {
   "cell_type": "code",
   "execution_count": 8,
   "metadata": {},
   "outputs": [],
   "source": [
    "def solution_value(number_of_users, number_of_resources, cost, fixed_cost, solution):\n",
    "    pass"
   ]
  },
  {
   "cell_type": "code",
   "execution_count": null,
   "metadata": {},
   "outputs": [],
   "source": []
  },
  {
   "cell_type": "markdown",
   "metadata": {},
   "source": [
    "Funkcijom `invert` se bira proizvoljno rešenje iz okoline trenutnog tako što se proizvoljno izabran indeks niza `solution` invertuje čime se uspostavljeni resurs progralašava za neuspostavljeni, ili obratno. Pritom treba voditi računa da se zbog inverzije ne dobije nedopustivo rešenje."
   ]
  },
  {
   "cell_type": "code",
   "execution_count": 9,
   "metadata": {},
   "outputs": [],
   "source": [
    "def invert(number_of_resources, solution):\n",
    "    pass"
   ]
  },
  {
   "cell_type": "code",
   "execution_count": null,
   "metadata": {},
   "outputs": [],
   "source": []
  },
  {
   "cell_type": "code",
   "execution_count": null,
   "metadata": {},
   "outputs": [],
   "source": []
  },
  {
   "cell_type": "markdown",
   "metadata": {},
   "source": [
    "Funkcija `local_search` predstavlja samu lokalnu pretragu. Najpre se vrednost najboljeg rešenja postavlja na vrednost tekućeg rešenja. Zatim se u svakoj iteraciji generiše novo rešenje u okolini trenutnog. Ukoliko je vrednost novog rešenja manja od vrednosti trenutnog, ažurira se trenutno rešenje. U suprotnom se restauira njegova prethodna vrednost. U svakoj iteraciji se, po potrebi, ažurira i vrednost najboljeg rešenja.\n",
    "\n",
    "Kriterijum zaustavljanja će predstavljati dostignut maksimalan broj iteracija."
   ]
  },
  {
   "cell_type": "code",
   "execution_count": 10,
   "metadata": {},
   "outputs": [],
   "source": [
    "def local_search(number_of_users, number_of_resources, cost, fixed_cost, solution, max_iters):\n",
    "    pass"
   ]
  },
  {
   "cell_type": "code",
   "execution_count": null,
   "metadata": {},
   "outputs": [],
   "source": []
  },
  {
   "cell_type": "markdown",
   "metadata": {},
   "source": [
    "Konačno, nakon učitavanja i inicijalizacije početnog rešenja, vrednost rešenja je povratna vrednost lokalne pretrage."
   ]
  },
  {
   "cell_type": "code",
   "execution_count": null,
   "metadata": {},
   "outputs": [],
   "source": []
  },
  {
   "cell_type": "code",
   "execution_count": null,
   "metadata": {},
   "outputs": [],
   "source": []
  },
  {
   "cell_type": "code",
   "execution_count": null,
   "metadata": {},
   "outputs": [],
   "source": []
  },
  {
   "cell_type": "code",
   "execution_count": null,
   "metadata": {},
   "outputs": [],
   "source": []
  }
 ],
 "metadata": {
  "kernelspec": {
   "display_name": "Python 3",
   "language": "python",
   "name": "python3"
  },
  "language_info": {
   "codemirror_mode": {
    "name": "ipython",
    "version": 3
   },
   "file_extension": ".py",
   "mimetype": "text/x-python",
   "name": "python",
   "nbconvert_exporter": "python",
   "pygments_lexer": "ipython3",
   "version": "3.7.6"
  }
 },
 "nbformat": 4,
 "nbformat_minor": 2
}
