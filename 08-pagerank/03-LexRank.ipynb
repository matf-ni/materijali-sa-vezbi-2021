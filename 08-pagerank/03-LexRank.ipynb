{
 "cells": [
  {
   "cell_type": "markdown",
   "metadata": {},
   "source": [
    "### LexRank algoritam"
   ]
  },
  {
   "cell_type": "markdown",
   "metadata": {},
   "source": [
    "`LexRank` algoritam je algoritam za ekstraktivnu sumarizaciju teksta koji koristi ideju opisanog `PageRank` algoritma. Zadatak esktraktivne sumarizacije je da za zadati tekst generiše kraću verziju izdvajajući samo rečenice koje su najinformativnije.  <img src='assets/summarization.jpg'>"
   ]
  },
  {
   "cell_type": "markdown",
   "metadata": {},
   "source": [
    "Čvorovi grafa će sada biti rečenice $s_i$, ivice će povezivati rečenice koje dele informacioni sadržaj, a njihove težine $w_{ij}$ će odgovarati količini preklapanja informacionih sadržaja.  <img src='assets/lexrank_color.png' style='width:400px'>"
   ]
  },
  {
   "cell_type": "markdown",
   "metadata": {},
   "source": [
    "#### Obrada teksta"
   ]
  },
  {
   "cell_type": "markdown",
   "metadata": {},
   "source": [
    "Da bismo pripremili tekst za rad, iskoristićemo `nltk` (skraćenica od *natural language toolkit*) paket koji se koristi za rad sa tekstom, a koji nudi podršku za zadatke tokenizacije, tagiranja, normalizacije i slično. Alat se može instalirati komandom `conda install -c anaconda nltk` u skladu sa smernicama sa [zvaničnog sajta](https://anaconda.org/anaconda/nltk). \n",
    "\n",
    "Punkt je ime podalata koji se koristi za razbija tekst na rečenice i tokene. "
   ]
  },
  {
   "cell_type": "code",
   "execution_count": 1,
   "metadata": {},
   "outputs": [
    {
     "name": "stderr",
     "output_type": "stream",
     "text": [
      "[nltk_data] Downloading package punkt to /Users/andjelka/nltk_data...\n",
      "[nltk_data]   Package punkt is already up-to-date!\n"
     ]
    },
    {
     "data": {
      "text/plain": [
       "True"
      ]
     },
     "execution_count": 1,
     "metadata": {},
     "output_type": "execute_result"
    }
   ],
   "source": [
    "import nltk\n",
    "nltk.download('punkt')"
   ]
  },
  {
   "cell_type": "code",
   "execution_count": null,
   "metadata": {},
   "outputs": [],
   "source": []
  },
  {
   "cell_type": "markdown",
   "metadata": {},
   "source": [
    "U radu ćemo koristiti članke o tenisu dostupne u `tennis_articles.csv` datoteci. "
   ]
  },
  {
   "cell_type": "code",
   "execution_count": 2,
   "metadata": {},
   "outputs": [],
   "source": [
    "import pandas as pd"
   ]
  },
  {
   "cell_type": "code",
   "execution_count": 3,
   "metadata": {},
   "outputs": [],
   "source": [
    "data =  pd.read_csv('data/tennis_articles.csv')"
   ]
  },
  {
   "cell_type": "markdown",
   "metadata": {},
   "source": [
    "Svaki članak ima svoj identifikator, tekst i izvor."
   ]
  },
  {
   "cell_type": "code",
   "execution_count": 4,
   "metadata": {},
   "outputs": [
    {
     "data": {
      "text/plain": [
       "Index(['article_id', 'article_text', 'source'], dtype='object')"
      ]
     },
     "execution_count": 4,
     "metadata": {},
     "output_type": "execute_result"
    }
   ],
   "source": [
    " data.columns"
   ]
  },
  {
   "cell_type": "markdown",
   "metadata": {},
   "source": [
    "Npr. jedan od članaka u kolekciji je: "
   ]
  },
  {
   "cell_type": "code",
   "execution_count": 5,
   "metadata": {},
   "outputs": [
    {
     "data": {
      "text/plain": [
       "\"BASEL, Switzerland (AP), Roger Federer advanced to the 14th Swiss Indoors final of his career by beating seventh-seeded Daniil Medvedev 6-1, 6-4 on Saturday. Seeking a ninth title at his hometown event, and a 99th overall, Federer will play 93th-ranked Marius Copil on Sunday. Federer dominated the 20th-ranked Medvedev and had his first match-point chance to break serve again at 5-1. He then dropped his serve to love, and let another match point slip in Medvedev's next service game by netting a backhand. He clinched on his fourth chance when Medvedev netted from the baseline. Copil upset expectations of a Federer final against Alexander Zverev in a 6-3, 6-7 (6), 6-4 win over the fifth-ranked German in the earlier semifinal. The Romanian aims for a first title after arriving at Basel without a career win over a top-10 opponent. Copil has two after also beating No. 6 Marin Cilic in the second round. Copil fired 26 aces past Zverev and never dropped serve, clinching after 2 1/2 hours with a forehand volley winner to break Zverev for the second time in the semifinal. He came through two rounds of qualifying last weekend to reach the Basel main draw, including beating Zverev's older brother, Mischa. Federer had an easier time than in his only previous match against Medvedev, a three-setter at Shanghai two weeks ago.\""
      ]
     },
     "execution_count": 5,
     "metadata": {},
     "output_type": "execute_result"
    }
   ],
   "source": [
    "data['article_text'][1]"
   ]
  },
  {
   "cell_type": "markdown",
   "metadata": {},
   "source": [
    "i njega ćemo iskoristiti za dalje testiranje."
   ]
  },
  {
   "cell_type": "code",
   "execution_count": 6,
   "metadata": {},
   "outputs": [],
   "source": [
    "article = data['article_text'][1]"
   ]
  },
  {
   "cell_type": "markdown",
   "metadata": {},
   "source": [
    "Ukupan broj članaka kolekcije je: "
   ]
  },
  {
   "cell_type": "code",
   "execution_count": 7,
   "metadata": {},
   "outputs": [
    {
     "data": {
      "text/plain": [
       "8"
      ]
     },
     "execution_count": 7,
     "metadata": {},
     "output_type": "execute_result"
    }
   ],
   "source": [
    "data.shape[0]"
   ]
  },
  {
   "cell_type": "markdown",
   "metadata": {},
   "source": [
    "Koraci koje ćemo preduzeti za svaki članak prikazani su na slici. <img src='assets/summarization_pipeline.png' style='width:500px'> Mi ćemo raditi nad pojedinačnim člancima pa je potrebno preskočiti korak *combine*."
   ]
  },
  {
   "cell_type": "markdown",
   "metadata": {},
   "source": [
    "Pojedinačne tekstove ćemo razbiti na rečenice korišćenjem `nltk` paketa i njegove funkcije `sent_tokenize`. "
   ]
  },
  {
   "cell_type": "code",
   "execution_count": 8,
   "metadata": {},
   "outputs": [],
   "source": [
    "sentences = nltk.sent_tokenize(article)"
   ]
  },
  {
   "cell_type": "code",
   "execution_count": 9,
   "metadata": {},
   "outputs": [
    {
     "data": {
      "text/plain": [
       "['BASEL, Switzerland (AP), Roger Federer advanced to the 14th Swiss Indoors final of his career by beating seventh-seeded Daniil Medvedev 6-1, 6-4 on Saturday.',\n",
       " 'Seeking a ninth title at his hometown event, and a 99th overall, Federer will play 93th-ranked Marius Copil on Sunday.',\n",
       " 'Federer dominated the 20th-ranked Medvedev and had his first match-point chance to break serve again at 5-1.',\n",
       " \"He then dropped his serve to love, and let another match point slip in Medvedev's next service game by netting a backhand.\",\n",
       " 'He clinched on his fourth chance when Medvedev netted from the baseline.',\n",
       " 'Copil upset expectations of a Federer final against Alexander Zverev in a 6-3, 6-7 (6), 6-4 win over the fifth-ranked German in the earlier semifinal.',\n",
       " 'The Romanian aims for a first title after arriving at Basel without a career win over a top-10 opponent.',\n",
       " 'Copil has two after also beating No.',\n",
       " '6 Marin Cilic in the second round.',\n",
       " 'Copil fired 26 aces past Zverev and never dropped serve, clinching after 2 1/2 hours with a forehand volley winner to break Zverev for the second time in the semifinal.',\n",
       " \"He came through two rounds of qualifying last weekend to reach the Basel main draw, including beating Zverev's older brother, Mischa.\",\n",
       " 'Federer had an easier time than in his only previous match against Medvedev, a three-setter at Shanghai two weeks ago.']"
      ]
     },
     "execution_count": 9,
     "metadata": {},
     "output_type": "execute_result"
    }
   ],
   "source": [
    "sentences"
   ]
  },
  {
   "cell_type": "markdown",
   "metadata": {},
   "source": [
    "Dalje ćemo na nivou rečenica izdvojiti pojedinačne reči. Prilikom izdvajanja reči eliminisaćemo interpunkciju i takozvane stop reči koje se jako često pojavljuju i koje ne doprinose svojim značenjem (npr. reči poput članova ili predloga)."
   ]
  },
  {
   "cell_type": "markdown",
   "metadata": {},
   "source": [
    "Za izdvajanje reči koristićemo funkciju `word_tokenize`. Ova funkcija očekuje segment teksta, a kao rezultat vraća listu reči."
   ]
  },
  {
   "cell_type": "code",
   "execution_count": 10,
   "metadata": {},
   "outputs": [],
   "source": [
    "tokens = nltk.word_tokenize(\"Federer had an easier time than in his only previous match against Medvedev, a three-setter at Shanghai two weeks ago.\")"
   ]
  },
  {
   "cell_type": "code",
   "execution_count": 11,
   "metadata": {},
   "outputs": [
    {
     "data": {
      "text/plain": [
       "['Federer',\n",
       " 'had',\n",
       " 'an',\n",
       " 'easier',\n",
       " 'time',\n",
       " 'than',\n",
       " 'in',\n",
       " 'his',\n",
       " 'only',\n",
       " 'previous',\n",
       " 'match',\n",
       " 'against',\n",
       " 'Medvedev',\n",
       " ',',\n",
       " 'a',\n",
       " 'three-setter',\n",
       " 'at',\n",
       " 'Shanghai',\n",
       " 'two',\n",
       " 'weeks',\n",
       " 'ago',\n",
       " '.']"
      ]
     },
     "execution_count": 11,
     "metadata": {},
     "output_type": "execute_result"
    }
   ],
   "source": [
    "tokens"
   ]
  },
  {
   "cell_type": "markdown",
   "metadata": {},
   "source": [
    "Stop reči možemo pročitati iz paketa `stopwords` za svaki od jezika koji podržava biblioteka `nltk`."
   ]
  },
  {
   "cell_type": "code",
   "execution_count": 12,
   "metadata": {},
   "outputs": [
    {
     "name": "stderr",
     "output_type": "stream",
     "text": [
      "[nltk_data] Downloading package stopwords to\n",
      "[nltk_data]     /Users/andjelka/nltk_data...\n",
      "[nltk_data]   Package stopwords is already up-to-date!\n"
     ]
    }
   ],
   "source": [
    "nltk.download('stopwords')\n",
    "from nltk.corpus import stopwords"
   ]
  },
  {
   "cell_type": "code",
   "execution_count": 13,
   "metadata": {},
   "outputs": [],
   "source": [
    "english_stopwords = stopwords.words('english')"
   ]
  },
  {
   "cell_type": "markdown",
   "metadata": {},
   "source": [
    "Na primer, neke od reči koje se smatraju stop rečima su:"
   ]
  },
  {
   "cell_type": "code",
   "execution_count": 14,
   "metadata": {},
   "outputs": [
    {
     "data": {
      "text/plain": [
       "['i',\n",
       " 'me',\n",
       " 'my',\n",
       " 'myself',\n",
       " 'we',\n",
       " 'our',\n",
       " 'ours',\n",
       " 'ourselves',\n",
       " 'you',\n",
       " \"you're\",\n",
       " \"you've\",\n",
       " \"you'll\",\n",
       " \"you'd\",\n",
       " 'your',\n",
       " 'yours',\n",
       " 'yourself',\n",
       " 'yourselves',\n",
       " 'he',\n",
       " 'him',\n",
       " 'his']"
      ]
     },
     "execution_count": 14,
     "metadata": {},
     "output_type": "execute_result"
    }
   ],
   "source": [
    "english_stopwords[0:20]"
   ]
  },
  {
   "cell_type": "markdown",
   "metadata": {},
   "source": [
    "Interpunkcijske karaktere ćemo očitati iz `string` paketa."
   ]
  },
  {
   "cell_type": "code",
   "execution_count": 15,
   "metadata": {},
   "outputs": [],
   "source": [
    "import string"
   ]
  },
  {
   "cell_type": "code",
   "execution_count": 16,
   "metadata": {},
   "outputs": [],
   "source": [
    "punctuation = string.punctuation"
   ]
  },
  {
   "cell_type": "code",
   "execution_count": 17,
   "metadata": {},
   "outputs": [
    {
     "data": {
      "text/plain": [
       "'!\"#$%&\\'()*+,-./:;<=>?@[\\\\]^_`{|}~'"
      ]
     },
     "execution_count": 17,
     "metadata": {},
     "output_type": "execute_result"
    }
   ],
   "source": [
    "punctuation"
   ]
  },
  {
   "cell_type": "code",
   "execution_count": null,
   "metadata": {},
   "outputs": [],
   "source": []
  },
  {
   "cell_type": "markdown",
   "metadata": {},
   "source": [
    "Na gore opisane načine, sada ćemo pripremiti izdvojene rečenice."
   ]
  },
  {
   "cell_type": "code",
   "execution_count": 18,
   "metadata": {},
   "outputs": [],
   "source": [
    "clean_sentences = []\n",
    "\n",
    "for sentence in sentences:\n",
    "\n",
    "    # 1) izdvajamo pojedinačne reci u recenici\n",
    "    tokens = nltk.word_tokenize(sentence)\n",
    "\n",
    "    # 2) normalizujemo reci - u nasem slucaju ce to biti svodjenje na zapis malim slovima\n",
    "    normalized_tokens = [token.lower() for token in tokens]\n",
    "\n",
    "    # 3) zadrzavamo samo one reci koje nisu u skupu stop reci i koji ne predstavljaju interpunkciju\n",
    "    clean_tokens = [\n",
    "        token for token in normalized_tokens\n",
    "        if token not in english_stopwords and token not in punctuation\n",
    "    ]\n",
    "\n",
    "    # 4) spajamo reci u recenicu\n",
    "    clean_sentence = \" \".join(clean_tokens)\n",
    "\n",
    "    # 5) recenicu dodajemo skupu pripremljenih recenica\n",
    "    if len(clean_sentence) != 0:\n",
    "        clean_sentences.append(clean_sentence)"
   ]
  },
  {
   "cell_type": "code",
   "execution_count": 19,
   "metadata": {},
   "outputs": [
    {
     "data": {
      "text/plain": [
       "['basel switzerland ap roger federer advanced 14th swiss indoors final career beating seventh-seeded daniil medvedev 6-1 6-4 saturday',\n",
       " 'seeking ninth title hometown event 99th overall federer play 93th-ranked marius copil sunday',\n",
       " 'federer dominated 20th-ranked medvedev first match-point chance break serve 5-1',\n",
       " \"dropped serve love let another match point slip medvedev 's next service game netting backhand\",\n",
       " 'clinched fourth chance medvedev netted baseline',\n",
       " 'copil upset expectations federer final alexander zverev 6-3 6-7 6 6-4 win fifth-ranked german earlier semifinal',\n",
       " 'romanian aims first title arriving basel without career win top-10 opponent',\n",
       " 'copil two also beating',\n",
       " '6 marin cilic second round',\n",
       " 'copil fired 26 aces past zverev never dropped serve clinching 2 1/2 hours forehand volley winner break zverev second time semifinal',\n",
       " \"came two rounds qualifying last weekend reach basel main draw including beating zverev 's older brother mischa\",\n",
       " 'federer easier time previous match medvedev three-setter shanghai two weeks ago']"
      ]
     },
     "execution_count": 19,
     "metadata": {},
     "output_type": "execute_result"
    }
   ],
   "source": [
    "clean_sentences"
   ]
  },
  {
   "cell_type": "code",
   "execution_count": null,
   "metadata": {},
   "outputs": [],
   "source": []
  },
  {
   "cell_type": "markdown",
   "metadata": {},
   "source": [
    "Da bismo dobili vektorsku reprezentaciju teksta, iskoristićemo GloVe pritrenirane distribuirane reprezentacije reči. Alternativa su mogli biti i n-gramski profili rečenica ili njihove Tf-Idf reprezentacije, ali se u praksi dobijaju bolji rezultati ukoliko se iskoriste ovakve reprezentacije. Ceo paket sa reprezentacijama reči različitih dužina (50, 100, 200 i 300) ukupne veličine 822MB se može preuzeti sa [zvanične adrese](https://nlp.stanford.edu/projects/glove/). Mi ćemo u radu koristiti reprezentacije dužine 100 koje se nalaze u datoteci `glove.6B.100d.txt` (347.1MB) koja se može preuzeti pojedinačno npr. sa [ove](https://www.kaggle.com/terenceliu4444/glove6b100dtxt) adrese. "
   ]
  },
  {
   "cell_type": "markdown",
   "metadata": {},
   "source": [
    "Prvo ćemo pročitati iz preuzete datoteke sve podržane reči i njihove vektorske reprezentacije. U pojedinačnim redovima datoteke se prvo nalazi reči, a potom 100 realnih vrednosti koje predstavljaju njenu vektorsku reprezentaciju. "
   ]
  },
  {
   "cell_type": "code",
   "execution_count": 20,
   "metadata": {},
   "outputs": [],
   "source": [
    "import numpy as np"
   ]
  },
  {
   "cell_type": "code",
   "execution_count": 21,
   "metadata": {},
   "outputs": [],
   "source": [
    "embedding_size = 100"
   ]
  },
  {
   "cell_type": "code",
   "execution_count": 22,
   "metadata": {},
   "outputs": [],
   "source": [
    "word_embeddings = {}\n",
    "with open('data/glove.6B.100d.txt', encoding='utf-8') as f:\n",
    "    for line in f:\n",
    "        values = line.split()\n",
    "        word = values[0]\n",
    "        coefs = np.asarray(values[1:], dtype='float32')\n",
    "        word_embeddings[word] = coefs"
   ]
  },
  {
   "cell_type": "markdown",
   "metadata": {},
   "source": [
    "Broj reči koji je podržan ovim reprezentacijama je:"
   ]
  },
  {
   "cell_type": "code",
   "execution_count": 23,
   "metadata": {},
   "outputs": [
    {
     "data": {
      "text/plain": [
       "400000"
      ]
     },
     "execution_count": 23,
     "metadata": {},
     "output_type": "execute_result"
    }
   ],
   "source": [
    "len(word_embeddings)"
   ]
  },
  {
   "cell_type": "code",
   "execution_count": null,
   "metadata": {},
   "outputs": [],
   "source": []
  },
  {
   "cell_type": "markdown",
   "metadata": {},
   "source": [
    "Na primer, vektorska reprezentacija reči *tennis* se može dobiti pomoću funkcije `get`:"
   ]
  },
  {
   "cell_type": "code",
   "execution_count": 24,
   "metadata": {},
   "outputs": [
    {
     "data": {
      "text/plain": [
       "array([ 0.21508  ,  0.61981  ,  0.84039  ,  0.71394  , -0.29904  ,\n",
       "        0.56481  ,  0.18241  ,  0.76767  , -0.75897  , -0.056711 ,\n",
       "        0.43726  , -0.39217  , -0.14874  ,  0.19475  , -0.69581  ,\n",
       "        0.58388  ,  0.20625  ,  0.36635  , -0.36793  ,  0.68765  ,\n",
       "       -0.5191   ,  0.92246  ,  0.6831   ,  0.92039  ,  0.31221  ,\n",
       "        0.10465  ,  0.253    , -1.9131   ,  0.67281  ,  0.38894  ,\n",
       "       -0.88199  ,  0.22536  ,  0.027648 , -0.55574  ,  0.43641  ,\n",
       "       -0.18579  , -1.3131   ,  1.1555   , -1.2937   , -0.46866  ,\n",
       "        0.16292  , -0.28636  ,  0.25793  , -1.3538   ,  0.28808  ,\n",
       "       -0.040711 ,  0.027864 ,  0.21767  ,  0.8588   , -0.98463  ,\n",
       "       -0.73366  , -0.6457   ,  0.61292  ,  0.23316  ,  0.42164  ,\n",
       "       -1.8037   , -0.0055624,  1.0998   ,  0.9493   ,  1.0987   ,\n",
       "       -0.52362  ,  0.49657  , -0.23824  ,  0.52824  , -0.54642  ,\n",
       "       -0.48527  , -0.42944  ,  0.25497  , -0.16199  ,  0.018633 ,\n",
       "        0.12416  , -0.13436  , -0.082436 , -0.042168 , -0.13114  ,\n",
       "        0.14133  ,  1.6365   ,  0.091678 ,  0.23484  ,  0.20629  ,\n",
       "        1.137    , -0.62595  ,  0.35945  , -0.048956 , -0.28317  ,\n",
       "       -0.28228  , -1.2076   ,  0.36512  ,  0.017695 ,  0.14114  ,\n",
       "        0.21793  ,  0.15681  ,  0.45838  ,  0.31855  ,  0.86749  ,\n",
       "       -0.060955 , -0.65542  , -0.29795  ,  0.79818  ,  1.1527   ],\n",
       "      dtype=float32)"
      ]
     },
     "execution_count": 24,
     "metadata": {},
     "output_type": "execute_result"
    }
   ],
   "source": [
    "word_embeddings.get('tennis')"
   ]
  },
  {
   "cell_type": "markdown",
   "metadata": {},
   "source": [
    "Ukoliko se reč ne nalazi u podržanoj listi reči, kao drugi argument funkcije `get` se može navesti podrazumevana reprezentacija. U našem slučaju to će biti vektor nula dužine 100. Za reči koje se ne nalaze u podržanoj listi reči kažemo da su reči izvan vokabulara (engl. out of vocabulary words)."
   ]
  },
  {
   "cell_type": "code",
   "execution_count": 25,
   "metadata": {},
   "outputs": [],
   "source": [
    "oov_word = np.zeros((embedding_size,))"
   ]
  },
  {
   "cell_type": "markdown",
   "metadata": {},
   "source": [
    "Vektorsku reprezentaciju rečenice dobićemo uprosečavanjem vektorskih reprezentacija njenih reči. Ovako dobijene vektore ćemo sačuvati u matrici čija je dimenzija `broj rečenica x dužina ugnježdene reprezentacije`. Reprezentacije pojedinačnih rečenica će biti smeštene kao vrste matrice."
   ]
  },
  {
   "cell_type": "code",
   "execution_count": 26,
   "metadata": {},
   "outputs": [],
   "source": [
    "sentence_vectors = np.zeros((len(clean_sentences), embedding_size))\n",
    "for i, sentence in enumerate(clean_sentences):\n",
    "    v = sum(\n",
    "        [word_embeddings.get(word, oov_word)\n",
    "         for word in sentence.split()]) / (len(sentence.split()) + 0.001)\n",
    "    \n",
    "    sentence_vectors[i, :] = v"
   ]
  },
  {
   "cell_type": "code",
   "execution_count": 27,
   "metadata": {},
   "outputs": [
    {
     "data": {
      "text/plain": [
       "(12, 100)"
      ]
     },
     "execution_count": 27,
     "metadata": {},
     "output_type": "execute_result"
    }
   ],
   "source": [
    "sentence_vectors.shape"
   ]
  },
  {
   "cell_type": "code",
   "execution_count": null,
   "metadata": {},
   "outputs": [],
   "source": []
  },
  {
   "cell_type": "markdown",
   "metadata": {},
   "source": [
    "#### Kreiranje grafa"
   ]
  },
  {
   "cell_type": "markdown",
   "metadata": {},
   "source": [
    "Dalje je potrebno pripremiti matricu grafa čiji elementi predstavljaju meru sličnosti između rečenica. Za računanje sličnosti između rečenica koristićemo kosinusnu sličnost. "
   ]
  },
  {
   "cell_type": "code",
   "execution_count": 28,
   "metadata": {},
   "outputs": [],
   "source": [
    "from sklearn.metrics.pairwise import cosine_similarity"
   ]
  },
  {
   "cell_type": "code",
   "execution_count": 29,
   "metadata": {},
   "outputs": [],
   "source": [
    "similarity_matrix = cosine_similarity(sentence_vectors)"
   ]
  },
  {
   "cell_type": "code",
   "execution_count": null,
   "metadata": {},
   "outputs": [],
   "source": []
  },
  {
   "cell_type": "markdown",
   "metadata": {},
   "source": [
    "Za rangiranje rečenica u sažetku iskoristićemo bibliotečku `pagerank` funkciju. "
   ]
  },
  {
   "cell_type": "code",
   "execution_count": 30,
   "metadata": {},
   "outputs": [],
   "source": [
    "import networkx as nx"
   ]
  },
  {
   "cell_type": "code",
   "execution_count": 31,
   "metadata": {},
   "outputs": [],
   "source": [
    "graph = nx.from_numpy_array(similarity_matrix, create_using=nx.Graph)\n",
    "scores = nx.pagerank(graph, max_iter=1000)"
   ]
  },
  {
   "cell_type": "markdown",
   "metadata": {},
   "source": [
    "Dobijeni skorovi rečenica su: "
   ]
  },
  {
   "cell_type": "code",
   "execution_count": 32,
   "metadata": {},
   "outputs": [
    {
     "data": {
      "text/plain": [
       "{0: 0.08240804406547644,\n",
       " 1: 0.08472309859484514,\n",
       " 2: 0.08637699645126401,\n",
       " 3: 0.0837634012841951,\n",
       " 4: 0.0812589299878768,\n",
       " 5: 0.08113820392276073,\n",
       " 6: 0.08414707168824694,\n",
       " 7: 0.0808923391734895,\n",
       " 8: 0.07893805099495363,\n",
       " 9: 0.08602334463420958,\n",
       " 10: 0.08503104341624794,\n",
       " 11: 0.08529947578643422}"
      ]
     },
     "execution_count": 32,
     "metadata": {},
     "output_type": "execute_result"
    }
   ],
   "source": [
    "scores"
   ]
  },
  {
   "cell_type": "code",
   "execution_count": null,
   "metadata": {},
   "outputs": [],
   "source": []
  },
  {
   "cell_type": "markdown",
   "metadata": {},
   "source": [
    "Ostalo je još sortirati rečenice spram dobijenog porekta i izdvojiti nekoliko njih, na primer 2. "
   ]
  },
  {
   "cell_type": "code",
   "execution_count": 33,
   "metadata": {},
   "outputs": [],
   "source": [
    "ranked_sentences = sorted(((scores[i], s) for i, s in enumerate(sentences)), reverse=True)"
   ]
  },
  {
   "cell_type": "code",
   "execution_count": 34,
   "metadata": {},
   "outputs": [
    {
     "name": "stdout",
     "output_type": "stream",
     "text": [
      "Federer dominated the 20th-ranked Medvedev and had his first match-point chance to break serve again at 5-1.\n",
      "Copil fired 26 aces past Zverev and never dropped serve, clinching after 2 1/2 hours with a forehand volley winner to break Zverev for the second time in the semifinal.\n"
     ]
    }
   ],
   "source": [
    "summary_length = 2\n",
    "for i in range(summary_length):\n",
    "    print(ranked_sentences[i][1])"
   ]
  },
  {
   "cell_type": "code",
   "execution_count": null,
   "metadata": {},
   "outputs": [],
   "source": []
  },
  {
   "cell_type": "markdown",
   "metadata": {},
   "source": [
    "O originalnoj verziji LexRank-a možete pročitati više na [ovoj adresi](https://arxiv.org/pdf/1109.2128.pdf), a sličnu implementaciju sa imenom TextRank možete koristiti u okviru [Gensim biblioteke](https://radimrehurek.com/gensim/summarization/summariser.html). Nju je potrebno instalirati komandom `conda install -c anaconda gensim` u skladu sa [zvaničnim smernicama](https://anaconda.org/anaconda/gensim). Ovde je koristimo sa idejom da uporedimo rezultate jer ova biblioteka koristi Tf-IDf reprezentaciju teksta. "
   ]
  },
  {
   "cell_type": "code",
   "execution_count": null,
   "metadata": {},
   "outputs": [],
   "source": [
    "from gensim.summarization.summarizer import summarize"
   ]
  },
  {
   "cell_type": "code",
   "execution_count": null,
   "metadata": {},
   "outputs": [],
   "source": [
    "print(summarize(article))"
   ]
  },
  {
   "cell_type": "code",
   "execution_count": null,
   "metadata": {},
   "outputs": [],
   "source": []
  },
  {
   "cell_type": "markdown",
   "metadata": {},
   "source": [
    "<div class=\"alert alert-info\">\n",
    "Zadatak za vežbu: \n",
    "<br>\n",
    "Uporediti ponašanje sumarizatora ukoliko se umesto distribuiranih reprezentacija iskoriste Tf-Idf reprezentacije. Linije u dodatku mogu biti od pomoći. \n",
    "<br>\n",
    "Podsetimo se da TfIdf reprezentacije uzimaju u obzir frekvencije pojavljivanja reči na nivou pojedinačnih rečenica (tf) otežane frekvencijama pojavljivanja na nivou svih rečenica (idf). Dužina ovakvih reprezentacija odgovara veličini vokabulara.   \n",
    "</div>"
   ]
  },
  {
   "cell_type": "code",
   "execution_count": null,
   "metadata": {},
   "outputs": [],
   "source": [
    "from sklearn.feature_extraction.text import TfidfVectorizer"
   ]
  },
  {
   "cell_type": "code",
   "execution_count": null,
   "metadata": {},
   "outputs": [],
   "source": [
    "vectorizer = TfidfVectorizer()"
   ]
  },
  {
   "cell_type": "code",
   "execution_count": null,
   "metadata": {},
   "outputs": [],
   "source": [
    "vectorizer.fit(clean_sentences)"
   ]
  },
  {
   "cell_type": "code",
   "execution_count": null,
   "metadata": {},
   "outputs": [],
   "source": [
    "# vectorizer.get_feature_names()"
   ]
  },
  {
   "cell_type": "code",
   "execution_count": null,
   "metadata": {},
   "outputs": [],
   "source": [
    "tfidf_vectors = vectorizer.transform(clean_sentences)"
   ]
  },
  {
   "cell_type": "code",
   "execution_count": null,
   "metadata": {},
   "outputs": [],
   "source": [
    "N = len(sentences)\n",
    "similarity_tfidf_matrix = np.zeros((N, N))\n",
    "for i in range (0, N):\n",
    "    for j in range (0, N):\n",
    "        similarity_tfidf_matrix[i][j]= cosine_similarity(tfidf_vectors[i].reshape(1, -1), tfidf_vectors[j].reshape(1, -1))[0,0]"
   ]
  },
  {
   "cell_type": "code",
   "execution_count": null,
   "metadata": {},
   "outputs": [],
   "source": []
  }
 ],
 "metadata": {
  "kernelspec": {
   "display_name": "Python 3",
   "language": "python",
   "name": "python3"
  },
  "language_info": {
   "codemirror_mode": {
    "name": "ipython",
    "version": 3
   },
   "file_extension": ".py",
   "mimetype": "text/x-python",
   "name": "python",
   "nbconvert_exporter": "python",
   "pygments_lexer": "ipython3",
   "version": "3.7.6"
  }
 },
 "nbformat": 4,
 "nbformat_minor": 4
}
