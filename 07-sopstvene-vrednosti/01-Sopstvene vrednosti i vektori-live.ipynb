{
 "cells": [
  {
   "cell_type": "markdown",
   "metadata": {},
   "source": [
    "# Sopstvene vrednosti i sopstveni vektori matrice"
   ]
  },
  {
   "cell_type": "markdown",
   "metadata": {},
   "source": [
    "Kvadratna matrica $A$ ima sopstveni vektor $x$ i sopstvenu vrednost $\\lambda$, ukoliko važi $Ax = \\lambda x$, $x \\ne 0$. Poznato je da različitim sopstvenim vrednostima odgovaraju linearno nezavisni sopstveni vektori, kao i da su sopstvene vrednosti jednake nulama karakterističnog polinoma $\\det(A − \\lambda I)$."
   ]
  },
  {
   "cell_type": "markdown",
   "metadata": {},
   "source": [
    "Geometrijski interpretirano, sopstveni vektori su vektori koji u transformaciji indukovanoj maticom A ne menjaju svoj pravac. Smer i dužina vektora se mogu promeniti i tu promenu reflektuje sopstvena vrednost. Na slici, na primer, plavi i ljubičasti vektori odgovaraju pravcima sopstvenih vektora."
   ]
  },
  {
   "cell_type": "markdown",
   "metadata": {},
   "source": [
    "<img src='assets/eigenvectors.gif'>"
   ]
  },
  {
   "cell_type": "code",
   "execution_count": 1,
   "metadata": {},
   "outputs": [],
   "source": [
    "import numpy as np\n",
    "from matplotlib import pyplot as plt"
   ]
  },
  {
   "cell_type": "code",
   "execution_count": 2,
   "metadata": {},
   "outputs": [],
   "source": [
    "np.random.seed(10)"
   ]
  },
  {
   "cell_type": "code",
   "execution_count": null,
   "metadata": {},
   "outputs": [],
   "source": []
  },
  {
   "cell_type": "markdown",
   "metadata": {},
   "source": [
    "Podsetimo se da funkcija `eig` paketa `numpy.linalg` vraća niz sopstvenih vrednosti i matricu sopstvenih vektora. Sopstveni vektori su u matrici predstavljeni kolonama pri čemu je $i$-ta kolona u matrici sopstveni vektor koji odgovara $i$-toj sopstvenoj vrednosti u nizu."
   ]
  },
  {
   "cell_type": "code",
   "execution_count": 3,
   "metadata": {},
   "outputs": [],
   "source": [
    "A = np.array ([[-4, 14, 0], [-5, 13, 0], [-1, 0, 2]])"
   ]
  },
  {
   "cell_type": "code",
   "execution_count": null,
   "metadata": {},
   "outputs": [],
   "source": []
  },
  {
   "cell_type": "code",
   "execution_count": null,
   "metadata": {},
   "outputs": [],
   "source": []
  },
  {
   "cell_type": "code",
   "execution_count": null,
   "metadata": {},
   "outputs": [],
   "source": []
  },
  {
   "cell_type": "code",
   "execution_count": null,
   "metadata": {},
   "outputs": [],
   "source": []
  },
  {
   "cell_type": "code",
   "execution_count": null,
   "metadata": {},
   "outputs": [],
   "source": []
  },
  {
   "cell_type": "code",
   "execution_count": null,
   "metadata": {},
   "outputs": [],
   "source": []
  },
  {
   "cell_type": "markdown",
   "metadata": {},
   "source": [
    "Nadalje će biti prikazani neki algoritmi koji se mogu iskoristit za određivanje sopstvenih vektora i vrednosti zadate matrice."
   ]
  },
  {
   "cell_type": "markdown",
   "metadata": {},
   "source": [
    "### Metoda stepenovanja"
   ]
  },
  {
   "cell_type": "markdown",
   "metadata": {},
   "source": [
    "Pretpostavimo da sopstvenim vrednostima matrice $A$ za koje važi $|\\lambda_1|>|\\lambda_2|\\ge \\dots \\ge|\\lambda_n|$ odgovaraju sopstveni vektori $x_1, x_2, \\dots, x_n$. Neka je $b_{0}$ proizvoljno generisan vektor čiji je vodeći element (pravac koji odgovara najvećoj sopstvenoj vrednosti) različit od 0  i neka je $b_{k}$ niz vektora generisanih sa $$b_{k+1}=\\frac {Ab_{k}}{||Ab_{k}||}$$. Vektori $b_{k}$ kroz iteracije čine niz koji konvergira ka $x_1$, odnosno sopstvenom vektoru koji odgovara sopstvenoj vrednosti čija je apsolutna vrednost najveća. Opisani algoritam se naziva `metoda stepenovanja` i pomoću njega se može pronaći najveća po apsolutnoj vrednosti sopstvena vrednost (takozvana `dominantna sopstvena vrednost`) i njoj odgovarajući sopstveni vektor. Za nalaženje sopstvene vrednosti $\\lambda_1$, ako je poznat vektor $x_1$, dovoljno je primetiti da iz $Ax_1 = \\lambda_1x_1$ sledi $x_1^TAx_1 = x_1^T\\lambda_1x_1$, odakle je $$\\lambda_1 = \\frac{x_1^TAx_1}{x_1^Tx_1}.$$ "
   ]
  },
  {
   "cell_type": "code",
   "execution_count": 4,
   "metadata": {},
   "outputs": [],
   "source": [
    "def power_method(A, number_of_iterations=50):\n",
    "    pass"
   ]
  },
  {
   "cell_type": "code",
   "execution_count": null,
   "metadata": {},
   "outputs": [],
   "source": []
  },
  {
   "cell_type": "code",
   "execution_count": null,
   "metadata": {},
   "outputs": [],
   "source": []
  },
  {
   "cell_type": "markdown",
   "metadata": {},
   "source": [
    "Zaustavni kriterijum metode stepenovanja se može i preciznije definisati. Mogu se posmatrati izračunate sopstvene vrednosti u dvema uzastopnim iteracijama $\\lambda_{iteracija\\ i}$ i $\\lambda_{iteracija\\ i+1}$ i njihova apsolutna razlika $|\\lambda_{iteracija\\ i+1} - \\lambda_{iteracija\\ i}|$. Ukoliko je razlika manja od neke unapred zadate tačnosti algoritam se može zaustaviti. \n",
    "\n",
    "Kao zaustavni kriterijum može se uzeti i vrednost relativne greške $\\frac{|\\lambda_{iteracija\\ i} - \\lambda_{iteracija \\ i+1|}}{|\\lambda_{iteracija\\ i+1}|}$."
   ]
  },
  {
   "cell_type": "code",
   "execution_count": null,
   "metadata": {},
   "outputs": [],
   "source": []
  },
  {
   "cell_type": "markdown",
   "metadata": {},
   "source": [
    "Možemo prikazati i grafički kako se menja vrednost ovako izračunate sopstvene vrednosti sa brojem iteracija. Primetna je i konvergencija metoda."
   ]
  },
  {
   "cell_type": "code",
   "execution_count": null,
   "metadata": {},
   "outputs": [],
   "source": []
  },
  {
   "cell_type": "code",
   "execution_count": null,
   "metadata": {},
   "outputs": [],
   "source": []
  },
  {
   "cell_type": "markdown",
   "metadata": {},
   "source": [
    "### Metoda iscrpljivanja"
   ]
  },
  {
   "cell_type": "markdown",
   "metadata": {},
   "source": [
    "Metoda iscrpljivanja nam pomaže da izračunamo i preostale sopstvene vrednosti. "
   ]
  },
  {
   "cell_type": "markdown",
   "metadata": {},
   "source": [
    "Pretpostavimo da sopstvenim vrednostima matrice $A$ za koje važi $|\\lambda_1|>|\\lambda_2|>\\dots>|\\lambda_n|$ odgovaraju sopstveni vektori $x_1, x_2, \\dots, x_n$. Neka je $A_1 = A$ i $$A_{i+1} = A_i - \\lambda_ix_iy_i^T$$  niz matrica u kojima vektori $y_i$ imaju svojstvo $y_i^Tx_i = 1$. Može se proveriti da matrica $A_2$ ima svojstvo da je njena dominantna sopstvena vrednost $\\lambda_2$, matrica $A_3$ ima svojstvo da je njena dominantna sopstvena vrednost $\\lambda_3$ pa se prateći ovaj postupak mogu generisati sve sopstvene vrednosti i svi sopstveni vektori polazne matrice. Opisani metod se naziva `metod iscrpljivanja`.\n",
    "\n",
    "Ostaje još da prodiskutujemo kako se mogu konstruisati vektori $y_i$ i kako se mogu dobiti sopstveni vektori koji odgovaraju izdvojenim sopstvenim vrednostima. \n",
    "\n",
    "Neka je $x_p$ vrednost elementa tekućeg sopstvenog vektora $x_i$ koji je različit od nule. Neka se on nalazi na poziciji $p$. Za vektor $y_i$ možemo odabrati vektor $\\frac{1}{\\lambda_i x_p}a_p^T$ gde je $a_p$ p-ti red tekuće matrice $A_i$. Ovo je takozvano Veilandtovo iscrpljivanje (engl. Weilandt deflation) i može se koristiti za nalaženje nekoliko sopstvenih vrednosti. Zbog numeričke nestabilnosti za nalaženje većeg broja sopstvenih vrednosti koriste se druge tehnike. "
   ]
  },
  {
   "cell_type": "markdown",
   "metadata": {},
   "source": [
    "Ako sa $(\\lambda_1, x_1)$ obeležimo dominantnu sopstvenu vrednost i dominantni sopstveni vektor matrice $A_1$, za maticu $A_2$ važi da je jedan par sopstvenih vrednosti $(0, x_1)$ a da su drugi oblika $(\\lambda_i, z_i)$ sa sopstvenim vrednostima istovetnim matrici $A_1$ i nešto drugačijim sopstvenim vektorima. Za izračunavanje sopstvenog vektora $x_2$ polazne matrice se može iskoristiti identitet $x_2 = (\\lambda_2 - \\lambda_1) z_2 + \\lambda_1(y^T z_2)x_1$. Ova veza se može dalje primeniti i na parove matrica $A_2$ i $A_3$, $A_3$ i $A_4$, ... "
   ]
  },
  {
   "cell_type": "code",
   "execution_count": 5,
   "metadata": {},
   "outputs": [],
   "source": [
    "def deflation_method(A, number_of_values, epsilon = 10**-3, number_of_iterations=50):\n",
    "    pass"
   ]
  },
  {
   "cell_type": "code",
   "execution_count": null,
   "metadata": {},
   "outputs": [],
   "source": []
  }
 ],
 "metadata": {
  "kernelspec": {
   "display_name": "Python 3",
   "language": "python",
   "name": "python3"
  },
  "language_info": {
   "codemirror_mode": {
    "name": "ipython",
    "version": 3
   },
   "file_extension": ".py",
   "mimetype": "text/x-python",
   "name": "python",
   "nbconvert_exporter": "python",
   "pygments_lexer": "ipython3",
   "version": "3.7.6"
  }
 },
 "nbformat": 4,
 "nbformat_minor": 2
}
