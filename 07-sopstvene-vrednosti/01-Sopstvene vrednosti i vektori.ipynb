{
 "cells": [
  {
   "cell_type": "markdown",
   "metadata": {},
   "source": [
    "# Sopstvene vrednosti i sopstveni vektori matrice"
   ]
  },
  {
   "cell_type": "markdown",
   "metadata": {},
   "source": [
    "Kvadratna matrica $A$ ima sopstveni vektor $x$ i sopstvenu vrednost $\\lambda$, ukoliko važi $Ax = \\lambda x$, $x \\ne 0$. Poznato je da različitim sopstvenim vrednostima odgovaraju linearno nezavisni sopstveni vektori, kao i da su sopstvene vrednosti jednake nulama karakterističnog polinoma $\\det(A − \\lambda I)$."
   ]
  },
  {
   "cell_type": "markdown",
   "metadata": {},
   "source": [
    "Geometrijski interpretirano, sopstveni vektori su vektori koji u transformaciji indukovanoj maticom A ne menjaju svoj pravac. Smer i dužina vektora se mogu promeniti i tu promenu reflektuje sopstvena vrednost. Na slici, na primer, plavi i ljubičasti vektori odgovaraju pravcima sopstvenih vektora."
   ]
  },
  {
   "cell_type": "markdown",
   "metadata": {},
   "source": [
    "<img src='assets/eigenvectors.gif'>"
   ]
  },
  {
   "cell_type": "code",
   "execution_count": 1,
   "metadata": {},
   "outputs": [],
   "source": [
    "import numpy as np\n",
    "from matplotlib import pyplot as plt"
   ]
  },
  {
   "cell_type": "code",
   "execution_count": 2,
   "metadata": {},
   "outputs": [],
   "source": [
    "np.random.seed(10)"
   ]
  },
  {
   "cell_type": "code",
   "execution_count": null,
   "metadata": {},
   "outputs": [],
   "source": []
  },
  {
   "cell_type": "markdown",
   "metadata": {},
   "source": [
    "Podsetimo se da funkcija `eig` paketa `numpy.linalg` vraća niz sopstvenih vrednosti i matricu sopstvenih vektora. Sopstveni vektori su u matrici predstavljeni kolonama pri čemu je $i$-ta kolona u matrici sopstveni vektor koji odgovara $i$-toj sopstvenoj vrednosti u nizu."
   ]
  },
  {
   "cell_type": "code",
   "execution_count": 3,
   "metadata": {},
   "outputs": [],
   "source": [
    "A = np.array ([[-4, 14, 0], [-5, 13, 0], [-1, 0, 2]])"
   ]
  },
  {
   "cell_type": "code",
   "execution_count": 4,
   "metadata": {},
   "outputs": [
    {
     "data": {
      "text/plain": [
       "array([[-4, 14,  0],\n",
       "       [-5, 13,  0],\n",
       "       [-1,  0,  2]])"
      ]
     },
     "execution_count": 4,
     "metadata": {},
     "output_type": "execute_result"
    }
   ],
   "source": [
    "A"
   ]
  },
  {
   "cell_type": "code",
   "execution_count": 5,
   "metadata": {},
   "outputs": [],
   "source": [
    "values, vectors = np.linalg.eig(A)"
   ]
  },
  {
   "cell_type": "markdown",
   "metadata": {},
   "source": [
    "Sopstvene vrednosti:"
   ]
  },
  {
   "cell_type": "code",
   "execution_count": 6,
   "metadata": {},
   "outputs": [
    {
     "data": {
      "text/plain": [
       "array([2., 6., 3.])"
      ]
     },
     "execution_count": 6,
     "metadata": {},
     "output_type": "execute_result"
    }
   ],
   "source": [
    "values"
   ]
  },
  {
   "cell_type": "markdown",
   "metadata": {},
   "source": [
    "Sopstveni vektori:"
   ]
  },
  {
   "cell_type": "code",
   "execution_count": 7,
   "metadata": {},
   "outputs": [
    {
     "data": {
      "text/plain": [
       "array([[ 0.        ,  0.79740048,  0.66666667],\n",
       "       [ 0.        ,  0.56957177,  0.33333333],\n",
       "       [ 1.        , -0.19935012, -0.66666667]])"
      ]
     },
     "execution_count": 7,
     "metadata": {},
     "output_type": "execute_result"
    }
   ],
   "source": [
    "vectors"
   ]
  },
  {
   "cell_type": "markdown",
   "metadata": {},
   "source": [
    "Vektori koji se dobijaju na ovaj način su normirani:"
   ]
  },
  {
   "cell_type": "code",
   "execution_count": 8,
   "metadata": {},
   "outputs": [
    {
     "data": {
      "text/plain": [
       "1.0"
      ]
     },
     "execution_count": 8,
     "metadata": {},
     "output_type": "execute_result"
    }
   ],
   "source": [
    "np.linalg.norm(vectors[:, 0])"
   ]
  },
  {
   "cell_type": "code",
   "execution_count": 9,
   "metadata": {},
   "outputs": [
    {
     "data": {
      "text/plain": [
       "0.9999999999999999"
      ]
     },
     "execution_count": 9,
     "metadata": {},
     "output_type": "execute_result"
    }
   ],
   "source": [
    "np.linalg.norm(vectors[:, 1])"
   ]
  },
  {
   "cell_type": "code",
   "execution_count": 10,
   "metadata": {},
   "outputs": [
    {
     "data": {
      "text/plain": [
       "1.0"
      ]
     },
     "execution_count": 10,
     "metadata": {},
     "output_type": "execute_result"
    }
   ],
   "source": [
    "np.linalg.norm(vectors[:, 2])"
   ]
  },
  {
   "cell_type": "code",
   "execution_count": null,
   "metadata": {},
   "outputs": [],
   "source": []
  },
  {
   "cell_type": "markdown",
   "metadata": {},
   "source": [
    "Podsetimo se i nekih svojstava matrica u vezi sa sopstvenim vrednostima i sopstvenim vektorima."
   ]
  },
  {
   "cell_type": "markdown",
   "metadata": {},
   "source": [
    "Matrice $A$ i $A^T$ imaju iste sopstvene vrednosti. Ako su $v_i$ i $u_j$ redom sopstveni vektori koji odgovaraju ovim matricama, za indekse $i$ i $j$ za koje je $\\lambda_i\\neq \\lambda_j$ važi $v_i \\cdot u_j = 0$."
   ]
  },
  {
   "cell_type": "code",
   "execution_count": 11,
   "metadata": {},
   "outputs": [],
   "source": [
    "values_T, vectors_T = np.linalg.eig(A.T)"
   ]
  },
  {
   "cell_type": "code",
   "execution_count": 12,
   "metadata": {},
   "outputs": [
    {
     "data": {
      "text/plain": [
       "array([3., 6., 2.])"
      ]
     },
     "execution_count": 12,
     "metadata": {},
     "output_type": "execute_result"
    }
   ],
   "source": [
    "values_T"
   ]
  },
  {
   "cell_type": "code",
   "execution_count": 13,
   "metadata": {},
   "outputs": [
    {
     "data": {
      "text/plain": [
       "array([[-0.58123819,  0.4472136 ,  0.60279629],\n",
       "       [ 0.81373347, -0.89442719, -0.76719527],\n",
       "       [ 0.        ,  0.        ,  0.21919865]])"
      ]
     },
     "execution_count": 13,
     "metadata": {},
     "output_type": "execute_result"
    }
   ],
   "source": [
    "vectors_T"
   ]
  },
  {
   "cell_type": "code",
   "execution_count": 14,
   "metadata": {},
   "outputs": [
    {
     "name": "stdout",
     "output_type": "stream",
     "text": [
      "0.0\n"
     ]
    }
   ],
   "source": [
    "i = 0\n",
    "j = 1\n",
    "product_vi_uj= np.dot(vectors[:,i], vectors_T[:, j])\n",
    "print(product_vi_uj)"
   ]
  },
  {
   "cell_type": "markdown",
   "metadata": {},
   "source": [
    "Matrice $A$ i $A^{-1}$ imaju uzajamno recipročne sopstvene vrednosti. "
   ]
  },
  {
   "cell_type": "code",
   "execution_count": 15,
   "metadata": {},
   "outputs": [],
   "source": [
    "values_I, vectors_I = np.linalg.eig(np.linalg.inv(A))"
   ]
  },
  {
   "cell_type": "code",
   "execution_count": 16,
   "metadata": {},
   "outputs": [
    {
     "data": {
      "text/plain": [
       "array([0.5       , 0.16666667, 0.33333333])"
      ]
     },
     "execution_count": 16,
     "metadata": {},
     "output_type": "execute_result"
    }
   ],
   "source": [
    "values_I"
   ]
  },
  {
   "cell_type": "code",
   "execution_count": null,
   "metadata": {},
   "outputs": [],
   "source": []
  },
  {
   "cell_type": "markdown",
   "metadata": {},
   "source": [
    "Nadalje će biti prikazani neki algoritmi koji se mogu iskoristit za određivanje sopstvenih vektora i vrednosti zadate matrice."
   ]
  },
  {
   "cell_type": "markdown",
   "metadata": {},
   "source": [
    "### Metoda stepenovanja"
   ]
  },
  {
   "cell_type": "markdown",
   "metadata": {},
   "source": [
    "Pretpostavimo da sopstvenim vrednostima matrice $A$ za koje važi $|\\lambda_1|>|\\lambda_2|\\ge \\dots \\ge|\\lambda_n|$ odgovaraju sopstveni vektori $x_1, x_2, \\dots, x_n$. Neka je $b_{0}$ proizvoljno generisan vektor čiji je vodeći element (pravac koji odgovara najvećoj sopstvenoj vrednosti) različit od 0  i neka je $b_{k}$ niz vektora generisanih sa $$b_{k+1}=\\frac {Ab_{k}}{||Ab_{k}||}$$. Vektori $b_{k}$ kroz iteracije čine niz koji konvergira ka $x_1$, odnosno sopstvenom vektoru koji odgovara sopstvenoj vrednosti čija je apsolutna vrednost najveća. Opisani algoritam se naziva `metoda stepenovanja` i pomoću njega se može pronaći najveća po apsolutnoj vrednosti sopstvena vrednost (takozvana `dominantna sopstvena vrednost`) i njoj odgovarajući sopstveni vektor. Za nalaženje sopstvene vrednosti $\\lambda_1$, ako je poznat vektor $x_1$, dovoljno je primetiti da iz $Ax_1 = \\lambda_1x_1$ sledi $x_1^TAx_1 = x_1^T\\lambda_1x_1$, odakle je $$\\lambda_1 = \\frac{x_1^TAx_1}{x_1^Tx_1}.$$ "
   ]
  },
  {
   "cell_type": "markdown",
   "metadata": {},
   "source": [
    "Funkcija `power_method` implementira opisani algoritam. Kao zaustavni kriterijum se koristi maksimalni dozvoljeni broj iteracija. "
   ]
  },
  {
   "cell_type": "code",
   "execution_count": 17,
   "metadata": {},
   "outputs": [],
   "source": [
    "def power_method(A, number_of_iterations=50):\n",
    "\n",
    "    # odredjivanje dimenzije matrice\n",
    "    N = A.shape[0]\n",
    "\n",
    "    # izbor vektora b0\n",
    "    b = np.random.rand(N)\n",
    "    while b[0] == 0:\n",
    "        b[0] = np.random.rand(1)[0]\n",
    "    b = b / np.linalg.norm(b)\n",
    "\n",
    "    # korak iteracije - izracunavanje sopstvenog vektora\n",
    "    for _ in range(0, number_of_iterations):\n",
    "        product = np.dot(A, b)\n",
    "        b = product / np.linalg.norm(product)\n",
    "\n",
    "    # korak izracunavanja sospstvene vrednosti\n",
    "    b_lambda = b.T.dot(A).dot(b) / (b.T.dot(b))\n",
    "\n",
    "    return b_lambda, b"
   ]
  },
  {
   "cell_type": "code",
   "execution_count": 18,
   "metadata": {},
   "outputs": [
    {
     "data": {
      "text/plain": [
       "(6.000000000000004, array([-0.79740048, -0.56957177,  0.19935012]))"
      ]
     },
     "execution_count": 18,
     "metadata": {},
     "output_type": "execute_result"
    }
   ],
   "source": [
    "power_method(A, 50)"
   ]
  },
  {
   "cell_type": "code",
   "execution_count": null,
   "metadata": {},
   "outputs": [],
   "source": []
  },
  {
   "cell_type": "markdown",
   "metadata": {},
   "source": [
    "U izračunavanjima se koristiti normirana vrednost početnog vektora $b$ i kroz kod se dalje održava jer to predupređuje potkoračenje i prekoračenje na nivo njegovih vrednosti. Uslov da prva komponenta vektora bude različita od nule nije nužno proveravati zbog grešaka zaokruživanja realne aritmetike koje gotovo uvek dovode do ne-nula vrednosti."
   ]
  },
  {
   "cell_type": "code",
   "execution_count": null,
   "metadata": {},
   "outputs": [],
   "source": []
  },
  {
   "cell_type": "markdown",
   "metadata": {},
   "source": [
    "Zaustavni kriterijum metode stepenovanja se može i preciznije definisati. Mogu se posmatrati izračunate sopstvene vrednosti u dvema uzastopnim iteracijama $\\lambda_{iteracija\\ i}$ i $\\lambda_{iteracija\\ i+1}$ i njihova apsolutna razlika $|\\lambda_{iteracija\\ i+1} - \\lambda_{iteracija\\ i}|$. Ukoliko je razlika manja od neke unapred zadate tačnosti algoritam se može zaustaviti. \n",
    "\n",
    "Kao zaustavni kriterijum može se uzeti i vrednost relativne greške $\\frac{|\\lambda_{iteracija\\ i} - \\lambda_{iteracija \\ i+1|}}{|\\lambda_{iteracija\\ i+1}|}$."
   ]
  },
  {
   "cell_type": "markdown",
   "metadata": {},
   "source": [
    "Sledeća funkcija kombinuje zaustavne kriterijume broja iteracija i tačnosti. "
   ]
  },
  {
   "cell_type": "code",
   "execution_count": 19,
   "metadata": {},
   "outputs": [],
   "source": [
    "def power_method(A, epsilon = 10**-3, number_of_iterations=50):\n",
    "\n",
    "    # odredjivanje dimenzije matrice\n",
    "    N = A.shape[0]\n",
    "\n",
    "    # izbor vektora b0\n",
    "    b = np.random.rand(N)\n",
    "    while b[0] == 0:\n",
    "        b[0] = np.random.rand(1)[0]\n",
    "    b = b / np.linalg.norm(b)\n",
    "    \n",
    "    # odredjivanje pocetne sopstvene vrednosti\n",
    "    iteration = 0\n",
    "    b_lambda_prev = b.T.dot(A).dot(b) / (b.T.dot(b))\n",
    "\n",
    "    \n",
    "    for iteration in range(1, number_of_iterations):\n",
    "        \n",
    "        # korak iteracije - izracunavanje sopstvenog vektora\n",
    "        product = np.dot(A, b)\n",
    "        b = product / np.linalg.norm(product)\n",
    "        \n",
    "        # korak izracunavanja sospstvene vrednosti\n",
    "        b_lambda = b.T.dot(A).dot(b) / (b.T.dot(b))\n",
    "        \n",
    "        # provera zaustavnog kriterijuma\n",
    "        if np.abs(b_lambda - b_lambda_prev) <= epsilon: \n",
    "            break\n",
    "    \n",
    "        # priprema za narednu iteraciju\n",
    "        b_lambda_prev = b_lambda\n",
    "        \n",
    "    \n",
    "    return b_lambda_prev, b, iteration"
   ]
  },
  {
   "cell_type": "code",
   "execution_count": 20,
   "metadata": {},
   "outputs": [
    {
     "data": {
      "text/plain": [
       "(5.999998287703154, array([ 0.79740048,  0.56957172, -0.19935029]), 20)"
      ]
     },
     "execution_count": 20,
     "metadata": {},
     "output_type": "execute_result"
    }
   ],
   "source": [
    "power_method(A, 10**-6, 100)"
   ]
  },
  {
   "cell_type": "code",
   "execution_count": null,
   "metadata": {},
   "outputs": [],
   "source": []
  },
  {
   "cell_type": "markdown",
   "metadata": {},
   "source": [
    "Možemo prikazati i grafički kako se menja vrednost ovako izračunate sopstvene vrednosti sa brojem iteracija. Sa grafika je primetna i konvergencija metode."
   ]
  },
  {
   "cell_type": "code",
   "execution_count": 21,
   "metadata": {},
   "outputs": [],
   "source": [
    "epsilon = 10**-6\n",
    "max_number_of_iterations = 20\n",
    "iterations = [i for i in range(0, max_number_of_iterations)]\n",
    "values = [power_method(A, epsilon, i)[0] for i in iterations]"
   ]
  },
  {
   "cell_type": "code",
   "execution_count": 22,
   "metadata": {},
   "outputs": [
    {
     "data": {
      "image/png": "[encoded data removed]",
      "text/plain": [
       "<Figure size 432x288 with 1 Axes>"
      ]
     },
     "metadata": {
      "needs_background": "light"
     },
     "output_type": "display_data"
    }
   ],
   "source": [
    "plt.plot(iterations, values)\n",
    "plt.xlabel('Broj iteracija')\n",
    "plt.ylabel('Dominantna sopstvena vrednost')\n",
    "plt.show()"
   ]
  },
  {
   "cell_type": "code",
   "execution_count": null,
   "metadata": {},
   "outputs": [],
   "source": []
  },
  {
   "cell_type": "markdown",
   "metadata": {},
   "source": [
    "U praksi je za zadatu matricu teško proveriti da li zadovoljava preduslove metode stepenovanja. Zato se metod stepenovanja može pokrenuti nad nekoliko različitih početnih vrednosti vektora $b$. Ukoliko se dobiju vrednosti koje teže istom broju, dalje je potrebno proveriti da li za ovaj broj i odgovarajući vektor važi identitet $Ax = \\lambda x$. Ukoliko je to slučaj, izračunate vrednosti se mogu zadržati kao dominantna sopstvena vrednost i dominantni sopstveni vektor."
   ]
  },
  {
   "cell_type": "code",
   "execution_count": null,
   "metadata": {},
   "outputs": [],
   "source": []
  },
  {
   "cell_type": "markdown",
   "metadata": {},
   "source": [
    "### Metoda iscrpljivanja"
   ]
  },
  {
   "cell_type": "markdown",
   "metadata": {},
   "source": [
    "Metoda iscrpljivanja nam pomaže da izračunamo i preostale sopstvene vrednosti. "
   ]
  },
  {
   "cell_type": "markdown",
   "metadata": {},
   "source": [
    "Pretpostavimo da sopstvenim vrednostima matrice $A$ za koje važi $|\\lambda_1|>|\\lambda_2|>\\dots>|\\lambda_n|$ odgovaraju sopstveni vektori $x_1, x_2, \\dots, x_n$. Neka je $A_1 = A$ i $$A_{i+1} = A_i - \\lambda_ix_iy_i^T$$  niz matrica u kojima vektori $y_i$ imaju svojstvo $y_i^Tx_i = 1$. Može se proveriti da matrica $A_2$ ima svojstvo da je njena dominantna sopstvena vrednost $\\lambda_2$, matrica $A_3$ ima svojstvo da je njena dominantna sopstvena vrednost $\\lambda_3$ pa se prateći ovaj postupak mogu generisati sve sopstvene vrednosti i svi sopstveni vektori polazne matrice. Opisani metod se naziva `metod iscrpljivanja`.\n",
    "\n",
    "Ostaje još da prodiskutujemo kako se mogu konstruisati vektori $y_i$ i kako se mogu dobiti sopstveni vektori koji odgovaraju izdvojenim sopstvenim vrednostima. \n",
    "\n",
    "Neka je $x_p$ vrednost elementa tekućeg sopstvenog vektora $x_i$ koji je različit od nule. Neka se on nalazi na poziciji $p$. Za vektor $y_i$ možemo odabrati vektor $\\frac{1}{\\lambda_i x_p}a_p^T$ gde je $a_p$ p-ti red tekuće matrice $A_i$. Ovo je takozvano Veilandtovo iscrpljivanje (engl. Weilandt deflation) i može se koristiti za nalaženje nekoliko sopstvenih vrednosti. Zbog numeričke nestabilnosti za nalaženje većeg broja sopstvenih vrednosti koriste se druge tehnike. "
   ]
  },
  {
   "cell_type": "markdown",
   "metadata": {},
   "source": [
    "Ako sa $(\\lambda_1, x_1)$ obeležimo dominantnu sopstvenu vrednost i dominantni sopstveni vektor matrice $A_1$, za maticu $A_2$ važi da je jedan par sopstvenih vrednosti i vektora $(0, x_1)$ a da su drugi oblika $(\\lambda_i, z_i)$ sa sopstvenim vrednostima istovetnim matrici $A_1$ i nešto drugačijim sopstvenim vektorima. Za izračunavanje sopstvenog vektora $x_2$ polazne matrice se može iskoristiti identitet $x_2 = (\\lambda_2 - \\lambda_1) z_2 + \\lambda_1(y^T z_2)x_1$. Ova veza se može dalje primeniti i na parove matrica $A_2$ i $A_3$, $A_3$ i $A_4$, ... "
   ]
  },
  {
   "cell_type": "code",
   "execution_count": 23,
   "metadata": {},
   "outputs": [],
   "source": [
    "def deflation_method(A, number_of_values, epsilon = 10**-3, number_of_iterations=50):\n",
    "    \n",
    "    # trazeni nizovi sopstvenih vrednosti\n",
    "    values = []\n",
    "    \n",
    "    # odredjivanje dimenzije matrice\n",
    "    N = A.shape[0]\n",
    "\n",
    "    # odredjivanje dominantne sopstvene vrednosti i sopstvenog vektora \n",
    "    x_lambda, x, _ = power_method(A, epsilon, number_of_iterations)\n",
    "    values.append(x_lambda)\n",
    "    \n",
    "    for _ in range(0, number_of_values-1):\n",
    "        \n",
    "        # trazimo ne-nula komponentu vektora x \n",
    "        for p in range(0, N):\n",
    "            if x[p]!=0:\n",
    "                break         \n",
    "        \n",
    "        # izdvajamo p-ti red matrice A \n",
    "        row = A[p, :]\n",
    "        \n",
    "        # formiramo vektor y\n",
    "        y = 1/(x_lambda*x[p])*row.T        \n",
    "        \n",
    "        # odredjujemo novu formu matrice A\n",
    "        A = A - x_lambda*np.dot(x.reshape(-1, 1), y.T.reshape(1, -1))\n",
    "        \n",
    "        x_lambda_current, x_current, _ = power_method(A, epsilon, number_of_iterations)\n",
    "        values.append(x_lambda_current)\n",
    "        \n",
    "        \n",
    "        x_lambda =  x_lambda_current\n",
    "        x = x_current\n",
    "        \n",
    "    return values"
   ]
  },
  {
   "cell_type": "code",
   "execution_count": 24,
   "metadata": {},
   "outputs": [],
   "source": [
    "values = deflation_method(A, 2, epsilon = 10**-6, number_of_iterations=50)"
   ]
  },
  {
   "cell_type": "code",
   "execution_count": 25,
   "metadata": {},
   "outputs": [
    {
     "data": {
      "text/plain": [
       "[6.000001367934039, 3.000002217393844]"
      ]
     },
     "execution_count": 25,
     "metadata": {},
     "output_type": "execute_result"
    }
   ],
   "source": [
    "values"
   ]
  },
  {
   "cell_type": "code",
   "execution_count": null,
   "metadata": {},
   "outputs": [],
   "source": []
  },
  {
   "cell_type": "markdown",
   "metadata": {},
   "source": [
    "Napomenimo još da brzina konvergencije pomenutih metoda zavisi od odnosa vrednosti $\\frac{|\\lambda_1|}{|\\lambda_2|}$. "
   ]
  }
 ],
 "metadata": {
  "kernelspec": {
   "display_name": "Python 3",
   "language": "python",
   "name": "python3"
  },
  "language_info": {
   "codemirror_mode": {
    "name": "ipython",
    "version": 3
   },
   "file_extension": ".py",
   "mimetype": "text/x-python",
   "name": "python",
   "nbconvert_exporter": "python",
   "pygments_lexer": "ipython3",
   "version": "3.7.6"
  }
 },
 "nbformat": 4,
 "nbformat_minor": 2
}
