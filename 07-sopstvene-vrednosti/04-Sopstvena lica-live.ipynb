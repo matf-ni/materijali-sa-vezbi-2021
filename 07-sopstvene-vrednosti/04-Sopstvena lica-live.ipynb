{
 "cells": [
  {
   "cell_type": "markdown",
   "metadata": {},
   "source": [
    "# Sopstvena lica"
   ]
  },
  {
   "cell_type": "markdown",
   "metadata": {},
   "source": [
    "Posmatrajmo problem prepoznavanja osoba na zadatim slikama. U rešavanju mu možemo pristupiti kao klasifikacionom zadatku uz adekvatno prikazivanje slika skupom odgovarajućih atributa. Koristićemo k-NN algoritam klasifikacije koji će biti objašćenjen u nastavku, a za predstavljanje slika iskoristićemo redukciju dimenizonalnosti i PCA analizu."
   ]
  },
  {
   "cell_type": "code",
   "execution_count": 1,
   "metadata": {},
   "outputs": [],
   "source": [
    "import numpy as np\n",
    "from matplotlib import pyplot as plt"
   ]
  },
  {
   "cell_type": "code",
   "execution_count": 2,
   "metadata": {},
   "outputs": [],
   "source": [
    "from sklearn import preprocessing\n",
    "from sklearn import datasets\n",
    "from sklearn import decomposition\n",
    "from sklearn import model_selection"
   ]
  },
  {
   "cell_type": "markdown",
   "metadata": {},
   "source": [
    "Koristićemo skup podataka koji sadrži slike lica poznatih ličnosti. Podaci se mogu izdvojiti pozivom funkcije `fetch_lfw_people()` iz `sklearn.datasets` paketa. Dva parametra ove funkcije su nam bitna:  `resize` koji određuje skaliranje slika i `min_faces_per_person` koji određuje koliko najmanje slika po osobi treba da ima u skupu. "
   ]
  },
  {
   "cell_type": "code",
   "execution_count": null,
   "metadata": {},
   "outputs": [],
   "source": []
  },
  {
   "cell_type": "code",
   "execution_count": null,
   "metadata": {},
   "outputs": [],
   "source": []
  },
  {
   "cell_type": "code",
   "execution_count": null,
   "metadata": {},
   "outputs": [],
   "source": []
  },
  {
   "cell_type": "markdown",
   "metadata": {},
   "source": [
    "Podatke ćemo podeliti na skup za treniranje i skup za testiranje, gde će oko trećina podataka biti iskorišćena za testiranje. Lica ćemo probati da prepoznamo/klasifikujemo pomoću algoritma $k$-najbližih suseda, pri čemu ćemo za parametar $k$ (broj suseda) odabrati vrednost 3. Prvo ćemo probati sa korišćenjem svih piksela slika, a zatim ćemo skup podataka preslikati u prostor manje dimenzije koji je određen sa 100 glavnih komponenti i uporediti rezultate. "
   ]
  },
  {
   "cell_type": "markdown",
   "metadata": {},
   "source": [
    "Algoritam $k$ najbližih suseda ćemo se najlakše podsetiti preko primera sa donje slike. Zadatak je klasifikovati zeleni krug u jednu od dve klase; treba odrediti da li krug pripada plavim kvadratima ili crvenim trouglovima. Ako je $k = 3$ (manji krug nacrtan punom linijom), zeleni krug će pripadati drugoj klasi, zato što se unutar nacrtanog kruga nalaze dva trougla i samo jedan kvadrat. Ako je $k = 5$ (veći krug nacrtan isprekidanom linijom), zeleni krug će pripadati prvoj klasi, budući da se unutar isprekidanog kruga nalazi više kvadrata nego trouglova."
   ]
  },
  {
   "cell_type": "markdown",
   "metadata": {},
   "source": [
    "<img src=\"assets/knn.png\">"
   ]
  },
  {
   "cell_type": "code",
   "execution_count": 3,
   "metadata": {},
   "outputs": [],
   "source": [
    "from sklearn import neighbors"
   ]
  },
  {
   "cell_type": "code",
   "execution_count": null,
   "metadata": {},
   "outputs": [],
   "source": []
  },
  {
   "cell_type": "code",
   "execution_count": null,
   "metadata": {},
   "outputs": [],
   "source": []
  }
 ],
 "metadata": {
  "kernelspec": {
   "display_name": "Python 3",
   "language": "python",
   "name": "python3"
  },
  "language_info": {
   "codemirror_mode": {
    "name": "ipython",
    "version": 3
   },
   "file_extension": ".py",
   "mimetype": "text/x-python",
   "name": "python",
   "nbconvert_exporter": "python",
   "pygments_lexer": "ipython3",
   "version": "3.7.6"
  }
 },
 "nbformat": 4,
 "nbformat_minor": 2
}
