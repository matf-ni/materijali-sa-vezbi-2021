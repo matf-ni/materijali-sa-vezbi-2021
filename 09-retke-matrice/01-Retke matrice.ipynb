{
 "cells": [
  {
   "cell_type": "markdown",
   "metadata": {},
   "source": [
    "# Retke matrice"
   ]
  },
  {
   "cell_type": "markdown",
   "metadata": {},
   "source": [
    "Podsetimo se da su retke matrice (engl. sparse matrix) matrice u kojima je *veliki broj* elementa jednak nuli. \n",
    "![retke matrice](assets/sparse_matrix.png)\n",
    "Zahvaljujući ovoj svojoj osobini za njihovo čuvanje je potrebno manje memorije, a operacije nad njima se mogu izvoditi efikasnije. Ova sveska sumira osnovne formate retkih matrica i neke principe rada sa njima.\n",
    "\n",
    "Matrice koje nisu retke zovemo gustim matricama (engl. dense matrix)."
   ]
  },
  {
   "cell_type": "code",
   "execution_count": 1,
   "metadata": {},
   "outputs": [],
   "source": [
    "import numpy as np\n",
    "np.random.seed(7)"
   ]
  },
  {
   "cell_type": "code",
   "execution_count": 2,
   "metadata": {},
   "outputs": [],
   "source": [
    "from matplotlib import pyplot as plt "
   ]
  },
  {
   "cell_type": "markdown",
   "metadata": {},
   "source": [
    "Rad sa retkim matricama podržan je paketom `sparse` biblioteke `scipy`."
   ]
  },
  {
   "cell_type": "code",
   "execution_count": 3,
   "metadata": {},
   "outputs": [],
   "source": [
    "from scipy import sparse"
   ]
  },
  {
   "cell_type": "code",
   "execution_count": null,
   "metadata": {},
   "outputs": [],
   "source": []
  },
  {
   "cell_type": "markdown",
   "metadata": {},
   "source": [
    "Osnovni formati za zapis retkih matrica su: `CSC` (Compressed Sparse Column), `CSR` (Compressed Sparse Row), `COO` (COOrdinate format), `DOK` (Dictionary of Keys), `DIA` (DIAgonal format), `LiL` (List of Lists) i `BSR` (Block Compressed Row). Nadalje ćemo upoznati neke najčešće korišćene."
   ]
  },
  {
   "cell_type": "code",
   "execution_count": null,
   "metadata": {},
   "outputs": [],
   "source": []
  },
  {
   "cell_type": "markdown",
   "metadata": {},
   "source": [
    "U `COO` formatu matrice se čuvaju kao trojke indeksa vrsta, indeksa kolona i vrednosti elementa različitih od nule. <img src='assets/coo_format.gif' style='width:600px'>"
   ]
  },
  {
   "cell_type": "markdown",
   "metadata": {},
   "source": [
    "Ove matrice kreiramo korišćenjem funkcije `coo_matrix`."
   ]
  },
  {
   "cell_type": "code",
   "execution_count": 4,
   "metadata": {},
   "outputs": [],
   "source": [
    "row = [1, 3, 0, 2, 4]\n",
    "column = [1, 4, 2, 3, 3]\n",
    "data = [2, 5, 9, 1, 6]"
   ]
  },
  {
   "cell_type": "code",
   "execution_count": 5,
   "metadata": {},
   "outputs": [],
   "source": [
    "coo = sparse.coo_matrix((data, (row, column)), shape=(6, 7))"
   ]
  },
  {
   "cell_type": "code",
   "execution_count": 6,
   "metadata": {},
   "outputs": [
    {
     "name": "stdout",
     "output_type": "stream",
     "text": [
      "  (1, 1)\t2\n",
      "  (3, 4)\t5\n",
      "  (0, 2)\t9\n",
      "  (2, 3)\t1\n",
      "  (4, 3)\t6\n"
     ]
    }
   ],
   "source": [
    "print(coo)"
   ]
  },
  {
   "cell_type": "code",
   "execution_count": 7,
   "metadata": {},
   "outputs": [
    {
     "data": {
      "text/plain": [
       "array([[0, 0, 9, 0, 0, 0, 0],\n",
       "       [0, 2, 0, 0, 0, 0, 0],\n",
       "       [0, 0, 0, 1, 0, 0, 0],\n",
       "       [0, 0, 0, 0, 5, 0, 0],\n",
       "       [0, 0, 0, 6, 0, 0, 0],\n",
       "       [0, 0, 0, 0, 0, 0, 0]])"
      ]
     },
     "execution_count": 7,
     "metadata": {},
     "output_type": "execute_result"
    }
   ],
   "source": [
    "coo.toarray()"
   ]
  },
  {
   "cell_type": "code",
   "execution_count": null,
   "metadata": {},
   "outputs": [],
   "source": []
  },
  {
   "cell_type": "markdown",
   "metadata": {},
   "source": [
    "Ukoliko je dostupna matrica u COO formatu, preko svojstava `row`, `col` i `data` se mogu očitati vrednosti karakterističnih nizova."
   ]
  },
  {
   "cell_type": "code",
   "execution_count": 8,
   "metadata": {},
   "outputs": [
    {
     "data": {
      "text/plain": [
       "array([1, 3, 0, 2, 4], dtype=int32)"
      ]
     },
     "execution_count": 8,
     "metadata": {},
     "output_type": "execute_result"
    }
   ],
   "source": [
    "coo.row"
   ]
  },
  {
   "cell_type": "code",
   "execution_count": 9,
   "metadata": {},
   "outputs": [
    {
     "data": {
      "text/plain": [
       "array([1, 4, 2, 3, 3], dtype=int32)"
      ]
     },
     "execution_count": 9,
     "metadata": {},
     "output_type": "execute_result"
    }
   ],
   "source": [
    "coo.col"
   ]
  },
  {
   "cell_type": "code",
   "execution_count": 10,
   "metadata": {},
   "outputs": [
    {
     "data": {
      "text/plain": [
       "array([2, 5, 9, 1, 6])"
      ]
     },
     "execution_count": 10,
     "metadata": {},
     "output_type": "execute_result"
    }
   ],
   "source": [
    "coo.data"
   ]
  },
  {
   "cell_type": "code",
   "execution_count": null,
   "metadata": {},
   "outputs": [],
   "source": []
  },
  {
   "cell_type": "markdown",
   "metadata": {},
   "source": [
    "U `CSR` formatu čuvaju se indeksi vrsta, indeksi kolona i vrednosti elemenata različitih od nule ali sa idejom da se dodatno optimizuju operacije nad njima. Za svaka dva susedna elementa u indeksu vrsta prvi broj označava indeks vrste u kojoj se nalaze ne-nula elementi, a drugi je izračunat tako da njihova razlika predstavlja broj ne-nula elemenata u vrsti. U indeksu kolona popisane su za svaku vrstu uzastopno indeksi kolona u kojima se nalaze ne-nula elementi. Niz sa vrednostima elemenata sadrži same elemente. Sledeća animacija približava ovaj (možda malo konfuzan) opis. <img src='assets/csr_format.gif' style='width:600px'>"
   ]
  },
  {
   "cell_type": "markdown",
   "metadata": {},
   "source": [
    "Ovakve matrice konstruišu se pozivom funkcije `csr_matrix` nad argumentima koji, redom, predstavljaju ne-nula elemenate matrice, indekse njihovih kolona i indekse njihovih vrsta u prethodno opisanom formatu. Alternativni način kreiranja je korišćenjem trojki koje sadrže vrednosti i parove njihovih indeksa. "
   ]
  },
  {
   "cell_type": "code",
   "execution_count": 11,
   "metadata": {},
   "outputs": [],
   "source": [
    "index_pointers = np.array([0, 2, 3, 3, 3, 6, 6, 7])\n",
    "indices = np.array([0, 2, 2, 2, 3, 4, 3])\n",
    "data = np.array([8, 2, 5, 7, 1, 2, 9])"
   ]
  },
  {
   "cell_type": "code",
   "execution_count": 12,
   "metadata": {},
   "outputs": [],
   "source": [
    "csr = sparse.csr_matrix((data, indices, index_pointers))"
   ]
  },
  {
   "cell_type": "code",
   "execution_count": 13,
   "metadata": {},
   "outputs": [
    {
     "name": "stdout",
     "output_type": "stream",
     "text": [
      "  (0, 0)\t8\n",
      "  (0, 2)\t2\n",
      "  (1, 2)\t5\n",
      "  (4, 2)\t7\n",
      "  (4, 3)\t1\n",
      "  (4, 4)\t2\n",
      "  (6, 3)\t9\n"
     ]
    }
   ],
   "source": [
    "print(csr)"
   ]
  },
  {
   "cell_type": "code",
   "execution_count": 14,
   "metadata": {},
   "outputs": [
    {
     "data": {
      "text/plain": [
       "array([[8, 0, 2, 0, 0],\n",
       "       [0, 0, 5, 0, 0],\n",
       "       [0, 0, 0, 0, 0],\n",
       "       [0, 0, 0, 0, 0],\n",
       "       [0, 0, 7, 1, 2],\n",
       "       [0, 0, 0, 0, 0],\n",
       "       [0, 0, 0, 9, 0]])"
      ]
     },
     "execution_count": 14,
     "metadata": {},
     "output_type": "execute_result"
    }
   ],
   "source": [
    "csr.toarray()"
   ]
  },
  {
   "cell_type": "code",
   "execution_count": null,
   "metadata": {},
   "outputs": [],
   "source": []
  },
  {
   "cell_type": "markdown",
   "metadata": {},
   "source": [
    "Ukoliko je dostupna matrica u CSR formatu, preko svojstava `indptr`, `indices` i `data` se mogu očitati vrednosti korišćene za konstrukciju matrice."
   ]
  },
  {
   "cell_type": "code",
   "execution_count": 15,
   "metadata": {},
   "outputs": [
    {
     "data": {
      "text/plain": [
       "array([0, 2, 3, 3, 3, 6, 6, 7], dtype=int32)"
      ]
     },
     "execution_count": 15,
     "metadata": {},
     "output_type": "execute_result"
    }
   ],
   "source": [
    "csr.indptr"
   ]
  },
  {
   "cell_type": "code",
   "execution_count": 16,
   "metadata": {},
   "outputs": [
    {
     "data": {
      "text/plain": [
       "array([0, 2, 2, 2, 3, 4, 3], dtype=int32)"
      ]
     },
     "execution_count": 16,
     "metadata": {},
     "output_type": "execute_result"
    }
   ],
   "source": [
    "csr.indices"
   ]
  },
  {
   "cell_type": "code",
   "execution_count": 17,
   "metadata": {},
   "outputs": [
    {
     "data": {
      "text/plain": [
       "array([8, 2, 5, 7, 1, 2, 9])"
      ]
     },
     "execution_count": 17,
     "metadata": {},
     "output_type": "execute_result"
    }
   ],
   "source": [
    "csr.data"
   ]
  },
  {
   "cell_type": "code",
   "execution_count": null,
   "metadata": {},
   "outputs": [],
   "source": []
  },
  {
   "cell_type": "markdown",
   "metadata": {},
   "source": [
    "`CSC` format predstavlja ekvivalent prethodnog formata ali sa specifično zapisanim indeksom kolona. <img src='assets/csc_format.gif' style='width:600px'>"
   ]
  },
  {
   "cell_type": "markdown",
   "metadata": {},
   "source": [
    "Ovakve matrice konstruišu se pozivom funkcije `csc_matrix` na argumentima koji, redom, predstavljaju ne-nula elemenate matrice, indekse njihovih vrsta i indekse njihovih kolona."
   ]
  },
  {
   "cell_type": "code",
   "execution_count": 18,
   "metadata": {},
   "outputs": [],
   "source": [
    "index_pointers = np.array([0, 1, 1, 4, 6, 7])\n",
    "indices = np.array([0, 0, 1, 4, 4, 6, 4]) \n",
    "data = np.array([8, 2, 5, 7, 1, 9, 2])                       "
   ]
  },
  {
   "cell_type": "code",
   "execution_count": 19,
   "metadata": {},
   "outputs": [],
   "source": [
    "csc = sparse.csc_matrix((data, indices, index_pointers))"
   ]
  },
  {
   "cell_type": "code",
   "execution_count": 20,
   "metadata": {},
   "outputs": [
    {
     "name": "stdout",
     "output_type": "stream",
     "text": [
      "  (0, 0)\t8\n",
      "  (0, 2)\t2\n",
      "  (1, 2)\t5\n",
      "  (4, 2)\t7\n",
      "  (4, 3)\t1\n",
      "  (6, 3)\t9\n",
      "  (4, 4)\t2\n"
     ]
    }
   ],
   "source": [
    "print(csc)"
   ]
  },
  {
   "cell_type": "code",
   "execution_count": 21,
   "metadata": {},
   "outputs": [
    {
     "data": {
      "text/plain": [
       "array([[8, 0, 2, 0, 0],\n",
       "       [0, 0, 5, 0, 0],\n",
       "       [0, 0, 0, 0, 0],\n",
       "       [0, 0, 0, 0, 0],\n",
       "       [0, 0, 7, 1, 2],\n",
       "       [0, 0, 0, 0, 0],\n",
       "       [0, 0, 0, 9, 0]])"
      ]
     },
     "execution_count": 21,
     "metadata": {},
     "output_type": "execute_result"
    }
   ],
   "source": [
    "csc.toarray()"
   ]
  },
  {
   "cell_type": "code",
   "execution_count": null,
   "metadata": {},
   "outputs": [],
   "source": []
  },
  {
   "cell_type": "markdown",
   "metadata": {},
   "source": [
    "Format `DIA` je specijalizovan za čuvanje retkih dijagonalnih matrica. <img src='assets/dia_format.gif' style='width:600px'>"
   ]
  },
  {
   "cell_type": "markdown",
   "metadata": {},
   "source": [
    "Za kreiranje matrica u ovom formatu koristi se funkcija `dia_matrix`. Njeni argumenti su matrica vrednosti elemenata koji se nalaza na dijagonalama paralelnim glavnoj dijagonali i niz pomeraja (ofseta) koji ukazuju na poziciju dijagonale. Pozitivne vrednosti pomeraja se odnose na dijagonale iznad glavne, a negativne na dijagonale ispod nje. Neke vrednosti u matrici podataka su višak i mogu imati proizvoljnu vrednosti."
   ]
  },
  {
   "cell_type": "code",
   "execution_count": 22,
   "metadata": {},
   "outputs": [],
   "source": [
    "data = np.arange(0, 15).reshape(3, 5) + 1\n",
    "offsets = np.array([0, -3, 2])"
   ]
  },
  {
   "cell_type": "code",
   "execution_count": 23,
   "metadata": {},
   "outputs": [],
   "source": [
    "dia = sparse.dia_matrix((data, offsets), shape=(7, 5))"
   ]
  },
  {
   "cell_type": "code",
   "execution_count": 24,
   "metadata": {},
   "outputs": [
    {
     "data": {
      "text/plain": [
       "array([[ 1,  0, 13,  0,  0],\n",
       "       [ 0,  2,  0, 14,  0],\n",
       "       [ 0,  0,  3,  0, 15],\n",
       "       [ 6,  0,  0,  4,  0],\n",
       "       [ 0,  7,  0,  0,  5],\n",
       "       [ 0,  0,  8,  0,  0],\n",
       "       [ 0,  0,  0,  9,  0]])"
      ]
     },
     "execution_count": 24,
     "metadata": {},
     "output_type": "execute_result"
    }
   ],
   "source": [
    "dia.toarray()"
   ]
  },
  {
   "cell_type": "code",
   "execution_count": null,
   "metadata": {},
   "outputs": [],
   "source": []
  },
  {
   "cell_type": "markdown",
   "metadata": {},
   "source": [
    "Biblioteka podržava konverzije iz jednog formata zapisa u drugi format. Mogu se koristiti funkcije koje smo pomenuli, ali i funkcije `tocoo`, `tocsc`, `tocsr`, ..."
   ]
  },
  {
   "cell_type": "code",
   "execution_count": 25,
   "metadata": {},
   "outputs": [
    {
     "data": {
      "text/plain": [
       "array([[0, 0, 9, 0, 0, 0, 0],\n",
       "       [0, 2, 0, 0, 0, 0, 0],\n",
       "       [0, 0, 0, 1, 0, 0, 0],\n",
       "       [0, 0, 0, 0, 5, 0, 0],\n",
       "       [0, 0, 0, 6, 0, 0, 0],\n",
       "       [0, 0, 0, 0, 0, 0, 0]])"
      ]
     },
     "execution_count": 25,
     "metadata": {},
     "output_type": "execute_result"
    }
   ],
   "source": [
    "sparse.csc_matrix(coo).toarray()"
   ]
  },
  {
   "cell_type": "code",
   "execution_count": 26,
   "metadata": {},
   "outputs": [
    {
     "data": {
      "text/plain": [
       "array([[0, 0, 9, 0, 0, 0, 0],\n",
       "       [0, 2, 0, 0, 0, 0, 0],\n",
       "       [0, 0, 0, 1, 0, 0, 0],\n",
       "       [0, 0, 0, 0, 5, 0, 0],\n",
       "       [0, 0, 0, 6, 0, 0, 0],\n",
       "       [0, 0, 0, 0, 0, 0, 0]])"
      ]
     },
     "execution_count": 26,
     "metadata": {},
     "output_type": "execute_result"
    }
   ],
   "source": [
    "coo.tocsc().toarray()"
   ]
  },
  {
   "cell_type": "code",
   "execution_count": null,
   "metadata": {},
   "outputs": [],
   "source": []
  },
  {
   "cell_type": "markdown",
   "metadata": {},
   "source": [
    "Kao što smo videli u primerima, gusta reprezentacija retkih matrica se može dobiti pozivima `toarray` ili `todense` metoda. Prva metoda vraća matricu koja je tipa `ndarray`, a druga matricu koja je tipa `matrix`. Tip `matrix` se razlikuje od `ndarray` niza po specifičnostima nekih operacija, na primer A\\*B predstavlja matrično, a ne pokoordinatno množenje. Preporučuje se korišćenje `toarray` metode."
   ]
  },
  {
   "cell_type": "markdown",
   "metadata": {},
   "source": [
    "Ukoliko je od postojeće guste matrice potrebno kreirati retku matricu, mogu se iskoristiti funkcije `coo_matrix`, `csr_matrix` i `csc_matrix` i njima slične."
   ]
  },
  {
   "cell_type": "code",
   "execution_count": 27,
   "metadata": {},
   "outputs": [],
   "source": [
    "array = np.array([\n",
    "    [ 1,  0, 13,  0,  0],\n",
    "    [ 0,  2,  0, 14,  0],\n",
    "    [ 0,  0,  3,  0, 15],\n",
    "    [ 6,  0,  0,  4,  0],\n",
    "    [ 0,  7,  0,  0,  5],\n",
    "    [ 0,  0,  8,  0,  0],\n",
    "    [ 0,  0,  0,  9,  0]])"
   ]
  },
  {
   "cell_type": "code",
   "execution_count": 28,
   "metadata": {},
   "outputs": [],
   "source": [
    "sparse_array = sparse.csc_matrix(array)"
   ]
  },
  {
   "cell_type": "code",
   "execution_count": 29,
   "metadata": {},
   "outputs": [
    {
     "data": {
      "text/plain": [
       "array([ 1,  6,  2,  7, 13,  3,  8, 14,  4,  9, 15,  5])"
      ]
     },
     "execution_count": 29,
     "metadata": {},
     "output_type": "execute_result"
    }
   ],
   "source": [
    "sparse_array.data"
   ]
  },
  {
   "cell_type": "code",
   "execution_count": null,
   "metadata": {},
   "outputs": [],
   "source": []
  },
  {
   "cell_type": "code",
   "execution_count": null,
   "metadata": {},
   "outputs": [],
   "source": []
  },
  {
   "cell_type": "markdown",
   "metadata": {},
   "source": [
    "Proizvoljne retke matrice se mogu generisati pozivom funkcije `random` koja očekuje informacije o dimenziji matrice i gustini matice. Gustina matrice je realan broj u intervalu [0, 1] gde vrednost 0 predstavlja matricu nula, a 1 sasvim gustu matricu (bez nula vrednosti). Alternativno, može se koristiti i funkcija `rand` koja bira vrednosti iz uniformne raspodele. Podrazumevani format matrica je COO, a može se promeniti navođenjem parametra `format`."
   ]
  },
  {
   "cell_type": "code",
   "execution_count": 30,
   "metadata": {},
   "outputs": [
    {
     "data": {
      "text/plain": [
       "array([[0.        , 0.        , 0.        , 0.38464957, 0.        ],\n",
       "       [0.79076351, 0.        , 0.35747524, 0.95124834, 0.        ],\n",
       "       [0.85129459, 0.93762934, 0.        , 0.        , 0.        ],\n",
       "       [0.        , 0.        , 0.34875638, 0.        , 0.61370347],\n",
       "       [0.        , 0.27651471, 0.17405276, 0.        , 0.4826369 ],\n",
       "       [0.10047397, 0.        , 0.        , 0.        , 0.        ],\n",
       "       [0.        , 0.4488258 , 0.        , 0.19335562, 0.        ]])"
      ]
     },
     "execution_count": 30,
     "metadata": {},
     "output_type": "execute_result"
    }
   ],
   "source": [
    "A = sparse.random(m=7, n=5, density=0.4)\n",
    "A.toarray()"
   ]
  },
  {
   "cell_type": "code",
   "execution_count": null,
   "metadata": {},
   "outputs": [],
   "source": []
  },
  {
   "cell_type": "markdown",
   "metadata": {},
   "source": [
    "Broj ne-nula (engl. non-zero) elemenata retke matrice se može dobiti svojstvom `nnz` ili pozivom funkcije `count_nonzero`, a sami indeksi elemenata pozivom funkcije `nonzero`."
   ]
  },
  {
   "cell_type": "code",
   "execution_count": 31,
   "metadata": {},
   "outputs": [
    {
     "data": {
      "text/plain": [
       "14"
      ]
     },
     "execution_count": 31,
     "metadata": {},
     "output_type": "execute_result"
    }
   ],
   "source": [
    "A.nnz"
   ]
  },
  {
   "cell_type": "code",
   "execution_count": 32,
   "metadata": {},
   "outputs": [
    {
     "data": {
      "text/plain": [
       "14"
      ]
     },
     "execution_count": 32,
     "metadata": {},
     "output_type": "execute_result"
    }
   ],
   "source": [
    "A.count_nonzero()"
   ]
  },
  {
   "cell_type": "code",
   "execution_count": 33,
   "metadata": {},
   "outputs": [
    {
     "data": {
      "text/plain": [
       "(array([1, 2, 5, 2, 4, 6, 1, 3, 4, 0, 1, 6, 3, 4], dtype=int32),\n",
       " array([0, 0, 0, 1, 1, 1, 2, 2, 2, 3, 3, 3, 4, 4], dtype=int32))"
      ]
     },
     "execution_count": 33,
     "metadata": {},
     "output_type": "execute_result"
    }
   ],
   "source": [
    "A.nonzero()"
   ]
  },
  {
   "cell_type": "code",
   "execution_count": null,
   "metadata": {},
   "outputs": [],
   "source": []
  },
  {
   "cell_type": "markdown",
   "metadata": {},
   "source": [
    "Na osnovu broja ne-nula vrednosti se može izraćunati koeficijent retkosti matrice po formuli $1 - \\frac{broj\\ ne-nula\\ elemenata\\ matrice}{ukupan\\ broj\\ elemenata\\ matrice}$."
   ]
  },
  {
   "cell_type": "code",
   "execution_count": 34,
   "metadata": {},
   "outputs": [
    {
     "data": {
      "text/plain": [
       "(7, 5)"
      ]
     },
     "execution_count": 34,
     "metadata": {},
     "output_type": "execute_result"
    }
   ],
   "source": [
    "A.shape"
   ]
  },
  {
   "cell_type": "code",
   "execution_count": 35,
   "metadata": {},
   "outputs": [],
   "source": [
    "sparsity = 1.0 - A.count_nonzero() / (A.shape[0] * A.shape[1])"
   ]
  },
  {
   "cell_type": "code",
   "execution_count": 36,
   "metadata": {},
   "outputs": [
    {
     "data": {
      "text/plain": [
       "0.6"
      ]
     },
     "execution_count": 36,
     "metadata": {},
     "output_type": "execute_result"
    }
   ],
   "source": [
    "sparsity"
   ]
  },
  {
   "cell_type": "code",
   "execution_count": null,
   "metadata": {},
   "outputs": [],
   "source": []
  },
  {
   "cell_type": "markdown",
   "metadata": {},
   "source": [
    "Za vizuelizaciju retkih matrica može se iskoristiti funkcija `spy` biblioteke `matplotlib`. Ova funkcija prikazuje samo vrednosti različite od nule na odgovarajućoj 2D mreži čije dimenzije odgovaraju dimenziji matrice pa se uz brojčane vrednosti može steći utisak o strukturi matrice. "
   ]
  },
  {
   "cell_type": "code",
   "execution_count": 37,
   "metadata": {},
   "outputs": [
    {
     "data": {
      "image/png": "[encoded data removed]",
      "text/plain": [
       "<Figure size 432x288 with 1 Axes>"
      ]
     },
     "metadata": {
      "needs_background": "light"
     },
     "output_type": "display_data"
    }
   ],
   "source": [
    "plt.spy(array)\n",
    "plt.show()"
   ]
  },
  {
   "cell_type": "code",
   "execution_count": 38,
   "metadata": {},
   "outputs": [
    {
     "data": {
      "image/png": "[encoded data removed]",
      "text/plain": [
       "<Figure size 432x288 with 1 Axes>"
      ]
     },
     "metadata": {
      "needs_background": "light"
     },
     "output_type": "display_data"
    }
   ],
   "source": [
    "plt.spy(sparse_array)\n",
    "plt.show()"
   ]
  },
  {
   "cell_type": "code",
   "execution_count": null,
   "metadata": {},
   "outputs": [],
   "source": []
  },
  {
   "cell_type": "markdown",
   "metadata": {},
   "source": [
    "Uporedimo razlike u veličinama gustih i retkih matrica. Skup podataka sa kojim ćemo eksperimentisati će biti uzorkovan iz binomne raspodele sa verovatnoćom uspeha 0.1 i biće dimenzija 2000x10000.  "
   ]
  },
  {
   "cell_type": "code",
   "execution_count": 39,
   "metadata": {},
   "outputs": [],
   "source": [
    "dense_dataset = np.random.binomial(1, 0.1, 20000000).reshape(2000,10000)  \n",
    "sparse_dataset = sparse.csr_matrix(dense_dataset)"
   ]
  },
  {
   "cell_type": "code",
   "execution_count": 40,
   "metadata": {},
   "outputs": [
    {
     "data": {
      "text/plain": [
       "<matplotlib.image.AxesImage at 0x1160d5710>"
      ]
     },
     "execution_count": 40,
     "metadata": {},
     "output_type": "execute_result"
    },
    {
     "data": {
      "image/png": "[encoded data removed]",
      "text/plain": [
       "<Figure size 432x288 with 1 Axes>"
      ]
     },
     "metadata": {
      "needs_background": "light"
     },
     "output_type": "display_data"
    }
   ],
   "source": [
    "plt.spy(dense_dataset)"
   ]
  },
  {
   "cell_type": "markdown",
   "metadata": {},
   "source": [
    "Memorijska veličina nizova se može dobiti svojstvom `nbytes`. Mi ćemo je računati izraženu u megabajtima. "
   ]
  },
  {
   "cell_type": "code",
   "execution_count": 41,
   "metadata": {},
   "outputs": [],
   "source": [
    "dense_dataset_size = dense_dataset.nbytes/1e6\n",
    "sparse_dataset_size = (sparse_dataset.data.nbytes + sparse_dataset.indptr.nbytes + sparse_dataset.indices.nbytes)/1e6"
   ]
  },
  {
   "cell_type": "code",
   "execution_count": null,
   "metadata": {},
   "outputs": [],
   "source": []
  },
  {
   "cell_type": "code",
   "execution_count": 42,
   "metadata": {},
   "outputs": [
    {
     "data": {
      "image/png": "[encoded data removed]",
      "text/plain": [
       "<Figure size 432x288 with 1 Axes>"
      ]
     },
     "metadata": {
      "needs_background": "light"
     },
     "output_type": "display_data"
    }
   ],
   "source": [
    "plt.ylabel('in MB')\n",
    "plt.title('Memory usage')\n",
    "plt.bar(['dense', 'sparse'], [dense_dataset_size, sparse_dataset_size], color=['orange', 'cadetblue'])\n",
    "plt.show()"
   ]
  },
  {
   "cell_type": "code",
   "execution_count": null,
   "metadata": {},
   "outputs": [],
   "source": []
  },
  {
   "cell_type": "markdown",
   "metadata": {},
   "source": [
    "Uporedimo sada i vremensku dimenziju rada sa gustim i retkim matricama. Matrice su istih oblika (imaju istu vrednost `shape` svojstva, ali imaju različite veličine tj. različit broj elemenata koji možemo da pročitamo svojstvom `size`)."
   ]
  },
  {
   "cell_type": "code",
   "execution_count": 43,
   "metadata": {},
   "outputs": [
    {
     "data": {
      "text/plain": [
       "(2000, 10000)"
      ]
     },
     "execution_count": 43,
     "metadata": {},
     "output_type": "execute_result"
    }
   ],
   "source": [
    "dense_dataset.shape"
   ]
  },
  {
   "cell_type": "code",
   "execution_count": 44,
   "metadata": {},
   "outputs": [
    {
     "data": {
      "text/plain": [
       "20000000"
      ]
     },
     "execution_count": 44,
     "metadata": {},
     "output_type": "execute_result"
    }
   ],
   "source": [
    "dense_dataset.size"
   ]
  },
  {
   "cell_type": "code",
   "execution_count": 45,
   "metadata": {},
   "outputs": [
    {
     "data": {
      "text/plain": [
       "(2000, 10000)"
      ]
     },
     "execution_count": 45,
     "metadata": {},
     "output_type": "execute_result"
    }
   ],
   "source": [
    "sparse_dataset.shape"
   ]
  },
  {
   "cell_type": "code",
   "execution_count": 46,
   "metadata": {},
   "outputs": [
    {
     "data": {
      "text/plain": [
       "2002417"
      ]
     },
     "execution_count": 46,
     "metadata": {},
     "output_type": "execute_result"
    }
   ],
   "source": [
    "sparse_dataset.size"
   ]
  },
  {
   "cell_type": "markdown",
   "metadata": {},
   "source": [
    "Koristićemo paket `time` za merenje vremena potrebnog za izvršavanje algebarskih operacija. Pratićemo izračunavanje proizvoda $MM^T$ zadate matrice $M$."
   ]
  },
  {
   "cell_type": "code",
   "execution_count": 47,
   "metadata": {},
   "outputs": [],
   "source": [
    "from time import time"
   ]
  },
  {
   "cell_type": "code",
   "execution_count": null,
   "metadata": {},
   "outputs": [],
   "source": []
  },
  {
   "cell_type": "code",
   "execution_count": 48,
   "metadata": {},
   "outputs": [],
   "source": [
    "def print_time(M):\n",
    "    start = time()\n",
    "    result = np.dot(M, M.T)\n",
    "    end = time()\n",
    "    \n",
    "    print('Time (in seconds): ', end - start)"
   ]
  },
  {
   "cell_type": "code",
   "execution_count": null,
   "metadata": {},
   "outputs": [],
   "source": []
  },
  {
   "cell_type": "code",
   "execution_count": 49,
   "metadata": {},
   "outputs": [
    {
     "name": "stdout",
     "output_type": "stream",
     "text": [
      "Time (in seconds):  39.980648040771484\n"
     ]
    }
   ],
   "source": [
    "print_time(dense_dataset)"
   ]
  },
  {
   "cell_type": "code",
   "execution_count": 50,
   "metadata": {},
   "outputs": [
    {
     "name": "stdout",
     "output_type": "stream",
     "text": [
      "Time (in seconds):  1.682831048965454\n"
     ]
    }
   ],
   "source": [
    "print_time(sparse_dataset)"
   ]
  },
  {
   "cell_type": "code",
   "execution_count": null,
   "metadata": {},
   "outputs": [],
   "source": []
  },
  {
   "cell_type": "markdown",
   "metadata": {},
   "source": [
    "Pojedinačnim elementima retkih matrica se **ne** može pristupiti na uobičajen način za sve formate. Na primer, `coo` format ne dozvoljava indeksiranje, dok `csr` format dozvoljava."
   ]
  },
  {
   "cell_type": "code",
   "execution_count": 51,
   "metadata": {},
   "outputs": [],
   "source": [
    "sparse_matrix = sparse.random(m=5, n=5, density=0.4, format='coo')"
   ]
  },
  {
   "cell_type": "code",
   "execution_count": 52,
   "metadata": {},
   "outputs": [
    {
     "ename": "TypeError",
     "evalue": "'coo_matrix' object is not subscriptable",
     "output_type": "error",
     "traceback": [
      "\u001b[0;31m---------------------------------------------------------------------------\u001b[0m",
      "\u001b[0;31mTypeError\u001b[0m                                 Traceback (most recent call last)",
      "\u001b[0;32m<ipython-input-52-bcf6803d8a6c>\u001b[0m in \u001b[0;36m<module>\u001b[0;34m\u001b[0m\n\u001b[0;32m----> 1\u001b[0;31m \u001b[0msparse_matrix\u001b[0m\u001b[0;34m[\u001b[0m\u001b[0;36m1\u001b[0m\u001b[0;34m,\u001b[0m \u001b[0;36m1\u001b[0m\u001b[0;34m]\u001b[0m\u001b[0;34m\u001b[0m\u001b[0;34m\u001b[0m\u001b[0m\n\u001b[0m",
      "\u001b[0;31mTypeError\u001b[0m: 'coo_matrix' object is not subscriptable"
     ]
    }
   ],
   "source": [
    "sparse_matrix[1, 1]"
   ]
  },
  {
   "cell_type": "code",
   "execution_count": 53,
   "metadata": {},
   "outputs": [],
   "source": [
    "sparse_matrix = sparse.random(m=5, n=5, density=0.4, format='csr')"
   ]
  },
  {
   "cell_type": "code",
   "execution_count": 54,
   "metadata": {},
   "outputs": [
    {
     "data": {
      "text/plain": [
       "0.293857765691545"
      ]
     },
     "execution_count": 54,
     "metadata": {},
     "output_type": "execute_result"
    }
   ],
   "source": [
    "sparse_matrix[1, 1]"
   ]
  },
  {
   "cell_type": "code",
   "execution_count": null,
   "metadata": {},
   "outputs": [],
   "source": []
  },
  {
   "cell_type": "markdown",
   "metadata": {},
   "source": [
    "Uvek se mogu pročitati vrste ili kolone retkih matrica, ali će i one biti retki nizovi (matrice) sami po sebi. "
   ]
  },
  {
   "cell_type": "code",
   "execution_count": 55,
   "metadata": {},
   "outputs": [
    {
     "data": {
      "text/plain": [
       "<1x5 sparse matrix of type '<class 'numpy.float64'>'\n",
       "\twith 3 stored elements in Compressed Sparse Row format>"
      ]
     },
     "execution_count": 55,
     "metadata": {},
     "output_type": "execute_result"
    }
   ],
   "source": [
    "sparse_matrix.getrow(1)"
   ]
  },
  {
   "cell_type": "code",
   "execution_count": 56,
   "metadata": {},
   "outputs": [
    {
     "data": {
      "text/plain": [
       "<5x1 sparse matrix of type '<class 'numpy.float64'>'\n",
       "\twith 2 stored elements in Compressed Sparse Row format>"
      ]
     },
     "execution_count": 56,
     "metadata": {},
     "output_type": "execute_result"
    }
   ],
   "source": [
    "sparse_matrix.getcol(1)"
   ]
  },
  {
   "cell_type": "code",
   "execution_count": null,
   "metadata": {},
   "outputs": [],
   "source": []
  },
  {
   "cell_type": "markdown",
   "metadata": {},
   "source": [
    "Nadalje sledi funkcija kojom se može pročitati vrednost elementa na poziciji `(i, j)` matrice `matrix` u `coo` formatu."
   ]
  },
  {
   "cell_type": "code",
   "execution_count": 57,
   "metadata": {},
   "outputs": [],
   "source": [
    "def get_item_coo(i, j, matrix):\n",
    "\n",
    "    if i < 0 or i >= matrix.shape[0] or j < 0 or j >= matrix.shape[1]:\n",
    "        raise IndexError('Index is out of bounds!')\n",
    "\n",
    "    for (r, c, v) in zip(matrix.row, matrix.col, matrix.data):\n",
    "        if r == i and c == j:\n",
    "            return v\n",
    "    return 0"
   ]
  },
  {
   "cell_type": "markdown",
   "metadata": {},
   "source": [
    "Testirajmo kako funkcija radi nad matricom oprisanom nizom `array`. Podsetimo se njenog sadržaja."
   ]
  },
  {
   "cell_type": "code",
   "execution_count": 58,
   "metadata": {},
   "outputs": [
    {
     "data": {
      "text/plain": [
       "array([[ 1,  0, 13,  0,  0],\n",
       "       [ 0,  2,  0, 14,  0],\n",
       "       [ 0,  0,  3,  0, 15],\n",
       "       [ 6,  0,  0,  4,  0],\n",
       "       [ 0,  7,  0,  0,  5],\n",
       "       [ 0,  0,  8,  0,  0],\n",
       "       [ 0,  0,  0,  9,  0]])"
      ]
     },
     "execution_count": 58,
     "metadata": {},
     "output_type": "execute_result"
    }
   ],
   "source": [
    "array"
   ]
  },
  {
   "cell_type": "code",
   "execution_count": 59,
   "metadata": {},
   "outputs": [
    {
     "data": {
      "text/plain": [
       "9"
      ]
     },
     "execution_count": 59,
     "metadata": {},
     "output_type": "execute_result"
    }
   ],
   "source": [
    "get_item_coo(6, 3, sparse.coo_matrix(array))"
   ]
  },
  {
   "cell_type": "markdown",
   "metadata": {},
   "source": [
    "Funkcija kojom se može pročitati vrednost elementa na poziciji `(i, j)` matrice `matrix` u `csr` formatu je data niže."
   ]
  },
  {
   "cell_type": "code",
   "execution_count": 60,
   "metadata": {},
   "outputs": [],
   "source": [
    "def get_item_csr(i, j, matrix):\n",
    "    \n",
    "    if i < 0 or i >= matrix.shape[0] or j < 0 or j >= matrix.shape[1]:\n",
    "        raise IndexError('Index is out of bounds!')\n",
    "        \n",
    "    # ocitavamo vrednosti elemenata i-te vrste\n",
    "    start = matrix.indptr[i]\n",
    "    end = matrix.indptr[i + 1]\n",
    "    row_values = matrix.data[start:end]\n",
    "\n",
    "    \n",
    "    # ocitavamo indekse kolona elemenata koji se nalaze u i-toj vrsti \n",
    "    column_indices = list(matrix.indices[start:end])\n",
    "\n",
    "    # ocitavamo vrednost elementa\n",
    "    try:\n",
    "        value_index = column_indices.index(j)\n",
    "        return row_values[value_index]\n",
    "    except ValueError:\n",
    "        return 0"
   ]
  },
  {
   "cell_type": "markdown",
   "metadata": {},
   "source": [
    "Testirajmo opet kako funkcija radi nad matricom oprisanom nizom `array`. "
   ]
  },
  {
   "cell_type": "code",
   "execution_count": 61,
   "metadata": {},
   "outputs": [
    {
     "data": {
      "text/plain": [
       "5"
      ]
     },
     "execution_count": 61,
     "metadata": {},
     "output_type": "execute_result"
    }
   ],
   "source": [
    "get_item_csr(4, 4, sparse.csr_matrix(array))"
   ]
  },
  {
   "cell_type": "code",
   "execution_count": null,
   "metadata": {},
   "outputs": [],
   "source": []
  },
  {
   "cell_type": "markdown",
   "metadata": {},
   "source": [
    "Na nivou `linalg` paketa biblioteke `scipy` su podržane algebarske funkcije za rad nad ovakvim tipom matrica. "
   ]
  },
  {
   "cell_type": "code",
   "execution_count": 62,
   "metadata": {},
   "outputs": [],
   "source": [
    "from scipy.sparse import linalg"
   ]
  },
  {
   "cell_type": "code",
   "execution_count": 63,
   "metadata": {},
   "outputs": [
    {
     "data": {
      "text/plain": [
       "(array([0.88307837+0.j        , 0.27119443-0.16655385j]),\n",
       " array([[ 0.02603584+0.j        ,  0.18212017-0.16939369j],\n",
       "        [ 0.80095398+0.j        , -0.37223701-0.79093172j],\n",
       "        [ 0.01375568+0.j        ,  0.35746784-0.07188594j],\n",
       "        [ 0.59748365+0.j        , -0.15664585+0.10411517j],\n",
       "        [ 0.02487813+0.j        ,  0.00833651-0.07487602j]]))"
      ]
     },
     "execution_count": 63,
     "metadata": {},
     "output_type": "execute_result"
    }
   ],
   "source": [
    "linalg.eigs(sparse_matrix, k=2)"
   ]
  },
  {
   "cell_type": "code",
   "execution_count": 64,
   "metadata": {},
   "outputs": [
    {
     "data": {
      "text/plain": [
       "1.5895708863719444"
      ]
     },
     "execution_count": 64,
     "metadata": {},
     "output_type": "execute_result"
    }
   ],
   "source": [
    "linalg.norm(sparse_matrix)"
   ]
  },
  {
   "cell_type": "code",
   "execution_count": null,
   "metadata": {},
   "outputs": [],
   "source": []
  }
 ],
 "metadata": {
  "kernelspec": {
   "display_name": "Python 3",
   "language": "python",
   "name": "python3"
  },
  "language_info": {
   "codemirror_mode": {
    "name": "ipython",
    "version": 3
   },
   "file_extension": ".py",
   "mimetype": "text/x-python",
   "name": "python",
   "nbconvert_exporter": "python",
   "pygments_lexer": "ipython3",
   "version": "3.7.6"
  }
 },
 "nbformat": 4,
 "nbformat_minor": 4
}
