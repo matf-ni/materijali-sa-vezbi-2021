{
 "cells": [
  {
   "cell_type": "markdown",
   "id": "ad0d01ff",
   "metadata": {},
   "source": [
    "# Pyomo -  Linearno programiranje"
   ]
  },
  {
   "cell_type": "markdown",
   "id": "3518976d",
   "metadata": {},
   "source": [
    "Ovaj primer ilustruje korišćenje biblioteke Pyomo u radu sa zadacima linearnog programiranja. Rešavač koji ćemo koristiti se zove <a href='https://www.gnu.org/software/glpk/'>GLPK</a> (GNU Linear Programming Kit) i predstavlja zapravo grupu rešavača (uključuje simpleks metod, metod unutrašnje tačke, metod *branch-and-cut* i mnoge druge). GLPK je potrebno instalirati naredbom `conda install -c conda-forge glpk` pre daljeg rada.  "
   ]
  },
  {
   "cell_type": "code",
   "execution_count": 1,
   "id": "6efa82f8",
   "metadata": {},
   "outputs": [],
   "source": [
    "import numpy as np\n",
    "from matplotlib import pyplot as plt\n",
    "import os"
   ]
  },
  {
   "cell_type": "code",
   "execution_count": 2,
   "id": "d5a64152",
   "metadata": {},
   "outputs": [],
   "source": [
    "from pyomo.environ import *"
   ]
  },
  {
   "cell_type": "code",
   "execution_count": null,
   "id": "0baa3aa7",
   "metadata": {},
   "outputs": [],
   "source": []
  },
  {
   "cell_type": "markdown",
   "id": "e8fc2fdf",
   "metadata": {},
   "source": [
    "Zadatak koji ćemo rešavati tiče se optimizovanja proizvodnje jedne fabrike. Naime, fabrika proizvodi dva tipa proizvoda `X` i `Y` koji joj na mesečnom nivou po proizvedenom primerku donose profit od, redom, 40 dolara i 30 dolara. Da bi se proizveo proizvod `X` potreban je jedan sat rada radnika `A` i dva sata rada radnika `B`, a da bi se proizveo proizvod `Y` po jedan sat rada radnika `A` i `B`. Ako radnik `A` mesečno radi 80 sati, a radnik `B` 100 sati i ako je poznato da tržište zahteva najviše 40 primeraka proizvoda `X`, kako organizovati proizvodnju ove fabrike tako da profit bude što je moguće veći? "
   ]
  },
  {
   "cell_type": "markdown",
   "id": "489702b9",
   "metadata": {},
   "source": [
    "Ako sa $x$ obeležimo broj proizvoda tipa $X$, a sa $y$ broj proizvoda tipa $Y$, problem koji treba optimizovati se svodi na maksimizaciju izraza $$40\\cdot x+30\\cdot y$$ uz ograničenja \n",
    "$$x \\le 40$$ \n",
    "$$2\\cdot x+1\\cdot y \\le 80$$ \n",
    "$$1\\cdot x+1\\cdot y \\le 100$$"
   ]
  },
  {
   "cell_type": "code",
   "execution_count": null,
   "id": "fb44db5a",
   "metadata": {},
   "outputs": [],
   "source": []
  },
  {
   "cell_type": "markdown",
   "id": "cefe0504",
   "metadata": {},
   "source": [
    "Prvo ćemo kreirati sam model pozivom funkcije `ConcreteModel`."
   ]
  },
  {
   "cell_type": "code",
   "execution_count": 3,
   "id": "5da2edbe",
   "metadata": {},
   "outputs": [],
   "source": [
    "model = ConcreteModel()"
   ]
  },
  {
   "cell_type": "code",
   "execution_count": null,
   "id": "c0f4b006",
   "metadata": {},
   "outputs": [],
   "source": []
  },
  {
   "cell_type": "markdown",
   "id": "9bda9d93",
   "metadata": {},
   "source": [
    "Zatim ćemo uvesti promenljive modela $x$ i $y$ korišćenjem funkcije `Var` koje redom predstavljaju broj proizvoda tipa $X$ tj. $Y$. Za navođenje domena ovih promenljivih iskoristićemo parametar `domain` i njegovu vrednost predstaviti na `NonNegativeReals` tj. na negativan realan broj. Biblioteka uz ovaj tip podržava i tipove `Reals` i `Binary`. Alternativno, umesto parametra `domain` može se koristiti parametar `within`. "
   ]
  },
  {
   "cell_type": "code",
   "execution_count": 4,
   "id": "9dee8eb5",
   "metadata": {},
   "outputs": [],
   "source": [
    "model.x = Var(domain=NonNegativeReals)"
   ]
  },
  {
   "cell_type": "code",
   "execution_count": 5,
   "id": "866ce22d",
   "metadata": {},
   "outputs": [],
   "source": [
    "model.y = Var(domain=NonNegativeReals)"
   ]
  },
  {
   "cell_type": "code",
   "execution_count": null,
   "id": "b65c3039",
   "metadata": {},
   "outputs": [],
   "source": []
  },
  {
   "cell_type": "markdown",
   "id": "25ecda08",
   "metadata": {},
   "source": [
    "Zatim ćemo definisati ciljnu funkciju modela, korišćenjem funkcije `Objective`. Parametrom `sense` naglasićemo da je reč o zadatku maksimizacije. Posebno, parametrom `name` ćemo imenovati i ciljnu funkciju."
   ]
  },
  {
   "cell_type": "code",
   "execution_count": 6,
   "id": "a7f29351",
   "metadata": {},
   "outputs": [],
   "source": [
    "model.profit = Objective(expr=40*model.x + 30*model.y, sense=maximize, name='profit')"
   ]
  },
  {
   "cell_type": "code",
   "execution_count": null,
   "id": "845b3c7a",
   "metadata": {},
   "outputs": [],
   "source": []
  },
  {
   "cell_type": "markdown",
   "id": "fe668966",
   "metadata": {},
   "source": [
    "Ograničenja koja su navedena uslovom zadatka konstruisaćemo funkcijom `Constraint`. Parametrom `expr` ove funkcije se može zadati izraz kojim je određeno ograničenje, a opciono parametrima `name` i `doc` se mogu imenovati i objasniti uvedena ograničenja. Konstruisana ograničenja pridružićemo modelu preko imenovanih svojstava. Mi ćemo koristiti svojstva `demand`, `laborA` i `laborB` koja redom opisuju ograničenja tržišta i uslove rada radnika A i B."
   ]
  },
  {
   "cell_type": "code",
   "execution_count": 7,
   "id": "b5091cc9",
   "metadata": {},
   "outputs": [],
   "source": [
    "model.demand = Constraint(expr= model.x <= 40)"
   ]
  },
  {
   "cell_type": "code",
   "execution_count": 8,
   "id": "2037aba1",
   "metadata": {},
   "outputs": [],
   "source": [
    "model.laborA = Constraint(expr= model.x + model.y <= 80)"
   ]
  },
  {
   "cell_type": "code",
   "execution_count": 9,
   "id": "2911e927",
   "metadata": {},
   "outputs": [],
   "source": [
    "model.laborB = Constraint(expr= 2*model.x + model.y <= 100)"
   ]
  },
  {
   "cell_type": "code",
   "execution_count": null,
   "id": "5ad74e48",
   "metadata": {},
   "outputs": [],
   "source": []
  },
  {
   "cell_type": "markdown",
   "id": "72738a67",
   "metadata": {},
   "source": [
    "Informacije o konstruisnom modelu možemo još jednom proveriti pozivom funkcije `pprint` koja ispisuje uvedene promenljive, ogrančenja i formu ciljne funkcije."
   ]
  },
  {
   "cell_type": "code",
   "execution_count": 10,
   "id": "f257a928",
   "metadata": {},
   "outputs": [
    {
     "name": "stdout",
     "output_type": "stream",
     "text": [
      "2 Var Declarations\n",
      "    x : Size=1, Index=None\n",
      "        Key  : Lower : Value : Upper : Fixed : Stale : Domain\n",
      "        None :     0 :  None :  None : False :  True : NonNegativeReals\n",
      "    y : Size=1, Index=None\n",
      "        Key  : Lower : Value : Upper : Fixed : Stale : Domain\n",
      "        None :     0 :  None :  None : False :  True : NonNegativeReals\n",
      "\n",
      "1 Objective Declarations\n",
      "    profit : Size=1, Index=None, Active=True\n",
      "        Key  : Active : Sense    : Expression\n",
      "        None :   True : maximize : 40*x + 30*y\n",
      "\n",
      "3 Constraint Declarations\n",
      "    demand : Size=1, Index=None, Active=True\n",
      "        Key  : Lower : Body : Upper : Active\n",
      "        None :  -Inf :    x :  40.0 :   True\n",
      "    laborA : Size=1, Index=None, Active=True\n",
      "        Key  : Lower : Body  : Upper : Active\n",
      "        None :  -Inf : x + y :  80.0 :   True\n",
      "    laborB : Size=1, Index=None, Active=True\n",
      "        Key  : Lower : Body    : Upper : Active\n",
      "        None :  -Inf : 2*x + y : 100.0 :   True\n",
      "\n",
      "6 Declarations: x y profit demand laborA laborB\n"
     ]
    }
   ],
   "source": [
    "model.pprint()"
   ]
  },
  {
   "cell_type": "code",
   "execution_count": null,
   "id": "5bfa6811",
   "metadata": {},
   "outputs": [],
   "source": []
  },
  {
   "cell_type": "markdown",
   "id": "d5120aad",
   "metadata": {},
   "source": [
    "Kao što je najavljano, za rešavanje modela iskoristićemo rešavač GLPK. Prvo ćemo ga konstrusati funkcijom `SolverFactory`, a potom ćemo rešiti optimizacioni problem pozivom njegove funkcije `solve`. Rezultat rešavanja sačuvaćemo na nivou povratne vrednosti `result`. "
   ]
  },
  {
   "cell_type": "code",
   "execution_count": 11,
   "id": "a68ddf4c",
   "metadata": {},
   "outputs": [],
   "source": [
    "result = SolverFactory('glpk').solve(model)"
   ]
  },
  {
   "cell_type": "code",
   "execution_count": null,
   "id": "77c5082d",
   "metadata": {},
   "outputs": [],
   "source": []
  },
  {
   "cell_type": "markdown",
   "id": "e4eafd64",
   "metadata": {},
   "source": [
    "Status rešavača nakon rešavanja možemo proveriti svojstvom `status`. Ukoliko je njegova vrednost `ok`, rešavač je uspešno završio pa možemo dalje ispisati rezultate rešavača. Vrednosti traženih promenljivih, kao i vrednost ciljne funkcije možemo pročitati korišćenjem funkcija čija imena odgovaraju imenima svojstava uvedenih na nivou modela."
   ]
  },
  {
   "cell_type": "code",
   "execution_count": 12,
   "id": "7fc0ba28",
   "metadata": {},
   "outputs": [
    {
     "name": "stdout",
     "output_type": "stream",
     "text": [
      "Profit =  2600.0\n",
      "\n",
      "Decision variables: \n",
      "x =  20.0\n",
      "y =  60.0\n",
      "\n",
      "Constraints: \n",
      "Demand  =  20.0\n",
      "Labor A =  80.0\n",
      "Labor B =  100.0\n"
     ]
    }
   ],
   "source": [
    "if result.solver.status == 'ok':\n",
    "    print('Profit = ', model.profit())\n",
    " \n",
    "    print('\\nDecision variables: ')\n",
    "    print('x = ', model.x())\n",
    "    print('y = ', model.y())\n",
    "\n",
    "    print('\\nConstraints: ')\n",
    "    print('Demand  = ', model.demand())\n",
    "    print('Labor A = ', model.laborA())\n",
    "    print('Labor B = ', model.laborB())"
   ]
  },
  {
   "cell_type": "code",
   "execution_count": null,
   "id": "d4bdda59",
   "metadata": {},
   "outputs": [],
   "source": []
  },
  {
   "cell_type": "markdown",
   "id": "2946b360",
   "metadata": {},
   "source": [
    "Propratne informacije vezane za rad rešavača možemo očitati pozivom funkcije `write` na nivou samog rezultata `result`."
   ]
  },
  {
   "cell_type": "code",
   "execution_count": 13,
   "id": "92e27b29",
   "metadata": {},
   "outputs": [
    {
     "name": "stdout",
     "output_type": "stream",
     "text": [
      "# ==========================================================\n",
      "# = Solver Results                                         =\n",
      "# ==========================================================\n",
      "# ----------------------------------------------------------\n",
      "#   Problem Information\n",
      "# ----------------------------------------------------------\n",
      "Problem: \n",
      "- Name: unknown\n",
      "  Lower bound: 2600.0\n",
      "  Upper bound: 2600.0\n",
      "  Number of objectives: 1\n",
      "  Number of constraints: 4\n",
      "  Number of variables: 3\n",
      "  Number of nonzeros: 6\n",
      "  Sense: maximize\n",
      "# ----------------------------------------------------------\n",
      "#   Solver Information\n",
      "# ----------------------------------------------------------\n",
      "Solver: \n",
      "- Status: ok\n",
      "  Termination condition: optimal\n",
      "  Statistics: \n",
      "    Branch and bound: \n",
      "      Number of bounded subproblems: 0\n",
      "      Number of created subproblems: 0\n",
      "  Error rc: 0\n",
      "  Time: 0.015925168991088867\n",
      "# ----------------------------------------------------------\n",
      "#   Solution Information\n",
      "# ----------------------------------------------------------\n",
      "Solution: \n",
      "- number of solutions: 0\n",
      "  number of solutions displayed: 0\n"
     ]
    }
   ],
   "source": [
    "result.write()"
   ]
  },
  {
   "cell_type": "code",
   "execution_count": null,
   "id": "578c5fca",
   "metadata": {},
   "outputs": [],
   "source": []
  },
  {
   "cell_type": "markdown",
   "id": "45f232f3",
   "metadata": {},
   "source": [
    "Pošto se zbog svoje forme za male dimenzije linearni modeli često i grafički predstavljaju, nadalje sledi prikaz ograničenja kao i površine koja predstavlja prostor dopustivih rešenja."
   ]
  },
  {
   "cell_type": "code",
   "execution_count": 14,
   "id": "013df55e",
   "metadata": {},
   "outputs": [
    {
     "data": {
      "image/png": "[encoded data removed]",
      "text/plain": [
       "<Figure size 432x432 with 1 Axes>"
      ]
     },
     "metadata": {
      "needs_background": "light"
     },
     "output_type": "display_data"
    }
   ],
   "source": [
    "# podešavamo panel za crtanje \n",
    "plt.figure(figsize=(6, 6))\n",
    "plt.axis([0, 100, 0, 100])\n",
    "plt.xlabel('Proizvodnja proizvoda X')\n",
    "plt.ylabel('Proizvodnja proizvoda Y')\n",
    "\n",
    "# predstavljamo ograničenja radnika A\n",
    "x = np.array([0, 80])\n",
    "y = 80 - x\n",
    "plt.plot(x, y, 'r', lw=2)\n",
    "plt.fill_between([0, 80, 100], [80, 0, 0], [100, 100, 100], color='r', alpha=0.15)\n",
    "\n",
    "# predstavljamo ograničenja radnika B\n",
    "x = np.array([0, 50])\n",
    "y = 100 - 2*x\n",
    "plt.plot(x, y, 'b', lw=2)\n",
    "plt.fill_between([0, 50, 100], [100, 0, 0], [100, 100, 100], color='b', alpha=0.15)\n",
    "\n",
    "# predstavljamo uslove tržišta\n",
    "plt.plot([40, 40], [0, 100], 'g', lw=2)\n",
    "plt.fill_between([40, 100], [0, 0], [100, 100], color='g', alpha=0.15)\n",
    "\n",
    "plt.legend(['Ograničenja radnika A', 'Ograničenja radnika B', 'Ograničenja tržišta'])\n",
    "\n",
    "# dodajemo šrafuru\n",
    "x = np.array([0, 100])\n",
    "for p in np.linspace(0, 3600, 10):\n",
    "    y = (p - 40*x)/30\n",
    "    plt.plot(x, y, 'y--')\n",
    "\n",
    "    \n",
    "# dodajemo informacije o rešenju\n",
    "plt.plot(20, 60, 'r.', ms=20)\n",
    "plt.annotate('Optimalna proizvodnja', xy=(20, 60), xytext=(50, 70), arrowprops=dict(shrink=.1, width=1, headwidth=5))\n",
    "\n",
    "plt.text(4, 23, 'Uvećavanje profita')\n",
    "plt.annotate('', xy=(20, 15), xytext=(0, 0), arrowprops=dict(width=0.5, headwidth=5))\n",
    "\n",
    "# prikazujemo grafik\n",
    "plt.show()"
   ]
  },
  {
   "cell_type": "code",
   "execution_count": null,
   "id": "8d3de7c1",
   "metadata": {},
   "outputs": [],
   "source": []
  }
 ],
 "metadata": {
  "kernelspec": {
   "display_name": "Python 3",
   "language": "python",
   "name": "python3"
  },
  "language_info": {
   "codemirror_mode": {
    "name": "ipython",
    "version": 3
   },
   "file_extension": ".py",
   "mimetype": "text/x-python",
   "name": "python",
   "nbconvert_exporter": "python",
   "pygments_lexer": "ipython3",
   "version": "3.7.6"
  }
 },
 "nbformat": 4,
 "nbformat_minor": 5
}
