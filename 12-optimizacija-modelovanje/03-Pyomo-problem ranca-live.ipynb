{
 "cells": [
  {
   "cell_type": "markdown",
   "id": "d6028276",
   "metadata": {},
   "source": [
    "# Pyomo -  problem ranca"
   ]
  },
  {
   "cell_type": "markdown",
   "id": "e2338ba4",
   "metadata": {},
   "source": [
    "Problem čijim ćemo se rešavanjem baviti u ovoj svesci je takozvani `problem ranca` (engl. knapsack problem) u kojem je cilj iz skupa objekata zadate težine i vrednosti odabrati one čija se težina uklapa u kapacitete ranca ali tako da je ukupna vrednost najveća moguća. Ovaj zadatak se sreće u mnogim varijantama i spada u domen kombinatorne optimizacije. Može se rešavati korišćenjem dinamičkog programiranja, tehnikom *branch-and-bound* i drugima. Mi ćemo ga rešiti produbljivanjem mogućnosti Pyomo biblioteke. "
   ]
  },
  {
   "cell_type": "markdown",
   "id": "3876cf39",
   "metadata": {},
   "source": [
    "Varijanta problema koju ćemo posmatrati je takozvani `0-1 problem` u kojem se objekat u rancu može javiti najviše jednom. Naime, ako sa $i$, $i \\in \\{1, 2, ..., N\\}$ obeležimo indekse objekata čije su vrednosti $v_i$ i težine $w_i$, problem koji treba rešiti je $$max \\sum_{i=1}^{N}{v_ix_i}$$ uz uslove $ \\sum_{i=1}^{N}{w_ix_i}\\lt W$ i $x_i \\in \\{0, 1\\}$ za $i \\in \\{1, 2, ..., N\\}$ gde $W$ predstavlja kapacitet ranca."
   ]
  },
  {
   "cell_type": "code",
   "execution_count": null,
   "id": "22e01e1d",
   "metadata": {},
   "outputs": [],
   "source": []
  },
  {
   "cell_type": "code",
   "execution_count": 1,
   "id": "9c31d9fa",
   "metadata": {},
   "outputs": [],
   "source": [
    "from pyomo.environ import *"
   ]
  },
  {
   "cell_type": "code",
   "execution_count": null,
   "id": "c0e95e07",
   "metadata": {},
   "outputs": [],
   "source": []
  },
  {
   "cell_type": "markdown",
   "id": "ae10e373",
   "metadata": {},
   "source": [
    "Pretpostavimo da treba spakovati ranac za letnju pauzu. Na raspolaganju su predmeti šešir, naočare, knjiga, peškir i oprema za ronjenje čije su vrednosti redom 2, 8, 3, 4, i 10, a težine redom 1, 1, 2, 3, i 6. Ako je kapacitet ranca 9 kilograma, koje predmete treba izabrati?  <img src='assets/knapsack_problem.png'>"
   ]
  },
  {
   "cell_type": "code",
   "execution_count": null,
   "id": "6ad51c36",
   "metadata": {},
   "outputs": [],
   "source": []
  },
  {
   "cell_type": "markdown",
   "id": "51a877cd",
   "metadata": {},
   "source": [
    "Izdvojićemo informacije navedene uslovima zadatka."
   ]
  },
  {
   "cell_type": "code",
   "execution_count": 3,
   "id": "63dfaf9d",
   "metadata": {},
   "outputs": [],
   "source": [
    "items = ['hat', 'sunglasses', 'book', 'towel', 'snorkeling kit']\n",
    "values = {'hat':2, 'sunglasses':8, 'book':3, 'towel':4, 'snorkeling kit': 10}\n",
    "weights = {'hat':1, 'sunglasses':1, 'book':2, 'towel':3, 'snorkeling kit': 6}\n",
    "max_weight = 9"
   ]
  },
  {
   "cell_type": "code",
   "execution_count": null,
   "id": "6bb9dd4b",
   "metadata": {},
   "outputs": [],
   "source": []
  },
  {
   "cell_type": "code",
   "execution_count": null,
   "id": "a9d54f7f",
   "metadata": {},
   "outputs": [],
   "source": []
  },
  {
   "cell_type": "code",
   "execution_count": null,
   "id": "8f2f6bfa",
   "metadata": {},
   "outputs": [],
   "source": []
  },
  {
   "cell_type": "code",
   "execution_count": null,
   "id": "345eb203",
   "metadata": {},
   "outputs": [],
   "source": []
  },
  {
   "cell_type": "code",
   "execution_count": null,
   "id": "1a16869d",
   "metadata": {},
   "outputs": [],
   "source": []
  },
  {
   "cell_type": "code",
   "execution_count": null,
   "id": "46415e0b",
   "metadata": {},
   "outputs": [],
   "source": []
  },
  {
   "cell_type": "code",
   "execution_count": null,
   "id": "4403ae86",
   "metadata": {},
   "outputs": [],
   "source": []
  },
  {
   "cell_type": "code",
   "execution_count": null,
   "id": "cdc66d90",
   "metadata": {},
   "outputs": [],
   "source": []
  },
  {
   "cell_type": "code",
   "execution_count": null,
   "id": "d817f3fb",
   "metadata": {},
   "outputs": [],
   "source": []
  },
  {
   "cell_type": "code",
   "execution_count": null,
   "id": "c82072ec",
   "metadata": {},
   "outputs": [],
   "source": []
  },
  {
   "cell_type": "code",
   "execution_count": null,
   "id": "2e3adae5",
   "metadata": {},
   "outputs": [],
   "source": []
  },
  {
   "cell_type": "code",
   "execution_count": null,
   "id": "315e21ce",
   "metadata": {},
   "outputs": [],
   "source": []
  },
  {
   "cell_type": "code",
   "execution_count": null,
   "id": "ea730acb",
   "metadata": {},
   "outputs": [],
   "source": []
  },
  {
   "cell_type": "code",
   "execution_count": null,
   "id": "49977cd4",
   "metadata": {},
   "outputs": [],
   "source": []
  }
 ],
 "metadata": {
  "kernelspec": {
   "display_name": "Python 3",
   "language": "python",
   "name": "python3"
  },
  "language_info": {
   "codemirror_mode": {
    "name": "ipython",
    "version": 3
   },
   "file_extension": ".py",
   "mimetype": "text/x-python",
   "name": "python",
   "nbconvert_exporter": "python",
   "pygments_lexer": "ipython3",
   "version": "3.7.6"
  }
 },
 "nbformat": 4,
 "nbformat_minor": 5
}
