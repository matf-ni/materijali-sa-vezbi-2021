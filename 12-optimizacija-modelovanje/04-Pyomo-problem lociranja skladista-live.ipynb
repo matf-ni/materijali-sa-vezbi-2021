{
 "cells": [
  {
   "cell_type": "markdown",
   "id": "d3ab80b7",
   "metadata": {},
   "source": [
    "# Pyomo - problem lociranja skladišta"
   ]
  },
  {
   "cell_type": "markdown",
   "id": "479de76f",
   "metadata": {},
   "source": [
    "Problem lociranja skladišta (engl. warehouse location problem) treba da optimizuje troškove koji prate uparivanje potrošača i njihovih snadbevača tj. skladišta. Neka je $N$ skup potencijalnih lokacija skladišta/snadbevača, a $M$ skup lokacija potrošača. Za svako skladište $n$ i svakog potrošača $m$ neka je cena isporuke zadata sa $d_{n, m}$. Potrebno je odrediti lokacije skladišta tako da se minimizuje cena isporuke za sve potrošače. Binarne promenljive $y_n$ će označavati da li skladište treba da se izgradi ili ne, a promenljive $x_{n, m}$ će označavati deo potreba potrošača $m$ koji dolazi iz skladišta $n$. Broj $P$ će označavati dozvoljeni broj skladišta."
   ]
  },
  {
   "cell_type": "markdown",
   "id": "daa12d4d",
   "metadata": {},
   "source": [
    "Opisani problem se u matematičkim terminima može opisati na sledeći način: \n",
    "\n",
    "$$min \\sum_{n \\in N}\\sum_{m \\in M}{d_{n,m} x_{n, m}}$$ uz uslove \n",
    "\n",
    "$$\\sum_{n \\in N}{x_{n, m}} = 1\\ za\\ \\forall {m\\in M}$$\n",
    "\n",
    "$$x_{n, m} \\lt y_n\\ za\\ \\forall {n\\in N}\\, \\forall {m\\in M}$$\n",
    "\n",
    "$$\\sum_{n \\in N}{y_n}\\lt P$$ \n",
    "\n",
    "$$0 \\lt x \\lt 1$$\n",
    "\n",
    "$$y \\in \\{0, 1\\}$$\n"
   ]
  },
  {
   "cell_type": "code",
   "execution_count": 1,
   "id": "4bfc0268",
   "metadata": {},
   "outputs": [],
   "source": [
    "from matplotlib import pyplot as plt"
   ]
  },
  {
   "cell_type": "code",
   "execution_count": 2,
   "id": "0601eb8c",
   "metadata": {},
   "outputs": [],
   "source": [
    "from pyomo.environ import *"
   ]
  },
  {
   "cell_type": "markdown",
   "id": "1001e31e",
   "metadata": {},
   "source": [
    "U modelovanju ovog problema koristićemo sledeće podatke:"
   ]
  },
  {
   "cell_type": "code",
   "execution_count": 4,
   "id": "232a66e8",
   "metadata": {},
   "outputs": [],
   "source": [
    "locations = ['Harlingen', 'Memphis', 'Ashland'] # N\n",
    "customers = ['NYC', 'LA', 'Chicago', 'Houston'] # M"
   ]
  },
  {
   "cell_type": "code",
   "execution_count": 5,
   "id": "659b4d2b",
   "metadata": {},
   "outputs": [],
   "source": [
    "costs = {\n",
    "    ('Harlingen', 'NYC'): 1956, \\\n",
    "    ('Harlingen', 'LA'): 1606, \\\n",
    "    ('Harlingen', 'Chicago'): 1410, \\\n",
    "    ('Harlingen', 'Houston'): 330, \\\n",
    "    ('Memphis', 'NYC'): 1096, \\\n",
    "    ('Memphis', 'LA'): 1792, \\\n",
    "    ('Memphis', 'Chicago'): 531, \\\n",
    "    ('Memphis', 'Houston'): 567, \\\n",
    "    ('Ashland', 'NYC'): 485, \\\n",
    "    ('Ashland', 'LA'): 2322, \\\n",
    "    ('Ashland', 'Chicago'): 324, \\\n",
    "    ('Ashland', 'Houston'): 1236 \n",
    "}"
   ]
  },
  {
   "cell_type": "code",
   "execution_count": null,
   "id": "1e9fab40",
   "metadata": {},
   "outputs": [],
   "source": []
  },
  {
   "cell_type": "code",
   "execution_count": null,
   "id": "1c652cc4",
   "metadata": {},
   "outputs": [],
   "source": []
  },
  {
   "cell_type": "code",
   "execution_count": null,
   "id": "6bd7b336",
   "metadata": {},
   "outputs": [],
   "source": []
  },
  {
   "cell_type": "code",
   "execution_count": null,
   "id": "e65b9a50",
   "metadata": {},
   "outputs": [],
   "source": []
  },
  {
   "cell_type": "code",
   "execution_count": null,
   "id": "356688e3",
   "metadata": {},
   "outputs": [],
   "source": []
  },
  {
   "cell_type": "code",
   "execution_count": null,
   "id": "641c70f7",
   "metadata": {},
   "outputs": [],
   "source": []
  },
  {
   "cell_type": "code",
   "execution_count": null,
   "id": "126eb493",
   "metadata": {},
   "outputs": [],
   "source": []
  },
  {
   "cell_type": "code",
   "execution_count": null,
   "id": "8d607668",
   "metadata": {},
   "outputs": [],
   "source": []
  },
  {
   "cell_type": "code",
   "execution_count": null,
   "id": "b608df39",
   "metadata": {},
   "outputs": [],
   "source": []
  },
  {
   "cell_type": "code",
   "execution_count": null,
   "id": "d7ba621e",
   "metadata": {},
   "outputs": [],
   "source": []
  },
  {
   "cell_type": "code",
   "execution_count": null,
   "id": "16f75218",
   "metadata": {},
   "outputs": [],
   "source": []
  },
  {
   "cell_type": "code",
   "execution_count": null,
   "id": "19aff820",
   "metadata": {},
   "outputs": [],
   "source": []
  },
  {
   "cell_type": "code",
   "execution_count": null,
   "id": "4d124187",
   "metadata": {},
   "outputs": [],
   "source": []
  },
  {
   "cell_type": "code",
   "execution_count": null,
   "id": "a00d35a2",
   "metadata": {},
   "outputs": [],
   "source": []
  }
 ],
 "metadata": {
  "kernelspec": {
   "display_name": "Python 3",
   "language": "python",
   "name": "python3"
  },
  "language_info": {
   "codemirror_mode": {
    "name": "ipython",
    "version": 3
   },
   "file_extension": ".py",
   "mimetype": "text/x-python",
   "name": "python",
   "nbconvert_exporter": "python",
   "pygments_lexer": "ipython3",
   "version": "3.7.6"
  }
 },
 "nbformat": 4,
 "nbformat_minor": 5
}
