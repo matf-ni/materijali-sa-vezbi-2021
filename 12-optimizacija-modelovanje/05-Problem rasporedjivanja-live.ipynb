{
 "cells": [
  {
   "cell_type": "markdown",
   "id": "8e1937da",
   "metadata": {},
   "source": [
    "# Problem raspoređivanja"
   ]
  },
  {
   "cell_type": "markdown",
   "id": "46d1d671",
   "metadata": {},
   "source": [
    "U susedstvu se otvara nova prodavnica koja će biti otvorena 24 sata dnevno, 7 dana u nedelji. Da bi se pokrio obim posla, radnici će raditi u tri smene u trajanju po osam sati. Jutarnja smena je od 6:00 do 14:00, poslepodnevna smena je od 14:00 do 22:00, a noćna smena je od 22:00 do 6:00 sledećeg dana.\n",
    "\n",
    "Za vreme noćne smene potreban je jedan radnik, dok su za rad u dnevnim smenama potrebna po dva radnika. Izuzetak je nedelja, kada je i u dnevnim smenama potreban po jedan radni. Svaki radnik ima opterećenje od najviše 40 sati nedeljno i treba da se odmori barem 12 sati između dveju smena. Radnici koji ne rade nedeljom preferiraju da imaju i slobodnu subotu. \n",
    "\n",
    "Menadžeru koji treba da napravi raspored je na raspolaganju 10 radnika. Potrebno je da napravi optimalni raspored sa što manjim brojem radnika kako bi preostali radnici mogli da pomognu u drugim prodavnicama."
   ]
  },
  {
   "cell_type": "code",
   "execution_count": 1,
   "id": "77d76cd1",
   "metadata": {},
   "outputs": [],
   "source": [
    "from pyomo.environ import *"
   ]
  },
  {
   "cell_type": "code",
   "execution_count": null,
   "id": "f43410be",
   "metadata": {},
   "outputs": [],
   "source": []
  },
  {
   "cell_type": "markdown",
   "id": "22a5a252",
   "metadata": {},
   "source": [
    "Prvo ćemo izdvojiti podatke koji se tiču same formulacije problema. Lista `days` će sadržati imena radnih dana, lista `shifts` će sadržati imena smena, a rečnik `days_shift` njihovu kombinaciju. "
   ]
  },
  {
   "cell_type": "code",
   "execution_count": null,
   "id": "83a13c20",
   "metadata": {},
   "outputs": [],
   "source": []
  },
  {
   "cell_type": "code",
   "execution_count": 2,
   "id": "17154c1c",
   "metadata": {},
   "outputs": [],
   "source": [
    "days = ['Mon', 'Tue', 'Wed', 'Thu', 'Fri', 'Sat', 'Sun']\n",
    "shifts = ['morning', 'evening', 'night']\n",
    "\n",
    "# ime dana je kljuc recnika, a lista smena vrednost\n",
    "days_shifts = {day: shifts for day in days} "
   ]
  },
  {
   "cell_type": "code",
   "execution_count": 3,
   "id": "4d671cbe",
   "metadata": {},
   "outputs": [
    {
     "data": {
      "text/plain": [
       "{'Mon': ['morning', 'evening', 'night'],\n",
       " 'Tue': ['morning', 'evening', 'night'],\n",
       " 'Wed': ['morning', 'evening', 'night'],\n",
       " 'Thu': ['morning', 'evening', 'night'],\n",
       " 'Fri': ['morning', 'evening', 'night'],\n",
       " 'Sat': ['morning', 'evening', 'night'],\n",
       " 'Sun': ['morning', 'evening', 'night']}"
      ]
     },
     "execution_count": 3,
     "metadata": {},
     "output_type": "execute_result"
    }
   ],
   "source": [
    "days_shifts"
   ]
  },
  {
   "cell_type": "markdown",
   "id": "8fcf51ab",
   "metadata": {},
   "source": [
    "Informacije o raspoloživim radnicima ćemo čuvati na nivou liste `workers`."
   ]
  },
  {
   "cell_type": "code",
   "execution_count": 4,
   "id": "eb548942",
   "metadata": {},
   "outputs": [],
   "source": [
    "number_of_workers = 10\n",
    "workers = ['W' + str(i+1) for i in range(0, number_of_workers)]"
   ]
  },
  {
   "cell_type": "code",
   "execution_count": 5,
   "id": "e2e382c6",
   "metadata": {},
   "outputs": [
    {
     "data": {
      "text/plain": [
       "['W1', 'W2', 'W3', 'W4', 'W5', 'W6', 'W7', 'W8', 'W9', 'W10']"
      ]
     },
     "execution_count": 5,
     "metadata": {},
     "output_type": "execute_result"
    }
   ],
   "source": [
    "workers"
   ]
  },
  {
   "cell_type": "code",
   "execution_count": null,
   "id": "9076608a",
   "metadata": {},
   "outputs": [],
   "source": []
  },
  {
   "cell_type": "markdown",
   "id": "a2acdbb9",
   "metadata": {},
   "source": [
    "Dalje ćemo kreirati model. "
   ]
  },
  {
   "cell_type": "code",
   "execution_count": 6,
   "id": "d644c7d0",
   "metadata": {},
   "outputs": [],
   "source": [
    "model = ConcreteModel()"
   ]
  },
  {
   "cell_type": "code",
   "execution_count": null,
   "id": "590b2bcf",
   "metadata": {},
   "outputs": [],
   "source": []
  },
  {
   "cell_type": "markdown",
   "id": "2e5ce9d5",
   "metadata": {},
   "source": [
    "Promenljive `works` će biti indeksirane identifikatorima radnika, imenima dana i imenima smena i imaće binarnu vrednost. Vrednost `0` će označavati da izdvojeni radnik nije raspoređen za rad u smeni u određenom danu (to će biti i početna vrednost promenljivih), dok će vrednost `1` označavati da je radnik raspoređen za rad."
   ]
  },
  {
   "cell_type": "code",
   "execution_count": 7,
   "id": "b9e80ca9",
   "metadata": {},
   "outputs": [],
   "source": [
    "model.works = Var(((worker, day, shift) for worker in workers for day in days for shift in days_shifts[day]), within=Binary, initialize=0)"
   ]
  },
  {
   "cell_type": "code",
   "execution_count": 8,
   "id": "df6b778c",
   "metadata": {},
   "outputs": [
    {
     "data": {
      "text/plain": [
       "0"
      ]
     },
     "execution_count": 8,
     "metadata": {},
     "output_type": "execute_result"
    }
   ],
   "source": [
    "model.works['W1', 'Mon', 'morning'].value"
   ]
  },
  {
   "cell_type": "code",
   "execution_count": null,
   "id": "0f28cda6",
   "metadata": {},
   "outputs": [],
   "source": []
  },
  {
   "cell_type": "markdown",
   "id": "6d65b287",
   "metadata": {},
   "source": [
    "Promenljive `needed` će označavati da li je radnik neophodan za rad u smeni. Biće indeksirane identifikatorima radnika, takođe binarne vrednosti sa nulom kao početnom vrednošću."
   ]
  },
  {
   "cell_type": "code",
   "execution_count": 9,
   "id": "f2d3002f",
   "metadata": {},
   "outputs": [],
   "source": [
    "model.needed = Var(workers, within=Binary, initialize=0)"
   ]
  },
  {
   "cell_type": "code",
   "execution_count": 10,
   "id": "53b41cf5",
   "metadata": {},
   "outputs": [
    {
     "data": {
      "text/plain": [
       "0"
      ]
     },
     "execution_count": 10,
     "metadata": {},
     "output_type": "execute_result"
    }
   ],
   "source": [
    "model.needed['W1'].value"
   ]
  },
  {
   "cell_type": "code",
   "execution_count": null,
   "id": "288a6b47",
   "metadata": {},
   "outputs": [],
   "source": []
  },
  {
   "cell_type": "markdown",
   "id": "09e0b26a",
   "metadata": {},
   "source": [
    "Promenljive `no_pref` će pratiti aktivnosti radnika u toku vikenda. Takođe će biti binarnih vrednosti, sa vrednošću `1` ukoliko radnik radi u nedelju, a ne u subotu. Probaćemo da izbegnemo ovakve scenarije."
   ]
  },
  {
   "cell_type": "code",
   "execution_count": 11,
   "id": "c212da2c",
   "metadata": {},
   "outputs": [],
   "source": [
    "model.no_pref = Var(workers, within=Binary, initialize=0)"
   ]
  },
  {
   "cell_type": "code",
   "execution_count": 12,
   "id": "8568d387",
   "metadata": {},
   "outputs": [
    {
     "data": {
      "text/plain": [
       "0"
      ]
     },
     "execution_count": 12,
     "metadata": {},
     "output_type": "execute_result"
    }
   ],
   "source": [
    "model.no_pref['W1'].value"
   ]
  },
  {
   "cell_type": "code",
   "execution_count": null,
   "id": "ab53b6f7",
   "metadata": {},
   "outputs": [],
   "source": []
  },
  {
   "cell_type": "markdown",
   "id": "1ce343be",
   "metadata": {},
   "source": [
    "Ciljna funkcija će pratiti broj potrebnih radnika, kao i raspored vikendom. Faktor koji se odnosi na broj potrebnih radnika je pomnožen konstantom koja treba da da veću težinu ovom uslovu optimizacije. Funkciju cilja je potrebno minimizovati."
   ]
  },
  {
   "cell_type": "code",
   "execution_count": 13,
   "id": "ce2ed3cc",
   "metadata": {},
   "outputs": [],
   "source": [
    "def obj_rule(model):\n",
    "    # kako je suma (model.no_pref) sa najvecom vrednoscu len(workers), len(workers) + 1 je validna tezina\n",
    "    c = len(workers) + 1 \n",
    "    return sum(model.no_pref[worker] for worker in workers) + c*sum(model.needed[worker] for worker in workers)\n",
    "\n",
    "model.obj = Objective(rule=obj_rule, sense=minimize)"
   ]
  },
  {
   "cell_type": "code",
   "execution_count": null,
   "id": "be8c0c04",
   "metadata": {},
   "outputs": [],
   "source": []
  },
  {
   "cell_type": "markdown",
   "id": "86094808",
   "metadata": {},
   "source": [
    "Zatim ćemo kreirati listu ograničenja. Za njeno kreiranje iskoristićemo funkciju `ConstraintList`, a za dodavanje pojedinačnih ograničenja funkciju `add`."
   ]
  },
  {
   "cell_type": "code",
   "execution_count": 14,
   "id": "bdf71942",
   "metadata": {},
   "outputs": [],
   "source": [
    "model.constraints = ConstraintList()"
   ]
  },
  {
   "cell_type": "markdown",
   "id": "16129eb2",
   "metadata": {},
   "source": [
    "Prva grupa ogrančenja se odnosi na pokrivenost svih smena."
   ]
  },
  {
   "cell_type": "code",
   "execution_count": 15,
   "id": "e5478912",
   "metadata": {},
   "outputs": [],
   "source": [
    "for day in days:\n",
    "    for shift in days_shifts[day]:\n",
    "        # ako je u pitanju radni dan ili subota i prepodnevna ili poslepodnevna smena\n",
    "        # broj radnika u smeni treba da bude 2\n",
    "        if day in days[:-1] and shift in ['morning', 'evening']:\n",
    "            model.constraints.add(\n",
    "                2 == sum(model.works[worker, day, shift] for worker in workers)\n",
    "            )\n",
    "        else:\n",
    "            # nedeljom i u nocnoj smeni broj radnika treba da bude 1\n",
    "            model.constraints.add(\n",
    "                1 == sum(model.works[worker, day, shift] for worker in workers)\n",
    "            )"
   ]
  },
  {
   "cell_type": "markdown",
   "id": "d34b08b2",
   "metadata": {},
   "source": [
    "Druga grupa ograničenja se odnosi na radno vreme radnika - radnik ne radi više od 40 sati nedeljno."
   ]
  },
  {
   "cell_type": "code",
   "execution_count": 16,
   "id": "382f8c67",
   "metadata": {},
   "outputs": [],
   "source": [
    "for worker in workers:\n",
    "    model.constraints.add(\n",
    "        40 >= sum(8 * model.works[worker, day, shift] for day in days for shift in days_shifts[day])\n",
    "    )"
   ]
  },
  {
   "cell_type": "markdown",
   "id": "1788f834",
   "metadata": {},
   "source": [
    "Treća grupa ograničenje se tiče razmaka između dveju smena koji treba da bude barem 12 sati."
   ]
  },
  {
   "cell_type": "code",
   "execution_count": 17,
   "id": "8ff03ecc",
   "metadata": {},
   "outputs": [],
   "source": [
    "for worker in workers:\n",
    "    for j in range(len(days)):\n",
    "        \n",
    "        # radnik ne moze da radi u dvema smenama u istom danu\n",
    "        model.constraints.add(\n",
    "            1 >= sum(model.works[worker, days[j], shift] for shift in days_shifts[days[j]])\n",
    "        )\n",
    "        # ako radnik radi poslepodnevnu ili nocnu smenu, ne moze da radi u prepodnevnoj smeni sledeceg dana\n",
    "        # praticemo i uslov da posle nedelje dolazi ponedeljak preko izraza (j+1)%7 \n",
    "        model.constraints.add(\n",
    "            1 >= sum(model.works[worker, days[j], shift] for shift in ['evening', 'night']) +\n",
    "            model.works[worker, days[(j + 1) % 7], 'morning']\n",
    "        )\n",
    "        # ako radnik radi nocnu smenu, ne moze da radi prepodnevnu ili poslepodnevnu smenu sledeceg dana\n",
    "        model.constraints.add(\n",
    "            1 >= model.works[worker, days[j], 'night'] +\n",
    "            sum(model.works[worker, days[(j + 1) % 7], shift] for shift in ['morning', 'evening'])\n",
    "        )"
   ]
  },
  {
   "cell_type": "markdown",
   "id": "c9bd2736",
   "metadata": {},
   "source": [
    "Četvrta grupa ograničenja se tiče potrebnosti radnika. "
   ]
  },
  {
   "cell_type": "code",
   "execution_count": 18,
   "id": "f98ea510",
   "metadata": {},
   "outputs": [],
   "source": [
    "# jedan radnik radi najvise 40 sati tj. najvise 5 smena\n",
    "for worker in workers:\n",
    "    model.constraints.add(\n",
    "        # ako je vrednost model.works[worker, ·, ·] razlicita od nule, model.needed[worker] mora biti jedan\n",
    "        # u usprotnom vrednost traba da bude nula zbog minimizacije funkcije cilja\n",
    "        5 * model.needed[worker] >= sum(model.works[worker, day, shift] for day in days for shift in days_shifts[day])\n",
    "    ) "
   ]
  },
  {
   "cell_type": "code",
   "execution_count": null,
   "id": "536a0b6b",
   "metadata": {},
   "outputs": [],
   "source": []
  },
  {
   "cell_type": "markdown",
   "id": "4749812f",
   "metadata": {},
   "source": [
    "Poslednja grupa ograničenja se tiče rada vikendom."
   ]
  },
  {
   "cell_type": "code",
   "execution_count": 19,
   "id": "64338beb",
   "metadata": {},
   "outputs": [],
   "source": [
    "# ako radnik ne radi u nedelju, pozeljno je da ne radi ni u subotu\n",
    "for worker in workers:\n",
    "    # ako radnik ne radi u nedelju, ali radi u subotu, vrednost no_pref promenljive mora da bude 1\n",
    "    # ako radnik radi u nedelju, vrednost no_pref promenljive ce biti 0 (zbog minimizacije funkcije cilja)\n",
    "    model.constraints.add(\n",
    "        model.no_pref[worker] >= sum(model.works[worker, 'Sat', shift] for shift in days_shifts['Sat'])\n",
    "        - sum(model.works[worker, 'Sun', shift] for shift in days_shifts['Sun'])\n",
    "    )"
   ]
  },
  {
   "cell_type": "code",
   "execution_count": null,
   "id": "2a16e054",
   "metadata": {},
   "outputs": [],
   "source": []
  },
  {
   "cell_type": "markdown",
   "id": "2c6c628e",
   "metadata": {},
   "source": [
    "Ukupan broj ograničenja koji je postavljen na nivou modela je: "
   ]
  },
  {
   "cell_type": "code",
   "execution_count": 20,
   "id": "a2b60536",
   "metadata": {},
   "outputs": [
    {
     "data": {
      "text/plain": [
       "261"
      ]
     },
     "execution_count": 20,
     "metadata": {},
     "output_type": "execute_result"
    }
   ],
   "source": [
    "len(model.constraints)"
   ]
  },
  {
   "cell_type": "markdown",
   "id": "214adb56",
   "metadata": {},
   "source": [
    "Sam model je, takođe, vrlo kompleksan: "
   ]
  },
  {
   "cell_type": "code",
   "execution_count": 21,
   "id": "aabff009",
   "metadata": {},
   "outputs": [],
   "source": [
    "# model.pprint()"
   ]
  },
  {
   "cell_type": "code",
   "execution_count": null,
   "id": "a693e341",
   "metadata": {},
   "outputs": [],
   "source": []
  },
  {
   "cell_type": "markdown",
   "id": "64909cea",
   "metadata": {},
   "source": [
    "Kako problem koji rešavamo predstavlja varijantu mešovitog celobrojnog programiranja, dovoljno je upotrebiti rešavač koji podršava rad sa ovom grupom problema. Mi ćemo iskoristiti GLPK rešavač. Rešavanje problema traje par sati. "
   ]
  },
  {
   "cell_type": "code",
   "execution_count": null,
   "id": "e7991868",
   "metadata": {},
   "outputs": [],
   "source": [
    "opt = SolverFactory('glpk')  \n",
    "results = opt.solve(model)  "
   ]
  },
  {
   "cell_type": "code",
   "execution_count": null,
   "id": "c8467a20",
   "metadata": {},
   "outputs": [],
   "source": []
  },
  {
   "cell_type": "code",
   "execution_count": null,
   "id": "78033bf7",
   "metadata": {},
   "outputs": [],
   "source": []
  },
  {
   "cell_type": "markdown",
   "id": "bfa326fb",
   "metadata": {},
   "source": [
    "Sledeće funkcije će nam pomoći da izdvojimo informacije koje je generisao rešavač. "
   ]
  },
  {
   "cell_type": "markdown",
   "id": "d3ef862f",
   "metadata": {},
   "source": [
    "Funkcije `get_workers_needed` izdvaja listu potrebnih radnika. "
   ]
  },
  {
   "cell_type": "code",
   "execution_count": null,
   "id": "4c260e0e",
   "metadata": {},
   "outputs": [],
   "source": [
    "def get_workers_needed(needed):\n",
    "    workers_needed = []\n",
    "    for worker in workers:\n",
    "        if needed[worker].value == 1:\n",
    "            workers_needed.append(worker)\n",
    "    return workers_needed"
   ]
  },
  {
   "cell_type": "code",
   "execution_count": null,
   "id": "67bba041",
   "metadata": {},
   "outputs": [],
   "source": []
  },
  {
   "cell_type": "markdown",
   "id": "aa2432c1",
   "metadata": {},
   "source": [
    "Funkcija `get_work_table` izdvaja raspored rada radnika. "
   ]
  },
  {
   "cell_type": "code",
   "execution_count": null,
   "id": "1ccbfa40",
   "metadata": {},
   "outputs": [],
   "source": [
    "def get_work_table(works):\n",
    "    # raspored rada radnika ce biti u formi recnika\n",
    "    week_table = {day: {shift: [] for shift in days_shifts[day]} for day in days}\n",
    "    for worker in workers:\n",
    "        for day in days:\n",
    "            for shift in days_shifts[day]:\n",
    "                    if works[worker, day, shift].value == 1:\n",
    "                        week_table[day][shift].append(worker)\n",
    "    return week_table"
   ]
  },
  {
   "cell_type": "markdown",
   "id": "5678195f",
   "metadata": {},
   "source": [
    "Funkcija `get_no_preference` izdvaja listu radnika za koje nije ispunjen uslov rada vikendom."
   ]
  },
  {
   "cell_type": "code",
   "execution_count": null,
   "id": "2d2f38e6",
   "metadata": {},
   "outputs": [],
   "source": [
    "def get_no_preference(no_pref):\n",
    "    return [worker for worker in workers if no_pref[worker].value == 1]"
   ]
  },
  {
   "cell_type": "code",
   "execution_count": null,
   "id": "c47312aa",
   "metadata": {},
   "outputs": [],
   "source": []
  },
  {
   "cell_type": "markdown",
   "id": "f234382b",
   "metadata": {},
   "source": [
    "Ostaje još da izdvojimo potrebne informacije i prikažemo ih."
   ]
  },
  {
   "cell_type": "code",
   "execution_count": null,
   "id": "7558ce26",
   "metadata": {},
   "outputs": [],
   "source": [
    "workers_needed = get_workers_needed(model.needed)  "
   ]
  },
  {
   "cell_type": "code",
   "execution_count": null,
   "id": "8eba4f15",
   "metadata": {},
   "outputs": [],
   "source": [
    "print('Potrebni radnici: ', workers_needed)"
   ]
  },
  {
   "cell_type": "code",
   "execution_count": null,
   "id": "6b9cbff2",
   "metadata": {},
   "outputs": [],
   "source": [
    "week_table = get_work_table(model.works)"
   ]
  },
  {
   "cell_type": "code",
   "execution_count": null,
   "id": "2d0761a7",
   "metadata": {},
   "outputs": [],
   "source": [
    "print('Plan rada radnika: ', week_table)"
   ]
  },
  {
   "cell_type": "markdown",
   "id": "8b39bcf5",
   "metadata": {},
   "source": [
    "Rešenje koje se generiše:"
   ]
  },
  {
   "cell_type": "code",
   "execution_count": null,
   "id": "1ad1aac9",
   "metadata": {},
   "outputs": [],
   "source": [
    "{\n",
    "  \"Mon\": {\n",
    "    \"morning\": [\n",
    "      \"W5\",\n",
    "      \"W8\"\n",
    "    ],\n",
    "    \"evening\": [\n",
    "      \"W6\",\n",
    "      \"W7\"\n",
    "    ],\n",
    "    \"night\": [\n",
    "      \"W9\"\n",
    "    ]\n",
    "  },\n",
    "  \"Tue\": {\n",
    "    \"morning\": [\n",
    "      \"W5\",\n",
    "      \"W8\"\n",
    "    ],\n",
    "    \"evening\": [\n",
    "      \"W1\",\n",
    "      \"W7\"\n",
    "    ],\n",
    "    \"night\": [\n",
    "      \"W9\"\n",
    "    ]\n",
    "  },\n",
    "  \"Wed\": {\n",
    "    \"morning\": [\n",
    "      \"W5\",\n",
    "      \"W10\"\n",
    "    ],\n",
    "    \"evening\": [\n",
    "      \"W6\",\n",
    "      \"W7\"\n",
    "    ],\n",
    "    \"night\": [\n",
    "      \"W9\"\n",
    "    ]\n",
    "  },\n",
    "  \"Thu\": {\n",
    "    \"morning\": [\n",
    "      \"W1\",\n",
    "      \"W5\"\n",
    "    ],\n",
    "    \"evening\": [\n",
    "      \"W7\",\n",
    "      \"W8\"\n",
    "    ],\n",
    "    \"night\": [\n",
    "      \"W6\"\n",
    "    ]\n",
    "  },\n",
    "  \"Fri\": {\n",
    "    \"morning\": [\n",
    "      \"W1\",\n",
    "      \"W5\"\n",
    "    ],\n",
    "    \"evening\": [\n",
    "      \"W7\",\n",
    "      \"W10\"\n",
    "    ],\n",
    "    \"night\": [\n",
    "      \"W6\"\n",
    "    ]\n",
    "  },\n",
    "  \"Sat\": {\n",
    "    \"morning\": [\n",
    "      \"W8\",\n",
    "      \"W9\"\n",
    "    ],\n",
    "    \"evening\": [\n",
    "      \"W1\",\n",
    "      \"W10\"\n",
    "    ],\n",
    "    \"night\": [\n",
    "      \"W6\"\n",
    "    ]\n",
    "  },\n",
    "  \"Sun\": {\n",
    "    \"morning\": [\n",
    "      \"W8\"\n",
    "    ],\n",
    "    \"evening\": [\n",
    "      \"W10\"\n",
    "    ],\n",
    "    \"night\": [\n",
    "      \"W1\"\n",
    "    ]\n",
    "  }\n",
    "}\n"
   ]
  },
  {
   "cell_type": "code",
   "execution_count": null,
   "id": "0fdac302",
   "metadata": {},
   "outputs": [],
   "source": [
    "workers_no_pref = get_no_preference(model.no_pref)"
   ]
  },
  {
   "cell_type": "code",
   "execution_count": null,
   "id": "f312aec0",
   "metadata": {},
   "outputs": [],
   "source": [
    "print('Radnici koji ce imati problematican vikend: ', workers_no_pref)"
   ]
  },
  {
   "cell_type": "code",
   "execution_count": null,
   "id": "f5ebae7b",
   "metadata": {},
   "outputs": [],
   "source": []
  }
 ],
 "metadata": {
  "kernelspec": {
   "display_name": "Python 3",
   "language": "python",
   "name": "python3"
  },
  "language_info": {
   "codemirror_mode": {
    "name": "ipython",
    "version": 3
   },
   "file_extension": ".py",
   "mimetype": "text/x-python",
   "name": "python",
   "nbconvert_exporter": "python",
   "pygments_lexer": "ipython3",
   "version": "3.7.6"
  }
 },
 "nbformat": 4,
 "nbformat_minor": 5
}
