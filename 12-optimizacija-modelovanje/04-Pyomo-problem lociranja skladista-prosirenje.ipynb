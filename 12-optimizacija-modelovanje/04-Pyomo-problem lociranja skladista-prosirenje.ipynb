{
 "cells": [
  {
   "cell_type": "markdown",
   "id": "d3ab80b7",
   "metadata": {},
   "source": [
    "# Pyomo - problem lociranja skladišta"
   ]
  },
  {
   "cell_type": "markdown",
   "id": "479de76f",
   "metadata": {},
   "source": [
    "Problem lociranja skladišta (engl. warehouse location problem) treba da optimizuje troškove koji prate uparivanje potrošača i njihovih snadbevača tj. skladišta. Neka je $N$ skup potencijalnih lokacija skladišta/snadbevača, a $M$ skup lokacija potrošača. Za svako skladište $n$ i svakog potrošača $m$ neka je cena isporuke zadata sa $d_{n, m}$. Potrebno je odrediti lokacije skladišta tako da se minimizuje cena isporuke za sve potrošače. Binarne promenljive $y_n$ će označavati da li skladište treba da se izgradi ili ne, a promenljive $x_{n, m}$ će označavati deo potreba potrošača $m$ koji dolazi iz skladišta $n$. Broj $P$ će označavati dozvoljeni broj skladišta."
   ]
  },
  {
   "cell_type": "markdown",
   "id": "daa12d4d",
   "metadata": {},
   "source": [
    "Opisani problem se u matematičkim terminima može opisati na sledeći način: \n",
    "\n",
    "$$min \\sum_{n \\in N}\\sum_{m \\in M}{d_{n,m} x_{n, m}}$$ uz uslove \n",
    "\n",
    "$$\\sum_{n \\in N}{x_{n, m}} = 1\\ za\\ \\forall {m\\in M}$$\n",
    "\n",
    "$$x_{n, m} \\lt y_n\\ za\\ \\forall {n\\in N}\\, \\forall {m\\in M}$$\n",
    "\n",
    "$$\\sum_{n \\in N}{y_n}\\lt P$$ \n",
    "\n",
    "$$0 \\lt x \\lt 1$$\n",
    "\n",
    "$$y \\in \\{0, 1\\}$$\n"
   ]
  },
  {
   "cell_type": "code",
   "execution_count": 1,
   "id": "4bfc0268",
   "metadata": {},
   "outputs": [],
   "source": [
    "from matplotlib import pyplot as plt"
   ]
  },
  {
   "cell_type": "code",
   "execution_count": 2,
   "id": "0601eb8c",
   "metadata": {},
   "outputs": [],
   "source": [
    "from pyomo.environ import *"
   ]
  },
  {
   "cell_type": "code",
   "execution_count": 3,
   "id": "9e65ad82",
   "metadata": {},
   "outputs": [],
   "source": [
    "%config Completer.use_jedi = False"
   ]
  },
  {
   "cell_type": "markdown",
   "id": "1001e31e",
   "metadata": {},
   "source": [
    "U modelovanju ovog problema koristićemo sledeće podatke:"
   ]
  },
  {
   "cell_type": "code",
   "execution_count": 4,
   "id": "232a66e8",
   "metadata": {},
   "outputs": [],
   "source": [
    "locations = ['Harlingen', 'Memphis', 'Ashland'] # N\n",
    "customers = ['NYC', 'LA', 'Chicago', 'Houston'] # M"
   ]
  },
  {
   "cell_type": "code",
   "execution_count": 5,
   "id": "659b4d2b",
   "metadata": {},
   "outputs": [],
   "source": [
    "costs = {\n",
    "    ('Harlingen', 'NYC'): 1956, \\\n",
    "    ('Harlingen', 'LA'): 1606, \\\n",
    "    ('Harlingen', 'Chicago'): 1410, \\\n",
    "    ('Harlingen', 'Houston'): 330, \\\n",
    "    ('Memphis', 'NYC'): 1096, \\\n",
    "    ('Memphis', 'LA'): 1792, \\\n",
    "    ('Memphis', 'Chicago'): 531, \\\n",
    "    ('Memphis', 'Houston'): 567, \\\n",
    "    ('Ashland', 'NYC'): 485, \\\n",
    "    ('Ashland', 'LA'): 2322, \\\n",
    "    ('Ashland', 'Chicago'): 324, \\\n",
    "    ('Ashland', 'Houston'): 1236 \n",
    "}"
   ]
  },
  {
   "cell_type": "code",
   "execution_count": null,
   "id": "1e9fab40",
   "metadata": {},
   "outputs": [],
   "source": []
  },
  {
   "cell_type": "markdown",
   "id": "d060c7c9",
   "metadata": {},
   "source": [
    "Prvo ćemo konstruisati model pozivom funkcije `ConcreteModel`."
   ]
  },
  {
   "cell_type": "code",
   "execution_count": 6,
   "id": "7744d812",
   "metadata": {},
   "outputs": [],
   "source": [
    "model = ConcreteModel()"
   ]
  },
  {
   "cell_type": "code",
   "execution_count": 7,
   "id": "f9a65543",
   "metadata": {},
   "outputs": [],
   "source": [
    "model.locations = Set(initialize=locations)"
   ]
  },
  {
   "cell_type": "code",
   "execution_count": 8,
   "id": "f39b36f5",
   "metadata": {},
   "outputs": [],
   "source": [
    "model.customers = Set(initialize=customers)"
   ]
  },
  {
   "cell_type": "markdown",
   "id": "2a344d2f",
   "metadata": {},
   "source": [
    "Zatim ćemo uvesti niz binarnih promenljivih $y$ indeksiranih vrednostima iz niza $locations$."
   ]
  },
  {
   "cell_type": "code",
   "execution_count": 9,
   "id": "a347f683",
   "metadata": {},
   "outputs": [],
   "source": [
    "model.y = Var(model.locations, within=Binary)"
   ]
  },
  {
   "cell_type": "code",
   "execution_count": 12,
   "id": "a8604c8a",
   "metadata": {},
   "outputs": [
    {
     "data": {
      "text/plain": [
       "<pyomo.core.base.var._GeneralVarData at 0x115ad6c90>"
      ]
     },
     "execution_count": 12,
     "metadata": {},
     "output_type": "execute_result"
    }
   ],
   "source": [
    "model.y['Harlingen']"
   ]
  },
  {
   "cell_type": "code",
   "execution_count": null,
   "id": "0b56d70f",
   "metadata": {},
   "outputs": [],
   "source": []
  },
  {
   "cell_type": "markdown",
   "id": "cc8cfb6b",
   "metadata": {},
   "source": [
    "Zatim ćemo uvesti i matricu promenljivih $x$ indeksiranih vrednostima iz nizova $locations$ i $customers$. Ovako uvedene promenljive će imati vrednosti u opsegu $[0, 1]$."
   ]
  },
  {
   "cell_type": "code",
   "execution_count": 13,
   "id": "0ed068b0",
   "metadata": {},
   "outputs": [],
   "source": [
    "model.x = Var(model.locations, model.customers, bounds=(0,1))"
   ]
  },
  {
   "cell_type": "markdown",
   "id": "fae1f298",
   "metadata": {},
   "source": [
    "Vrednostima ove matrice promenljivih možemo pristupati koristeći dvostruke indekse, na primer:"
   ]
  },
  {
   "cell_type": "code",
   "execution_count": 15,
   "id": "20818bcb",
   "metadata": {},
   "outputs": [],
   "source": [
    "model.x['Harlingen', 'LA']"
   ]
  },
  {
   "cell_type": "code",
   "execution_count": null,
   "id": "3637c10a",
   "metadata": {},
   "outputs": [],
   "source": []
  },
  {
   "cell_type": "markdown",
   "id": "2b17e95e",
   "metadata": {},
   "source": [
    "Broj dozvoljenih skladišta ćemo definisati kao skalarni parametar modela. Podrazumevano su parametri modela nepromenljivi i predstavljaju fiksirane vrednosti sa kojima model može da operiše. Ovde ćemo posebno, zbog eksperimentisanja sa različitim vrednostima broj skladišta, postaviti da je ovaj parametar promenljiv tako što ćemo iskoristiti argument `mutable`."
   ]
  },
  {
   "cell_type": "code",
   "execution_count": 16,
   "id": "4c2fb85d",
   "metadata": {},
   "outputs": [],
   "source": [
    "model.number_of_warehouses_limit = Param(initialize=2, mutable=True)"
   ]
  },
  {
   "cell_type": "code",
   "execution_count": 17,
   "id": "ed497d34",
   "metadata": {},
   "outputs": [
    {
     "data": {
      "text/plain": [
       "2"
      ]
     },
     "execution_count": 17,
     "metadata": {},
     "output_type": "execute_result"
    }
   ],
   "source": [
    "model.number_of_warehouses_limit.value"
   ]
  },
  {
   "cell_type": "code",
   "execution_count": null,
   "id": "ee496c55",
   "metadata": {},
   "outputs": [],
   "source": []
  },
  {
   "cell_type": "markdown",
   "id": "38e55358",
   "metadata": {},
   "source": [
    "Pošto su forme ciljne funkcije i samih ograničenja kompleksnije, preći ćemo sa korišćenja parametra  `expr` na korišćenje parametra `rule` kojim se zadaju funkcije za izračunavanje izraza. "
   ]
  },
  {
   "cell_type": "code",
   "execution_count": 18,
   "id": "3fbaf5ca",
   "metadata": {},
   "outputs": [
    {
     "name": "stdout",
     "output_type": "stream",
     "text": [
      "Harlingen\n",
      "Memphis\n",
      "Ashland\n"
     ]
    }
   ],
   "source": [
    "for location in model.locations:\n",
    "    print(location)"
   ]
  },
  {
   "cell_type": "code",
   "execution_count": 19,
   "id": "bad7d43c",
   "metadata": {},
   "outputs": [],
   "source": [
    "def objective_rule(model):\n",
    "    return sum(costs[location, customer]*model.x[location, customer] for location in model.locations for customer in model.customers)"
   ]
  },
  {
   "cell_type": "code",
   "execution_count": 20,
   "id": "58ee4e5f",
   "metadata": {},
   "outputs": [],
   "source": [
    "model.objective = Objective(rule=objective_rule)"
   ]
  },
  {
   "cell_type": "code",
   "execution_count": null,
   "id": "82fa952e",
   "metadata": {},
   "outputs": [],
   "source": []
  },
  {
   "cell_type": "markdown",
   "id": "3655b30a",
   "metadata": {},
   "source": [
    "Uslovom `customer_demand_rule` naglašavamo da potrošačeve potrebe moraju biti zadovoljene svim isporukama."
   ]
  },
  {
   "cell_type": "code",
   "execution_count": 21,
   "id": "16a21c76",
   "metadata": {},
   "outputs": [],
   "source": [
    "def customer_demand_rule(model, customer):\n",
    "    return sum(model.x[location, customer] for location in model.locations) == 1"
   ]
  },
  {
   "cell_type": "code",
   "execution_count": 22,
   "id": "9520612f",
   "metadata": {},
   "outputs": [],
   "source": [
    "model.customer_demand = Constraint(model.customers, rule=customer_demand_rule)"
   ]
  },
  {
   "cell_type": "code",
   "execution_count": null,
   "id": "917591e2",
   "metadata": {},
   "outputs": [],
   "source": []
  },
  {
   "cell_type": "markdown",
   "id": "3a3eb5f5",
   "metadata": {},
   "source": [
    "Uslovom `warehouse_active_rule` naglašavamo validnost modela npr. ukoliko skladište na nekoj lokaciji nije aktivno, onda vrednosti isporuka sa tih lokacija, takođe, moraju biti nula. "
   ]
  },
  {
   "cell_type": "code",
   "execution_count": 23,
   "id": "69748d24",
   "metadata": {},
   "outputs": [],
   "source": [
    "def warehouse_active_rule(model, location, customer):\n",
    "    return model.x[location, customer] <= model.y[location]"
   ]
  },
  {
   "cell_type": "code",
   "execution_count": 24,
   "id": "3eb50e42",
   "metadata": {},
   "outputs": [],
   "source": [
    "model.warehouse_active = Constraint(model.locations, model.customers, rule=warehouse_active_rule)"
   ]
  },
  {
   "cell_type": "code",
   "execution_count": null,
   "id": "fafc9e9b",
   "metadata": {},
   "outputs": [],
   "source": []
  },
  {
   "cell_type": "markdown",
   "id": "1f3f966f",
   "metadata": {},
   "source": [
    "Uslovom `number_of_warehouses_rule` naglašavamo da broj skladišta treba da bude manji od `number_of_warehouses_limit`."
   ]
  },
  {
   "cell_type": "code",
   "execution_count": 25,
   "id": "7f75f558",
   "metadata": {},
   "outputs": [],
   "source": [
    "def number_of_warehouses_rule(model):\n",
    "    return sum(model.y[location] for location in model.locations) <= model.number_of_warehouses_limit"
   ]
  },
  {
   "cell_type": "code",
   "execution_count": 26,
   "id": "f77fdbff",
   "metadata": {},
   "outputs": [],
   "source": [
    "model.number_of_warehouses = Constraint(rule=number_of_warehouses_rule)"
   ]
  },
  {
   "cell_type": "code",
   "execution_count": null,
   "id": "62cf5a37",
   "metadata": {},
   "outputs": [],
   "source": []
  },
  {
   "cell_type": "code",
   "execution_count": 28,
   "id": "107e2969",
   "metadata": {},
   "outputs": [
    {
     "name": "stdout",
     "output_type": "stream",
     "text": [
      "4 Set Declarations\n",
      "    customers : Size=1, Index=None, Ordered=Insertion\n",
      "        Key  : Dimen : Domain : Size : Members\n",
      "        None :     1 :    Any :    4 : {'NYC', 'LA', 'Chicago', 'Houston'}\n",
      "    locations : Size=1, Index=None, Ordered=Insertion\n",
      "        Key  : Dimen : Domain : Size : Members\n",
      "        None :     1 :    Any :    3 : {'Harlingen', 'Memphis', 'Ashland'}\n",
      "    warehouse_active_index : Size=1, Index=None, Ordered=True\n",
      "        Key  : Dimen : Domain              : Size : Members\n",
      "        None :     2 : locations*customers :   12 : {('Harlingen', 'NYC'), ('Harlingen', 'LA'), ('Harlingen', 'Chicago'), ('Harlingen', 'Houston'), ('Memphis', 'NYC'), ('Memphis', 'LA'), ('Memphis', 'Chicago'), ('Memphis', 'Houston'), ('Ashland', 'NYC'), ('Ashland', 'LA'), ('Ashland', 'Chicago'), ('Ashland', 'Houston')}\n",
      "    x_index : Size=1, Index=None, Ordered=True\n",
      "        Key  : Dimen : Domain              : Size : Members\n",
      "        None :     2 : locations*customers :   12 : {('Harlingen', 'NYC'), ('Harlingen', 'LA'), ('Harlingen', 'Chicago'), ('Harlingen', 'Houston'), ('Memphis', 'NYC'), ('Memphis', 'LA'), ('Memphis', 'Chicago'), ('Memphis', 'Houston'), ('Ashland', 'NYC'), ('Ashland', 'LA'), ('Ashland', 'Chicago'), ('Ashland', 'Houston')}\n",
      "\n",
      "1 Param Declarations\n",
      "    number_of_warehouses_limit : Size=1, Index=None, Domain=Any, Default=None, Mutable=True\n",
      "        Key  : Value\n",
      "        None :     2\n",
      "\n",
      "2 Var Declarations\n",
      "    x : Size=12, Index=x_index\n",
      "        Key                      : Lower : Value : Upper : Fixed : Stale : Domain\n",
      "          ('Ashland', 'Chicago') :     0 :  None :     1 : False :  True :  Reals\n",
      "          ('Ashland', 'Houston') :     0 :  None :     1 : False :  True :  Reals\n",
      "               ('Ashland', 'LA') :     0 :  None :     1 : False :  True :  Reals\n",
      "              ('Ashland', 'NYC') :     0 :  None :     1 : False :  True :  Reals\n",
      "        ('Harlingen', 'Chicago') :     0 :  None :     1 : False :  True :  Reals\n",
      "        ('Harlingen', 'Houston') :     0 :  None :     1 : False :  True :  Reals\n",
      "             ('Harlingen', 'LA') :     0 :  None :     1 : False :  True :  Reals\n",
      "            ('Harlingen', 'NYC') :     0 :  None :     1 : False :  True :  Reals\n",
      "          ('Memphis', 'Chicago') :     0 :  None :     1 : False :  True :  Reals\n",
      "          ('Memphis', 'Houston') :     0 :  None :     1 : False :  True :  Reals\n",
      "               ('Memphis', 'LA') :     0 :  None :     1 : False :  True :  Reals\n",
      "              ('Memphis', 'NYC') :     0 :  None :     1 : False :  True :  Reals\n",
      "    y : Size=3, Index=locations\n",
      "        Key       : Lower : Value : Upper : Fixed : Stale : Domain\n",
      "          Ashland :     0 :  None :     1 : False :  True : Binary\n",
      "        Harlingen :     0 :  None :     1 : False :  True : Binary\n",
      "          Memphis :     0 :  None :     1 : False :  True : Binary\n",
      "\n",
      "1 Objective Declarations\n",
      "    objective : Size=1, Index=None, Active=True\n",
      "        Key  : Active : Sense    : Expression\n",
      "        None :   True : minimize : 1956*x[Harlingen,NYC] + 1606*x[Harlingen,LA] + 1410*x[Harlingen,Chicago] + 330*x[Harlingen,Houston] + 1096*x[Memphis,NYC] + 1792*x[Memphis,LA] + 531*x[Memphis,Chicago] + 567*x[Memphis,Houston] + 485*x[Ashland,NYC] + 2322*x[Ashland,LA] + 324*x[Ashland,Chicago] + 1236*x[Ashland,Houston]\n",
      "\n",
      "3 Constraint Declarations\n",
      "    customer_demand : Size=4, Index=customers, Active=True\n",
      "        Key     : Lower : Body                                                           : Upper : Active\n",
      "        Chicago :   1.0 : x[Harlingen,Chicago] + x[Memphis,Chicago] + x[Ashland,Chicago] :   1.0 :   True\n",
      "        Houston :   1.0 : x[Harlingen,Houston] + x[Memphis,Houston] + x[Ashland,Houston] :   1.0 :   True\n",
      "             LA :   1.0 :                x[Harlingen,LA] + x[Memphis,LA] + x[Ashland,LA] :   1.0 :   True\n",
      "            NYC :   1.0 :             x[Harlingen,NYC] + x[Memphis,NYC] + x[Ashland,NYC] :   1.0 :   True\n",
      "    number_of_warehouses : Size=1, Index=None, Active=True\n",
      "        Key  : Lower : Body                                   : Upper                      : Active\n",
      "        None :  -Inf : y[Harlingen] + y[Memphis] + y[Ashland] : number_of_warehouses_limit :   True\n",
      "    warehouse_active : Size=12, Index=warehouse_active_index, Active=True\n",
      "        Key                      : Lower : Body                                : Upper : Active\n",
      "          ('Ashland', 'Chicago') :  -Inf :     x[Ashland,Chicago] - y[Ashland] :   0.0 :   True\n",
      "          ('Ashland', 'Houston') :  -Inf :     x[Ashland,Houston] - y[Ashland] :   0.0 :   True\n",
      "               ('Ashland', 'LA') :  -Inf :          x[Ashland,LA] - y[Ashland] :   0.0 :   True\n",
      "              ('Ashland', 'NYC') :  -Inf :         x[Ashland,NYC] - y[Ashland] :   0.0 :   True\n",
      "        ('Harlingen', 'Chicago') :  -Inf : x[Harlingen,Chicago] - y[Harlingen] :   0.0 :   True\n",
      "        ('Harlingen', 'Houston') :  -Inf : x[Harlingen,Houston] - y[Harlingen] :   0.0 :   True\n",
      "             ('Harlingen', 'LA') :  -Inf :      x[Harlingen,LA] - y[Harlingen] :   0.0 :   True\n",
      "            ('Harlingen', 'NYC') :  -Inf :     x[Harlingen,NYC] - y[Harlingen] :   0.0 :   True\n",
      "          ('Memphis', 'Chicago') :  -Inf :     x[Memphis,Chicago] - y[Memphis] :   0.0 :   True\n",
      "          ('Memphis', 'Houston') :  -Inf :     x[Memphis,Houston] - y[Memphis] :   0.0 :   True\n",
      "               ('Memphis', 'LA') :  -Inf :          x[Memphis,LA] - y[Memphis] :   0.0 :   True\n",
      "              ('Memphis', 'NYC') :  -Inf :         x[Memphis,NYC] - y[Memphis] :   0.0 :   True\n",
      "\n",
      "11 Declarations: locations customers y x_index x number_of_warehouses_limit objective customer_demand warehouse_active_index warehouse_active number_of_warehouses\n"
     ]
    }
   ],
   "source": [
    "model.pprint()"
   ]
  },
  {
   "cell_type": "markdown",
   "id": "bc4a71f8",
   "metadata": {},
   "source": [
    "Pošto smo kreirali model, iskoristićemo GLPK rešavača."
   ]
  },
  {
   "cell_type": "code",
   "execution_count": 21,
   "id": "3f7a28ff",
   "metadata": {},
   "outputs": [],
   "source": [
    "solver = SolverFactory('glpk')"
   ]
  },
  {
   "cell_type": "code",
   "execution_count": 22,
   "id": "fc941fa6",
   "metadata": {},
   "outputs": [],
   "source": [
    "result = solver.solve(model)"
   ]
  },
  {
   "cell_type": "code",
   "execution_count": null,
   "id": "afce1152",
   "metadata": {},
   "outputs": [],
   "source": []
  },
  {
   "cell_type": "markdown",
   "id": "3e54baf4",
   "metadata": {},
   "source": [
    "Lokacije skladišta možemo pročitati na osnovu vrednosti niza y."
   ]
  },
  {
   "cell_type": "code",
   "execution_count": 23,
   "id": "de87fe17",
   "metadata": {},
   "outputs": [
    {
     "name": "stdout",
     "output_type": "stream",
     "text": [
      "y : Size=3, Index=y_index\n",
      "    Key       : Lower : Value : Upper : Fixed : Stale : Domain\n",
      "      Ashland :     0 :   1.0 :     1 : False : False : Binary\n",
      "    Harlingen :     0 :   1.0 :     1 : False : False : Binary\n",
      "      Memphis :     0 :   0.0 :     1 : False : False : Binary\n"
     ]
    }
   ],
   "source": [
    "model.y.pprint()"
   ]
  },
  {
   "cell_type": "code",
   "execution_count": null,
   "id": "cd770346",
   "metadata": {},
   "outputs": [],
   "source": []
  },
  {
   "cell_type": "markdown",
   "id": "570a26f4",
   "metadata": {},
   "source": [
    "Opsluživanja klijenata možemo pročitati iz niza x."
   ]
  },
  {
   "cell_type": "code",
   "execution_count": 24,
   "id": "e79b79a4",
   "metadata": {},
   "outputs": [
    {
     "name": "stdout",
     "output_type": "stream",
     "text": [
      "x : Size=12, Index=x_index\n",
      "    Key                      : Lower : Value : Upper : Fixed : Stale : Domain\n",
      "      ('Ashland', 'Chicago') :     0 :   1.0 :     1 : False : False :  Reals\n",
      "      ('Ashland', 'Houston') :     0 :   0.0 :     1 : False : False :  Reals\n",
      "           ('Ashland', 'LA') :     0 :   0.0 :     1 : False : False :  Reals\n",
      "          ('Ashland', 'NYC') :     0 :   1.0 :     1 : False : False :  Reals\n",
      "    ('Harlingen', 'Chicago') :     0 :   0.0 :     1 : False : False :  Reals\n",
      "    ('Harlingen', 'Houston') :     0 :   1.0 :     1 : False : False :  Reals\n",
      "         ('Harlingen', 'LA') :     0 :   1.0 :     1 : False : False :  Reals\n",
      "        ('Harlingen', 'NYC') :     0 :   0.0 :     1 : False : False :  Reals\n",
      "      ('Memphis', 'Chicago') :     0 :   0.0 :     1 : False : False :  Reals\n",
      "      ('Memphis', 'Houston') :     0 :   0.0 :     1 : False : False :  Reals\n",
      "           ('Memphis', 'LA') :     0 :   0.0 :     1 : False : False :  Reals\n",
      "          ('Memphis', 'NYC') :     0 :   0.0 :     1 : False : False :  Reals\n"
     ]
    }
   ],
   "source": [
    "model.x.pprint()"
   ]
  },
  {
   "cell_type": "code",
   "execution_count": null,
   "id": "933623b8",
   "metadata": {},
   "outputs": [],
   "source": []
  },
  {
   "cell_type": "markdown",
   "id": "a95ee1ac",
   "metadata": {},
   "source": [
    "Vrednost ciljne funkcije predstavlja vrednost troškova transporta."
   ]
  },
  {
   "cell_type": "code",
   "execution_count": 25,
   "id": "34fa07f8",
   "metadata": {},
   "outputs": [
    {
     "data": {
      "text/plain": [
       "2745.0"
      ]
     },
     "execution_count": 25,
     "metadata": {},
     "output_type": "execute_result"
    }
   ],
   "source": [
    "model.objective()"
   ]
  },
  {
   "cell_type": "code",
   "execution_count": null,
   "id": "569d0829",
   "metadata": {},
   "outputs": [],
   "source": []
  },
  {
   "cell_type": "markdown",
   "id": "36a58527",
   "metadata": {},
   "source": [
    "Sada možemo proveriti kako se ponaša ciljna funkcija za nešto drugačije vrednosti broj dozvoljenih skladišta."
   ]
  },
  {
   "cell_type": "code",
   "execution_count": 26,
   "id": "c5644ca7",
   "metadata": {},
   "outputs": [],
   "source": [
    "objectives = []\n",
    "for limit in range(1, len(locations)+1):\n",
    "    model.number_of_warehouses_limit = limit\n",
    "    result = solver.solve(model)\n",
    "    if result.solver.status == 'ok':\n",
    "        objectives.append(model.objective())"
   ]
  },
  {
   "cell_type": "code",
   "execution_count": 27,
   "id": "a4d5094e",
   "metadata": {},
   "outputs": [
    {
     "data": {
      "image/png": "[encoded data removed]",
      "text/plain": [
       "<Figure size 432x288 with 1 Axes>"
      ]
     },
     "metadata": {
      "needs_background": "light"
     },
     "output_type": "display_data"
    }
   ],
   "source": [
    "plt.plot(range(1, len(locations)+1), objectives)\n",
    "plt.xlabel('Broj skladista')\n",
    "plt.xticks(range(1, len(locations)+1), range(1, len(locations)+1))\n",
    "plt.ylabel('Vrednost ciljne funkcije')\n",
    "plt.show()"
   ]
  },
  {
   "cell_type": "markdown",
   "id": "c5cbd3e9",
   "metadata": {},
   "source": [
    "Primetimo da je za dva skladišta vrednost funkcije minimalna. "
   ]
  },
  {
   "cell_type": "code",
   "execution_count": null,
   "id": "a00d35a2",
   "metadata": {},
   "outputs": [],
   "source": []
  }
 ],
 "metadata": {
  "kernelspec": {
   "display_name": "Python 3",
   "language": "python",
   "name": "python3"
  },
  "language_info": {
   "codemirror_mode": {
    "name": "ipython",
    "version": 3
   },
   "file_extension": ".py",
   "mimetype": "text/x-python",
   "name": "python",
   "nbconvert_exporter": "python",
   "pygments_lexer": "ipython3",
   "version": "3.7.6"
  }
 },
 "nbformat": 4,
 "nbformat_minor": 5
}
