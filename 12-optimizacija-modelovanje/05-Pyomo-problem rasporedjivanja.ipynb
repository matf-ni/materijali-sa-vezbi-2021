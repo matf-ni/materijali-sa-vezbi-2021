{
 "cells": [
  {
   "cell_type": "markdown",
   "id": "d5c2a5fc",
   "metadata": {},
   "source": [
    "# Problem raspoređivanja"
   ]
  },
  {
   "cell_type": "markdown",
   "id": "cdae4b48",
   "metadata": {},
   "source": [
    "U ovoj svesci rešavaćemo jedan problem raspoređivanja."
   ]
  },
  {
   "cell_type": "markdown",
   "id": "008ecc68",
   "metadata": {},
   "source": [
    "U susedstvu se otvara nova prodavnica koja će biti otvorena 24 sata dnevno, 7 dana u nedelji. Da bi se pokrio obim posla, radnici će raditi u tri smene u trajanju po osam sati. Jutarnja smena je od 6:00 do 14:00, poslepodnevna smena je od 14:00 do 22:00, a noćna smena je od 22:00 do 6:00 sledećeg dana.\n",
    "\n",
    "Za vreme noćne smene potreban je jedan radnik, dok su za rad u dnevnim smenama potrebna po dva radnika. Izuzetak je nedelja, kada je i u dnevnim smenama potreban po jedan radni. Svaki radnik ima opterećenje od najviše 40 sati nedeljno i treba da se odmori barem 12 sati između dveju smena. Radnici koji ne rade nedeljom preferiraju da imaju i slobodnu subotu. \n",
    "\n",
    "Menadžeru koji treba da napravi raspored je na raspolaganju 10 radnika. Potrebno je da napravi optimalni raspored koji prati navedena ograničenja sa što manjim brojem radnika kako bi preostali radnici mogli da pomognu u drugim prodavnicama."
   ]
  },
  {
   "cell_type": "code",
   "execution_count": 1,
   "id": "f7d9535b",
   "metadata": {},
   "outputs": [],
   "source": [
    "import json"
   ]
  },
  {
   "cell_type": "code",
   "execution_count": 2,
   "id": "092d5a98",
   "metadata": {},
   "outputs": [],
   "source": [
    "from pyomo.environ import *"
   ]
  },
  {
   "cell_type": "code",
   "execution_count": null,
   "id": "7bec4600",
   "metadata": {},
   "outputs": [],
   "source": []
  },
  {
   "cell_type": "markdown",
   "id": "671cb023",
   "metadata": {},
   "source": [
    "Prvo ćemo izdvojiti podatke koji se tiču same formulacije problema. Lista `days` će sadržati imena radnih dana, lista `shifts` će sadržati imena smena, a rečnik `days_shift` njihovu kombinaciju. "
   ]
  },
  {
   "cell_type": "code",
   "execution_count": null,
   "id": "6ebcc2b4",
   "metadata": {},
   "outputs": [],
   "source": []
  },
  {
   "cell_type": "code",
   "execution_count": 3,
   "id": "fa5a25e5",
   "metadata": {},
   "outputs": [],
   "source": [
    "days = ['Mon', 'Tue', 'Wed', 'Thu', 'Fri', 'Sat', 'Sun']\n",
    "shifts = ['morning', 'evening', 'night']\n",
    "\n",
    "# ime dana je kljuc recnika, a lista smena vrednost\n",
    "days_shifts = {day: shifts for day in days} "
   ]
  },
  {
   "cell_type": "code",
   "execution_count": 4,
   "id": "73b812a8",
   "metadata": {},
   "outputs": [
    {
     "data": {
      "text/plain": [
       "{'Mon': ['morning', 'evening', 'night'],\n",
       " 'Tue': ['morning', 'evening', 'night'],\n",
       " 'Wed': ['morning', 'evening', 'night'],\n",
       " 'Thu': ['morning', 'evening', 'night'],\n",
       " 'Fri': ['morning', 'evening', 'night'],\n",
       " 'Sat': ['morning', 'evening', 'night'],\n",
       " 'Sun': ['morning', 'evening', 'night']}"
      ]
     },
     "execution_count": 4,
     "metadata": {},
     "output_type": "execute_result"
    }
   ],
   "source": [
    "days_shifts"
   ]
  },
  {
   "cell_type": "markdown",
   "id": "8883a34f",
   "metadata": {},
   "source": [
    "Informacije o raspoloživim radnicima ćemo čuvati na nivou liste `workers`."
   ]
  },
  {
   "cell_type": "code",
   "execution_count": 5,
   "id": "e255e00a",
   "metadata": {},
   "outputs": [],
   "source": [
    "number_of_workers = 10\n",
    "workers = ['W' + str(i+1) for i in range(0, number_of_workers)]"
   ]
  },
  {
   "cell_type": "code",
   "execution_count": 6,
   "id": "80f156ec",
   "metadata": {},
   "outputs": [
    {
     "data": {
      "text/plain": [
       "['W1', 'W2', 'W3', 'W4', 'W5', 'W6', 'W7', 'W8', 'W9', 'W10']"
      ]
     },
     "execution_count": 6,
     "metadata": {},
     "output_type": "execute_result"
    }
   ],
   "source": [
    "workers"
   ]
  },
  {
   "cell_type": "code",
   "execution_count": null,
   "id": "9aca7df5",
   "metadata": {},
   "outputs": [],
   "source": []
  },
  {
   "cell_type": "markdown",
   "id": "2b7afbfc",
   "metadata": {},
   "source": [
    "Dalje ćemo kreirati model. "
   ]
  },
  {
   "cell_type": "code",
   "execution_count": 7,
   "id": "8c925111",
   "metadata": {},
   "outputs": [],
   "source": [
    "model = ConcreteModel()"
   ]
  },
  {
   "cell_type": "code",
   "execution_count": null,
   "id": "e472219f",
   "metadata": {},
   "outputs": [],
   "source": []
  },
  {
   "cell_type": "markdown",
   "id": "5b9de995",
   "metadata": {},
   "source": [
    "Promenljive `works` će biti indeksirane identifikatorima radnika, imenima dana i imenima smena i imaće binarnu vrednost. Vrednost `0` će označavati da izdvojeni radnik nije raspoređen za rad u smeni u određenom danu (to će biti i početna vrednost promenljivih), dok će vrednost `1` označavati da je radnik raspoređen za rad."
   ]
  },
  {
   "cell_type": "code",
   "execution_count": 8,
   "id": "e1ef64e6",
   "metadata": {},
   "outputs": [],
   "source": [
    "model.works = Var(((worker, day, shift) for worker in workers for day in days for shift in days_shifts[day]), within=Binary, initialize=0)"
   ]
  },
  {
   "cell_type": "code",
   "execution_count": 9,
   "id": "33f4ed20",
   "metadata": {},
   "outputs": [
    {
     "data": {
      "text/plain": [
       "0"
      ]
     },
     "execution_count": 9,
     "metadata": {},
     "output_type": "execute_result"
    }
   ],
   "source": [
    "model.works['W1', 'Mon', 'morning'].value"
   ]
  },
  {
   "cell_type": "code",
   "execution_count": null,
   "id": "861b0f7e",
   "metadata": {},
   "outputs": [],
   "source": []
  },
  {
   "cell_type": "markdown",
   "id": "72cdf17f",
   "metadata": {},
   "source": [
    "Promenljive `needed` će označavati da li je radnik neophodan za rad u smeni. Ove promenljive biće indeksirane identifikatorima radnika sa, takođe, binarnim vrednostima i nulom kao početnom vrednošću."
   ]
  },
  {
   "cell_type": "code",
   "execution_count": 10,
   "id": "d5cfb940",
   "metadata": {},
   "outputs": [],
   "source": [
    "model.needed = Var(workers, within=Binary, initialize=0)"
   ]
  },
  {
   "cell_type": "code",
   "execution_count": 11,
   "id": "7908d83b",
   "metadata": {},
   "outputs": [
    {
     "data": {
      "text/plain": [
       "0"
      ]
     },
     "execution_count": 11,
     "metadata": {},
     "output_type": "execute_result"
    }
   ],
   "source": [
    "model.needed['W1'].value"
   ]
  },
  {
   "cell_type": "code",
   "execution_count": null,
   "id": "97acc8c0",
   "metadata": {},
   "outputs": [],
   "source": []
  },
  {
   "cell_type": "markdown",
   "id": "7e13c01d",
   "metadata": {},
   "source": [
    "Promenljive `no_pref` će pratiti aktivnosti radnika u toku vikenda. Takođe će biti binarnih vrednosti, sa vrednošću `1` ukoliko nije ispoštovana preferencija radnika tj. ako radnik radi u nedelju, ali ne i u subotu. Probaćemo da izbegnemo ovakve scenarije."
   ]
  },
  {
   "cell_type": "code",
   "execution_count": 12,
   "id": "d151becd",
   "metadata": {},
   "outputs": [],
   "source": [
    "model.no_pref = Var(workers, within=Binary, initialize=0)"
   ]
  },
  {
   "cell_type": "code",
   "execution_count": 13,
   "id": "307de741",
   "metadata": {},
   "outputs": [
    {
     "data": {
      "text/plain": [
       "0"
      ]
     },
     "execution_count": 13,
     "metadata": {},
     "output_type": "execute_result"
    }
   ],
   "source": [
    "model.no_pref['W1'].value"
   ]
  },
  {
   "cell_type": "code",
   "execution_count": null,
   "id": "ecf24fa0",
   "metadata": {},
   "outputs": [],
   "source": []
  },
  {
   "cell_type": "markdown",
   "id": "ae5490e3",
   "metadata": {},
   "source": [
    "Ciljna funkcija će pratiti broj potrebnih radnika, kao i raspored vikendom. Faktor koji se odnosi na broj potrebnih radnika je pomnožen konstantom koja treba da da veću težinu ovom uslovu optimizacije. Funkciju cilja je potrebno minimizovati."
   ]
  },
  {
   "cell_type": "code",
   "execution_count": 14,
   "id": "b52a2a86",
   "metadata": {},
   "outputs": [],
   "source": [
    "def obj_rule(model):\n",
    "    return sum(model.no_pref[worker] for worker in workers) + 2*sum(model.needed[worker] for worker in workers)\n",
    "\n",
    "model.obj = Objective(rule=obj_rule, sense=minimize)"
   ]
  },
  {
   "cell_type": "code",
   "execution_count": null,
   "id": "a965b355",
   "metadata": {},
   "outputs": [],
   "source": []
  },
  {
   "cell_type": "markdown",
   "id": "33f15355",
   "metadata": {},
   "source": [
    "Zatim ćemo kreirati listu ograničenja. Za njeno kreiranje iskoristićemo funkciju `ConstraintList`, a za dodavanje pojedinačnih ograničenja funkciju `add`."
   ]
  },
  {
   "cell_type": "code",
   "execution_count": 15,
   "id": "f26ac953",
   "metadata": {},
   "outputs": [],
   "source": [
    "model.constraints = ConstraintList()"
   ]
  },
  {
   "cell_type": "markdown",
   "id": "245e57c3",
   "metadata": {},
   "source": [
    "Prva grupa ogrančenja se odnosi na pokrivenost svih smena."
   ]
  },
  {
   "cell_type": "code",
   "execution_count": 16,
   "id": "072f2158",
   "metadata": {},
   "outputs": [],
   "source": [
    "for day in days:\n",
    "    for shift in days_shifts[day]:\n",
    "        # ako je u pitanju radni dan ili subota i prepodnevna ili poslepodnevna smena\n",
    "        # broj radnika u smeni treba da bude 2\n",
    "        if day in days[:-1] and shift in ['morning', 'evening']:\n",
    "            model.constraints.add(\n",
    "                2 == sum(model.works[worker, day, shift] for worker in workers)\n",
    "            )\n",
    "        else:\n",
    "            # nedeljom i u nocnoj smeni broj radnika treba da bude 1\n",
    "            model.constraints.add(\n",
    "                1 == sum(model.works[worker, day, shift] for worker in workers)\n",
    "            )"
   ]
  },
  {
   "cell_type": "code",
   "execution_count": null,
   "id": "03c06e30",
   "metadata": {},
   "outputs": [],
   "source": []
  },
  {
   "cell_type": "markdown",
   "id": "9833d584",
   "metadata": {},
   "source": [
    "Druga grupa ograničenja se odnosi na radno vreme radnika - radnik ne radi više od 40 sati nedeljno."
   ]
  },
  {
   "cell_type": "code",
   "execution_count": 17,
   "id": "dcae8857",
   "metadata": {},
   "outputs": [],
   "source": [
    "for worker in workers:\n",
    "    model.constraints.add(\n",
    "        40 >= sum(8 * model.works[worker, day, shift] for day in days for shift in days_shifts[day])\n",
    "    )"
   ]
  },
  {
   "cell_type": "code",
   "execution_count": null,
   "id": "8b0e15e4",
   "metadata": {},
   "outputs": [],
   "source": []
  },
  {
   "cell_type": "markdown",
   "id": "fc226d87",
   "metadata": {},
   "source": [
    "Treća grupa ograničenje se tiče razmaka između dveju smena koji treba da bude barem 12 sati."
   ]
  },
  {
   "cell_type": "code",
   "execution_count": 18,
   "id": "b81c2e8a",
   "metadata": {},
   "outputs": [],
   "source": [
    "for worker in workers:\n",
    "    for j, day in enumerate(days):\n",
    "        \n",
    "        # radnik ne moze da radi u dvema smenama u istom danu\n",
    "        model.constraints.add(\n",
    "            1 >= sum(model.works[worker, day, shift] for shift in days_shifts[day])\n",
    "        )\n",
    "        # ako radnik radi poslepodnevnu ili nocnu smenu, ne moze da radi u prepodnevnoj smeni sledeceg dana\n",
    "        # praticemo i uslov da posle nedelje dolazi ponedeljak preko izraza (j+1)%7 \n",
    "        model.constraints.add(\n",
    "            1 >= sum(model.works[worker, days[j], shift] for shift in ['evening', 'night']) +\n",
    "            model.works[worker, days[(j + 1) % 7], 'morning']\n",
    "        )\n",
    "        # ako radnik radi nocnu smenu, ne moze da radi prepodnevnu ili poslepodnevnu smenu sledeceg dana\n",
    "        model.constraints.add(\n",
    "            1 >= model.works[worker, days[j], 'night'] +\n",
    "            sum(model.works[worker, days[(j + 1) % 7], shift] for shift in ['morning', 'evening'])\n",
    "        )"
   ]
  },
  {
   "cell_type": "code",
   "execution_count": null,
   "id": "7768231a",
   "metadata": {},
   "outputs": [],
   "source": []
  },
  {
   "cell_type": "markdown",
   "id": "0245eed0",
   "metadata": {},
   "source": [
    "Četvrta grupa ograničenja se tiče potrebnosti radnika. "
   ]
  },
  {
   "cell_type": "code",
   "execution_count": 19,
   "id": "ddb4f749",
   "metadata": {},
   "outputs": [],
   "source": [
    "# ako je vrednost model.works[worker, ·, ·] razlicita od nule, model.needed[worker] mora biti jedan\n",
    "# u usprotnom vrednost model.needed[worker] treba da bude nula zbog minimizacije funkcije cilja\n",
    "# jedan radnik radi najvise 40 sati tj. najvise 5 smena pa je zato iskoriscenja konstanta 5\n",
    "\n",
    "for worker in workers:\n",
    "    model.constraints.add(\n",
    "        5 * model.needed[worker] >= sum(model.works[worker, day, shift] for day in days for shift in days_shifts[day])\n",
    "    ) "
   ]
  },
  {
   "cell_type": "code",
   "execution_count": null,
   "id": "dbb8a80a",
   "metadata": {},
   "outputs": [],
   "source": []
  },
  {
   "cell_type": "markdown",
   "id": "0c0a421b",
   "metadata": {},
   "source": [
    "Poslednja grupa ograničenja se tiče rada vikendom. Ako radnik ne radi u nedelju, poželjno je da ne radi ni u subotu."
   ]
  },
  {
   "cell_type": "code",
   "execution_count": 20,
   "id": "28c27a86",
   "metadata": {},
   "outputs": [],
   "source": [
    "for worker in workers:\n",
    "    model.constraints.add(\n",
    "        model.no_pref[worker] >= sum(model.works[worker, 'Sun', shift] for shift in days_shifts['Sun'])\n",
    "        - sum(model.works[worker, 'Sat', shift] for shift in days_shifts['Sat'])\n",
    "    )"
   ]
  },
  {
   "cell_type": "code",
   "execution_count": null,
   "id": "abc761c1",
   "metadata": {},
   "outputs": [],
   "source": []
  },
  {
   "cell_type": "markdown",
   "id": "a54b1fb8",
   "metadata": {},
   "source": [
    "Ukupan broj ograničenja koji je postavljen na nivou modela je: "
   ]
  },
  {
   "cell_type": "code",
   "execution_count": 21,
   "id": "fb43ff8b",
   "metadata": {},
   "outputs": [
    {
     "data": {
      "text/plain": [
       "261"
      ]
     },
     "execution_count": 21,
     "metadata": {},
     "output_type": "execute_result"
    }
   ],
   "source": [
    "len(model.constraints)"
   ]
  },
  {
   "cell_type": "markdown",
   "id": "ecd65ad6",
   "metadata": {},
   "source": [
    "Sam model je, takođe, vrlo kompleksan: "
   ]
  },
  {
   "cell_type": "code",
   "execution_count": 22,
   "id": "2cacdf63",
   "metadata": {},
   "outputs": [],
   "source": [
    "# model.pprint()"
   ]
  },
  {
   "cell_type": "code",
   "execution_count": null,
   "id": "c29284c3",
   "metadata": {},
   "outputs": [],
   "source": []
  },
  {
   "cell_type": "markdown",
   "id": "720baacf",
   "metadata": {},
   "source": [
    "Kako problem koji rešavamo predstavlja varijantu mešovitog celobrojnog programiranja, dovoljno je upotrebiti rešavač koji podršava rad sa ovom grupom problema. Mi ćemo iskoristiti GLPK rešavač. "
   ]
  },
  {
   "cell_type": "code",
   "execution_count": 23,
   "id": "a3571c17",
   "metadata": {},
   "outputs": [],
   "source": [
    "opt = SolverFactory('glpk')  \n",
    "results = opt.solve(model)  "
   ]
  },
  {
   "cell_type": "code",
   "execution_count": 24,
   "id": "2f865a4a",
   "metadata": {},
   "outputs": [
    {
     "data": {
      "text/plain": [
       "<SolverStatus.ok: 'ok'>"
      ]
     },
     "execution_count": 24,
     "metadata": {},
     "output_type": "execute_result"
    }
   ],
   "source": [
    "results.solver.status"
   ]
  },
  {
   "cell_type": "code",
   "execution_count": 25,
   "id": "53143b7b",
   "metadata": {},
   "outputs": [
    {
     "name": "stdout",
     "output_type": "stream",
     "text": [
      "# ==========================================================\n",
      "# = Solver Results                                         =\n",
      "# ==========================================================\n",
      "# ----------------------------------------------------------\n",
      "#   Problem Information\n",
      "# ----------------------------------------------------------\n",
      "Problem: \n",
      "- Name: unknown\n",
      "  Lower bound: 14.0\n",
      "  Upper bound: 14.0\n",
      "  Number of objectives: 1\n",
      "  Number of constraints: 262\n",
      "  Number of variables: 231\n",
      "  Number of nonzeros: 1341\n",
      "  Sense: minimize\n",
      "# ----------------------------------------------------------\n",
      "#   Solver Information\n",
      "# ----------------------------------------------------------\n",
      "Solver: \n",
      "- Status: ok\n",
      "  Termination condition: optimal\n",
      "  Statistics: \n",
      "    Branch and bound: \n",
      "      Number of bounded subproblems: 1\n",
      "      Number of created subproblems: 1\n",
      "  Error rc: 0\n",
      "  Time: 0.02184605598449707\n",
      "# ----------------------------------------------------------\n",
      "#   Solution Information\n",
      "# ----------------------------------------------------------\n",
      "Solution: \n",
      "- number of solutions: 0\n",
      "  number of solutions displayed: 0\n"
     ]
    }
   ],
   "source": [
    "results.write()"
   ]
  },
  {
   "cell_type": "markdown",
   "id": "f39968c1",
   "metadata": {},
   "source": [
    "Sledeće funkcije će nam pomoći da izdvojimo informacije koje je generisao rešavač. "
   ]
  },
  {
   "cell_type": "markdown",
   "id": "e0e50ca7",
   "metadata": {},
   "source": [
    "Funkcije `get_workers_needed` izdvaja listu potrebnih radnika. "
   ]
  },
  {
   "cell_type": "code",
   "execution_count": 26,
   "id": "2c3831f2",
   "metadata": {},
   "outputs": [],
   "source": [
    "def get_workers_needed(needed):\n",
    "    workers_needed = []\n",
    "    for worker in workers:\n",
    "        if needed[worker].value == 1:\n",
    "            workers_needed.append(worker)\n",
    "    return workers_needed"
   ]
  },
  {
   "cell_type": "code",
   "execution_count": null,
   "id": "36a164b5",
   "metadata": {},
   "outputs": [],
   "source": []
  },
  {
   "cell_type": "markdown",
   "id": "fa386aea",
   "metadata": {},
   "source": [
    "Funkcija `get_work_table` izdvaja raspored rada radnika. "
   ]
  },
  {
   "cell_type": "code",
   "execution_count": 27,
   "id": "90af4337",
   "metadata": {},
   "outputs": [],
   "source": [
    "def get_work_table(works):\n",
    "    # raspored rada radnika ce biti u formi recnika\n",
    "    week_table = {day: {shift: [] for shift in days_shifts[day]} for day in days}\n",
    "    for worker in workers:\n",
    "        for day in days:\n",
    "            for shift in days_shifts[day]:\n",
    "                    if works[worker, day, shift].value == 1:\n",
    "                        week_table[day][shift].append(worker)\n",
    "    return week_table"
   ]
  },
  {
   "cell_type": "code",
   "execution_count": null,
   "id": "bc0c3540",
   "metadata": {},
   "outputs": [],
   "source": []
  },
  {
   "cell_type": "markdown",
   "id": "21a1feb8",
   "metadata": {},
   "source": [
    "Funkcija `get_no_preference` izdvaja listu radnika za koje nije ispunjen uslov rada vikendom."
   ]
  },
  {
   "cell_type": "code",
   "execution_count": 28,
   "id": "c3e8a7c7",
   "metadata": {},
   "outputs": [],
   "source": [
    "def get_no_preference(no_pref):\n",
    "    return [worker for worker in workers if no_pref[worker].value == 1]"
   ]
  },
  {
   "cell_type": "code",
   "execution_count": null,
   "id": "0483e5f1",
   "metadata": {},
   "outputs": [],
   "source": []
  },
  {
   "cell_type": "markdown",
   "id": "1391e16c",
   "metadata": {},
   "source": [
    "Ostaje još da izdvojimo potrebne informacije i prikažemo ih."
   ]
  },
  {
   "cell_type": "code",
   "execution_count": 29,
   "id": "75cb28ba",
   "metadata": {},
   "outputs": [],
   "source": [
    "workers_needed = get_workers_needed(model.needed)  "
   ]
  },
  {
   "cell_type": "code",
   "execution_count": 30,
   "id": "c0dddd86",
   "metadata": {},
   "outputs": [
    {
     "name": "stdout",
     "output_type": "stream",
     "text": [
      "Potrebni radnici:  ['W1', 'W2', 'W3', 'W4', 'W5', 'W6', 'W10']\n"
     ]
    }
   ],
   "source": [
    "print('Potrebni radnici: ', workers_needed)"
   ]
  },
  {
   "cell_type": "code",
   "execution_count": null,
   "id": "0d0e0566",
   "metadata": {},
   "outputs": [],
   "source": []
  },
  {
   "cell_type": "code",
   "execution_count": 31,
   "id": "fdc0dccd",
   "metadata": {},
   "outputs": [],
   "source": [
    "week_table = get_work_table(model.works)"
   ]
  },
  {
   "cell_type": "code",
   "execution_count": 32,
   "id": "4372a881",
   "metadata": {},
   "outputs": [
    {
     "name": "stdout",
     "output_type": "stream",
     "text": [
      "Plan rada radnika: \n",
      "{\n",
      "  \"Mon\": {\n",
      "    \"morning\": [\n",
      "      \"W1\",\n",
      "      \"W10\"\n",
      "    ],\n",
      "    \"evening\": [\n",
      "      \"W2\",\n",
      "      \"W5\"\n",
      "    ],\n",
      "    \"night\": [\n",
      "      \"W6\"\n",
      "    ]\n",
      "  },\n",
      "  \"Tue\": {\n",
      "    \"morning\": [\n",
      "      \"W1\",\n",
      "      \"W3\"\n",
      "    ],\n",
      "    \"evening\": [\n",
      "      \"W2\",\n",
      "      \"W10\"\n",
      "    ],\n",
      "    \"night\": [\n",
      "      \"W5\"\n",
      "    ]\n",
      "  },\n",
      "  \"Wed\": {\n",
      "    \"morning\": [\n",
      "      \"W1\",\n",
      "      \"W4\"\n",
      "    ],\n",
      "    \"evening\": [\n",
      "      \"W6\",\n",
      "      \"W10\"\n",
      "    ],\n",
      "    \"night\": [\n",
      "      \"W3\"\n",
      "    ]\n",
      "  },\n",
      "  \"Thu\": {\n",
      "    \"morning\": [\n",
      "      \"W1\",\n",
      "      \"W4\"\n",
      "    ],\n",
      "    \"evening\": [\n",
      "      \"W2\",\n",
      "      \"W10\"\n",
      "    ],\n",
      "    \"night\": [\n",
      "      \"W5\"\n",
      "    ]\n",
      "  },\n",
      "  \"Fri\": {\n",
      "    \"morning\": [\n",
      "      \"W1\",\n",
      "      \"W4\"\n",
      "    ],\n",
      "    \"evening\": [\n",
      "      \"W3\",\n",
      "      \"W10\"\n",
      "    ],\n",
      "    \"night\": [\n",
      "      \"W6\"\n",
      "    ]\n",
      "  },\n",
      "  \"Sat\": {\n",
      "    \"morning\": [\n",
      "      \"W2\",\n",
      "      \"W4\"\n",
      "    ],\n",
      "    \"evening\": [\n",
      "      \"W3\",\n",
      "      \"W5\"\n",
      "    ],\n",
      "    \"night\": [\n",
      "      \"W6\"\n",
      "    ]\n",
      "  },\n",
      "  \"Sun\": {\n",
      "    \"morning\": [\n",
      "      \"W2\"\n",
      "    ],\n",
      "    \"evening\": [\n",
      "      \"W5\"\n",
      "    ],\n",
      "    \"night\": [\n",
      "      \"W4\"\n",
      "    ]\n",
      "  }\n",
      "}\n"
     ]
    }
   ],
   "source": [
    "print('Plan rada radnika: ')\n",
    "print(json.dumps(week_table, indent=2))"
   ]
  },
  {
   "cell_type": "code",
   "execution_count": 33,
   "id": "84d7257e",
   "metadata": {},
   "outputs": [],
   "source": [
    "workers_no_pref = get_no_preference(model.no_pref)"
   ]
  },
  {
   "cell_type": "code",
   "execution_count": 34,
   "id": "92e03511",
   "metadata": {},
   "outputs": [
    {
     "name": "stdout",
     "output_type": "stream",
     "text": [
      "Radnici koji ce imati problematican vikend:  []\n"
     ]
    }
   ],
   "source": [
    "print('Radnici koji ce imati problematican vikend: ', workers_no_pref)"
   ]
  },
  {
   "cell_type": "code",
   "execution_count": null,
   "id": "4e3d941f",
   "metadata": {},
   "outputs": [],
   "source": []
  }
 ],
 "metadata": {
  "kernelspec": {
   "display_name": "Python 3",
   "language": "python",
   "name": "python3"
  },
  "language_info": {
   "codemirror_mode": {
    "name": "ipython",
    "version": 3
   },
   "file_extension": ".py",
   "mimetype": "text/x-python",
   "name": "python",
   "nbconvert_exporter": "python",
   "pygments_lexer": "ipython3",
   "version": "3.7.6"
  }
 },
 "nbformat": 4,
 "nbformat_minor": 5
}
