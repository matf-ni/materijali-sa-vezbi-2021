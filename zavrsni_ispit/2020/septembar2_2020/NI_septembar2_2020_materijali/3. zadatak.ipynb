{
 "cells": [
  {
   "cell_type": "markdown",
   "metadata": {},
   "source": [
    "### 3. zadatak (8 poena)"
   ]
  },
  {
   "cell_type": "code",
   "execution_count": 1,
   "metadata": {},
   "outputs": [],
   "source": [
    "import numpy as np"
   ]
  },
  {
   "cell_type": "code",
   "execution_count": null,
   "metadata": {},
   "outputs": [],
   "source": []
  },
  {
   "cell_type": "markdown",
   "metadata": {},
   "source": [
    "Za rešavanje matričnih sistema oblika $(A+uv^T)x=b$ u kojima vrednosti vektora $u$ i $v$ variraju može se koristiti zapis oblika $\\begin{bmatrix}\n",
    "A & u \\\\\n",
    "v^T & -1\n",
    "\\end{bmatrix} \\begin{bmatrix} \n",
    "x \\\\\n",
    "z \\end{bmatrix} = \n",
    "\\begin{bmatrix} \n",
    "b \\\\\n",
    "0 \\end{bmatrix}$ i svođenje matrice sistema na LU formu $\\begin{bmatrix}\n",
    "A & u \\\\\n",
    "v^T & -1\n",
    "\\end{bmatrix} = \n",
    "\\begin{bmatrix}\n",
    "I & 0 \\\\\n",
    "v^TA^{-1} & 1\n",
    "\\end{bmatrix} \\begin{bmatrix}\n",
    "A & u \\\\\n",
    "0 & -1-v^TA^{-1}u\\end{bmatrix}$. "
   ]
  },
  {
   "cell_type": "code",
   "execution_count": null,
   "metadata": {},
   "outputs": [],
   "source": []
  },
  {
   "cell_type": "markdown",
   "metadata": {},
   "source": [
    "a) Napisati funkciju `solve(A, b, u, v)` koja za zadatu matricu sistema $A$, vektor slobodnih članova $b$ i vektore $u$ i $v$ pronalazi rešenje koristeći navedenu LU dekompoziciju."
   ]
  },
  {
   "cell_type": "code",
   "execution_count": null,
   "metadata": {},
   "outputs": [],
   "source": []
  },
  {
   "cell_type": "code",
   "execution_count": null,
   "metadata": {},
   "outputs": [],
   "source": []
  },
  {
   "cell_type": "code",
   "execution_count": null,
   "metadata": {},
   "outputs": [],
   "source": []
  },
  {
   "cell_type": "code",
   "execution_count": null,
   "metadata": {},
   "outputs": [],
   "source": []
  },
  {
   "cell_type": "markdown",
   "metadata": {},
   "source": [
    "b) Koristeći funkciju `solve` za zadatu matricu $A=\\begin{bmatrix}\n",
    "25 & 15 & -5 \\\\\n",
    "15 & 18 & 0 \\\\\n",
    "-5 & 0 & 11\n",
    "\\end{bmatrix}$ i vektore $b = \\begin{bmatrix} \n",
    "3 \\\\\n",
    "0 \\\\\n",
    "4\\end{bmatrix}$, $u = \\begin{bmatrix}\n",
    "0.5 \\\\\n",
    "0.2 \\\\\n",
    "0.1 \\end{bmatrix}$ i $v = \\begin{bmatrix}\n",
    "0.2 \\\\\n",
    "0.2 \\\\\n",
    "0.4\\end{bmatrix}$ rešiti sistem. "
   ]
  },
  {
   "cell_type": "code",
   "execution_count": null,
   "metadata": {},
   "outputs": [],
   "source": []
  },
  {
   "cell_type": "code",
   "execution_count": null,
   "metadata": {},
   "outputs": [],
   "source": []
  },
  {
   "cell_type": "code",
   "execution_count": null,
   "metadata": {},
   "outputs": [],
   "source": []
  },
  {
   "cell_type": "code",
   "execution_count": null,
   "metadata": {},
   "outputs": [],
   "source": []
  },
  {
   "cell_type": "markdown",
   "metadata": {},
   "source": [
    "c) Uporediti rešenje sistema sa rešenjem koje se dobija bez korišćenja dekompozicije matrice, primenom neke bibliotečke funkcije. Kolika je razlika u tačnosti?"
   ]
  },
  {
   "cell_type": "code",
   "execution_count": null,
   "metadata": {},
   "outputs": [],
   "source": []
  },
  {
   "cell_type": "code",
   "execution_count": null,
   "metadata": {},
   "outputs": [],
   "source": []
  },
  {
   "cell_type": "code",
   "execution_count": null,
   "metadata": {},
   "outputs": [],
   "source": []
  },
  {
   "cell_type": "code",
   "execution_count": null,
   "metadata": {},
   "outputs": [],
   "source": []
  }
 ],
 "metadata": {
  "kernelspec": {
   "display_name": "Python 3",
   "language": "python",
   "name": "python3"
  },
  "language_info": {
   "codemirror_mode": {
    "name": "ipython",
    "version": 3
   },
   "file_extension": ".py",
   "mimetype": "text/x-python",
   "name": "python",
   "nbconvert_exporter": "python",
   "pygments_lexer": "ipython3",
   "version": "3.7.6"
  }
 },
 "nbformat": 4,
 "nbformat_minor": 4
}
