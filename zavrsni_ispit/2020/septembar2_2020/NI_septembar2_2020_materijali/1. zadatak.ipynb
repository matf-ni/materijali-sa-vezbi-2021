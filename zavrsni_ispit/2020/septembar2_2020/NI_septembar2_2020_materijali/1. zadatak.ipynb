{
 "cells": [
  {
   "cell_type": "markdown",
   "metadata": {},
   "source": [
    "### 1. zadatak (8 poena)"
   ]
  },
  {
   "cell_type": "markdown",
   "metadata": {},
   "source": [
    "Za matricu $A \\in R^{n \\times n}$ kažemo da je pozitivno definitna ako važi $x^TAx > 0$ za sve vektore $x \\in R^n$ različite od nule. Za simetrične matrice posebno važi da je matrica pozitivno definitna ako su sve njene sopstvene vrednosti veće od nule."
   ]
  },
  {
   "cell_type": "code",
   "execution_count": 1,
   "metadata": {},
   "outputs": [],
   "source": [
    "import numpy as np"
   ]
  },
  {
   "cell_type": "markdown",
   "metadata": {},
   "source": [
    "a) Napisati funkciju koja proverava da li je zadata matrica $A$ simetrična i pozitivno definitna, a zatim proveriti da li uslovi važe za matricu $A = \\begin{bmatrix} \n",
    "10 & 7 & 8 & 7 \\\\\n",
    "7 & 5 & 6 & 5 \\\\\n",
    "8 & 6 & 10 & 9 \\\\\n",
    "7 & 5 & 9 & 10\n",
    "\\end{bmatrix}$."
   ]
  },
  {
   "cell_type": "code",
   "execution_count": null,
   "metadata": {},
   "outputs": [],
   "source": []
  },
  {
   "cell_type": "code",
   "execution_count": null,
   "metadata": {},
   "outputs": [],
   "source": []
  },
  {
   "cell_type": "code",
   "execution_count": null,
   "metadata": {},
   "outputs": [],
   "source": []
  },
  {
   "cell_type": "code",
   "execution_count": null,
   "metadata": {},
   "outputs": [],
   "source": []
  },
  {
   "cell_type": "markdown",
   "metadata": {},
   "source": [
    "b) Geometrijska interpretacija uslova definitnosti se dovodi u vezu sa uglom rotacije $\\gamma$ između vektora $x$ i $Ax$. Ovaj ugao je zbog uslova uvek manji od $\\frac{\\pi}{2}$, a maksimalna vrednost ugla rotacije $\\gamma$ određena je sa $k(A) = \\frac{1+sin(\\gamma)}{1-sin(\\gamma)}$ gde $k(A)$ predstavlja uslovljenost matrice A. Odrediti najveći ugao rotacije (u stepenima) za zadatu matricu $A$."
   ]
  },
  {
   "cell_type": "code",
   "execution_count": null,
   "metadata": {},
   "outputs": [],
   "source": []
  },
  {
   "cell_type": "code",
   "execution_count": null,
   "metadata": {},
   "outputs": [],
   "source": []
  },
  {
   "cell_type": "code",
   "execution_count": null,
   "metadata": {},
   "outputs": [],
   "source": []
  },
  {
   "cell_type": "code",
   "execution_count": null,
   "metadata": {},
   "outputs": [],
   "source": []
  },
  {
   "cell_type": "markdown",
   "metadata": {},
   "source": [
    "c) Računski potvrditi da se uslovljenost pozitivno definitne matrice $A$ može dobiti i kao odnos njene najveće i najmanje sopstvene vrednosti. "
   ]
  },
  {
   "cell_type": "code",
   "execution_count": null,
   "metadata": {},
   "outputs": [],
   "source": []
  },
  {
   "cell_type": "code",
   "execution_count": null,
   "metadata": {},
   "outputs": [],
   "source": []
  },
  {
   "cell_type": "code",
   "execution_count": null,
   "metadata": {},
   "outputs": [],
   "source": []
  },
  {
   "cell_type": "code",
   "execution_count": null,
   "metadata": {},
   "outputs": [],
   "source": []
  }
 ],
 "metadata": {
  "kernelspec": {
   "display_name": "Python 3",
   "language": "python",
   "name": "python3"
  },
  "language_info": {
   "codemirror_mode": {
    "name": "ipython",
    "version": 3
   },
   "file_extension": ".py",
   "mimetype": "text/x-python",
   "name": "python",
   "nbconvert_exporter": "python",
   "pygments_lexer": "ipython3",
   "version": "3.7.6"
  }
 },
 "nbformat": 4,
 "nbformat_minor": 4
}
