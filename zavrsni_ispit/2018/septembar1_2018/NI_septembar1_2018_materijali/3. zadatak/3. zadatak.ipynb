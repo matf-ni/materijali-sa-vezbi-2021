{
 "cells": [
  {
   "cell_type": "markdown",
   "metadata": {},
   "source": [
    "** 3. zadatak (7 poena) **\n",
    "<br>\n",
    "\n",
    "Za matricu $A_{m \\times n}$ dimenzija $m \\times n$ i ranga $r$,  nenegativna matrična faktorizacija (eng. nonnegative matrix factorization) je aproksimacija matrice $A$ matričnim proizvodom $W_{m \\times k} H_{k \\times n}$ matrica $W$ i $H$ dimenzija, redom, $m \\times k$ i $k \\times n$ ($k<r$) za koje važi $W_{m \\times k}\\geq 0$ i $H_{k \\times n}\\geq 0$.\n",
    "<br>\n",
    "\n",
    "Li-Seungov algoritam je jedan od algoritama koji se može upotrebiti za izračunavanje matrica $W$ i $H$ koji ima teorijsku garanciju konvergencije u konačnom broju koraka. Njegovi koraci su: \n",
    "<br>\n",
    "\n",
    "1) Fiksirati vrednost parametra $k$. \n",
    "<br>\n",
    "\n",
    "2) Inicijalizovati matrice $W$ i $H$ proizvoljnim pozitivnim vrednostima. \n",
    "<br>\n",
    "\n",
    "3)Sve dok se ne dostigne maksimalni broj iteracija, primenjivati korak ažuriranja na nivou pojedinačnih elemenata $w_{i,j}$ i $h_{i,j}$ matrica $W$ i $H$ po pravilu:  $ H_{i, j} ^{n+1}= H_{i, j}^{n} \\frac{((W^n)^T A)_{i,j}}{((W^n)^TW^nH^n)_{i,j} + \\epsilon}$  i $ W_{i, j}^{n+1} = W_{i,j}^{n}\\frac{(A(H^{n+1})^T)_{i,j}}{(W^nH^{n+1}(H^{n+1})^T)_{i,j} + \\epsilon} $. Indeks $n$ predstavlja redni broj iteracije.   \n",
    "<br>\n",
    "<br>\n",
    "Implementirati Li-Seungov algoritam i primeniti ga nad matricom $A$ dimenzija $9\\times7$ čiji se elementi nalaze u datoteci $matrica.csv$. Za vrednost novog ranga $k$ uzeti broj $4$, za vrednost $\\epsilon$ parametra $10^{-9}$, a za maksimalni broj iteracija uzeti 100.  Ispisati rezultujuće matrice. \n",
    "\n"
   ]
  },
  {
   "cell_type": "code",
   "execution_count": 1,
   "metadata": {},
   "outputs": [],
   "source": [
    "import numpy as np\n",
    "import pandas as pd"
   ]
  },
  {
   "cell_type": "code",
   "execution_count": null,
   "metadata": {},
   "outputs": [],
   "source": []
  }
 ],
 "metadata": {
  "kernelspec": {
   "display_name": "Python 3",
   "language": "python",
   "name": "python3"
  },
  "language_info": {
   "codemirror_mode": {
    "name": "ipython",
    "version": 3
   },
   "file_extension": ".py",
   "mimetype": "text/x-python",
   "name": "python",
   "nbconvert_exporter": "python",
   "pygments_lexer": "ipython3",
   "version": "3.6.4"
  }
 },
 "nbformat": 4,
 "nbformat_minor": 2
}
