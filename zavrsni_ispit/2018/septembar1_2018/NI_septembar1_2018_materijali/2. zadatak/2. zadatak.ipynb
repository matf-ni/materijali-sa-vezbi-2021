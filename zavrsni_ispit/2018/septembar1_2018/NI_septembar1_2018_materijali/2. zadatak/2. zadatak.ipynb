{
 "cells": [
  {
   "cell_type": "markdown",
   "metadata": {},
   "source": [
    "**2. zadatak (8 poena)**\n",
    "<br>\n",
    "\n",
    "U obradi signala, autokorelacija predstavlja funkciju korelacije signala sa samim sobom pomerenim u vremenu. Pomoću nje se može odrediti i osnovna frekvencija periodičnog signala.\n",
    "<br>\n",
    "\n",
    "a) Napisati funkciju *serial_correlation(x, lag)* koja izračunava tzv. serijsku korelaciju diskretizovanog signala *x* i signala *x'* koji se dobija pomeranjem signala *x* unazad za *lag* koraka.\n",
    "\n",
    "<br>\n",
    "b) Napisati funkciju *autocorrelation(x)* koja izračunava vrednosti serijske korelacije diskretizovanog signala *x* za sve vrednosti pomeraja od 0 do polovine dužine signala. \n",
    "\n",
    "<br>\n",
    "c) Učitati audio zapis *autocorrelation.wav* i izdvojiti uzorke koje pripadaju segmentu koji počinje u 0.2 sekundi i traje 0.01 sekundu.\n",
    "\n",
    "<br>\n",
    "d) Nacrtati grafik autokorelacije za izdvojeni signal. Kojoj frekvenciji odgovara pik nacrtanog grafika?\n"
   ]
  },
  {
   "cell_type": "code",
   "execution_count": 1,
   "metadata": {},
   "outputs": [],
   "source": [
    "import numpy as np\n",
    "from scipy import signal\n",
    "from scipy.io import wavfile\n",
    "from IPython import display"
   ]
  },
  {
   "cell_type": "code",
   "execution_count": 2,
   "metadata": {},
   "outputs": [],
   "source": [
    "from matplotlib import pyplot as plt\n",
    "%matplotlib inline"
   ]
  },
  {
   "cell_type": "code",
   "execution_count": null,
   "metadata": {},
   "outputs": [],
   "source": []
  },
  {
   "cell_type": "markdown",
   "metadata": {},
   "source": [
    "Pomoć: za računanje koeficijenta korelacije moze se koristiti *numpy* funkcija *corrcoef*."
   ]
  },
  {
   "cell_type": "code",
   "execution_count": null,
   "metadata": {},
   "outputs": [],
   "source": []
  }
 ],
 "metadata": {
  "kernelspec": {
   "display_name": "Python 3",
   "language": "python",
   "name": "python3"
  },
  "language_info": {
   "codemirror_mode": {
    "name": "ipython",
    "version": 3
   },
   "file_extension": ".py",
   "mimetype": "text/x-python",
   "name": "python",
   "nbconvert_exporter": "python",
   "pygments_lexer": "ipython3",
   "version": "3.6.4"
  }
 },
 "nbformat": 4,
 "nbformat_minor": 2
}
