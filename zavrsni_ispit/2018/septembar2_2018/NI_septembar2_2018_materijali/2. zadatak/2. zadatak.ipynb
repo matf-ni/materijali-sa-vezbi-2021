{
 "cells": [
  {
   "cell_type": "markdown",
   "metadata": {},
   "source": [
    "**2. zadatak (6 poena)**\n",
    "<br>\n",
    "\n",
    "a) Na osnovu slike $autumn.jpg$ dimenzija 300x200 piksela napraviti crno-belu sliku $autumn\\_panel.jpg$ koja sadrži 2 njena ponavljanja po  horizontali i 3 njena ponavljanja po vertikali. Prikazati ovako dobijenu sliku.\n",
    "\n",
    "b) Odrediti i prikazati Furijeov spektar ovako dobijene slike.\n",
    "\n",
    "c) Kakav efekat se postiže ako se iz centra Furijeovog spektra iseče kvadrat veličine 100? Prikazati rezultat.\n"
   ]
  },
  {
   "cell_type": "code",
   "execution_count": 1,
   "metadata": {},
   "outputs": [],
   "source": [
    "import numpy as np\n",
    "from PIL import Image\n",
    "from scipy import ndimage\n",
    "from matplotlib import pyplot as plt"
   ]
  },
  {
   "cell_type": "code",
   "execution_count": null,
   "metadata": {},
   "outputs": [],
   "source": []
  },
  {
   "cell_type": "code",
   "execution_count": null,
   "metadata": {},
   "outputs": [],
   "source": []
  }
 ],
 "metadata": {
  "kernelspec": {
   "display_name": "Python 3",
   "language": "python",
   "name": "python3"
  },
  "language_info": {
   "codemirror_mode": {
    "name": "ipython",
    "version": 3
   },
   "file_extension": ".py",
   "mimetype": "text/x-python",
   "name": "python",
   "nbconvert_exporter": "python",
   "pygments_lexer": "ipython3",
   "version": "3.6.4"
  }
 },
 "nbformat": 4,
 "nbformat_minor": 2
}
