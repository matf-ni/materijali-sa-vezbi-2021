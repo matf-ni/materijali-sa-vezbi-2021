{
 "cells": [
  {
   "cell_type": "markdown",
   "metadata": {},
   "source": [
    "**1. zadatak (6 poena)**\n",
    "<br>\n",
    "<br>\n",
    "Jedan od načina za predviđanje buduće vrednosti vremenske serije baziran je na linearnoj predikciji oblika $y(n) =  a_1y(n-1) + a_2y(n-2) + a_3y(n-3) $.  \n",
    "\n",
    "a) Napisati funkciju koja za zadate vrednosti promenljive $y$ korišćenjem metode najmanjih kvadrata određuje koeficijente $a_1$, $a_2$ i $a_3$ linearne predikcije.    \n",
    "\n",
    "b) U datoteci $shampoo.csv$ se nalaze informacije o prodaji šampona u prethodnih tri godine. Pročitati podatke koji se nalaze u ovoj datoteci i prikazati grafik zavisnosti prodaje u vremenu.  \n",
    "\n",
    "c) Korišćenjem funkcije implementirane u tački a) dati ocenu vrednosti prodaje za narednih 5 meseci."
   ]
  },
  {
   "cell_type": "code",
   "execution_count": null,
   "metadata": {},
   "outputs": [],
   "source": []
  },
  {
   "cell_type": "code",
   "execution_count": 1,
   "metadata": {},
   "outputs": [],
   "source": [
    "import numpy as np\n",
    "import pandas as pd\n",
    "from matplotlib import pyplot as plt"
   ]
  },
  {
   "cell_type": "code",
   "execution_count": null,
   "metadata": {},
   "outputs": [],
   "source": []
  },
  {
   "cell_type": "code",
   "execution_count": null,
   "metadata": {},
   "outputs": [],
   "source": []
  }
 ],
 "metadata": {
  "kernelspec": {
   "display_name": "Python 3",
   "language": "python",
   "name": "python3"
  },
  "language_info": {
   "codemirror_mode": {
    "name": "ipython",
    "version": 3
   },
   "file_extension": ".py",
   "mimetype": "text/x-python",
   "name": "python",
   "nbconvert_exporter": "python",
   "pygments_lexer": "ipython3",
   "version": "3.6.4"
  }
 },
 "nbformat": 4,
 "nbformat_minor": 2
}
