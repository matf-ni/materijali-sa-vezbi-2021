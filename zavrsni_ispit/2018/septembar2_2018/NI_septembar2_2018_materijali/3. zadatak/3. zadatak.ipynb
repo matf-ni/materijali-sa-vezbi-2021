{
 "cells": [
  {
   "cell_type": "markdown",
   "metadata": {},
   "source": [
    "** 3. zadatak (6 poena) **\n",
    "<br>\n",
    "\n",
    "Jedna modifikacija metode stepenovanja je takozvana *inverzna metoda stepenovanja*. Inverzna metoda stepenovanja se koristi za pronalaženje najmanje sopstvene vrednosti matrice jer je poznato da su sopstvene vrednosti inverza matrice jednake recipročnim vrednostima sopstvenih vrednosti polazne matrice.  Ovaj metod kao osnovni korak ima iteraciju $Ax_{k+1}=x_{k}$, a zaustavni kriterijum se upotpunjuje Rejlejtovim kriterijumom $|r_{k+1} - r_k|<\\epsilon |r_{k+1}|$,  $r_k = x_k^TAx_k$ koji se izračunava nad jediničnim vektorima $x_k$ i $x_{k+1}$.\n",
    "\n",
    "<br> \n",
    "\n",
    "a) Napisati funkciju $inverse\\_power\\_method(A, x0, epsilon, max\\_iteration)$ koja izračunava najmanju sopstvenu vrednost matrice A. \n",
    "\n",
    "b) Izračunati najmanju sopstvenu vrednost matrice $A= \\begin{pmatrix}\n",
    "1 & 2 & 3 \\\\\n",
    "0 & 1 & 4 \\\\\n",
    "5 & 6 & 0\n",
    "\\end{pmatrix}$ koristeći implementiranu funkciju. Za vektor $x0$ uzeti jedinični vektor, za tačnost $\\epsilon$  vrednost 0.001, a za maksimalni broj iteracija 10000.  Uporediti ovako dobijenu vrednost sa vrednošću koja se dobija korišćenjem bibliotečke funkcije. "
   ]
  },
  {
   "cell_type": "code",
   "execution_count": 1,
   "metadata": {},
   "outputs": [],
   "source": [
    "import numpy as np"
   ]
  },
  {
   "cell_type": "code",
   "execution_count": null,
   "metadata": {},
   "outputs": [],
   "source": []
  }
 ],
 "metadata": {
  "kernelspec": {
   "display_name": "Python 3",
   "language": "python",
   "name": "python3"
  },
  "language_info": {
   "codemirror_mode": {
    "name": "ipython",
    "version": 3
   },
   "file_extension": ".py",
   "mimetype": "text/x-python",
   "name": "python",
   "nbconvert_exporter": "python",
   "pygments_lexer": "ipython3",
   "version": "3.6.4"
  }
 },
 "nbformat": 4,
 "nbformat_minor": 2
}
