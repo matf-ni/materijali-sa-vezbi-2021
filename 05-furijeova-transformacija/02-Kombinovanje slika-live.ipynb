{
 "cells": [
  {
   "cell_type": "markdown",
   "metadata": {},
   "source": [
    "# Kombinovanje slika"
   ]
  },
  {
   "cell_type": "markdown",
   "metadata": {},
   "source": [
    "Furijeove transformacije se mogu koristiti i za realizaciju mnogih zanimljivih efekata nad slikama. Sledeći primer ilustruje kreiranje kombinacije slika (engl. image blending). "
   ]
  },
  {
   "cell_type": "code",
   "execution_count": 1,
   "metadata": {},
   "outputs": [],
   "source": [
    "import numpy as np\n",
    "from matplotlib import pyplot as plt"
   ]
  },
  {
   "cell_type": "code",
   "execution_count": 2,
   "metadata": {},
   "outputs": [],
   "source": [
    "from PIL import Image"
   ]
  },
  {
   "cell_type": "code",
   "execution_count": null,
   "metadata": {},
   "outputs": [],
   "source": []
  },
  {
   "cell_type": "markdown",
   "metadata": {},
   "source": [
    "Prvo ćemo koristeći PIL biblioteku učitati slike `math.jpg` i `fourie.jpg`, prebaciti ih u crno-beli mod, a potom i prikazati njihove sadržaje. "
   ]
  },
  {
   "cell_type": "code",
   "execution_count": null,
   "metadata": {},
   "outputs": [],
   "source": []
  },
  {
   "cell_type": "code",
   "execution_count": null,
   "metadata": {},
   "outputs": [],
   "source": []
  },
  {
   "cell_type": "code",
   "execution_count": null,
   "metadata": {},
   "outputs": [],
   "source": []
  },
  {
   "cell_type": "code",
   "execution_count": null,
   "metadata": {},
   "outputs": [],
   "source": []
  },
  {
   "cell_type": "code",
   "execution_count": null,
   "metadata": {},
   "outputs": [],
   "source": []
  },
  {
   "cell_type": "markdown",
   "metadata": {},
   "source": [
    "Sada ćemo napisati funkciju `blend(image1, image2, alpha)` koja kreira linearnu kombinaciju frekvencijskih spektara slika `image1` i `image2` sa koeficijentima `alpha` i `1-alpha`, a potom inverznom Furijeovom transformacijom generiše rezultujuću sliku. Preciznije, ako je `spectar1` frekvencijski spektar prve slike, a `spectar2` frekvencijski spektar druge slike, funkcija formira `alpha*spectar1+(1-alpha)*spectar2` frekvencijski spektar, a potom inverznom Furijeovom transformacijom generiše rezultujuću sliku.  "
   ]
  },
  {
   "cell_type": "code",
   "execution_count": 3,
   "metadata": {},
   "outputs": [],
   "source": [
    "def image_blend(image1, image2, alpha):\n",
    "    pass"
   ]
  },
  {
   "cell_type": "code",
   "execution_count": null,
   "metadata": {},
   "outputs": [],
   "source": []
  },
  {
   "cell_type": "code",
   "execution_count": null,
   "metadata": {},
   "outputs": [],
   "source": []
  },
  {
   "cell_type": "code",
   "execution_count": null,
   "metadata": {},
   "outputs": [],
   "source": []
  }
 ],
 "metadata": {
  "kernelspec": {
   "display_name": "Python 3",
   "language": "python",
   "name": "python3"
  },
  "language_info": {
   "codemirror_mode": {
    "name": "ipython",
    "version": 3
   },
   "file_extension": ".py",
   "mimetype": "text/x-python",
   "name": "python",
   "nbconvert_exporter": "python",
   "pygments_lexer": "ipython3",
   "version": "3.7.6"
  }
 },
 "nbformat": 4,
 "nbformat_minor": 4
}
