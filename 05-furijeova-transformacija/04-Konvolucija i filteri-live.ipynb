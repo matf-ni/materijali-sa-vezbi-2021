{
 "cells": [
  {
   "cell_type": "markdown",
   "metadata": {},
   "source": [
    "# Konvolucija"
   ]
  },
  {
   "cell_type": "markdown",
   "metadata": {},
   "source": [
    "Konvolucija se može posmatrati kao kompozicija dveju funkcije od kojih jedna predstavlja signal, a druga, obično jednostavnija, filter koji se nad tim signalom primenjuje. U kontekstu obrade slika, govori se o konvoluciji matrica. Veća matrica dimenzija $m \\times n$ predstavlja signal, a filter je obično znatno manja matrica, na primer, dimenzija $3 \\times 3$. Počev od gornjeg levog ugla, filter polako klizi po matrici pokrivajući uvek deo veličine $3 \\times 3$. Kada stigne do kraja reda, filter se spusta red niže, a postupak se ponavlja sve dok se ne dostigne donji desni ugao (videti animaciju ispod). Rezultat primene konvolucije je, takođe, matrica čije vrednosti zavise od prirode filtera i operacije koja je vršena. Na primer, često se vrši množenje odgovarajućih elemenata, a zatim se te vrednosti sabiraju ili usrednjavaju.\n",
    "\n",
    "Primenom filtera se obično želi realizovati unapred definisana operacija, pa tako postoje i filteri specijalno dizajnirani za različite primene. Na primer, postoji filter za detekciju ivica, filter za izoštravanje slike, filter za zamućivanje slike i slično. Ovaj princip nalazi primenu kod konvolutivnih neuronskih mreža gde se koristi na nivou konvolutivnih slojeva za detekciju odgovarajućih karakteristika. S vremenom ovaj tip mreža dobija na popularnosti i vrlo intenzivno se koristi u raznim zadacima, npr. u prepoznavanju objekata na slikama. Više o tome se može pronaći, na primer, [ovde](https://towardsdatascience.com/a-comprehensive-guide-to-convolutional-neural-networks-the-eli5-way-3bd2b1164a53)."
   ]
  },
  {
   "cell_type": "markdown",
   "metadata": {},
   "source": [
    "<img src=\"assets/konvolucija.png\" width=\"400px\">"
   ]
  },
  {
   "cell_type": "markdown",
   "metadata": {},
   "source": [
    "<img src=\"assets/numerical_padding_strides.gif\" width=\"400px\">"
   ]
  },
  {
   "cell_type": "code",
   "execution_count": 1,
   "metadata": {},
   "outputs": [],
   "source": [
    "import numpy as np\n",
    "import matplotlib.pyplot as plt"
   ]
  },
  {
   "cell_type": "code",
   "execution_count": 2,
   "metadata": {},
   "outputs": [],
   "source": [
    "from PIL import Image\n",
    "from PIL import ImageFilter"
   ]
  },
  {
   "cell_type": "markdown",
   "metadata": {},
   "source": [
    "Biblioteka `PIL` i njen `ImageFilter` paket stavljaju na raspolaganje različite filtere. Neki od njih su `BLUR`, `CONTOUR`, `DETAIL`, `EDGE_ENHANCE`, `EDGE_ENHANCE_MORE`, `EMBOSS`, `FIND_EDGES`, `SHARPEN`, `SMOOTH` i `SMOOTH_MORE`. Na primer, filter `EMBOSS` je filter koji se koristi za vizuelizaciju stepena promene boja u svakom pikselu slike.   Nakon primene ovog filtera, dobijaju se slike nalik gravurama, pa zato nosi i ovakvo ime. Funkcija kojom se može primeniti neki filter (izvršiti konvolucija) je `filter`."
   ]
  },
  {
   "cell_type": "code",
   "execution_count": null,
   "metadata": {},
   "outputs": [],
   "source": []
  },
  {
   "cell_type": "code",
   "execution_count": null,
   "metadata": {},
   "outputs": [],
   "source": []
  },
  {
   "cell_type": "markdown",
   "metadata": {},
   "source": [
    "Za specifične efekte se dizajniraju posebni filteri. Sledeći primer ilustruje kernele kojima se može detektovati prisustvo ivica."
   ]
  },
  {
   "cell_type": "code",
   "execution_count": null,
   "metadata": {},
   "outputs": [],
   "source": []
  },
  {
   "cell_type": "code",
   "execution_count": null,
   "metadata": {},
   "outputs": [],
   "source": []
  },
  {
   "cell_type": "code",
   "execution_count": null,
   "metadata": {},
   "outputs": [],
   "source": []
  },
  {
   "cell_type": "code",
   "execution_count": null,
   "metadata": {},
   "outputs": [],
   "source": []
  },
  {
   "cell_type": "code",
   "execution_count": null,
   "metadata": {},
   "outputs": [],
   "source": []
  },
  {
   "cell_type": "markdown",
   "metadata": {},
   "source": [
    "U praksi se koriste neke predefinisane vrednosti filtera. "
   ]
  },
  {
   "cell_type": "markdown",
   "metadata": {},
   "source": [
    "Da bismo ovo demonstrirali primenu učitaćemo sliku `art.png`."
   ]
  },
  {
   "cell_type": "code",
   "execution_count": null,
   "metadata": {},
   "outputs": [],
   "source": []
  },
  {
   "cell_type": "code",
   "execution_count": null,
   "metadata": {},
   "outputs": [],
   "source": []
  },
  {
   "cell_type": "markdown",
   "metadata": {},
   "source": [
    "`Gausov filter` (kaže se i kernel) se koristi za izglačavanje (engl. smoothing) sadržaja slike. Jedna od matrica kojom se opisuje je $\n",
    "\\frac{1}{256}\n",
    "\\begin{bmatrix}\n",
    "1 & 4 & 6 & 4 & 1 \\\\\n",
    "4 & 16 & 24 & 16 & 4 \\\\\n",
    "6 & 24 & 36 & 24 & 6 \\\\\n",
    "4 & 16 & 24 & 16 & 4 \\\\\n",
    "1 & 4 & 6 & 4 & 1 \\\\\n",
    "\\end{bmatrix}\n",
    "$. "
   ]
  },
  {
   "cell_type": "code",
   "execution_count": 3,
   "metadata": {},
   "outputs": [],
   "source": [
    "gaussian_filter = (1/256) * np.array([\n",
    "    [1, 4, 6, 4, 1],\n",
    "    [4, 16, 24, 16, 4],\n",
    "    [6, 24, 36, 24, 6],\n",
    "    [4, 16, 24, 16, 4],\n",
    "    [1, 4, 6, 4, 1]\n",
    "])"
   ]
  },
  {
   "cell_type": "markdown",
   "metadata": {},
   "source": [
    "Sličnu funkciju ima i `filter usrednjavanja` opisan sledećom matricom:\n",
    "$ \\frac{1}{16}\n",
    "\\begin{bmatrix}\n",
    "1 & 2 & 1 \\\\\n",
    "2 & 4 & 2 \\\\\n",
    "1 & 2 & 1 \\\\\n",
    "\\end{bmatrix}\n",
    "$."
   ]
  },
  {
   "cell_type": "code",
   "execution_count": 4,
   "metadata": {},
   "outputs": [],
   "source": [
    "averaging_filter = (1/16) * np.array([\n",
    "    [1, 2, 1], \n",
    "    [2, 4, 2], \n",
    "    [1, 2, 1]\n",
    "])"
   ]
  },
  {
   "cell_type": "code",
   "execution_count": null,
   "metadata": {},
   "outputs": [],
   "source": []
  },
  {
   "cell_type": "markdown",
   "metadata": {},
   "source": [
    "Sada možemo predefinisati funkciju `apply_filter` tako da radi nad proizvoljnom slikom i proizvoljnim filterom. Implementacija funkcije neće podržavati proširenja (engl. padding) i koristiće pomeraje (engl. stride) veličine 1. "
   ]
  },
  {
   "cell_type": "code",
   "execution_count": 5,
   "metadata": {},
   "outputs": [],
   "source": [
    "def apply_filter(image, filter):\n",
    "    pass"
   ]
  },
  {
   "cell_type": "code",
   "execution_count": null,
   "metadata": {},
   "outputs": [],
   "source": []
  },
  {
   "cell_type": "code",
   "execution_count": null,
   "metadata": {},
   "outputs": [],
   "source": []
  },
  {
   "cell_type": "markdown",
   "metadata": {},
   "source": [
    "Možemo demonstrirati i transformaciju slike Sobelovim filterom. On je određen dvema matricama $ G_{x} = \n",
    "\\begin{bmatrix}\n",
    "-1 & 0 & 1 \\\\\n",
    "-2 & 0 & 2 \\\\\n",
    "-1 & 0 & 1 \\\\\n",
    "\\end{bmatrix}\n",
    "$ i $ G_{y} = \n",
    "\\begin{bmatrix}\n",
    "-1 & -2 & -1 \\\\\n",
    "0 & 0 & 0 \\\\\n",
    "1 & 2 & 1 \\\\\n",
    "\\end{bmatrix}\n",
    "$ koje određuju transformacije, redom, duž x i y ose. Finalna slika je određena sa $\\sqrt{Gx^2 + Gy^2}$ gde $Gx$ i $Gy$ predstavljaju transformacije slike dobijene duž osa."
   ]
  },
  {
   "cell_type": "code",
   "execution_count": null,
   "metadata": {},
   "outputs": [],
   "source": []
  },
  {
   "cell_type": "code",
   "execution_count": null,
   "metadata": {},
   "outputs": [],
   "source": []
  },
  {
   "cell_type": "code",
   "execution_count": null,
   "metadata": {},
   "outputs": [],
   "source": []
  },
  {
   "cell_type": "code",
   "execution_count": null,
   "metadata": {},
   "outputs": [],
   "source": []
  },
  {
   "cell_type": "code",
   "execution_count": null,
   "metadata": {},
   "outputs": [],
   "source": []
  },
  {
   "cell_type": "markdown",
   "metadata": {},
   "source": [
    "Bibliotečka podrška za rad sa konvolucijom nad slikama dolazi kroz paket `signal` i njenu funkciju `correlate2d`."
   ]
  },
  {
   "cell_type": "code",
   "execution_count": 6,
   "metadata": {},
   "outputs": [],
   "source": [
    "from scipy import signal"
   ]
  },
  {
   "cell_type": "code",
   "execution_count": null,
   "metadata": {},
   "outputs": [],
   "source": []
  }
 ],
 "metadata": {
  "kernelspec": {
   "display_name": "Python 3",
   "language": "python",
   "name": "python3"
  },
  "language_info": {
   "codemirror_mode": {
    "name": "ipython",
    "version": 3
   },
   "file_extension": ".py",
   "mimetype": "text/x-python",
   "name": "python",
   "nbconvert_exporter": "python",
   "pygments_lexer": "ipython3",
   "version": "3.7.6"
  }
 },
 "nbformat": 4,
 "nbformat_minor": 2
}
