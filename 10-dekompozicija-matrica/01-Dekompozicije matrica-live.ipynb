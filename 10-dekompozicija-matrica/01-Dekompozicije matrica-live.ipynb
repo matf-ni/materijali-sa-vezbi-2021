{
 "cells": [
  {
   "cell_type": "markdown",
   "metadata": {},
   "source": [
    "# Dekompozicije matrica"
   ]
  },
  {
   "cell_type": "markdown",
   "metadata": {},
   "source": [
    "## LU dekompozicija"
   ]
  },
  {
   "cell_type": "markdown",
   "metadata": {},
   "source": [
    "**LU dekompozicija** predstavlja razlaganje matrice kvadratne $A$ na proizvod donje trougaone matrice $L$ i gornje trougaone matrice $U$ u obliku $A = LU$. Na primer, jedno razlaganje matrice $3 \\times 3$ može biti sledećeg oblika:\n",
    "\n",
    "$$\\begin{bmatrix}a_{11}&a_{12}&a_{13}\\\\a_{21}&a_{22}&a_{23}\\\\a_{31}&a_{32}&a_{33}\\end{bmatrix} = \\begin{bmatrix}l_{11}&0&0\\\\l_{21}&l_{22}&0\\\\l_{31}&l_{32}&l_{33}\\end{bmatrix} \\begin{bmatrix}u_{11}&u_{12}&u_{13}\\\\0&u_{22}&u_{23}\\\\0&0&u_{33}\\end{bmatrix}.$$"
   ]
  },
  {
   "cell_type": "markdown",
   "metadata": {},
   "source": [
    "Nema svaka kvadratna matrica LU dekompoziciju. Ukoliko je matrica invertibilna, da bi faktorizacija postojala, potrebno je da joj svi glavni minori budu različiti od nule. Ukoliko matrica nije invertibilna i ako je ranga $k$, da bi faktorizacija postojala, potrebno je da su joj prvih $k$ glavnih minora različiti od nule. Podsetimo se, glavni minor matrice reda $i$ je determinanta podmatrice koja se sastoji od prvih $i$ redova i prvih $i$ kolona."
   ]
  },
  {
   "cell_type": "markdown",
   "metadata": {},
   "source": [
    "Inače, ako nisu ispunjeni uslovi za LU dekompoziciju, svaka kvadratna matrica se može napisati u obliku $A = PLU$, gde $P$ predstavlja permutacionu matricu. Ovo razlaganje se naziva `LU dekompozicija sa delimičnim pivotiranjem`. Permutaciona matrica je matrica koja se sastoji samo od nula i jedinica, tako da se u svakom redu i svakoj koloni nalazi tačno jedna jedinica."
   ]
  },
  {
   "cell_type": "markdown",
   "metadata": {},
   "source": [
    "LU faktorizacija nije jedinstvena. Jedinstvenost se može postići zahtevanjem da bilo koja od matrica $L$ ili $U$ ima samo jedinice na glavnoj dijagonali."
   ]
  },
  {
   "cell_type": "markdown",
   "metadata": {},
   "source": [
    "Bibliotečka LU dekompozicija podržana je preko funkcije `lu` paketa `scipy.linalg`. Ukoliko je podešena vrednost `premulte_l` parametra na `False`, tada su povratne vrednosti permutaciona matrica $P$, donje trougaona matrica $L$ i gornje trougaona matrica $U$ tako da je $A = PLU$ i gde matrica $L$ ima jedinice na glavnoj dijagonali. Ukoliko je podešena vrednost `premulte_l` parametra na `True`, tada su povratne vrednosti permutovana matrica $L$ i gornje trougaona matrica $U$ tako da je $A = LU$. Permutovana matrica $L$ tada nastaje množenjem permutacione i donje trougaone matrice."
   ]
  },
  {
   "cell_type": "code",
   "execution_count": 1,
   "metadata": {},
   "outputs": [],
   "source": [
    "import numpy as np\n",
    "from numpy import linalg as LA\n",
    "from scipy import linalg as LAs"
   ]
  },
  {
   "cell_type": "code",
   "execution_count": null,
   "metadata": {},
   "outputs": [],
   "source": []
  },
  {
   "cell_type": "markdown",
   "metadata": {},
   "source": [
    "Posmatrajmo matricu $A$ i njenu dekompoziciju."
   ]
  },
  {
   "cell_type": "code",
   "execution_count": 2,
   "metadata": {},
   "outputs": [],
   "source": [
    "A = np.array([\n",
    "    [1, 2, 3], \n",
    "    [2, 1, 2], \n",
    "    [4, 1, 3]\n",
    "])"
   ]
  },
  {
   "cell_type": "code",
   "execution_count": null,
   "metadata": {},
   "outputs": [],
   "source": []
  },
  {
   "cell_type": "code",
   "execution_count": null,
   "metadata": {},
   "outputs": [],
   "source": []
  },
  {
   "cell_type": "code",
   "execution_count": null,
   "metadata": {},
   "outputs": [],
   "source": []
  },
  {
   "cell_type": "code",
   "execution_count": null,
   "metadata": {},
   "outputs": [],
   "source": []
  },
  {
   "cell_type": "code",
   "execution_count": null,
   "metadata": {},
   "outputs": [],
   "source": []
  },
  {
   "cell_type": "code",
   "execution_count": null,
   "metadata": {},
   "outputs": [],
   "source": []
  },
  {
   "cell_type": "code",
   "execution_count": null,
   "metadata": {},
   "outputs": [],
   "source": []
  },
  {
   "cell_type": "code",
   "execution_count": null,
   "metadata": {},
   "outputs": [],
   "source": []
  },
  {
   "cell_type": "code",
   "execution_count": null,
   "metadata": {},
   "outputs": [],
   "source": []
  },
  {
   "cell_type": "markdown",
   "metadata": {},
   "source": [
    "LU dekompozicija doprinosi efikasnijem i numerički stabilnijem rešavanju jednačina. Ako se matrica $A$ napiše u obliku $A = LU$, tada se sistem $Ax = b$ može napisati u obliku $(LU)x = L(Ux) = Ly = b$. Sada se početni sistem svodi na rešavanje sistema $Ly = b$ i $Ux = y$ koji su znatno pogodniji za rešavanje."
   ]
  },
  {
   "cell_type": "code",
   "execution_count": null,
   "metadata": {},
   "outputs": [],
   "source": []
  },
  {
   "cell_type": "markdown",
   "metadata": {},
   "source": [
    "Sledeće sistem jednačina ćemo rešiti korišćenjem LU dekompozicije:\n",
    "\n",
    "\\begin{align*}\n",
    "2x_1 + x_2 + x_3 &= 4 \\\\\n",
    "x_1 + 3x_2 + 2x_3 &= 5 \\\\\n",
    "x_1 &= 6\n",
    "\\end{align*}"
   ]
  },
  {
   "cell_type": "code",
   "execution_count": null,
   "metadata": {},
   "outputs": [],
   "source": []
  },
  {
   "cell_type": "code",
   "execution_count": null,
   "metadata": {},
   "outputs": [],
   "source": []
  },
  {
   "cell_type": "code",
   "execution_count": null,
   "metadata": {},
   "outputs": [],
   "source": []
  },
  {
   "cell_type": "code",
   "execution_count": null,
   "metadata": {},
   "outputs": [],
   "source": []
  },
  {
   "cell_type": "code",
   "execution_count": null,
   "metadata": {},
   "outputs": [],
   "source": []
  },
  {
   "cell_type": "code",
   "execution_count": null,
   "metadata": {},
   "outputs": [],
   "source": []
  },
  {
   "cell_type": "code",
   "execution_count": null,
   "metadata": {},
   "outputs": [],
   "source": []
  },
  {
   "cell_type": "markdown",
   "metadata": {},
   "source": [
    "## Čoleski dekompozicija"
   ]
  },
  {
   "cell_type": "markdown",
   "metadata": {},
   "source": [
    "**Čoleski dekompozicija** predstavlja razlaganje matrice $A$ u obliku $A = LL^T$ gde je $L$ donje trougaona matrica. U nekim varijantama, vrši se razlaganje u obliku $A = U^TU$ gde je $U$ gornje trougaona matrica. Da bi razlaganje matrice moglo da se izvrši, matrica $A$ treba da bude simetrična i sa pozitivnim glavnim minorima. "
   ]
  },
  {
   "cell_type": "code",
   "execution_count": null,
   "metadata": {},
   "outputs": [],
   "source": []
  },
  {
   "cell_type": "code",
   "execution_count": null,
   "metadata": {},
   "outputs": [],
   "source": []
  },
  {
   "cell_type": "code",
   "execution_count": null,
   "metadata": {},
   "outputs": [],
   "source": []
  },
  {
   "cell_type": "code",
   "execution_count": null,
   "metadata": {},
   "outputs": [],
   "source": []
  },
  {
   "cell_type": "code",
   "execution_count": null,
   "metadata": {},
   "outputs": [],
   "source": []
  },
  {
   "cell_type": "code",
   "execution_count": null,
   "metadata": {},
   "outputs": [],
   "source": []
  },
  {
   "cell_type": "markdown",
   "metadata": {},
   "source": [
    "Bibliotečka Čoleski dekompozicija podržana je funkcijom `cholesky`  u oba paketa `np.linalg` i `scipy.linalg`."
   ]
  },
  {
   "cell_type": "markdown",
   "metadata": {},
   "source": [
    "Ispitajmo sada na primeru matrice \n",
    "$\\begin{bmatrix}\n",
    "4 & 12 & -16 \\\\\n",
    "12 & 37 & -43 \\\\\n",
    "-16 & -43 & 98\n",
    "\\end{bmatrix}$\n",
    "oba uslova i izvršimo dekompoziciju ukoliko je moguće."
   ]
  },
  {
   "cell_type": "code",
   "execution_count": 3,
   "metadata": {},
   "outputs": [],
   "source": [
    "A = np.array([\n",
    "    [4, 12, -16], \n",
    "    [12, 37, -43], \n",
    "    [-16, -43, 98]\n",
    "])"
   ]
  },
  {
   "cell_type": "code",
   "execution_count": null,
   "metadata": {},
   "outputs": [],
   "source": []
  },
  {
   "cell_type": "code",
   "execution_count": null,
   "metadata": {},
   "outputs": [],
   "source": []
  },
  {
   "cell_type": "code",
   "execution_count": null,
   "metadata": {},
   "outputs": [],
   "source": []
  },
  {
   "cell_type": "code",
   "execution_count": null,
   "metadata": {},
   "outputs": [],
   "source": []
  },
  {
   "cell_type": "code",
   "execution_count": null,
   "metadata": {},
   "outputs": [],
   "source": []
  },
  {
   "cell_type": "code",
   "execution_count": null,
   "metadata": {},
   "outputs": [],
   "source": []
  },
  {
   "cell_type": "code",
   "execution_count": null,
   "metadata": {},
   "outputs": [],
   "source": []
  },
  {
   "cell_type": "markdown",
   "metadata": {},
   "source": [
    "Za matricu $3 \\times 3$ izraz $A = LL^T$ se može raspisati u obliku \n",
    "\n",
    "$$\\begin{bmatrix}a_{11}&a_{12}&a_{13}\\\\a_{21}&a_{22}&a_{23}\\\\a_{31}&a_{32}&a_{33}\\end{bmatrix} = \\begin{bmatrix}l_{11}&0&0\\\\l_{21}&l_{22}&0\\\\l_{31}&l_{32}&l_{33}\\end{bmatrix} \\begin{bmatrix}l_{11}&l_{12}&l_{13}\\\\0&l_{22}&l_{23}\\\\0&0&l_{33}\\end{bmatrix}.$$\n",
    "\n",
    "Elementi matrice $L$ za opšti slučaj se mogu izračunati pomoću sledećih formula:"
   ]
  },
  {
   "cell_type": "markdown",
   "metadata": {},
   "source": [
    "$$l_{kk} = \\sqrt{a_{kk} - \\sum_{j=1}^{k-1}l_{kj}^2},$$\n",
    "\n",
    "$$l_{ik} = \\frac{1}{l_{kk}} \\left( a_{ik} - \\sum_{j=1}^{k-1} l_{ij}l_{kj} \\right), i > k.$$"
   ]
  },
  {
   "cell_type": "markdown",
   "metadata": {},
   "source": [
    "Sledeća funkcija implementira navedeni postupak."
   ]
  },
  {
   "cell_type": "code",
   "execution_count": 4,
   "metadata": {},
   "outputs": [],
   "source": [
    "def cholesky_formula(A):\n",
    "    pass"
   ]
  },
  {
   "cell_type": "code",
   "execution_count": null,
   "metadata": {},
   "outputs": [],
   "source": []
  },
  {
   "cell_type": "code",
   "execution_count": null,
   "metadata": {},
   "outputs": [],
   "source": []
  },
  {
   "cell_type": "code",
   "execution_count": null,
   "metadata": {},
   "outputs": [],
   "source": []
  },
  {
   "cell_type": "code",
   "execution_count": null,
   "metadata": {},
   "outputs": [],
   "source": []
  },
  {
   "cell_type": "markdown",
   "metadata": {},
   "source": [
    "Možemo proveriti i kako funkcija radi za matricu dimenzije 4x4."
   ]
  },
  {
   "cell_type": "code",
   "execution_count": 5,
   "metadata": {},
   "outputs": [],
   "source": [
    "B = np.array([\n",
    "    [16, -12, -12, -16], \n",
    "    [-12, 25, 1, -4],\n",
    "    [-12, 1, 17, 14],\n",
    "    [-16, -4, 14, 57]\n",
    "])"
   ]
  },
  {
   "cell_type": "code",
   "execution_count": null,
   "metadata": {},
   "outputs": [],
   "source": []
  },
  {
   "cell_type": "code",
   "execution_count": null,
   "metadata": {},
   "outputs": [],
   "source": []
  },
  {
   "cell_type": "code",
   "execution_count": null,
   "metadata": {},
   "outputs": [],
   "source": []
  },
  {
   "cell_type": "code",
   "execution_count": null,
   "metadata": {},
   "outputs": [],
   "source": []
  },
  {
   "cell_type": "code",
   "execution_count": null,
   "metadata": {},
   "outputs": [],
   "source": []
  },
  {
   "cell_type": "markdown",
   "metadata": {},
   "source": [
    "## SVD dekompozicija"
   ]
  },
  {
   "cell_type": "markdown",
   "metadata": {},
   "source": [
    "**SVD dekompozicija** predstavlja razlaganje matrice $M$ u obliku $M = USV^T$ gde je $U$ ortogonalna matrica dimenzija $m \\times m$, $S$ dijagonalna matrica dimenzija $m \\times n$ i $V$ ortogalna matrica dimenzija $n \\times n$. Matrice $U$ i $V$ su ortogonalne, što znači zapravo da je $UU^T = I$ i $VV^T = I$. Matrica $S$ je pravougaona dijagonalna matrica, što znači da, u zavisnosti od toga koja dimenzija joj je veća, ima određen broj redova ili kolona koje se sastoje od nula."
   ]
  },
  {
   "cell_type": "markdown",
   "metadata": {},
   "source": [
    "Prethodna formula se može i vizuelizovati na sledeći način <img src=\"assets/svd.png\">."
   ]
  },
  {
   "cell_type": "markdown",
   "metadata": {},
   "source": [
    "Na slici matrice $U^*$ i $V^*$ označavaju matrice $U^T$ i $V^T$."
   ]
  },
  {
   "cell_type": "code",
   "execution_count": null,
   "metadata": {},
   "outputs": [],
   "source": []
  },
  {
   "cell_type": "markdown",
   "metadata": {},
   "source": [
    "Bibliotečka dekompozicija podržana je funkcijom `svd` paketa `numpy.linalg`. Ona vraća vrednosti matrica U, vektor dijagonalnih elemenata matrice $S$ i matricu $V^T$. "
   ]
  },
  {
   "cell_type": "code",
   "execution_count": 6,
   "metadata": {},
   "outputs": [],
   "source": [
    "M = np.array([\n",
    "    [1, 0, 0, 0, 2],\n",
    "    [0, 0, 3, 0, 0],\n",
    "    [0, 0, 0, 0, 0],\n",
    "    [0, 2, 0, 0, 0]\n",
    "])"
   ]
  },
  {
   "cell_type": "code",
   "execution_count": null,
   "metadata": {},
   "outputs": [],
   "source": []
  },
  {
   "cell_type": "code",
   "execution_count": null,
   "metadata": {},
   "outputs": [],
   "source": []
  },
  {
   "cell_type": "code",
   "execution_count": null,
   "metadata": {},
   "outputs": [],
   "source": []
  },
  {
   "cell_type": "code",
   "execution_count": null,
   "metadata": {},
   "outputs": [],
   "source": []
  }
 ],
 "metadata": {
  "kernelspec": {
   "display_name": "Python 3",
   "language": "python",
   "name": "python3"
  },
  "language_info": {
   "codemirror_mode": {
    "name": "ipython",
    "version": 3
   },
   "file_extension": ".py",
   "mimetype": "text/x-python",
   "name": "python",
   "nbconvert_exporter": "python",
   "pygments_lexer": "ipython3",
   "version": "3.7.6"
  }
 },
 "nbformat": 4,
 "nbformat_minor": 2
}
