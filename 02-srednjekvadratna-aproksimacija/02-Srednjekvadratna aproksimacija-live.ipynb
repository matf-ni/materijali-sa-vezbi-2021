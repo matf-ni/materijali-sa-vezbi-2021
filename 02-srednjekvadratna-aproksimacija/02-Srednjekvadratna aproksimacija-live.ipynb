{
 "cells": [
  {
   "cell_type": "markdown",
   "metadata": {},
   "source": [
    "# Srednjekvadratna aproksimacija"
   ]
  },
  {
   "cell_type": "code",
   "execution_count": null,
   "metadata": {},
   "outputs": [],
   "source": []
  },
  {
   "cell_type": "markdown",
   "metadata": {},
   "source": [
    "Za sistem jednačina $Ax = b$ kažemo da je `preuslovljen` ako je matrica $A$ dimenzije $m\\times n$ i važi $m>n$. Rešenje ovog sistema je oblika $x=(A^{T}A)^{-1}A^{T}b$. Matricu $(A^{T}A)^{-1}A^{T}$ koja figuriše u ovom izrazu zovemo `pseudoinverzom` matrice $A$."
   ]
  },
  {
   "cell_type": "code",
   "execution_count": null,
   "metadata": {},
   "outputs": [],
   "source": []
  },
  {
   "cell_type": "markdown",
   "metadata": {},
   "source": [
    "U osnovi rešavanja ovakvih sistema je optimizacioni problem $min_{x} \\|A\\cdot x - b\\|^2$. "
   ]
  },
  {
   "cell_type": "markdown",
   "metadata": {},
   "source": [
    "Kao ocenu rešenja koristimo sumu kvadrata reziduala (engl. residual square sum, RSS)."
   ]
  },
  {
   "cell_type": "code",
   "execution_count": null,
   "metadata": {},
   "outputs": [],
   "source": []
  },
  {
   "cell_type": "code",
   "execution_count": 1,
   "metadata": {},
   "outputs": [],
   "source": [
    "import numpy as np\n",
    "from numpy import linalg as LA"
   ]
  },
  {
   "cell_type": "code",
   "execution_count": 2,
   "metadata": {},
   "outputs": [],
   "source": [
    "import pandas as pd"
   ]
  },
  {
   "cell_type": "code",
   "execution_count": 3,
   "metadata": {},
   "outputs": [],
   "source": [
    "import matplotlib.pyplot as plt"
   ]
  },
  {
   "cell_type": "markdown",
   "metadata": {},
   "source": [
    "### Primeri"
   ]
  },
  {
   "cell_type": "markdown",
   "metadata": {},
   "source": [
    "Sledeći primeri ilustruju korišćenje metode najmanjih kvadrata u rešavanju preodređenih sistema. "
   ]
  },
  {
   "cell_type": "code",
   "execution_count": null,
   "metadata": {},
   "outputs": [],
   "source": []
  },
  {
   "cell_type": "markdown",
   "metadata": {},
   "source": [
    "**1.** Rešiti sistem jednačina dat u matričnom obliku $$\\begin{bmatrix}2&0\\\\-1&1\\\\0&2\\end{bmatrix} \\begin{bmatrix}x_1\\\\x_2\\end{bmatrix} = \\begin{bmatrix}2\\\\0\\\\-2\\end{bmatrix}.$$"
   ]
  },
  {
   "cell_type": "markdown",
   "metadata": {},
   "source": [
    "Iz prve jednačine sledi da je $x_1 = 1$, iz poslednje $x_2 = -1$, a iz druge $x_1 = x_2$, što je kontradikcija, pa sistem nema rešenja. Rešavanje ovog sistema predstavlja nalaženje vrednosti $x_1$ i $x_2$ koja minimizuje grešku u smislu metode najmanjih kvadrata. "
   ]
  },
  {
   "cell_type": "code",
   "execution_count": null,
   "metadata": {},
   "outputs": [],
   "source": []
  },
  {
   "cell_type": "markdown",
   "metadata": {},
   "source": [
    "Ukoliko direktno primenimo formulu za rešavanje sistema dobićemo: "
   ]
  },
  {
   "cell_type": "code",
   "execution_count": null,
   "metadata": {},
   "outputs": [],
   "source": []
  },
  {
   "cell_type": "code",
   "execution_count": null,
   "metadata": {},
   "outputs": [],
   "source": []
  },
  {
   "cell_type": "code",
   "execution_count": null,
   "metadata": {},
   "outputs": [],
   "source": []
  },
  {
   "cell_type": "markdown",
   "metadata": {},
   "source": [
    "Za računanje pseudoinverza matrice možemo koristiti i funkciju `pinv` paketa `linalg`."
   ]
  },
  {
   "cell_type": "code",
   "execution_count": null,
   "metadata": {},
   "outputs": [],
   "source": []
  },
  {
   "cell_type": "code",
   "execution_count": null,
   "metadata": {},
   "outputs": [],
   "source": []
  },
  {
   "cell_type": "markdown",
   "metadata": {},
   "source": [
    "Ocenu rešenja korišćenjem sume kvadrata reziduala možemo dobiti sa:"
   ]
  },
  {
   "cell_type": "code",
   "execution_count": null,
   "metadata": {},
   "outputs": [],
   "source": []
  },
  {
   "cell_type": "markdown",
   "metadata": {},
   "source": [
    "Paket `linalg` stavlja na raspolaganje i funkciju `lstsq` koja objedinjuje prethnodne korake i rešava sistem jednačina u srednjekvadratnom smislu. Argumenti ove funkcije su matrica sistema `A` i vektor slobodnih članova `b`. Funkcija vraća rešenje sistema i sumu kvadrata reziduala u formi niza. Funkcija vraća i neke pomoćne vrednosti koje se tiču primene algoritma za rešavanje (rang matrice sistema i njene singularne vrednosti), a o kojima ćemo diskutovati kasnije na kursu."
   ]
  },
  {
   "cell_type": "code",
   "execution_count": null,
   "metadata": {},
   "outputs": [],
   "source": []
  },
  {
   "cell_type": "code",
   "execution_count": null,
   "metadata": {},
   "outputs": [],
   "source": []
  },
  {
   "cell_type": "markdown",
   "metadata": {},
   "source": [
    "**2.** Odrediti koeficijente $\\beta_0$ i $\\beta_1$ tako da funkcija $f(x) = \\beta_0 + \\beta_1 x$ u smislu metode najmanjih kvadrata najbolje aproksimira skup tačaka $(0, 1.2)$, $(0.5, 2.05)$, $(1, 2.9)$ i $(-0.5, 0.1)$ u ravni."
   ]
  },
  {
   "cell_type": "code",
   "execution_count": null,
   "metadata": {},
   "outputs": [],
   "source": []
  },
  {
   "cell_type": "markdown",
   "metadata": {},
   "source": [
    "Neka su $(x_i, y_i)$, $1 \\le i \\le 4$ redom parovi tačaka. Nalaženje vrednosti koeficijenata predstavlja rešavanje sistema jednačina $A\\beta = y$, gde je $A = \\begin{bmatrix}1&x_1\\\\1&x_2\\\\1&x_3\\\\1&x_4\\end{bmatrix}$, $\\beta = \\begin{bmatrix}\\beta_0\\\\ \\beta_1\\end{bmatrix}$ i $y = \\begin{bmatrix}y_1\\\\y_2\\\\y_3\\\\y_4\\end{bmatrix}$. \n"
   ]
  },
  {
   "cell_type": "markdown",
   "metadata": {},
   "source": [
    "Potom ćemo kreirati matricu sistema:"
   ]
  },
  {
   "cell_type": "code",
   "execution_count": null,
   "metadata": {},
   "outputs": [],
   "source": []
  },
  {
   "cell_type": "markdown",
   "metadata": {},
   "source": [
    "**3.** Odrediti koeficijente $a$, $b$ i $c$ funkcije $f(x,y) = a + b x + c y$ tako da u smislu metode najmanjih kvadrata aproksimira skup tačaka $(3, 3, -1)$, $(5, 3, 1)$ i $(3, 4, 2)$ u prostoru."
   ]
  },
  {
   "cell_type": "code",
   "execution_count": null,
   "metadata": {},
   "outputs": [],
   "source": []
  },
  {
   "cell_type": "markdown",
   "metadata": {},
   "source": [
    "Neka su $(x_i, y_i, z_i)$, $1 \\le i \\le 3$ redom parovi tačaka. Nalaženje vrednosti koeficijenata predstavlja rešavanje sistema jednačina $A\\beta = z$, gde je $A = \\begin{bmatrix}1&x_1&y_1\\\\1&x_2&y_2\\\\1&x_3&y_3\\end{bmatrix}$, $\\beta = \\begin{bmatrix}a\\\\ b\\\\ c\\end{bmatrix}$ i $z = \\begin{bmatrix}z_1\\\\z_2\\\\z_3\\end{bmatrix}$."
   ]
  },
  {
   "cell_type": "code",
   "execution_count": null,
   "metadata": {},
   "outputs": [],
   "source": []
  },
  {
   "cell_type": "code",
   "execution_count": null,
   "metadata": {},
   "outputs": [],
   "source": []
  },
  {
   "cell_type": "markdown",
   "metadata": {},
   "source": [
    "**4.** Odrediti vrednosti koeficijenata $a$ i $b$ tako da funkcija $f(x) = a + b \\sin x$ u smislu metode najmanjih kvadrata aproksimira skup tačaka $(2, 2.6)$, $(-1.22, -1.7)$, $(8.32, 2.5)$ i $(4.23, -1.6)$ u ravni. Dati ocenu greške. Prikazati skup tačaka i nacrtati rezultujuću funkciju."
   ]
  },
  {
   "cell_type": "code",
   "execution_count": null,
   "metadata": {},
   "outputs": [],
   "source": []
  },
  {
   "cell_type": "markdown",
   "metadata": {},
   "source": [
    "Neka su $(x_i, y_i)$, $1 \\le i \\le 4$ redom parovi tačaka. Nalaženje vrednosti koeficijenata predstavlja rešavanje sistema jednačina $A\\beta = y$, gde je $A = \\begin{bmatrix}1&\\sin x_1\\\\1&\\sin x_2\\\\1&\\sin x_3\\\\1&\\sin x_4\\end{bmatrix}$, $\\beta = \\begin{bmatrix}a\\\\ b\\end{bmatrix}$ i $y = \\begin{bmatrix}y_1\\\\y_2\\\\y_3\\\\y_4\\end{bmatrix}$."
   ]
  },
  {
   "cell_type": "code",
   "execution_count": null,
   "metadata": {},
   "outputs": [],
   "source": []
  },
  {
   "cell_type": "code",
   "execution_count": null,
   "metadata": {},
   "outputs": [],
   "source": []
  },
  {
   "cell_type": "markdown",
   "metadata": {},
   "source": [
    "**5.** U datoteci *social_reach.csv* se nalaze cene reklamiranja za različite demografske grupe koje su date u hiljadama evra za 1000 pregleda. Svaka od tri kolone označava različitu platformu za reklamiranje (na primer, platforme mogu biti Facebook, Instagram ili YouTube). Svaki red označava različitu demografsku grupu, koja može npr. biti posebna država u kojoj se reklama plasira. Potrebno je odrediti iznos sredstava potreban da se ostvari približno milion pregleda za svaku demografsku grupu, gledajući po svim platformama ukupno."
   ]
  },
  {
   "cell_type": "markdown",
   "metadata": {},
   "source": [
    "Najpre ćemo učitati i prikazati CSV fajl:"
   ]
  },
  {
   "cell_type": "code",
   "execution_count": null,
   "metadata": {},
   "outputs": [],
   "source": []
  },
  {
   "cell_type": "code",
   "execution_count": null,
   "metadata": {},
   "outputs": [],
   "source": []
  },
  {
   "cell_type": "code",
   "execution_count": null,
   "metadata": {},
   "outputs": [],
   "source": []
  },
  {
   "cell_type": "markdown",
   "metadata": {},
   "source": [
    "Neka je $a_{ij}$, $0 \\le i \\le 9$, $0 \\le j \\le 2$ cena u hiljadama evra za 1000 pregleda za svaku od 10 demografskih grupa i svaku platformu za reklamiranje. Kako je potrebno odrediti ukupne cene za reklamiranje, potrebno je rešiti sledeći sistem jednačina:\n",
    "\n",
    "$$\\begin{bmatrix}a_{00}&a_{01}&a_{02}\\\\a_{10}&a_{11}&a_{12}\\\\ \\vdots & \\vdots & \\vdots\\\\a_{90}&a_{91}&a_{92}\\end{bmatrix}\\begin{bmatrix}x_1\\\\x_2\\\\x_3\\end{bmatrix} = \\begin{bmatrix}1000\\\\1000\\\\\\vdots\\\\1000\\end{bmatrix}.$$\n",
    "\n",
    "Elementi rezultujućeg vektora su 1000, jer su cene u matrici date za 1000 pregleda, a potrebno je ostvariti milion pregleda. Za svaku demografsku grupu $i$, potrebno je odrediti koeficijente $x_1,x_2,x_3$ tako da važi $a_{i0}x_1+a_{i1}x_2+a_{i2}x_3 \\approx 1000$, pa se koeficijenti mogu približno odrediti metodom najmanjih kvadrata."
   ]
  },
  {
   "cell_type": "code",
   "execution_count": null,
   "metadata": {},
   "outputs": [],
   "source": []
  },
  {
   "cell_type": "code",
   "execution_count": null,
   "metadata": {},
   "outputs": [],
   "source": []
  },
  {
   "cell_type": "markdown",
   "metadata": {},
   "source": [
    "Na prethodnom grafiku je prikazan ukupan broj u hiljadama pregleda za svaku demografsku grupu. Ukupna cena koja je plaćena za demografsku grupu $i$ iznosi $a_{i0}x_1+a_{i1}x_2+a_{i2}x_3$ hiljada dolara, gde su vrednosti koordinata vektora $x$ jednake:"
   ]
  },
  {
   "cell_type": "code",
   "execution_count": null,
   "metadata": {},
   "outputs": [],
   "source": [
    "print('x1 =', solution[0])\n",
    "print('x2 =', solution[1])\n",
    "print('x3 =', solution[2])"
   ]
  },
  {
   "cell_type": "code",
   "execution_count": null,
   "metadata": {},
   "outputs": [],
   "source": []
  }
 ],
 "metadata": {
  "kernelspec": {
   "display_name": "Python 3",
   "language": "python",
   "name": "python3"
  },
  "language_info": {
   "codemirror_mode": {
    "name": "ipython",
    "version": 3
   },
   "file_extension": ".py",
   "mimetype": "text/x-python",
   "name": "python",
   "nbconvert_exporter": "python",
   "pygments_lexer": "ipython3",
   "version": "3.7.6"
  }
 },
 "nbformat": 4,
 "nbformat_minor": 2
}
