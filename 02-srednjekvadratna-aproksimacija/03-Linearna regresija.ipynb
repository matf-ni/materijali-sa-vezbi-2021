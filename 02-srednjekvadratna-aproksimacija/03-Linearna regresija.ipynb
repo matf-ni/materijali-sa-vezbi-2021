{
 "cells": [
  {
   "cell_type": "markdown",
   "metadata": {},
   "source": [
    "# Linaerna regresija"
   ]
  },
  {
   "cell_type": "markdown",
   "metadata": {},
   "source": [
    "**Linearna regresija** predstavlja problem nalaženja linearne veze između nezavisne promenljive $x$ i zavisne promenljive $y$. Ukoliko je promenljiva $x$ skalar, radi se o prostoj linearnoj regresiji, a ako je promenljiva $x$ vektor, reč je o linearnoj regresiji za funkciju više promenljivih. U oba slučaja, pretpostavka je da je zavisna promenljiva $y$ skalar."
   ]
  },
  {
   "cell_type": "code",
   "execution_count": null,
   "metadata": {},
   "outputs": [],
   "source": []
  },
  {
   "cell_type": "markdown",
   "metadata": {},
   "source": [
    "**Prosta linearna regresija** predstavlja nalaženje linearne veze između parova skalara $(x_i, y_i)$, $1 \\le i \\le n$. Veza je data linearnom funkcijom $f(x) = \\beta_0 + \\beta_1 x$ po parametrima $\\beta_0$ i $\\beta_1$ gde su $\\beta_0$ i $\\beta_1$ parametri koje treba odrediti. Ako je $X=[x_1, \\dots, x_n]$ i $Y=[y_1, \\dots, y_n]$, izraz se može zapisati u matričnom obliku kao $\\begin{bmatrix}1&X\\end{bmatrix} \\cdot \\begin{bmatrix}\\beta_0\\\\\\beta_1\\end{bmatrix} = Y$, gde je $\\begin{bmatrix}1&X\\end{bmatrix}$ matrica čija se prva kolona sastoji samo od jedinica, a druga kolona je vektor $X$."
   ]
  },
  {
   "cell_type": "code",
   "execution_count": null,
   "metadata": {},
   "outputs": [],
   "source": []
  },
  {
   "cell_type": "markdown",
   "metadata": {},
   "source": [
    "**Linearna regresija za funkciju više promenljivih** predstavlja nalaženje linearne veze između parova vektora i skalara $(X_i, y_i)$, $1 \\le i \\le n$. Veza je data linearnom funkcijom $f(x_1,\\dots,x_m) = \\beta_0 + \\beta_1 x_1 + \\dots + \\beta_m x_m$ po parametrima $\\beta_0, \\dots, \\beta_m$ gde su $\\beta_0, \\dots, \\beta_m$ parametri koje treba odrediti. Izraz se može zapisati u matričnom obliku kao $\\begin{bmatrix}1&X_1&\\cdots&X_m\\end{bmatrix} \\cdot \\begin{bmatrix}\\beta_0\\\\ \\vdots \\\\ \\beta_m\\end{bmatrix} = Y$, gde je $Y=[y_1, \\dots, y_n]$, $\\begin{bmatrix}1&X_1&\\cdots&X_m\\end{bmatrix}$ matrica čija se prva kolona sastoji samo od jedinica, a ostale kolone su redom vektori $X_1,\\dots,X_m$. "
   ]
  },
  {
   "cell_type": "code",
   "execution_count": null,
   "metadata": {},
   "outputs": [],
   "source": []
  },
  {
   "cell_type": "markdown",
   "metadata": {},
   "source": [
    "Sistem jednačina $\\begin{bmatrix}1&X\\end{bmatrix} \\cdot \\begin{bmatrix}\\beta_0\\\\\\beta_1\\end{bmatrix} = Y$ kod proste linearne regresije, odnosno $\\begin{bmatrix}1&X_1&\\cdots&X_m\\end{bmatrix} \\cdot \\begin{bmatrix}\\beta_0\\\\ \\vdots \\\\ \\beta_m\\end{bmatrix} = Y$ kod linearne regresije za funkciju više promenljivih, se najčešće rešava **metodom najmanjih kvadrata**. Takav sistem u praksi obično ima više jednačina nego promenljivih i najčešće nema egzaktno rešenje."
   ]
  },
  {
   "cell_type": "markdown",
   "metadata": {},
   "source": [
    "Ako sistem napišemo u obliku $A\\beta = Y$, njegovo rešavanje predstavlja nalaženje onog vektora $\\beta$ za koji je vrednost izraza $||Y - \\beta A||_2^2$ najmanja. Ovde je sa $||a||_2 = \\sqrt{a_1^2 + a_2^2 + \\dots + a_n^2}$ označena 2-norma vektora $a = (a_1, a_2, \\dots, a_n)$. Rešenje je dato u obliku $\\beta=(A^{T}A)^{-1}A^{T}Y$, gde se matrica $(A^{T}A)^{-1}A^{T}$ se naziva pseudoinverz matrice $A$."
   ]
  },
  {
   "cell_type": "markdown",
   "metadata": {},
   "source": [
    "U slučaju proste linearne regresije, može se pokazati da je $$\\beta_1 = \\frac{\\sum_{i=1}^n (x_i-\\bar{x})(y_i-\\bar{y})}{\\sum_{i=1}^n (x_i-\\bar{x})^2}$$ i $\\beta_0 = \\bar{y} - \\beta_1 \\bar{x}$, gde je $\\bar{x} = \\frac{1}{n} \\sum_{i=1}^n x_i$ aritmetička sredina nezavisnih, a $\\bar{y} = \\frac{1}{n} \\sum_{i=1}^n y_i$ zavisnih promenljivih."
   ]
  },
  {
   "cell_type": "code",
   "execution_count": null,
   "metadata": {},
   "outputs": [],
   "source": []
  },
  {
   "cell_type": "code",
   "execution_count": 1,
   "metadata": {},
   "outputs": [],
   "source": [
    "import numpy as np\n",
    "import pandas as pd\n",
    "import matplotlib.pyplot as plt"
   ]
  },
  {
   "cell_type": "code",
   "execution_count": null,
   "metadata": {},
   "outputs": [],
   "source": [
    "Za rešavanje zadataka linerne regresije - funkcije koji su korisceni i do sada:"
   ]
  },
  {
   "cell_type": "markdown",
   "metadata": {},
   "source": [
    "Neka je potrebno naći linearnu vezu između parova nezavisnih i zavisnih promenljivih: $(0, 1.2)$, $(0.5, 2.05)$, $(1, 2.9)$ i $(-0.5,0.1)$:"
   ]
  },
  {
   "cell_type": "code",
   "execution_count": 3,
   "metadata": {},
   "outputs": [
    {
     "name": "stdout",
     "output_type": "stream",
     "text": [
      "[1.85]\n",
      "1.1\n",
      "[1.1   2.025 2.95  0.175]\n"
     ]
    }
   ],
   "source": [
    "X = np.array([[0], [0.5], [1], [-0.5]])\n",
    "y = np.array([1.2, 2.05, 2.9, 0.1])\n",
    "reg = linear_model.LinearRegression()\n",
    "reg.fit(X, y)\n",
    "\n",
    "print(reg.coef_)\n",
    "print(reg.intercept_)\n",
    "print(reg.predict(X))"
   ]
  },
  {
   "cell_type": "code",
   "execution_count": null,
   "metadata": {},
   "outputs": [],
   "source": []
  },
  {
   "cell_type": "markdown",
   "metadata": {},
   "source": [
    "**Scikit-learn** je Python biblioteka namenjena mašinskom učenje. U njoj su implementirani mnogobrojni algoritmi klasifikacije, regresije i grupisanja. Na ovoj [adresi](https://scikit-learn.org/stable/) možete istražiti sve funkcionalnosti biblioteke, a mi ćemo se u daljem radu usredsrediti na linearne modele dostupne kroz `linear_model` paket. "
   ]
  },
  {
   "cell_type": "code",
   "execution_count": null,
   "metadata": {},
   "outputs": [],
   "source": []
  },
  {
   "cell_type": "code",
   "execution_count": 2,
   "metadata": {},
   "outputs": [],
   "source": [
    "from sklearn import linear_model"
   ]
  },
  {
   "cell_type": "code",
   "execution_count": null,
   "metadata": {},
   "outputs": [],
   "source": []
  },
  {
   "cell_type": "markdown",
   "metadata": {},
   "source": [
    "Najpre se kreira objekat klase `LinearRegression`. Prikazani argumenti funkcije `fit` su matrica $X$ sa kolonama koje predstavljaju vektore nezavisnih promenljivih i vektor $y$ čije koordinate predstavljaju zavisne promenljive. Nakon poziva funkcije, niz `coef_` predstavlja koeficijente, a `intercept_` slobodni član linearne regresije. Funkcijom `predict` se mogu predvideti vrednosti linearne regresije za odgovarajuće unose. U primeru se može videti razlika između predviđenih vrednosti `reg.predict(X)` i stvarnih vrednosti `y`."
   ]
  },
  {
   "cell_type": "markdown",
   "metadata": {},
   "source": [
    "**Ocena greške** linearne regresije se može odrediti na više načina:\n",
    "\n",
    "* Mean absolute error (MAE) je prosečna apsolutna razlika između stvarne i predviđene vrednosti, $\\text{MAE} = \\frac{1}{n}\\sum_{i=1}^n{|\\hat{y_i}-y_i|}$.\n",
    "\n",
    "* Mean squared error (MSE) je jednaka prosečnom kvadratu razlike između stvarne i predviđene vrednosti, $\\text{MSE} = \\frac{1}{n} \\sum_{i=1}^{n}{(\\hat{y_i} - y_i)^2}$. Naziva se još i residual square sum (RSS).\n",
    "\n",
    "* $R^2$ je jednaka $R^2= 1 - \\frac{RSS}{TSS}$, gde je $TSS = \\sum_{i=1}^{n} {(y_i-\\overline{y})^2}$ ukupna suma kvadrata razlike između stvarne i predviđene vrednosti (total sum of squares). Što je vrednost bliža jedinici, greška je manja."
   ]
  },
  {
   "cell_type": "markdown",
   "metadata": {},
   "source": [
    "U nastavku će kroz primer reklamiranja na TV-u, radiju i novinama, biti prikazano na koji način se linearna regresija može iskoristiti za kreiranje modela koji predviđa količinu prodaje. Biće prikazane i neke dosetke za rad sa modelima mašinskog učenja (kroz primer linearne regresije). "
   ]
  },
  {
   "cell_type": "markdown",
   "metadata": {},
   "source": [
    "**Zadatak.** Svaki red u ulaznom CSV fajlu sadrži informacije o cenama u hiljadama dolara reklamnih usluga na određenom tržištu. Prva kolona se odnosi na cene reklamiranja na televiziji, druga na radiju, a treća u novinama. Četvrta kolona se odnosi na ukupnu prodaju proizvoda koji su se reklamirali na datim medijima. Kreirati linearni model koji predviđa prodaju na osnovu cena reklamiranja."
   ]
  },
  {
   "cell_type": "markdown",
   "metadata": {},
   "source": [
    "**Rešenje.** Osnovne informacije o podacima iz CSV fajla:"
   ]
  },
  {
   "cell_type": "code",
   "execution_count": 4,
   "metadata": {},
   "outputs": [
    {
     "name": "stdout",
     "output_type": "stream",
     "text": [
      "Broj unosa: 200\n"
     ]
    },
    {
     "data": {
      "text/html": [
       "<div>\n",
       "<style scoped>\n",
       "    .dataframe tbody tr th:only-of-type {\n",
       "        vertical-align: middle;\n",
       "    }\n",
       "\n",
       "    .dataframe tbody tr th {\n",
       "        vertical-align: top;\n",
       "    }\n",
       "\n",
       "    .dataframe thead th {\n",
       "        text-align: right;\n",
       "    }\n",
       "</style>\n",
       "<table border=\"1\" class=\"dataframe\">\n",
       "  <thead>\n",
       "    <tr style=\"text-align: right;\">\n",
       "      <th></th>\n",
       "      <th>TV</th>\n",
       "      <th>Radio</th>\n",
       "      <th>Newspaper</th>\n",
       "      <th>Sales</th>\n",
       "    </tr>\n",
       "  </thead>\n",
       "  <tbody>\n",
       "    <tr>\n",
       "      <th>1</th>\n",
       "      <td>230.1</td>\n",
       "      <td>37.8</td>\n",
       "      <td>69.2</td>\n",
       "      <td>22.1</td>\n",
       "    </tr>\n",
       "    <tr>\n",
       "      <th>2</th>\n",
       "      <td>44.5</td>\n",
       "      <td>39.3</td>\n",
       "      <td>45.1</td>\n",
       "      <td>10.4</td>\n",
       "    </tr>\n",
       "    <tr>\n",
       "      <th>3</th>\n",
       "      <td>17.2</td>\n",
       "      <td>45.9</td>\n",
       "      <td>69.3</td>\n",
       "      <td>9.3</td>\n",
       "    </tr>\n",
       "    <tr>\n",
       "      <th>4</th>\n",
       "      <td>151.5</td>\n",
       "      <td>41.3</td>\n",
       "      <td>58.5</td>\n",
       "      <td>18.5</td>\n",
       "    </tr>\n",
       "    <tr>\n",
       "      <th>5</th>\n",
       "      <td>180.8</td>\n",
       "      <td>10.8</td>\n",
       "      <td>58.4</td>\n",
       "      <td>12.9</td>\n",
       "    </tr>\n",
       "  </tbody>\n",
       "</table>\n",
       "</div>"
      ],
      "text/plain": [
       "      TV  Radio  Newspaper  Sales\n",
       "1  230.1   37.8       69.2   22.1\n",
       "2   44.5   39.3       45.1   10.4\n",
       "3   17.2   45.9       69.3    9.3\n",
       "4  151.5   41.3       58.5   18.5\n",
       "5  180.8   10.8       58.4   12.9"
      ]
     },
     "execution_count": 4,
     "metadata": {},
     "output_type": "execute_result"
    }
   ],
   "source": [
    "data = pd.read_csv('advertising.csv', index_col=0)\n",
    "print('Broj unosa:', data.shape[0])\n",
    "data.head()"
   ]
  },
  {
   "cell_type": "markdown",
   "metadata": {},
   "source": [
    "Prikazano je prvih 5 od ukupno 200 unosa. Sa `index_col=0` je naznačeno da se prva kolona odnosi na indeksiranje."
   ]
  },
  {
   "cell_type": "markdown",
   "metadata": {},
   "source": [
    "Izvucimo potrebne podatke i proverimo da li postoji linearna zavisnost između svakog načina reklamiranja ponaosob i prodaje:"
   ]
  },
  {
   "cell_type": "code",
   "execution_count": 5,
   "metadata": {},
   "outputs": [],
   "source": [
    "tv = data['TV']\n",
    "radio = data['Radio']\n",
    "newspaper = data['Newspaper']\n",
    "sales = data['Sales']"
   ]
  },
  {
   "cell_type": "code",
   "execution_count": 6,
   "metadata": {},
   "outputs": [
    {
     "data": {
      "image/png": "[encoded data removed]",
      "text/plain": [
       "<Figure size 432x288 with 1 Axes>"
      ]
     },
     "metadata": {
      "needs_background": "light"
     },
     "output_type": "display_data"
    }
   ],
   "source": [
    "\n",
    "plt.xlabel(\"TV\")\n",
    "plt.ylabel(\"Sales\")\n",
    "plt.scatter(tv, sales, color='blue')\n",
    "plt.show()"
   ]
  },
  {
   "cell_type": "code",
   "execution_count": 7,
   "metadata": {},
   "outputs": [
    {
     "data": {
      "image/png": "[encoded data removed]",
      "text/plain": [
       "<Figure size 432x288 with 1 Axes>"
      ]
     },
     "metadata": {
      "needs_background": "light"
     },
     "output_type": "display_data"
    }
   ],
   "source": [
    "plt.xlabel(\"Radio\")\n",
    "plt.ylabel(\"Sales\")\n",
    "plt.scatter(radio, sales, color='red')\n",
    "plt.show()"
   ]
  },
  {
   "cell_type": "code",
   "execution_count": 8,
   "metadata": {},
   "outputs": [
    {
     "data": {
      "image/png": "[encoded data removed]",
      "text/plain": [
       "<Figure size 432x288 with 1 Axes>"
      ]
     },
     "metadata": {
      "needs_background": "light"
     },
     "output_type": "display_data"
    }
   ],
   "source": [
    "plt.xlabel(\"Newspaper\")\n",
    "plt.ylabel(\"Sales\")\n",
    "plt.scatter(newspaper, sales, color='green')\n",
    "plt.show()"
   ]
  },
  {
   "cell_type": "markdown",
   "metadata": {},
   "source": [
    "Zaključujemo da je linearna zavisnost prodaje od reklamiranja na TV-u najveća, a najmanja od reklamiranja u novinama. "
   ]
  },
  {
   "cell_type": "code",
   "execution_count": 9,
   "metadata": {},
   "outputs": [
    {
     "name": "stdout",
     "output_type": "stream",
     "text": [
      "[ 0.04576465  0.18853002 -0.00103749]\n",
      "2.9388893694594067\n"
     ]
    }
   ],
   "source": [
    "reg = linear_model.LinearRegression()\n",
    "tv_radio_newspaper = data[['TV', 'Radio', 'Newspaper']]\n",
    "reg.fit(tv_radio_newspaper, sales)\n",
    "print(reg.coef_)\n",
    "print(reg.intercept_)"
   ]
  },
  {
   "cell_type": "markdown",
   "metadata": {},
   "source": [
    "Dakle, formula linearne zavisnosti je $\\text{Sales} = 0.04576465 \\cdot \\text{TV} + 0.18853002 \\cdot \\text{Radio} - 0.00103749 \\cdot \\text{Newspaper} + 2.9388893694594085.$"
   ]
  },
  {
   "cell_type": "markdown",
   "metadata": {},
   "source": [
    "Ocena greške:"
   ]
  },
  {
   "cell_type": "code",
   "execution_count": 10,
   "metadata": {},
   "outputs": [],
   "source": [
    "from sklearn import metrics"
   ]
  },
  {
   "cell_type": "code",
   "execution_count": 11,
   "metadata": {},
   "outputs": [
    {
     "name": "stdout",
     "output_type": "stream",
     "text": [
      "MAE = 1.2520112296870682\n",
      "MSE = 2.784126314510936\n",
      "R^2 = 0.8972106381789521\n"
     ]
    }
   ],
   "source": [
    "predicted = reg.predict(tv_radio_newspaper)\n",
    "mae = metrics.mean_absolute_error(sales, predicted)\n",
    "mse = metrics.mean_squared_error(sales, predicted)\n",
    "r2 = reg.score(tv_radio_newspaper, sales)\n",
    "\n",
    "print('MAE =', mae)\n",
    "print('MSE =', mse)\n",
    "print('R^2 =', r2)"
   ]
  },
  {
   "cell_type": "code",
   "execution_count": null,
   "metadata": {},
   "outputs": [],
   "source": []
  },
  {
   "cell_type": "markdown",
   "metadata": {},
   "source": [
    "Kod ovakvog modeliranja, može se dogoditi da se problem previše prilagodi skupu podataka nad kojim je istreniran, pa da se lošije ponaša na nekom skupu podataka koji prethodno nije bio testiran (overfitting). Zbog toga je poželjno podeliti skup podataka na skup za treniranje i skup za testiranje. "
   ]
  },
  {
   "cell_type": "code",
   "execution_count": 12,
   "metadata": {},
   "outputs": [
    {
     "name": "stdout",
     "output_type": "stream",
     "text": [
      "[0.04574124 0.180924   0.0031418 ]\n",
      "3.019195161687442\n",
      "R^2: 0.9142453857006444\n"
     ]
    }
   ],
   "source": [
    "from sklearn import model_selection\n",
    "\n",
    "# train_size predstavlja deo podataka za treniranje\n",
    "# test_size predstavlja deo podataka za testiranje\n",
    "# random_state se odnosi na seed\n",
    "xtrain, xtest, ytrain, ytest \\\n",
    "= model_selection.train_test_split(tv_radio_newspaper, sales, test_size=0.33, random_state=1)\n",
    "reg_train_test = linear_model.LinearRegression()\n",
    "reg_train_test.fit(xtrain, ytrain)\n",
    "print(reg_train_test.coef_)\n",
    "print(reg_train_test.intercept_)\n",
    "print('R^2:', reg_train_test.score(xtest, ytest))"
   ]
  },
  {
   "cell_type": "markdown",
   "metadata": {},
   "source": [
    "Formula modela sada postaje $\\text{Sales} = 0.04574124 \\cdot \\text{TV} + 0.180924 \\cdot \\text{Radio} + 0.0031418 \\cdot \\text{Newspaper} + 3.0191951616874455.$"
   ]
  },
  {
   "cell_type": "markdown",
   "metadata": {},
   "source": [
    "Različitim podelama polaznog skupa na skup za treniranje i skup za tesiranje se dobijaju modeli u kojima figurišu drugi parametri. Potreban nam je mehanizam kojim (u opštem slučaju) možemo da upoređujemo modele sa ciljem odabira najboljeg modela. Tome nam služi **unakrsna validacija** (cross validation).\n",
    "\n",
    "Kod unakrsne validacije se polazni skup particioniše na $k$ delova (gde je $k$ unapred izabrani parametar). Model se trenira na svih $k-1$ podskupova odjednom, a testira na preostalom podskupu. Proces se ponavlja $k$ puta, pri čemu se u svakoj iteraciji koristi drugačiji skup za testiranje."
   ]
  },
  {
   "cell_type": "code",
   "execution_count": 13,
   "metadata": {},
   "outputs": [
    {
     "name": "stdout",
     "output_type": "stream",
     "text": [
      "Svi skorovi: [0.87302696 0.8581613  0.92968723 0.89013272 0.93146498 0.93138735\n",
      " 0.7597901  0.91217097 0.83891753 0.92882311]\n",
      "Srednji skor: 0.8853562237979616\n"
     ]
    }
   ],
   "source": [
    "reg_cross = linear_model.LinearRegression()\n",
    "scores = model_selection.cross_val_score(reg_cross, tv_radio_newspaper, sales, cv = 10)\n",
    "print('Svi skorovi:', scores)\n",
    "print('Srednji skor:', scores.mean())"
   ]
  },
  {
   "cell_type": "markdown",
   "metadata": {},
   "source": [
    "Postavlja se pitanje da li se, eventualno, izuzimanjem neke od veličina (TV, radio ili newspaper) dobija bolji model:"
   ]
  },
  {
   "cell_type": "code",
   "execution_count": 14,
   "metadata": {},
   "outputs": [
    {
     "data": {
      "text/plain": [
       "0.8869670516810129"
      ]
     },
     "execution_count": 14,
     "metadata": {},
     "output_type": "execute_result"
    }
   ],
   "source": [
    "reg_tv_radio = linear_model.LinearRegression()\n",
    "tv_radio = data[['TV', 'Radio']]\n",
    "scores = model_selection.cross_val_score(reg_tv_radio, tv_radio, sales, cv = 10)\n",
    "scores.mean()"
   ]
  },
  {
   "cell_type": "code",
   "execution_count": 15,
   "metadata": {},
   "outputs": [
    {
     "data": {
      "text/plain": [
       "0.6066319724531258"
      ]
     },
     "execution_count": 15,
     "metadata": {},
     "output_type": "execute_result"
    }
   ],
   "source": [
    "reg_tv_newspaper = linear_model.LinearRegression()\n",
    "tv_newspaper = data[['TV', 'Newspaper']]\n",
    "scores = model_selection.cross_val_score(reg_tv_newspaper, tv_newspaper, sales, cv = 10)\n",
    "scores.mean()"
   ]
  },
  {
   "cell_type": "code",
   "execution_count": 16,
   "metadata": {},
   "outputs": [
    {
     "data": {
      "text/plain": [
       "0.2896575080826854"
      ]
     },
     "execution_count": 16,
     "metadata": {},
     "output_type": "execute_result"
    }
   ],
   "source": [
    "reg_radio_newspaper = linear_model.LinearRegression()\n",
    "radio_newspaper = data[['Radio', 'Newspaper']]\n",
    "scores = model_selection.cross_val_score(reg_radio_newspaper, radio_newspaper, sales, cv = 10)\n",
    "scores.mean()"
   ]
  },
  {
   "cell_type": "markdown",
   "metadata": {},
   "source": [
    "Rezultati ukazuju na najbolje ponašanje modela koji sadrži samo veličine TV i Radio."
   ]
  },
  {
   "cell_type": "code",
   "execution_count": null,
   "metadata": {},
   "outputs": [],
   "source": []
  }
 ],
 "metadata": {
  "kernelspec": {
   "display_name": "Python 3",
   "language": "python",
   "name": "python3"
  },
  "language_info": {
   "codemirror_mode": {
    "name": "ipython",
    "version": 3
   },
   "file_extension": ".py",
   "mimetype": "text/x-python",
   "name": "python",
   "nbconvert_exporter": "python",
   "pygments_lexer": "ipython3",
   "version": "3.7.6"
  }
 },
 "nbformat": 4,
 "nbformat_minor": 2
}
