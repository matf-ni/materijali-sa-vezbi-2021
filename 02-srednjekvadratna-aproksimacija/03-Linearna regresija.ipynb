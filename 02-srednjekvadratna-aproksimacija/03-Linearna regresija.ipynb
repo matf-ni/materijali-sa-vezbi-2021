{
 "cells": [
  {
   "cell_type": "markdown",
   "metadata": {},
   "source": [
    "# Linaerna regresija"
   ]
  },
  {
   "cell_type": "markdown",
   "metadata": {},
   "source": [
    "**Linearna regresija** predstavlja problem nalaženja linearne veze između nezavisne promenljive $x$ i zavisne promenljive $y$. Ukoliko je promenljiva $x$ skalar, radi se o prostoj linearnoj regresiji, a ako je promenljiva $x$ vektor, reč je o linearnoj regresiji za funkciju više promenljivih. U oba slučaja, pretpostavka je da je zavisna promenljiva $y$ skalar."
   ]
  },
  {
   "cell_type": "code",
   "execution_count": null,
   "metadata": {},
   "outputs": [],
   "source": []
  },
  {
   "cell_type": "markdown",
   "metadata": {},
   "source": [
    "**Prosta linearna regresija** predstavlja nalaženje linearne veze između parova skalara $(x_i, y_i)$, $1 \\le i \\le n$. Veza je data linearnom funkcijom $f(x) = \\beta_0 + \\beta_1 x$ po parametrima $\\beta_0$ i $\\beta_1$ gde su $\\beta_0$ i $\\beta_1$ parametri koje treba odrediti. Ako je $X=[x_1, \\dots, x_n]$ i $Y=[y_1, \\dots, y_n]$, izraz se može zapisati u matričnom obliku kao $\\begin{bmatrix}1&X\\end{bmatrix} \\cdot \\begin{bmatrix}\\beta_0\\\\\\beta_1\\end{bmatrix} = Y$, gde je $\\begin{bmatrix}1&X\\end{bmatrix}$ matrica čija se prva kolona sastoji samo od jedinica, a druga kolona je vektor $X$."
   ]
  },
  {
   "cell_type": "code",
   "execution_count": null,
   "metadata": {},
   "outputs": [],
   "source": []
  },
  {
   "cell_type": "markdown",
   "metadata": {},
   "source": [
    "**Linearna regresija za funkciju više promenljivih** predstavlja nalaženje linearne veze između parova vektora i skalara $(X_i, y_i)$, $1 \\le i \\le n$. Veza je data linearnom funkcijom $f(x_1,\\dots,x_m) = \\beta_0 + \\beta_1 x_1 + \\dots + \\beta_m x_m$ po parametrima $\\beta_0, \\dots, \\beta_m$ gde su $\\beta_0, \\dots, \\beta_m$ parametri koje treba odrediti. Izraz se može zapisati u matričnom obliku kao $\\begin{bmatrix}1&X_1&\\cdots&X_m\\end{bmatrix} \\cdot \\begin{bmatrix}\\beta_0\\\\ \\vdots \\\\ \\beta_m\\end{bmatrix} = Y$, gde je $Y=[y_1, \\dots, y_n]$, $\\begin{bmatrix}1&X_1&\\cdots&X_m\\end{bmatrix}$ matrica čija se prva kolona sastoji samo od jedinica, a ostale kolone su redom vektori $X_1,\\dots,X_m$. "
   ]
  },
  {
   "cell_type": "code",
   "execution_count": null,
   "metadata": {},
   "outputs": [],
   "source": []
  },
  {
   "cell_type": "markdown",
   "metadata": {},
   "source": [
    "Sistem jednačina $\\begin{bmatrix}1&X\\end{bmatrix} \\cdot \\begin{bmatrix}\\beta_0\\\\\\beta_1\\end{bmatrix} = Y$ kod proste linearne regresije, odnosno $\\begin{bmatrix}1&X_1&\\cdots&X_m\\end{bmatrix} \\cdot \\begin{bmatrix}\\beta_0\\\\ \\vdots \\\\ \\beta_m\\end{bmatrix} = Y$ kod linearne regresije za funkciju više promenljivih, se najčešće rešava **metodom najmanjih kvadrata**. Takav sistem u praksi obično ima više jednačina nego promenljivih i najčešće nema egzaktno rešenje."
   ]
  },
  {
   "cell_type": "markdown",
   "metadata": {},
   "source": [
    "Ako sistem napišemo u obliku $A\\beta = Y$, njegovo rešavanje predstavlja nalaženje onog vektora $\\beta$ za koji je vrednost izraza $||Y - \\beta A||_2^2$ najmanja. Ovde je sa $||a||_2 = \\sqrt{a_1^2 + a_2^2 + \\dots + a_n^2}$ označena 2-norma vektora $a = (a_1, a_2, \\dots, a_n)$. Rešenje je dato u obliku $\\beta=(A^{T}A)^{-1}A^{T}Y$, gde se matrica $(A^{T}A)^{-1}A^{T}$ se naziva pseudoinverz matrice $A$."
   ]
  },
  {
   "cell_type": "markdown",
   "metadata": {},
   "source": [
    "U slučaju proste linearne regresije, može se pokazati da je $$\\beta_1 = \\frac{\\sum_{i=1}^n (x_i-\\bar{x})(y_i-\\bar{y})}{\\sum_{i=1}^n (x_i-\\bar{x})^2}$$ i $\\beta_0 = \\bar{y} - \\beta_1 \\bar{x}$, gde je $\\bar{x} = \\frac{1}{n} \\sum_{i=1}^n x_i$ aritmetička sredina nezavisnih, a $\\bar{y} = \\frac{1}{n} \\sum_{i=1}^n y_i$ zavisnih promenljivih."
   ]
  },
  {
   "cell_type": "code",
   "execution_count": null,
   "metadata": {},
   "outputs": [],
   "source": []
  },
  {
   "cell_type": "code",
   "execution_count": 1,
   "metadata": {},
   "outputs": [],
   "source": [
    "import numpy as np\n",
    "import pandas as pd\n",
    "from matplotlib import pyplot as plt"
   ]
  },
  {
   "cell_type": "code",
   "execution_count": null,
   "metadata": {},
   "outputs": [],
   "source": []
  },
  {
   "cell_type": "markdown",
   "metadata": {},
   "source": [
    "Pretpostavimo da raspolažemo skupom parova  $(0, 1.2)$, $(0.5, 2.05)$, $(1, 2.9)$ i $(-0.5,0.1)$ u kojima prvi element predstavlja nezavnisnu promenljivu $x$, a drugi zavisnu promenljivu $y$ i da je potrebno naći linearnu vezu oblika $y=\\beta_0+\\beta_1x$ između njih."
   ]
  },
  {
   "cell_type": "markdown",
   "metadata": {},
   "source": [
    "Za rešavanje zadataka linearne regresije mogu se koristiti funkcije koje smo upoznali u priči o rešavanju preodređenih sistema."
   ]
  },
  {
   "cell_type": "code",
   "execution_count": 2,
   "metadata": {},
   "outputs": [],
   "source": [
    "points= [(0, 1.2), (0.5, 2.05), (1, 2.9), (-0.5, 0.1)]\n",
    "x = np.array([point[0] for point in points])\n",
    "y = np.array([point[1] for point in points])"
   ]
  },
  {
   "cell_type": "code",
   "execution_count": 3,
   "metadata": {},
   "outputs": [],
   "source": [
    "n = len(points)"
   ]
  },
  {
   "cell_type": "code",
   "execution_count": 4,
   "metadata": {},
   "outputs": [],
   "source": [
    "solution, rss, _, _ = np.linalg.lstsq(np.vstack((np.ones(n), x)).T, y, rcond=None)"
   ]
  },
  {
   "cell_type": "code",
   "execution_count": 5,
   "metadata": {},
   "outputs": [],
   "source": [
    "(beta0, beta1) = solution"
   ]
  },
  {
   "cell_type": "code",
   "execution_count": 6,
   "metadata": {},
   "outputs": [
    {
     "name": "stdout",
     "output_type": "stream",
     "text": [
      "Resenje je:  1.100000000000001 1.8500000000000005\n"
     ]
    }
   ],
   "source": [
    "print('Resenje je: ', beta0, beta1)"
   ]
  },
  {
   "cell_type": "code",
   "execution_count": null,
   "metadata": {},
   "outputs": [],
   "source": []
  },
  {
   "cell_type": "markdown",
   "metadata": {},
   "source": [
    "Ipak, u praksi se, posebno u zadacima mašinskog učenja, mnogo češće koristi biblioteka  `scikit-learn`."
   ]
  },
  {
   "cell_type": "markdown",
   "metadata": {},
   "source": [
    "**Scikit-learn** je Python biblioteka namenjena mašinskom učenju. U njoj su implementirani mnogobrojni algoritmi klasifikacije, regresije i grupisanja, kao i rutine koje prate pripremu podataka i evaluaciju modela. Na [zvaničnom sajtu](https://scikit-learn.org/stable/) možete istražiti više o funkcionalnostima same biblioteke, a mi ćemo se u daljem radu usredsrediti na linearne modele dostupne kroz `linear_model` paket. "
   ]
  },
  {
   "cell_type": "code",
   "execution_count": null,
   "metadata": {},
   "outputs": [],
   "source": []
  },
  {
   "cell_type": "code",
   "execution_count": 7,
   "metadata": {},
   "outputs": [],
   "source": [
    "from sklearn import linear_model"
   ]
  },
  {
   "cell_type": "code",
   "execution_count": null,
   "metadata": {},
   "outputs": [],
   "source": []
  },
  {
   "cell_type": "markdown",
   "metadata": {},
   "source": [
    "Za rad sa modelima proste linearne regresije predviđena je klasa `LinearRegression`. Ona raspolaže metodom `fit` koja rešava optimizacioni problem, a čiji su argumenti matrica sa kolonama koje predstavljaju vektore nezavisnih promenljivih i vektor čije koordinate predstavljaju zavisne promenljive. Nakon poziva metode `fit`, niz `coef_` predstavlja tražene koeficijente, a `intercept_` slobodni član linearne regresije."
   ]
  },
  {
   "cell_type": "code",
   "execution_count": 8,
   "metadata": {},
   "outputs": [],
   "source": [
    "model = linear_model.LinearRegression()"
   ]
  },
  {
   "cell_type": "code",
   "execution_count": 9,
   "metadata": {},
   "outputs": [
    {
     "data": {
      "text/plain": [
       "LinearRegression(copy_X=True, fit_intercept=True, n_jobs=None, normalize=False)"
      ]
     },
     "execution_count": 9,
     "metadata": {},
     "output_type": "execute_result"
    }
   ],
   "source": [
    "model.fit(x.reshape(-1, 1), y)"
   ]
  },
  {
   "cell_type": "markdown",
   "metadata": {},
   "source": [
    "Koeficijent $\\beta_0$:"
   ]
  },
  {
   "cell_type": "code",
   "execution_count": 10,
   "metadata": {},
   "outputs": [
    {
     "data": {
      "text/plain": [
       "1.1"
      ]
     },
     "execution_count": 10,
     "metadata": {},
     "output_type": "execute_result"
    }
   ],
   "source": [
    "model.intercept_"
   ]
  },
  {
   "cell_type": "markdown",
   "metadata": {},
   "source": [
    "Koeficijent $\\beta_1$:"
   ]
  },
  {
   "cell_type": "code",
   "execution_count": 11,
   "metadata": {},
   "outputs": [
    {
     "data": {
      "text/plain": [
       "array([1.85])"
      ]
     },
     "execution_count": 11,
     "metadata": {},
     "output_type": "execute_result"
    }
   ],
   "source": [
    "model.coef_"
   ]
  },
  {
   "cell_type": "code",
   "execution_count": null,
   "metadata": {},
   "outputs": [],
   "source": []
  },
  {
   "cell_type": "markdown",
   "metadata": {},
   "source": [
    "Greška modela linearne regresije može se prikazati na više načina. \n",
    "\n",
    "\n",
    "`Srednja apsolutna greška (engl. mean absolute error, MAE)` je prosečna vrednost sume apsolutnih razlika između stvarne i predviđene vrednosti, $\\text{MAE} = \\frac{1}{n}\\sum_{i=1}^n{|y_i - \\hat{y_i}|}$.\n",
    "\n",
    "`Srednjekvadratna greška (engl. mean squared error, MSE)` je prosečnoa vrednost sume kvadrata razlika između stvarne i predviđene vrednosti, $\\text{MSE} = \\frac{1}{n} \\sum_{i=1}^{n}{( y_i - \\hat{y_i})^2}$. Za nju koristimo i termin suma kvadrata reziduala (engl. residual square sum, RSS).\n",
    "\n",
    "`Koeficijent determinacija $R^2$` se račina kao $R^2= 1 - \\frac{RSS}{TSS}$, gde je $TSS = \\sum_{i=1}^{n} {(y_i-\\overline{y})^2}$ ukupna suma kvadrata razlike između stvarne i očekivane vrednosti. Što je vrednost bliža jedinici, greška je manja."
   ]
  },
  {
   "cell_type": "markdown",
   "metadata": {},
   "source": [
    "Ove vrednosti možemo izračunati korišćenjem funkcija `metrics` biblioteke `scikit-learn`."
   ]
  },
  {
   "cell_type": "code",
   "execution_count": 12,
   "metadata": {},
   "outputs": [],
   "source": [
    "from sklearn import metrics"
   ]
  },
  {
   "cell_type": "code",
   "execution_count": null,
   "metadata": {},
   "outputs": [],
   "source": []
  },
  {
   "cell_type": "markdown",
   "metadata": {},
   "source": [
    "Funkcijom `predict` se mogu predvideti vrednosti regresionog modela za odgovarajuće unose."
   ]
  },
  {
   "cell_type": "code",
   "execution_count": 13,
   "metadata": {},
   "outputs": [],
   "source": [
    "y_predicted = model.predict(x.reshape(-1, 1))"
   ]
  },
  {
   "cell_type": "code",
   "execution_count": null,
   "metadata": {},
   "outputs": [],
   "source": []
  },
  {
   "cell_type": "markdown",
   "metadata": {},
   "source": [
    "Vrednosti za greške koje smo uveli se mogu dobiti na sledeći nači: "
   ]
  },
  {
   "cell_type": "code",
   "execution_count": 14,
   "metadata": {},
   "outputs": [],
   "source": [
    "mae = metrics.mean_absolute_error(y_predicted, y)\n",
    "mse = metrics.mean_squared_error(y_predicted, y)\n",
    "r2 = metrics.r2_score(y_predicted, y)"
   ]
  },
  {
   "cell_type": "code",
   "execution_count": 15,
   "metadata": {},
   "outputs": [
    {
     "name": "stdout",
     "output_type": "stream",
     "text": [
      "MAE =  0.06250000000000006\n",
      "MSE =  0.004687500000000004\n",
      "R2 =  0.9956172388604821\n"
     ]
    }
   ],
   "source": [
    "print('MAE = ', mae)\n",
    "print('MSE = ', mse)\n",
    "print('R2 = ', r2)"
   ]
  },
  {
   "cell_type": "code",
   "execution_count": null,
   "metadata": {},
   "outputs": [],
   "source": []
  },
  {
   "cell_type": "code",
   "execution_count": null,
   "metadata": {},
   "outputs": [],
   "source": []
  },
  {
   "cell_type": "markdown",
   "metadata": {},
   "source": [
    "U nastavku će kroz primer reklamiranja na različitim medijima (TV-u, radiju i novinama) biti prikazano kako se linearna regresija može iskoristiti za kreiranje modela koji predviđa uspešnost prodaje. "
   ]
  },
  {
   "cell_type": "markdown",
   "metadata": {},
   "source": [
    "U datoteci `advertising.csv` se nalaze informacije o cenama (izraženim u hiljadama dolara) reklamnih usluga na određenom tržištu. Prva kolona se odnosi na cene reklamiranja na televiziji, druga na radiju, a treća u novinama. Četvrta kolona se odnosi na ukupnu prodaju proizvoda koji su se reklamirali na datim medijima. Potrebno je kreirati linearni model koji predviđa prodaju na osnovu cena reklamiranja."
   ]
  },
  {
   "cell_type": "markdown",
   "metadata": {},
   "source": [
    "Prvo ćemo pročitati podatke koji se nalaze u datoteci. Sa `index_col=0` je naznačeno da se prva kolona datoteke odnosi na indeksiranje."
   ]
  },
  {
   "cell_type": "code",
   "execution_count": 16,
   "metadata": {},
   "outputs": [
    {
     "name": "stdout",
     "output_type": "stream",
     "text": [
      "Broj unosa: 200\n"
     ]
    }
   ],
   "source": [
    "data = pd.read_csv('data/advertising.csv', index_col=0)\n",
    "print('Broj unosa:', data.shape[0])"
   ]
  },
  {
   "cell_type": "code",
   "execution_count": 17,
   "metadata": {},
   "outputs": [
    {
     "data": {
      "text/html": [
       "<div>\n",
       "<style scoped>\n",
       "    .dataframe tbody tr th:only-of-type {\n",
       "        vertical-align: middle;\n",
       "    }\n",
       "\n",
       "    .dataframe tbody tr th {\n",
       "        vertical-align: top;\n",
       "    }\n",
       "\n",
       "    .dataframe thead th {\n",
       "        text-align: right;\n",
       "    }\n",
       "</style>\n",
       "<table border=\"1\" class=\"dataframe\">\n",
       "  <thead>\n",
       "    <tr style=\"text-align: right;\">\n",
       "      <th></th>\n",
       "      <th>TV</th>\n",
       "      <th>Radio</th>\n",
       "      <th>Newspaper</th>\n",
       "      <th>Sales</th>\n",
       "    </tr>\n",
       "  </thead>\n",
       "  <tbody>\n",
       "    <tr>\n",
       "      <th>1</th>\n",
       "      <td>230.1</td>\n",
       "      <td>37.8</td>\n",
       "      <td>69.2</td>\n",
       "      <td>22.1</td>\n",
       "    </tr>\n",
       "    <tr>\n",
       "      <th>2</th>\n",
       "      <td>44.5</td>\n",
       "      <td>39.3</td>\n",
       "      <td>45.1</td>\n",
       "      <td>10.4</td>\n",
       "    </tr>\n",
       "    <tr>\n",
       "      <th>3</th>\n",
       "      <td>17.2</td>\n",
       "      <td>45.9</td>\n",
       "      <td>69.3</td>\n",
       "      <td>9.3</td>\n",
       "    </tr>\n",
       "    <tr>\n",
       "      <th>4</th>\n",
       "      <td>151.5</td>\n",
       "      <td>41.3</td>\n",
       "      <td>58.5</td>\n",
       "      <td>18.5</td>\n",
       "    </tr>\n",
       "    <tr>\n",
       "      <th>5</th>\n",
       "      <td>180.8</td>\n",
       "      <td>10.8</td>\n",
       "      <td>58.4</td>\n",
       "      <td>12.9</td>\n",
       "    </tr>\n",
       "  </tbody>\n",
       "</table>\n",
       "</div>"
      ],
      "text/plain": [
       "      TV  Radio  Newspaper  Sales\n",
       "1  230.1   37.8       69.2   22.1\n",
       "2   44.5   39.3       45.1   10.4\n",
       "3   17.2   45.9       69.3    9.3\n",
       "4  151.5   41.3       58.5   18.5\n",
       "5  180.8   10.8       58.4   12.9"
      ]
     },
     "execution_count": 17,
     "metadata": {},
     "output_type": "execute_result"
    }
   ],
   "source": [
    "data.head()"
   ]
  },
  {
   "cell_type": "markdown",
   "metadata": {},
   "source": [
    "Izvucimo potrebne podatke i proverimo da li postoji linearna zavisnost između svakog načina reklamiranja ponaosob i prodaje."
   ]
  },
  {
   "cell_type": "code",
   "execution_count": 18,
   "metadata": {},
   "outputs": [],
   "source": [
    "tv = data['TV']\n",
    "radio = data['Radio']\n",
    "newspaper = data['Newspaper']\n",
    "sales = data['Sales']"
   ]
  },
  {
   "cell_type": "code",
   "execution_count": 19,
   "metadata": {},
   "outputs": [
    {
     "data": {
      "image/png": "[encoded data removed]",
      "text/plain": [
       "<Figure size 432x288 with 1 Axes>"
      ]
     },
     "metadata": {
      "needs_background": "light"
     },
     "output_type": "display_data"
    }
   ],
   "source": [
    "plt.xlabel(\"TV\")\n",
    "plt.ylabel(\"Sales\")\n",
    "plt.scatter(tv, sales, color='blue')\n",
    "plt.show()"
   ]
  },
  {
   "cell_type": "code",
   "execution_count": 20,
   "metadata": {},
   "outputs": [
    {
     "data": {
      "image/png": "[encoded data removed]",
      "text/plain": [
       "<Figure size 432x288 with 1 Axes>"
      ]
     },
     "metadata": {
      "needs_background": "light"
     },
     "output_type": "display_data"
    }
   ],
   "source": [
    "plt.xlabel(\"Radio\")\n",
    "plt.ylabel(\"Sales\")\n",
    "plt.scatter(radio, sales, color='red')\n",
    "plt.show()"
   ]
  },
  {
   "cell_type": "code",
   "execution_count": 21,
   "metadata": {},
   "outputs": [
    {
     "data": {
      "image/png": "[encoded data removed]",
      "text/plain": [
       "<Figure size 432x288 with 1 Axes>"
      ]
     },
     "metadata": {
      "needs_background": "light"
     },
     "output_type": "display_data"
    }
   ],
   "source": [
    "plt.xlabel(\"Newspaper\")\n",
    "plt.ylabel(\"Sales\")\n",
    "plt.scatter(newspaper, sales, color='green')\n",
    "plt.show()"
   ]
  },
  {
   "cell_type": "markdown",
   "metadata": {},
   "source": [
    "Zaključujemo da je linearna zavisnost prodaje od reklamiranja na TV-u najveća, a najmanja od reklamiranja u novinama. "
   ]
  },
  {
   "cell_type": "code",
   "execution_count": null,
   "metadata": {},
   "outputs": [],
   "source": []
  },
  {
   "cell_type": "markdown",
   "metadata": {},
   "source": [
    "Korišćenjem klase `LinearRegression` formiraćemo regresioni model."
   ]
  },
  {
   "cell_type": "code",
   "execution_count": 22,
   "metadata": {},
   "outputs": [],
   "source": [
    "tv_radio_newspaper = data[['TV', 'Radio', 'Newspaper']]"
   ]
  },
  {
   "cell_type": "code",
   "execution_count": 23,
   "metadata": {},
   "outputs": [
    {
     "data": {
      "text/plain": [
       "LinearRegression(copy_X=True, fit_intercept=True, n_jobs=None, normalize=False)"
      ]
     },
     "execution_count": 23,
     "metadata": {},
     "output_type": "execute_result"
    }
   ],
   "source": [
    "model = linear_model.LinearRegression()\n",
    "model.fit(tv_radio_newspaper, sales)"
   ]
  },
  {
   "cell_type": "code",
   "execution_count": 24,
   "metadata": {},
   "outputs": [
    {
     "name": "stdout",
     "output_type": "stream",
     "text": [
      "Slobodni clan:  2.9388893694594067\n",
      "Koeficijenti:  [ 0.04576465  0.18853002 -0.00103749]\n"
     ]
    }
   ],
   "source": [
    "print('Slobodni clan: ', model.intercept_)\n",
    "print('Koeficijenti: ', model.coef_)"
   ]
  },
  {
   "cell_type": "code",
   "execution_count": null,
   "metadata": {},
   "outputs": [],
   "source": []
  },
  {
   "cell_type": "markdown",
   "metadata": {},
   "source": [
    "Dakle, formula linearne zavisnosti je $\\text{Sales} = 2.9388893694594085 + 0.04576465 \\cdot \\text{TV} + 0.18853002 \\cdot \\text{Radio} - 0.00103749 \\cdot \\text{Newspaper}.$"
   ]
  },
  {
   "cell_type": "code",
   "execution_count": null,
   "metadata": {},
   "outputs": [],
   "source": []
  },
  {
   "cell_type": "markdown",
   "metadata": {},
   "source": [
    "Pošto su sve vrednosti prikazane na istim skalama, možemo interpretirati dobijene koeficijente: najveći doprinos u ovom modelu ima reklamiranje na radiju, a najmanji reklamiranje u novinama."
   ]
  },
  {
   "cell_type": "code",
   "execution_count": null,
   "metadata": {},
   "outputs": [],
   "source": []
  },
  {
   "cell_type": "markdown",
   "metadata": {},
   "source": [
    "Trenutno smo sve raspoložive podatke iskoristili za kreiranje modela pa nemamo podatke na kojima objektivno možemo oceniti kako se ponaša naš model. Zato ćemo se vratiti jedan korak unazad i pre određivanja modela, podeliti podatke na skup za obučavanje modela i skup za testiranje (ocenu) modela. <img src='assets/train_test_podela.png'>"
   ]
  },
  {
   "cell_type": "markdown",
   "metadata": {},
   "source": [
    "U ovome nam može pomoći funkcija `train_test_split` dostupna u okviru paketa `model_selection` biblioteke `scikit-learn`. Njom se vrši podela skupa u željenoj razmeri (parametar `test_size`) uz kontrolu podele (parametar `random_state`)."
   ]
  },
  {
   "cell_type": "code",
   "execution_count": 25,
   "metadata": {},
   "outputs": [],
   "source": [
    "from sklearn import model_selection"
   ]
  },
  {
   "cell_type": "code",
   "execution_count": 26,
   "metadata": {},
   "outputs": [],
   "source": [
    "tv_radio_newspaper_train, tv_radio_newspaper_test, sales_train, sales_test = model_selection.train_test_split(tv_radio_newspaper, sales, test_size=0.33, random_state=1)"
   ]
  },
  {
   "cell_type": "markdown",
   "metadata": {},
   "source": [
    "Sada možemo ponoviti istu proceduru određivanja modela linearne regresije koristeći kreirani skup za obučavanje."
   ]
  },
  {
   "cell_type": "code",
   "execution_count": 27,
   "metadata": {},
   "outputs": [
    {
     "data": {
      "text/plain": [
       "LinearRegression(copy_X=True, fit_intercept=True, n_jobs=None, normalize=False)"
      ]
     },
     "execution_count": 27,
     "metadata": {},
     "output_type": "execute_result"
    }
   ],
   "source": [
    "model = linear_model.LinearRegression()\n",
    "model.fit(tv_radio_newspaper_train, sales_train)"
   ]
  },
  {
   "cell_type": "markdown",
   "metadata": {},
   "source": [
    "Dalje možemo korektno sprovesti ocenu ovako dobijenog modela."
   ]
  },
  {
   "cell_type": "code",
   "execution_count": 28,
   "metadata": {},
   "outputs": [],
   "source": [
    "sales_predicted = model.predict(tv_radio_newspaper_test)"
   ]
  },
  {
   "cell_type": "code",
   "execution_count": 29,
   "metadata": {},
   "outputs": [],
   "source": [
    "mae = metrics.mean_absolute_error(sales_test, sales_predicted)\n",
    "mse = metrics.mean_squared_error(sales_test, sales_predicted)\n",
    "r2 = metrics.r2_score(sales_test, sales_predicted)"
   ]
  },
  {
   "cell_type": "code",
   "execution_count": 30,
   "metadata": {},
   "outputs": [
    {
     "name": "stdout",
     "output_type": "stream",
     "text": [
      "MAE =  1.116324307782546\n",
      "MSE =  2.30460308993616\n",
      "R2 =  0.9142453857006445\n"
     ]
    }
   ],
   "source": [
    "print('MAE = ', mae)\n",
    "print('MSE = ', mse)\n",
    "print('R2 = ', r2)"
   ]
  },
  {
   "cell_type": "markdown",
   "metadata": {},
   "source": [
    "Koeficijenti našeg novog modela su: "
   ]
  },
  {
   "cell_type": "code",
   "execution_count": 31,
   "metadata": {},
   "outputs": [
    {
     "name": "stdout",
     "output_type": "stream",
     "text": [
      "Slobodni clan:  3.019195161687442\n",
      "Koeficijenti:  [0.04574124 0.180924   0.0031418 ]\n"
     ]
    }
   ],
   "source": [
    "print('Slobodni clan: ', model.intercept_)\n",
    "print('Koeficijenti: ', model.coef_)"
   ]
  },
  {
   "cell_type": "markdown",
   "metadata": {},
   "source": [
    "Formula modela sada postaje $\\text{Sales} = 3.0191951616874455 + 0.04574124 \\cdot \\text{TV} + 0.180924 \\cdot \\text{Radio} + 0.0031418 \\cdot \\text{Newspaper}.$"
   ]
  },
  {
   "cell_type": "code",
   "execution_count": null,
   "metadata": {},
   "outputs": [],
   "source": []
  },
  {
   "cell_type": "markdown",
   "metadata": {},
   "source": [
    "Različitim podelama polaznog skupa na skup za treniranje i skup za tesiranje se dobijaju različiti modeli koji imaju nešto drugačije ocene (to možemo lako proveriti promenama parametra random_state). Zbog toga neke podele mogu dati ili previše optimistične ili previše stroge ocene. `Unakrsna validacija` je tehnika kojom se ovakvo ocenjivanje može iskontrolisati. Ona podrazumeva podelu polaznog skupa podataka na $k$ delova (gde je $k$ unapred izabrana vrednost) i obučavanje i testiranje ukupno $k$ modela po shemi prikazanoj na slici. <img src='assets/unakrsna_validacija.png'> \n",
    "\n",
    "Svaki model se trenira nad posebno izdvojenih $k-1$ delova (obojenih plavom bojom) i testira na preostalom delu (obojenom narandžastom bojom). Dalje se performanse ovako dobijenih modela mogu agregirati u jednu vrednosti.  "
   ]
  },
  {
   "cell_type": "markdown",
   "metadata": {},
   "source": [
    "Za evaluaciju modela tehnikom unakrsne validacije može se koristiti metod `cross_val_score`. Njegovi parametri su tip modela, ceo skup podataka i broj podela (parametar `cv`, ekvivalent broja `k`). Podrazumevano se za ocenu modela koristi srednjekvadratna greška, ali se preko parametra `scoring` može navesti i neka druga vrednost."
   ]
  },
  {
   "cell_type": "code",
   "execution_count": 32,
   "metadata": {},
   "outputs": [],
   "source": [
    "model = linear_model.LinearRegression()\n",
    "scores = model_selection.cross_val_score(model, tv_radio_newspaper, sales, cv = 10)"
   ]
  },
  {
   "cell_type": "code",
   "execution_count": null,
   "metadata": {},
   "outputs": [],
   "source": []
  },
  {
   "cell_type": "markdown",
   "metadata": {},
   "source": [
    "Pojedinačne greške možemo ispisati, ili još informativnije, prikazati grafički."
   ]
  },
  {
   "cell_type": "code",
   "execution_count": 33,
   "metadata": {},
   "outputs": [
    {
     "name": "stdout",
     "output_type": "stream",
     "text": [
      "Sve greške po podelama: [0.87302696 0.8581613  0.92968723 0.89013272 0.93146498 0.93138735\n",
      " 0.7597901  0.91217097 0.83891753 0.92882311]\n"
     ]
    }
   ],
   "source": [
    "print('Sve greške po podelama:', scores)"
   ]
  },
  {
   "cell_type": "code",
   "execution_count": 34,
   "metadata": {},
   "outputs": [
    {
     "data": {
      "image/png": "[encoded data removed]",
      "text/plain": [
       "<Figure size 432x288 with 1 Axes>"
      ]
     },
     "metadata": {
      "needs_background": "light"
     },
     "output_type": "display_data"
    }
   ],
   "source": [
    "cv = 10\n",
    "plt.bar(np.arange(0, cv), scores)\n",
    "plt.show()"
   ]
  },
  {
   "cell_type": "code",
   "execution_count": 35,
   "metadata": {},
   "outputs": [
    {
     "name": "stdout",
     "output_type": "stream",
     "text": [
      "Srednja vrednost greške: 0.8853562237979616\n"
     ]
    }
   ],
   "source": [
    "print('Srednja vrednost greške:', scores.mean())"
   ]
  },
  {
   "cell_type": "code",
   "execution_count": null,
   "metadata": {},
   "outputs": [],
   "source": []
  },
  {
   "cell_type": "code",
   "execution_count": null,
   "metadata": {},
   "outputs": [],
   "source": []
  },
  {
   "cell_type": "markdown",
   "metadata": {},
   "source": [
    "Dalje možemo proveriti da li se, eventualno, izuzimanjem neke od veličina (`TV`, `radio` ili `newspaper`) dobija bolji model."
   ]
  },
  {
   "cell_type": "code",
   "execution_count": 36,
   "metadata": {},
   "outputs": [
    {
     "name": "stdout",
     "output_type": "stream",
     "text": [
      "Model TV+Radio:  0.8869670516810129\n"
     ]
    }
   ],
   "source": [
    "model_tv_radio = linear_model.LinearRegression()\n",
    "tv_radio = data[['TV', 'Radio']]\n",
    "scores = model_selection.cross_val_score(model_tv_radio, tv_radio, sales, cv = 10)\n",
    "final_score = scores.mean()\n",
    "print('Model TV+Radio: ', final_score)"
   ]
  },
  {
   "cell_type": "code",
   "execution_count": 37,
   "metadata": {},
   "outputs": [
    {
     "name": "stdout",
     "output_type": "stream",
     "text": [
      "Model TV+Newspaper:  0.6066319724531258\n"
     ]
    }
   ],
   "source": [
    "model_tv_newspaper = linear_model.LinearRegression()\n",
    "tv_newspaper = data[['TV', 'Newspaper']]\n",
    "scores = model_selection.cross_val_score(model_tv_newspaper, tv_newspaper, sales, cv = 10)\n",
    "final_score = scores.mean()\n",
    "print('Model TV+Newspaper: ', final_score)"
   ]
  },
  {
   "cell_type": "code",
   "execution_count": 38,
   "metadata": {},
   "outputs": [
    {
     "name": "stdout",
     "output_type": "stream",
     "text": [
      "Model Radio+Newspaper:  0.2896575080826854\n"
     ]
    }
   ],
   "source": [
    "model_radio_newspaper = linear_model.LinearRegression()\n",
    "radio_newspaper = data[['Radio', 'Newspaper']]\n",
    "scores = model_selection.cross_val_score(model_radio_newspaper, radio_newspaper, sales, cv = 10)\n",
    "final_score = scores.mean()\n",
    "print('Model Radio+Newspaper: ', final_score)"
   ]
  },
  {
   "cell_type": "code",
   "execution_count": null,
   "metadata": {},
   "outputs": [],
   "source": []
  },
  {
   "cell_type": "markdown",
   "metadata": {},
   "source": [
    "Rezultati ukazuju na najbolje ponašanje modela koji koristi samo veličine `TV` i `Radio`."
   ]
  },
  {
   "cell_type": "code",
   "execution_count": null,
   "metadata": {},
   "outputs": [],
   "source": []
  }
 ],
 "metadata": {
  "kernelspec": {
   "display_name": "Python 3",
   "language": "python",
   "name": "python3"
  },
  "language_info": {
   "codemirror_mode": {
    "name": "ipython",
    "version": 3
   },
   "file_extension": ".py",
   "mimetype": "text/x-python",
   "name": "python",
   "nbconvert_exporter": "python",
   "pygments_lexer": "ipython3",
   "version": "3.7.6"
  }
 },
 "nbformat": 4,
 "nbformat_minor": 2
}
