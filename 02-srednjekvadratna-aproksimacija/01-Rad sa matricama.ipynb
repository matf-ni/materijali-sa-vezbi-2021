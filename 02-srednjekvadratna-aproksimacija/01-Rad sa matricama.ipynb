{
 "cells": [
  {
   "cell_type": "markdown",
   "metadata": {},
   "source": [
    "# Rad sa matricama"
   ]
  },
  {
   "cell_type": "markdown",
   "metadata": {},
   "source": [
    "Kao što smo videli, višedimenzioni nizovi predstavljaju osnovnu strukturu podataka `numpy` paketa. Paket `numpy.linalg` specifično podržava razne algebarske funkcionalnosti u radu sa matricama, među kojima su nalaženje determinante matrice, njenog inverza, sopstvenih vektora i sopstvenih vrednosti, normi, uslovljenosti i drugih.  "
   ]
  },
  {
   "cell_type": "code",
   "execution_count": 1,
   "metadata": {},
   "outputs": [],
   "source": [
    "import numpy as np\n",
    "from numpy import linalg as LA"
   ]
  },
  {
   "cell_type": "markdown",
   "metadata": {},
   "source": [
    "Za demonstraciju funkcija `numpy.linalg` paketa, kreiraćemo kvadratnu matricu \n",
    "$A = \\begin{bmatrix}\n",
    "    1 & 2 & 4 \\\\\n",
    "    -5 & 7 & 2 \\\\\n",
    "    5 & 1 & 9\n",
    "\\end{bmatrix}$."
   ]
  },
  {
   "cell_type": "code",
   "execution_count": 2,
   "metadata": {},
   "outputs": [],
   "source": [
    "A = np.array([[1, 2, 4], [-5, 7, 2], [5, 1, 9]])"
   ]
  },
  {
   "cell_type": "code",
   "execution_count": 3,
   "metadata": {},
   "outputs": [
    {
     "data": {
      "text/plain": [
       "array([[ 1,  2,  4],\n",
       "       [-5,  7,  2],\n",
       "       [ 5,  1,  9]])"
      ]
     },
     "execution_count": 3,
     "metadata": {},
     "output_type": "execute_result"
    }
   ],
   "source": [
    "A"
   ]
  },
  {
   "cell_type": "markdown",
   "metadata": {},
   "source": [
    "`Determinanta` matrice se može definisati rekurzivno. Tako za matrice reda $2 \\times 2$, $3 \\times 3$ i $4 \\times 4$, važi \n",
    "\n",
    "* $\\begin{vmatrix}a_{11}&a_{12}\\\\a_{21}&a_{22}\\end{vmatrix} = a_{11}a_{22}-a_{12}a_{21},$\n",
    "* $\\begin{vmatrix}a_{11}&a_{12}&a_{13}\\\\a_{21}&a_{22}&a_{23}\\\\a_{31}&a_{32}&a_{33}\\end{vmatrix} = a_{11}\\begin{vmatrix}a_{22}&a_{23}\\\\a_{32}&a_{33}\\end{vmatrix} - a_{12}\\begin{vmatrix}a_{21}&a_{23}\\\\a_{31}&a_{33}\\end{vmatrix} + a_{13}\\begin{vmatrix}a_{21}&a_{22}\\\\a_{31}&a_{32}\\end{vmatrix},$ \n",
    "* $\\begin{vmatrix}a_{11}&a_{12}&a_{13}&a_{14}\\\\a_{21}&a_{22}&a_{23}&a_{24}\\\\a_{31}&a_{32}&a_{33}&a_{34}\\\\a_{41}&a_{42}&a_{43}&a_{44}\\end{vmatrix} = a_{11} \\begin{vmatrix}a_{22}&a_{23}&a_{24}\\\\a_{32}&a_{33}&a_{34}\\\\a_{42}&a_{43}&a_{44}\\end{vmatrix} - a_{12} \\begin{vmatrix}a_{21}&a_{23}&a_{24}\\\\a_{31}&a_{33}&a_{34}\\\\a_{41}&a_{43}&a_{44}\\end{vmatrix} + a_{13}\n",
    "\\begin{vmatrix}a_{21}&a_{22}&a_{24}\\\\a_{31}&a_{32}&a_{34}\\\\a_{41}&a_{42}&a_{44}\\end{vmatrix} - a_{14} \\begin{vmatrix}a_{21}&a_{22}&a_{23}\\\\a_{31}&a_{32}&a_{33}\\\\a_{41}&a_{42}&a_{43}\\end{vmatrix}.$\n",
    "\n",
    "Svaki sabirak u izrazu za izračunavanje determinante predstavlja proizvod jednog elementa matrice i determinante matrice koja se dobija od polazne uklanjanjem reda i kolone kojima pripada taj element. Za razlaganje se mogu odabrati svi elementi proizvoljne vrste ili kolone. U našem slučaju su uzeti elementi prve vrste. Svaki drugi sabirak u izrazu treba da bude pomnožen sa $-1$. \n",
    "\n",
    "Ova definicija se lako može uopštiti i na matrice većeg reda."
   ]
  },
  {
   "cell_type": "markdown",
   "metadata": {},
   "source": [
    "Za računanje determinante matrice koristimo funkciju `det`:"
   ]
  },
  {
   "cell_type": "code",
   "execution_count": 4,
   "metadata": {},
   "outputs": [
    {
     "name": "stdout",
     "output_type": "stream",
     "text": [
      "Determinanta matrice: 10.999999999999972\n"
     ]
    }
   ],
   "source": [
    "print('Determinanta matrice:', LA.det(A))"
   ]
  },
  {
   "cell_type": "code",
   "execution_count": null,
   "metadata": {},
   "outputs": [],
   "source": []
  },
  {
   "cell_type": "markdown",
   "metadata": {},
   "source": [
    "Ukoliko je determinanta kvadratne matrice $A$ različita od nule, postoji njen `inverz` tj. matrica $A^{-1}$ za koji važi $AA^{-1}=I$, gde je $I$ jedinična matrica."
   ]
  },
  {
   "cell_type": "markdown",
   "metadata": {},
   "source": [
    "Za računanje inverza matrice koristimo funkciju `inv`:"
   ]
  },
  {
   "cell_type": "code",
   "execution_count": 5,
   "metadata": {},
   "outputs": [
    {
     "name": "stdout",
     "output_type": "stream",
     "text": [
      "Inverz matrice:\n",
      "[[ 5.54545455 -1.27272727 -2.18181818]\n",
      " [ 5.         -1.         -2.        ]\n",
      " [-3.63636364  0.81818182  1.54545455]]\n"
     ]
    }
   ],
   "source": [
    "print('Inverz matrice:')\n",
    "print(LA.inv(A))"
   ]
  },
  {
   "cell_type": "markdown",
   "metadata": {},
   "source": [
    "Za matrice čija je determinanta jednaka nuli kažemo da su `singularne` matrice."
   ]
  },
  {
   "cell_type": "code",
   "execution_count": null,
   "metadata": {},
   "outputs": [],
   "source": []
  },
  {
   "cell_type": "markdown",
   "metadata": {},
   "source": [
    "Ako za neki realan vektor $x$ važi $Ax = \\lambda x$, gde je $\\lambda$ skalar, vektor $x$ se naziva `sopstveni vektor`, a $\\lambda$ `sopstvena vrednost` matrice $A$. "
   ]
  },
  {
   "cell_type": "markdown",
   "metadata": {},
   "source": [
    "U opštem slučaju sopstvene vrednosti se dobijaju kao nule jednačine $det(A-\\lambda I)=0$. Nešto kasnije na kursu ćemo upoznati metode stepenovanja i iscrpljivanja za dobijanje sopstvenih vrednosti. Na nivou biblioteke nam je na raspolaganju funkcija `eig` koja izračunava sopstvene vrednosti i normirane sopstvene vektore. "
   ]
  },
  {
   "cell_type": "code",
   "execution_count": 6,
   "metadata": {},
   "outputs": [
    {
     "name": "stdout",
     "output_type": "stream",
     "text": [
      "Sopstvene vrednosti date u nizu:\n",
      "[ 0.17157288  5.82842712 11.        ]\n",
      "Sopstveni vektori dati kao kolone matrice:\n",
      "[[ 6.57393413e-01 -6.10635274e-02  3.71390676e-01]\n",
      " [ 6.10673901e-01 -9.20292562e-01  7.22840190e-16]\n",
      " [-4.41487584e-01  3.86436083e-01  9.28476691e-01]]\n"
     ]
    }
   ],
   "source": [
    "values, vectors = LA.eig(A)\n",
    "print('Sopstvene vrednosti date u nizu:')\n",
    "print(values)\n",
    "print('Sopstveni vektori dati kao kolone matrice:')\n",
    "print(vectors)"
   ]
  },
  {
   "cell_type": "markdown",
   "metadata": {},
   "source": [
    "**Norma** matrice $A$ je nenegativan broj $||A||$ za koji važi: \n",
    "\n",
    "* $||A|| = 0$ ako i samo ako je $A = 0$,\n",
    "* $||kA|| = |k|\\cdot||A||$, za $k$ koje pripada prostoru skalara\n",
    "* $||A+B||\\le||A||+||B||$,\n",
    "* $||AB||\\le||A||\\cdot||B||$. \n",
    "\n",
    "Među najpoznatijim normama su matrična `1-norma`, matrična `2-norma`, matrična $\\infty$`-norma` i `Frobeniusova` norma.\n",
    "\n",
    "* **Matrična 1-norma** predstavlja maksimalni zbir sume apsolutnih vrednosti elemenata u svakoj koloni i definisana je sa $||A||_1 = \\max_j \\sum_i |a_{ij}|$.\n",
    "\n",
    "* **Matrična 2-norma** je jednaka korenu najveće sopstvene vrednosti matrice $A^TA$ i dedinisana je sa $||A||_2 = \\sqrt{\\lambda_{max} (A^TA)}$. U slučaju kompleksne matrice, umesto transponovane, koristi se [konjugovana transponovana matrica](http://mathworld.wolfram.com/ConjugateTranspose.html).\n",
    "\n",
    "* **Frobeniusova norma** predstavlja koren sume apsolutnih vrednosti svih elemenata matrice i definisana je sa $||A||_F = \\sqrt{\\sum_i \\sum_j |a_{ij}|^2}$. Važi $||A||_2 \\le ||A||_F \\le \\sqrt{r} \\cdot ||A||_2$, gde je $r$ rang matrice $A$.\n",
    "\n",
    "* **Matrična $\\infty$-norma** predstavlja maksimalni zbir sume apsolutnih vrednosti elemenata u svakom redu i definisana je sa $||A||_{\\infty} = \\max_i \\sum_j |a_{ij}|$."
   ]
  },
  {
   "cell_type": "markdown",
   "metadata": {},
   "source": [
    "Za računanje norme koristićemo funkciju `norm`, a njenim parametrom `ord` naglašavaćemo o kojoj normi je reč."
   ]
  },
  {
   "cell_type": "code",
   "execution_count": 7,
   "metadata": {},
   "outputs": [
    {
     "name": "stdout",
     "output_type": "stream",
     "text": [
      "Matricna 1-norma: 15.0\n",
      "Matricna 2-norma: 11.21324242009752\n",
      "Frobeniusova norma: 14.352700094407323\n",
      "Matricna beskonacna norma: 15.0\n"
     ]
    }
   ],
   "source": [
    "norm1 = LA.norm(A, ord = 1)\n",
    "norm2 = LA.norm(A, ord = 2)\n",
    "normf = LA.norm(A, ord = 'fro')\n",
    "norminf = LA.norm(A, ord = np.inf)\n",
    "\n",
    "print('Matricna 1-norma:', norm1)\n",
    "print('Matricna 2-norma:', norm2)\n",
    "print('Frobeniusova norma:', normf)\n",
    "print('Matricna beskonacna norma:', norminf)"
   ]
  },
  {
   "cell_type": "markdown",
   "metadata": {},
   "source": [
    "U prostoru konačne dimenzije ($R^n$ ili $R^{nxm}$ su slučajevi koje razmatramo) sve norme su međusobno ekvivalentne. To znači da za dve norme $\\|\\|_{n1}$ i $\\|\\|_{n2}$ postoje pozitivne realne konstante $c_1$ i $c_2$ takve da je $c_1\\cdot\\|x\\|_{n1}\\leq \\|x\\|_{n2} \\leq c_2\\cdot\\|x\\|_{n1}$  "
   ]
  },
  {
   "cell_type": "code",
   "execution_count": null,
   "metadata": {},
   "outputs": [],
   "source": []
  },
  {
   "cell_type": "markdown",
   "metadata": {},
   "source": [
    "`Kondicioni broj` $\\kappa(A)$ kvadratne invertibilne matrice $A$ je numerička vrednost koja se definiše sa $\\kappa(A) = ||A||\\cdot||A^{-1}||$. Ukoliko matrica $A$ nije invirtibilna, tada je $\\kappa(A) = \\infty$. "
   ]
  },
  {
   "cell_type": "markdown",
   "metadata": {},
   "source": [
    "Za računanje kondicionog broja koristićemo funkciju `cond`."
   ]
  },
  {
   "cell_type": "code",
   "execution_count": 8,
   "metadata": {},
   "outputs": [
    {
     "name": "stdout",
     "output_type": "stream",
     "text": [
      "Kondicioni broj: 102.39895228883073\n"
     ]
    }
   ],
   "source": [
    "print('Kondicioni broj:', LA.cond(A))"
   ]
  },
  {
   "cell_type": "code",
   "execution_count": 9,
   "metadata": {},
   "outputs": [
    {
     "name": "stdout",
     "output_type": "stream",
     "text": [
      "Kondicioni broj:  102.39895228883104\n"
     ]
    }
   ],
   "source": [
    "print('Kondicioni broj: ', LA.norm(A, ord = 2) * LA.norm(LA.inv(A), ord = 2))"
   ]
  },
  {
   "cell_type": "markdown",
   "metadata": {},
   "source": [
    "Kondicioni broj zavisi od vrste norme matrice. Podrazumevano se koristi matrična 2-norma."
   ]
  },
  {
   "cell_type": "markdown",
   "metadata": {},
   "source": [
    "Praktično, kondicioni broj ukazuje na numeričku stabilnost sistema u kojima matrica figuriše. Za sistem jednačina $Ax=b$, vrednost $\\kappa(A)$ određuje promenu vrednosti vektora $x$ u zavisnosti od promene vrednosti vektora $b$. Ukoliko je vrednost $\\kappa(A)$ velika, tada i male promene vrednosti vektora $b$ utiču da se vrednost vektora $x$ dosta promeni. Ako je vrednost kondicionog broja mala, onda promena vektora $x$ neće biti naročito velika."
   ]
  },
  {
   "cell_type": "markdown",
   "metadata": {},
   "source": [
    "Ilustrujmo to primerom \n",
    "$\\begin{bmatrix}\n",
    "    1 & 2 \\\\\n",
    "    2 & 3.999\n",
    "\\end{bmatrix}\n",
    "\\begin{bmatrix}\n",
    "x_1 \\\\\n",
    "x_2\n",
    "\\end{bmatrix}\n",
    "=\n",
    "\\begin{bmatrix}\n",
    "4 \\\\\n",
    "7.999\n",
    "\\end{bmatrix}\n",
    "$"
   ]
  },
  {
   "cell_type": "code",
   "execution_count": 10,
   "metadata": {},
   "outputs": [],
   "source": [
    "A = np.array([[1, 2], [2, 3.999]])\n",
    "b = np.array([4, 7.999]).T"
   ]
  },
  {
   "cell_type": "markdown",
   "metadata": {},
   "source": [
    "Rešenje polaznog sistema je: "
   ]
  },
  {
   "cell_type": "code",
   "execution_count": 11,
   "metadata": {},
   "outputs": [],
   "source": [
    "x = LA.inv(A).dot(b)"
   ]
  },
  {
   "cell_type": "code",
   "execution_count": 12,
   "metadata": {},
   "outputs": [
    {
     "data": {
      "text/plain": [
       "array([2., 1.])"
      ]
     },
     "execution_count": 12,
     "metadata": {},
     "output_type": "execute_result"
    }
   ],
   "source": [
    "x"
   ]
  },
  {
   "cell_type": "markdown",
   "metadata": {},
   "source": [
    "Male promene u vrednostima vektora $b$ dovode do velikih promena rešenja:"
   ]
  },
  {
   "cell_type": "code",
   "execution_count": 13,
   "metadata": {},
   "outputs": [],
   "source": [
    "A1 = A.copy() \n",
    "b1 = b.copy() \n",
    "b1[0] =  b1[0] + 0.001 \n",
    "b1[1] =  b1[1] - 0.001 "
   ]
  },
  {
   "cell_type": "code",
   "execution_count": 14,
   "metadata": {},
   "outputs": [],
   "source": [
    "x1 = LA.inv(A1).dot(b1)"
   ]
  },
  {
   "cell_type": "code",
   "execution_count": 15,
   "metadata": {},
   "outputs": [
    {
     "data": {
      "text/plain": [
       "array([-3.999,  4.   ])"
      ]
     },
     "execution_count": 15,
     "metadata": {},
     "output_type": "execute_result"
    }
   ],
   "source": [
    "x1"
   ]
  },
  {
   "cell_type": "markdown",
   "metadata": {},
   "source": [
    "Ovakvo ponašanje možemo objasniti uslovljenošću matrice $A$:"
   ]
  },
  {
   "cell_type": "code",
   "execution_count": 16,
   "metadata": {},
   "outputs": [
    {
     "data": {
      "text/plain": [
       "24992.000960058016"
      ]
     },
     "execution_count": 16,
     "metadata": {},
     "output_type": "execute_result"
    }
   ],
   "source": [
    "LA.cond(A)"
   ]
  },
  {
   "cell_type": "code",
   "execution_count": null,
   "metadata": {},
   "outputs": [],
   "source": []
  },
  {
   "cell_type": "markdown",
   "metadata": {},
   "source": [
    "Takođe, male promene vrednosti matrice $A$ dovode do velikih promena u rešenju:"
   ]
  },
  {
   "cell_type": "code",
   "execution_count": 17,
   "metadata": {},
   "outputs": [],
   "source": [
    "A2 = A.copy() \n",
    "A2[0, 0] += 0.001\n",
    "A2[0, 1] += 0.001\n",
    "A2[1, 0] += 0.001\n",
    "A2[1, 1] -= 0.001\n",
    "b2 = b.copy() "
   ]
  },
  {
   "cell_type": "code",
   "execution_count": 18,
   "metadata": {},
   "outputs": [],
   "source": [
    "x2 = LA.inv(A2).dot(b2)"
   ]
  },
  {
   "cell_type": "code",
   "execution_count": 19,
   "metadata": {},
   "outputs": [
    {
     "data": {
      "text/plain": [
       "array([ 6.98901648, -1.49725412])"
      ]
     },
     "execution_count": 19,
     "metadata": {},
     "output_type": "execute_result"
    }
   ],
   "source": [
    "x2"
   ]
  },
  {
   "cell_type": "code",
   "execution_count": null,
   "metadata": {},
   "outputs": [],
   "source": []
  },
  {
   "cell_type": "markdown",
   "metadata": {},
   "source": [
    "Možemo prokomentarisati da se uslovljenost matrice ne dovodi nužno u vezu sa njenom determinantom. Matrice $k \\cdot A$ je primer matrice čija je uslovljenost konstantna $cond(kA)=||kA||\\cdot||(kA)^{-1}|| = k||A||\\cdot \\frac{1}{k}||A||^{-1}=||A||||A^{-1}||=cond(A)$, a čija se determinanta, u zavisnosti od vrednosti konstante $k$ može učiniti proizvoljno malom ili proizvoljno velikom jer je $det(kA)=k\\cdot det(A)$."
   ]
  },
  {
   "cell_type": "code",
   "execution_count": null,
   "metadata": {},
   "outputs": [],
   "source": []
  },
  {
   "cell_type": "code",
   "execution_count": null,
   "metadata": {},
   "outputs": [],
   "source": []
  },
  {
   "cell_type": "markdown",
   "metadata": {},
   "source": [
    "### Zadatak za vežbu:"
   ]
  },
  {
   "cell_type": "markdown",
   "metadata": {},
   "source": [
    "Hilbertova matrica reda $n$ je matrica čiji su elementi oblika $A_{i, j} = \\frac{1}{i+j-1}$ za i, j = 1, 2, 3, ...  Primer Hilbertove matrice reda 3 je $\n",
    "\\begin{bmatrix}\n",
    "1 & \\frac{1}{2} & \\frac{1}{3} \\\\\n",
    "\\frac{1}{2} & \\frac{1}{3} & \\frac{1}{4} \\\\\n",
    "\\frac{1}{3} & \\frac{1}{4} & \\frac{1}{5} \\\\\n",
    "\\end{bmatrix}\n",
    "$."
   ]
  },
  {
   "cell_type": "markdown",
   "metadata": {},
   "source": [
    "a) Napisati funkciju koja generiše Hilbertovu matricu reda $n$."
   ]
  },
  {
   "cell_type": "markdown",
   "metadata": {},
   "source": [
    "b) Napisati funkciju koja za date parametre $n$ i $\\sigma$ generiše vektor $b$ čiji su elementi određeni sa $$b_i = \\sum_{j=1}^{j=n}{\\frac{1}{i+j-1}}+\\sigma R(i)$$ u kojem $R(i)$ predstavlja slučajan broj iz intervala $[-1, 1]$."
   ]
  },
  {
   "cell_type": "markdown",
   "metadata": {},
   "source": [
    "c) Koristeći napisane funkcije koje genirišu matricu $H$ i vektor $b$ rešiti sistem jednačina $Hx=b$ za $n=10$ i $\\sigma=10^{-14}$."
   ]
  },
  {
   "cell_type": "markdown",
   "metadata": {},
   "source": [
    "d) Koristeći napisane funkcije koje genirišu matricu $H$ i vektor $b$ rešiti sistem jednačina $Hx=b$ za $n=10$ i $\\sigma=10^{-5}$."
   ]
  },
  {
   "cell_type": "markdown",
   "metadata": {},
   "source": [
    "e) Čime se može objasniti ovakvo ponašanje sistema? Odgovor obrazložiti."
   ]
  },
  {
   "cell_type": "code",
   "execution_count": null,
   "metadata": {},
   "outputs": [],
   "source": []
  }
 ],
 "metadata": {
  "kernelspec": {
   "display_name": "Python 3",
   "language": "python",
   "name": "python3"
  },
  "language_info": {
   "codemirror_mode": {
    "name": "ipython",
    "version": 3
   },
   "file_extension": ".py",
   "mimetype": "text/x-python",
   "name": "python",
   "nbconvert_exporter": "python",
   "pygments_lexer": "ipython3",
   "version": "3.7.6"
  }
 },
 "nbformat": 4,
 "nbformat_minor": 2
}
